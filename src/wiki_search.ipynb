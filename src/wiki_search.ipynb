{
 "cells": [
  {
   "cell_type": "code",
   "execution_count": 7,
   "id": "initial_id",
   "metadata": {
    "collapsed": true,
    "ExecuteTime": {
     "end_time": "2023-10-19T08:57:06.789278Z",
     "start_time": "2023-10-19T08:57:06.777038Z"
    }
   },
   "outputs": [],
   "source": [
    "import wikipedia\n",
    "import pandas as pd"
   ]
  },
  {
   "cell_type": "code",
   "execution_count": 8,
   "outputs": [],
   "source": [
    "keywords = [\n",
    "    \"Military Strategy\", \"Warfare Tactics\", \"Intelligence\", \"Diplomacy\", \"Alliances\", \"Technology in Warfare\",\n",
    "    \"Resource Allocation\", \"Economic Warfare\", \"Logistics\", \"Manpower\", \"Military Training\", \"Defense Infrastructure\",\n",
    "    \"Psychological Warfare\", \"Propaganda\", \"Mobilization\", \"Guerrilla Warfare\", \"Counterinsurgency\", \"Cyber Warfare\",\n",
    "    \"Nuclear Strategies\", \"Naval Warfare\", \"Aerial Warfare\", \"Espionage\", \"Sanctions\", \"Global Supply Chains\",\n",
    "    \"Medicine in Warfare\", \"Veteran Support\", \"Civilian Protection\", \"Humanitarian Assistance\", \"Refugee Crisis\",\n",
    "    \"Post-war Reconstruction\", \"War Crimes\", \"International Laws in Warfare\", \"Peacekeeping\", \"Conflict Resolution\",\n",
    "    \"Military Budget\", \"Military Recruitment\", \"Innovative Defense Technologies\", \"Geopolitical Strategies\",\n",
    "    \"Military Intelligence\", \"Tactical Innovations\", \"Homeland Security\", \"Civil-Military Relations\", \"Political Warfare\",\n",
    "    \"Ethics in Warfare\", \"Post-war Economies\", \"Demographic Challenges\", \"Cultural Impacts of War\", \"Rehabilitation\",\n",
    "    \"International Cooperation in Warfare\", \"Weaponry Advancements\", \"Battlefield Communication\", \"Fortifications\",\n",
    "    \"Amphibious Warfare\", \"Chemical and Biological Warfare\", \"Precision Warfare\", \"Military Alliances\", \"Defense Pacts\",\n",
    "    \"Historical Warfare Lessons\", \"Military Command and Control\", \"Military Drills and Exercises\", \"War Simulations\",\n",
    "    \"Military Education and Training\", \"Defense Industries\", \"War Financing\", \"War Bonds\", \"Military Logistics and Supply\",\n",
    "    \"War and Environment\", \"Urban Warfare\", \"Insurgency and Terrorism\", \"Special Operations\", \"Commando Operations\",\n",
    "    \"Military Courts and Justice\", \"Rules of Engagement\", \"War and Society\", \"Women in Warfare\", \"Child Soldiers\",\n",
    "    \"Displacement and Migration due to War\", \"Post-Traumatic Stress Disorder (PTSD)\", \"Reintegration of Soldiers\",\n",
    "    \"Peace Treaties\", \"Post-war Governance\", \"War Memorials and Remembrance\", \"Anti-war Movements\", \"Military Ethics\",\n",
    "    \"Military Innovations\", \"Defensive and Offensive Strategies\", \"Information Warfare\", \"Military Contractors\",\n",
    "    \"Military Bases and Installations\", \"Unified Combatant Commands\", \"War Reserves\", \"Military Diplomacy\",\n",
    "    \"War Games and Simulations\", \"Crisis Management\", \"Hostage Rescue\", \"Military Support to Civil Authorities\",\n",
    "    \"Military Laws and Regulations\", \"War and Technology\", \"Military Operational Planning\", \"Strategic Defense Analysis\"\n",
    "]\n",
    "\n",
    "# You can use this list to search, tag, categorize, or analyze texts related to warfare.\n"
   ],
   "metadata": {
    "collapsed": false,
    "ExecuteTime": {
     "end_time": "2023-10-19T08:57:09.423500Z",
     "start_time": "2023-10-19T08:57:09.417093Z"
    }
   },
   "id": "db0ab0a75f7dfed4"
  },
  {
   "cell_type": "code",
   "execution_count": 9,
   "outputs": [],
   "source": [
    "keywords = [\n",
    "    \"Ukrainian War Strategy\", \"Ukrainian Military Tactics\", \"Ukrainian War Diplomacy\", \"Ukrainian War Alliances\",\n",
    "    \"Ukrainian War Intelligence\", \"Ukrainian War Economic Impact\", \"Ukrainian War Sanctions\", \"Ukrainian War Logistics\",\n",
    "    \"Ukrainian Refugee Crisis\", \"Ukrainian War Civilian Impact\", \"Ukrainian Post-war Reconstruction\",\n",
    "    \"Ukrainian War Veteran Support\", \"Ukrainian War Humanitarian Aid\", \"Post-war Ukraine Demographics\",\n",
    "    \"Post-war Ukraine Economic Recovery\", \"Post-war Ukraine Governance\", \"Post-war Ukraine Society Rehabilitation\",\n",
    "    \"Ukrainian War Historical Lessons\", \"Ukrainian War International Laws\", \"Ukraine War Crimes\", \"Ukrainian Peacekeeping\",\n",
    "    \"Ukraine NATO Relations\", \"Ukrainian War Cybersecurity\", \"Ukrainian War Propaganda\", \"Ukrainian Military Training\",\n",
    "    \"Ukraine Russia Relations\", \"Ukrainian War Conflict Resolution\", \"Ukrainian War Peace Treaties\", \"Ukraine EU Relations\",\n",
    "    \"Ukrainian War Political Impact\", \"Ukraine Post-war Education\", \"Ukraine War Cultural Impact\", \"Ukrainian War Memorials\",\n",
    "    \"Ukrainian War Child Soldiers\", \"Ukrainian War Women’s Role\", \"Post-war Ukraine Mental Health\", \"Ukrainian War Healthcare\",\n",
    "    \"Ukrainian War Environment Impact\", \"Ukraine War Resilience\", \"Ukraine War Adaptation Strategies\",\n",
    "    \"Ukrainian War Lessons from Yugoslavia\", \"Ukrainian War Lessons from Syria\", \"Ukrainian War Lessons from Afghanistan\",\n",
    "    \"Ukrainian War Lessons from Iraq\", \"Ukrainian War Lessons from Vietnam\", \"Ukraine Post-war International Support\",\n",
    "    \"Ukrainian War Lessons from Georgia\", \"Ukraine Conflict Post-war Scenarios\", \"Ukraine War Urban Challenges\",\n",
    "    \"Ukraine War Rural Challenges\", \"Ukraine War Infrastructure\", \"Ukraine War Energy Sector\", \"Ukraine War Industry Impact\",\n",
    "    \"Ukraine War Technological Advancements\", \"Ukraine War Innovation\", \"Ukraine Post-war Investment\",\n",
    "    \"Ukraine War Security Sector Reform\", \"Ukraine War and Global Politics\", \"Ukraine War Displacement\",\n",
    "    \"Ukraine War Migration\", \"Ukraine War Border Security\", \"Ukraine War and NATO\", \"Ukraine War and EU\",\n",
    "    \"Ukraine War International Solidarity\", \"Ukraine War Crisis Management\", \"Ukraine War Civil Society\",\n",
    "    \"Ukraine War Community Resilience\", \"Ukraine War Education Challenges\", \"Ukraine War and International Media\",\n",
    "    \"Ukraine War Narratives\", \"Ukraine War and Disinformation\", \"Ukraine War Legal Challenges\", \"Ukraine War Justice\",\n",
    "    \"Ukraine War Reconciliation Processes\", \"Ukraine War and Human Rights\", \"Ukraine War and Regional Stability\",\n",
    "    \"Ukraine War Economic Resilience\", \"Ukraine War and Sustainable Development\", \"Ukraine War and UN\",\n",
    "    \"Ukraine War Geopolitical Impact\", \"Ukraine War and Baltic States\", \"Ukraine War and Eastern Europe\",\n",
    "    \"Ukraine War and Central Europe\", \"Ukraine War and Western Support\", \"Ukraine War Military Equipment\",\n",
    "    \"Ukraine War Volunteer Movements\", \"Ukraine War Resistance\", \"Ukraine War Evacuation\", \"Ukraine War Preparedness\",\n",
    "    \"Ukraine War Long-term Impacts\", \"Ukraine War and Global Economy\", \"Ukraine War and Cyber Warfare\",\n",
    "    \"Ukraine War and Information Warfare\", \"Ukraine War and Psychological Operations\"\n",
    "]\n",
    "\n",
    "# You can use this list to conduct thorough research on the Ukrainian war and its post-war demographic challenges and solutions."
   ],
   "metadata": {
    "collapsed": false,
    "ExecuteTime": {
     "end_time": "2023-10-19T08:57:10.366795Z",
     "start_time": "2023-10-19T08:57:10.362072Z"
    }
   },
   "id": "3449dcddab44288c"
  },
  {
   "cell_type": "code",
   "execution_count": null,
   "outputs": [],
   "source": [
    "pages = set()\n",
    "\n",
    "for word in keywords:\n",
    "    pages.update(wikipedia.search(word))\n",
    "\n",
    "pages"
   ],
   "metadata": {
    "collapsed": false,
    "ExecuteTime": {
     "start_time": "2023-10-19T08:52:36.434960Z"
    }
   },
   "id": "1882131d128b7d05"
  },
  {
   "cell_type": "code",
   "execution_count": 5,
   "outputs": [],
   "source": [
    "def parse_page(page: str):\n",
    "    try:\n",
    "        content = wikipedia.page(page)\n",
    "        return content.url, content.title, content.summary, content.content\n",
    "    except:\n",
    "        return (None, None, None, None)"
   ],
   "metadata": {
    "collapsed": false,
    "ExecuteTime": {
     "end_time": "2023-10-19T08:56:02.796428Z",
     "start_time": "2023-10-19T08:56:02.751199Z"
    }
   },
   "id": "f3b4ed897d12663f"
  },
  {
   "cell_type": "code",
   "execution_count": null,
   "outputs": [],
   "source": [
    "columns = [\"url\", \"title\", \"summary\", \"content\"]\n",
    "data = [parse_page(page) for page in pages]  # Using list comprehension instead of generator expression\n",
    "\n",
    "wiki_df = pd.DataFrame(\n",
    "    data=data,\n",
    "    columns=columns\n",
    ")\n",
    "\n",
    "wiki_df.head(5)"
   ],
   "metadata": {
    "collapsed": false
   },
   "id": "6face6f17d7af47"
  },
  {
   "cell_type": "code",
   "execution_count": null,
   "outputs": [],
   "source": [
    "wiki_df.to_json(\"../output/wiki_pages_data.json\", orient=\"records\")"
   ],
   "metadata": {
    "collapsed": false
   },
   "id": "5ae1a605924197ca"
  },
  {
   "cell_type": "code",
   "execution_count": 10,
   "outputs": [],
   "source": [
    "results = pd.read_json(\"../output/wiki_pages_data.json\", orient=\"records\")"
   ],
   "metadata": {
    "collapsed": false,
    "ExecuteTime": {
     "end_time": "2023-10-19T09:00:24.448190Z",
     "start_time": "2023-10-19T09:00:24.367675Z"
    }
   },
   "id": "3540692615c50830"
  },
  {
   "cell_type": "code",
   "execution_count": 11,
   "outputs": [],
   "source": [
    "conflict_and_security = {\n",
    "    'Peacebuilding': [],\n",
    "    'De-escalation': [],\n",
    "    'Reconciliation': [],\n",
    "    'Security Reforms': [],\n",
    "    'Demilitarization': [],\n",
    "    'Veteran Rehabilitation': [],\n",
    "    'Human Rights': [],\n",
    "    'Justice': [],\n",
    "    'Conflict Resolution': [],\n",
    "    'Community Policing': []\n",
    "}\n",
    "\n",
    "migration_and_displacement = {\n",
    "    'Resettlement': [],\n",
    "    'Refugee Support': [],\n",
    "    'Immigration Policies': [],\n",
    "    'Humanitarian Aid': [],\n",
    "    'IDP Integration': [],\n",
    "    'Safe Migration Paths': [],\n",
    "    'Border Security': [],\n",
    "    'Asylum Seekers': [],\n",
    "    'Repatriation': [],\n",
    "    'Displacement Prevention': []\n",
    "}\n",
    "\n",
    "economic_factors = {\n",
    "    'Economic Diversification': [],\n",
    "    'Employment Creation': [],\n",
    "    'Trade Policies': [],\n",
    "    'Investment Incentives': [],\n",
    "    'SME Support': [],\n",
    "    'Tourism': [],\n",
    "    'Agricultural Development': [],\n",
    "    'Innovation': [],\n",
    "    'Economic Stability': [],\n",
    "    'Infrastructure Development': []\n",
    "}\n",
    "\n",
    "health_and_welfare = {\n",
    "    'Healthcare Accessibility': [],\n",
    "    'Mental Health Services': [],\n",
    "    'Nutrition': [],\n",
    "    'Health Education': [],\n",
    "    'Vaccination': [],\n",
    "    'Maternal Health': [],\n",
    "    'Child Welfare': [],\n",
    "    'Emergency Medical Services': [],\n",
    "    'Disease Prevention': [],\n",
    "    'Healthcare Investment': []\n",
    "}\n",
    "\n",
    "education = {\n",
    "    'Educational Access': [],\n",
    "    'Curriculum Development': [],\n",
    "    'Teacher Training': [],\n",
    "    'Technical and Vocational Training': [],\n",
    "    'Higher Education': [],\n",
    "    'Education Technology': [],\n",
    "    'Literacy Programs': [],\n",
    "    'Inclusive Education': [],\n",
    "    'Educational Infrastructure': [],\n",
    "    'Life-long Learning': []\n",
    "}\n",
    "\n",
    "# You can continue creating dictionaries for each remaining category following the above structure.\n"
   ],
   "metadata": {
    "collapsed": false,
    "ExecuteTime": {
     "end_time": "2023-10-19T09:00:53.687189Z",
     "start_time": "2023-10-19T09:00:53.657526Z"
    }
   },
   "id": "3eae7595ef1f6ae2"
  },
  {
   "cell_type": "code",
   "execution_count": null,
   "outputs": [],
   "source": [],
   "metadata": {
    "collapsed": false
   },
   "id": "51bfde5336d2f4d4"
  }
 ],
 "metadata": {
  "kernelspec": {
   "display_name": "Python 3",
   "language": "python",
   "name": "python3"
  },
  "language_info": {
   "codemirror_mode": {
    "name": "ipython",
    "version": 2
   },
   "file_extension": ".py",
   "mimetype": "text/x-python",
   "name": "python",
   "nbconvert_exporter": "python",
   "pygments_lexer": "ipython2",
   "version": "2.7.6"
  }
 },
 "nbformat": 4,
 "nbformat_minor": 5
}
