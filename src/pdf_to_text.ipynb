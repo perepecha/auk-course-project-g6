{
 "cells": [
  {
   "cell_type": "code",
   "execution_count": 1,
   "id": "initial_id",
   "metadata": {
    "collapsed": true,
    "ExecuteTime": {
     "end_time": "2023-11-12T10:59:15.451422Z",
     "start_time": "2023-11-12T10:59:15.389920Z"
    }
   },
   "outputs": [],
   "source": [
    "## Import or install PDF-to-text library\n",
    "try:\n",
    "    import PyPDF2\n",
    "except:\n",
    "    !pip install PyPDF2\n",
    "    import PyPDF2"
   ]
  },
  {
   "cell_type": "code",
   "execution_count": 1,
   "outputs": [],
   "source": [],
   "metadata": {
    "collapsed": false,
    "ExecuteTime": {
     "end_time": "2023-11-12T10:59:15.460579Z",
     "start_time": "2023-11-12T10:59:15.453606Z"
    }
   },
   "id": "66c47ea6153dcc8a"
  },
  {
   "cell_type": "code",
   "execution_count": 2,
   "outputs": [],
   "source": [
    "from pathlib import Path"
   ],
   "metadata": {
    "collapsed": false,
    "ExecuteTime": {
     "end_time": "2023-11-12T10:59:15.468756Z",
     "start_time": "2023-11-12T10:59:15.459878Z"
    }
   },
   "id": "e9c6d28b9498bef5"
  },
  {
   "cell_type": "code",
   "execution_count": 3,
   "outputs": [],
   "source": [
    "BASE_PATH = Path(\"pdf_to_text.ipynb\").parent\n",
    "DOCS_PATH = BASE_PATH / \"..\" / \"docs\"\n",
    "DOCS_OUTPUT_PATH = BASE_PATH / \"..\" / \"output\"\n",
    "\n"
   ],
   "metadata": {
    "collapsed": false,
    "ExecuteTime": {
     "end_time": "2023-11-12T10:59:15.469202Z",
     "start_time": "2023-11-12T10:59:15.465754Z"
    }
   },
   "id": "9814d445b6c1665e"
  },
  {
   "cell_type": "code",
   "execution_count": 4,
   "outputs": [],
   "source": [
    "global_innovation_index_file_path = DOCS_PATH / \"R0702H-PDF-ENG.PDF\""
   ],
   "metadata": {
    "collapsed": false,
    "ExecuteTime": {
     "end_time": "2023-11-12T10:59:15.486493Z",
     "start_time": "2023-11-12T10:59:15.473840Z"
    }
   },
   "id": "f0f547a4b3c9f93d"
  },
  {
   "cell_type": "code",
   "execution_count": 5,
   "outputs": [],
   "source": [
    "pdf_summary_text = \"\"\n",
    "pdf_file_path = global_innovation_index_file_path\n",
    "pdf_file = open(pdf_file_path, 'rb')\n",
    "pdf_reader = PyPDF2.PdfReader(pdf_file)\n",
    "paper_text = \"\"\n",
    "for page_num in range(len(pdf_reader.pages)):\n",
    "    page_text = pdf_reader.pages[page_num].extract_text().lower()\n",
    "    paper_text += page_text+\"\\n\\n\""
   ],
   "metadata": {
    "collapsed": false,
    "ExecuteTime": {
     "end_time": "2023-11-12T10:59:15.531561Z",
     "start_time": "2023-11-12T10:59:15.481221Z"
    }
   },
   "id": "73bf62379d2972e8"
  },
  {
   "cell_type": "code",
   "execution_count": 6,
   "outputs": [
    {
     "name": "stdout",
     "output_type": "stream",
     "text": [
      "\n",
      "\n",
      "\n",
      "\n",
      "\n",
      "\n",
      "\n",
      "\n",
      "\n",
      "\n",
      "\n",
      "\n",
      "\n",
      "\n",
      "\n",
      "\n",
      "\n",
      "\n",
      "\n",
      "\n",
      "\n",
      "\n",
      "\n",
      "\n",
      "\n",
      "\n",
      "\n",
      "\n",
      "\n",
      "\n",
      "\n",
      "\n",
      "\n",
      "\n",
      "\n",
      "\n",
      "\n",
      "\n",
      "\n"
     ]
    }
   ],
   "source": [
    "print(paper_text[1:200])"
   ],
   "metadata": {
    "collapsed": false,
    "ExecuteTime": {
     "end_time": "2023-11-12T10:59:15.532344Z",
     "start_time": "2023-11-12T10:59:15.524606Z"
    }
   },
   "id": "c8129d8d4b72a224"
  },
  {
   "cell_type": "code",
   "execution_count": 7,
   "outputs": [],
   "source": [
    "with open(DOCS_OUTPUT_PATH / \"R0702H-PDF-ENG.txt\", \"w\") as file:\n",
    "    file.write(paper_text)"
   ],
   "metadata": {
    "collapsed": false,
    "ExecuteTime": {
     "end_time": "2023-11-12T10:59:15.556694Z",
     "start_time": "2023-11-12T10:59:15.533539Z"
    }
   },
   "id": "a27e53a9653ae7f7"
  },
  {
   "cell_type": "code",
   "execution_count": 7,
   "outputs": [],
   "source": [],
   "metadata": {
    "collapsed": false,
    "ExecuteTime": {
     "end_time": "2023-11-12T10:59:15.557417Z",
     "start_time": "2023-11-12T10:59:15.540639Z"
    }
   },
   "id": "6074b3b3028eeaed"
  }
 ],
 "metadata": {
  "kernelspec": {
   "display_name": "Python 3",
   "language": "python",
   "name": "python3"
  },
  "language_info": {
   "codemirror_mode": {
    "name": "ipython",
    "version": 2
   },
   "file_extension": ".py",
   "mimetype": "text/x-python",
   "name": "python",
   "nbconvert_exporter": "python",
   "pygments_lexer": "ipython2",
   "version": "2.7.6"
  }
 },
 "nbformat": 4,
 "nbformat_minor": 5
}
