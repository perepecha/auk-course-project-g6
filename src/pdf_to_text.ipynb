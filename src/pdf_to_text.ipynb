{
 "cells": [
  {
   "cell_type": "code",
   "execution_count": 16,
   "id": "initial_id",
   "metadata": {
    "collapsed": true,
    "ExecuteTime": {
     "end_time": "2023-10-16T09:33:55.360478Z",
     "start_time": "2023-10-16T09:33:46.370350Z"
    }
   },
   "outputs": [
    {
     "name": "stdout",
     "output_type": "stream",
     "text": [
      "Collecting PyPDF2\r\n",
      "  Downloading pypdf2-3.0.1-py3-none-any.whl (232 kB)\r\n",
      "\u001B[2K     \u001B[90m━━━━━━━━━━━━━━━━━━━━━━━━━━━━━━━━━━━━━━━\u001B[0m \u001B[32m232.6/232.6 kB\u001B[0m \u001B[31m2.2 MB/s\u001B[0m eta \u001B[36m0:00:00\u001B[0ma \u001B[36m0:00:01\u001B[0m\r\n",
      "\u001B[?25hInstalling collected packages: PyPDF2\r\n",
      "Successfully installed PyPDF2-3.0.1\r\n"
     ]
    }
   ],
   "source": [
    "## Import or install PDF-to-text library\n",
    "try:\n",
    "    import PyPDF2\n",
    "except:\n",
    "    !pip install PyPDF2\n",
    "    import PyPDF2"
   ]
  },
  {
   "cell_type": "code",
   "execution_count": null,
   "outputs": [],
   "source": [],
   "metadata": {
    "collapsed": false
   },
   "id": "66c47ea6153dcc8a"
  },
  {
   "cell_type": "code",
   "execution_count": 26,
   "outputs": [],
   "source": [
    "from pathlib import Path"
   ],
   "metadata": {
    "collapsed": false,
    "ExecuteTime": {
     "end_time": "2023-10-16T10:38:32.853818Z",
     "start_time": "2023-10-16T10:38:32.842687Z"
    }
   },
   "id": "e9c6d28b9498bef5"
  },
  {
   "cell_type": "code",
   "execution_count": 27,
   "outputs": [],
   "source": [
    "BASE_PATH = Path(\"pdf_to_text.ipynb\").parent\n",
    "DOCS_PATH = BASE_PATH / \"..\" / \"docs\"\n",
    "DOCS_OUTPUT_PATH = BASE_PATH / \"..\" / \"output\"\n",
    "\n"
   ],
   "metadata": {
    "collapsed": false,
    "ExecuteTime": {
     "end_time": "2023-10-16T10:38:32.853985Z",
     "start_time": "2023-10-16T10:38:32.850013Z"
    }
   },
   "id": "9814d445b6c1665e"
  },
  {
   "cell_type": "code",
   "execution_count": 28,
   "outputs": [],
   "source": [
    "global_innovation_index_file_path = DOCS_PATH / \"wipo-pub-2000-2023-en-main-report-global-innovation-index-2023-16th-edition.pdf\""
   ],
   "metadata": {
    "collapsed": false,
    "ExecuteTime": {
     "end_time": "2023-10-16T10:38:32.870086Z",
     "start_time": "2023-10-16T10:38:32.853230Z"
    }
   },
   "id": "f0f547a4b3c9f93d"
  },
  {
   "cell_type": "code",
   "execution_count": 29,
   "outputs": [],
   "source": [
    "pdf_summary_text = \"\"\n",
    "pdf_file_path = global_innovation_index_file_path\n",
    "pdf_file = open(pdf_file_path, 'rb')\n",
    "pdf_reader = PyPDF2.PdfReader(pdf_file)\n",
    "paper_text = \"\"\n",
    "for page_num in range(len(pdf_reader.pages)):\n",
    "    page_text = pdf_reader.pages[page_num].extract_text().lower()\n",
    "    paper_text += page_text+\"\\n\\n\""
   ],
   "metadata": {
    "collapsed": false,
    "ExecuteTime": {
     "end_time": "2023-10-16T10:39:24.838127Z",
     "start_time": "2023-10-16T10:38:32.858952Z"
    }
   },
   "id": "73bf62379d2972e8"
  },
  {
   "cell_type": "code",
   "execution_count": 30,
   "outputs": [
    {
     "name": "stdout",
     "output_type": "stream",
     "text": [
      "lobal \n",
      "innovation \n",
      "index 2023\n",
      "innovation \n",
      "in the face of \n",
      "uncertainty\n",
      "global innovation index 2023 – innovation in the face of uncertainty\n",
      "\n",
      "global innovation \n",
      "index 2023\n",
      "innovation in the face of \n",
      "un\n"
     ]
    }
   ],
   "source": [
    "print(paper_text[1:200])"
   ],
   "metadata": {
    "collapsed": false,
    "ExecuteTime": {
     "end_time": "2023-10-16T10:39:24.846426Z",
     "start_time": "2023-10-16T10:39:24.841509Z"
    }
   },
   "id": "c8129d8d4b72a224"
  },
  {
   "cell_type": "code",
   "execution_count": 31,
   "outputs": [],
   "source": [
    "with open(DOCS_OUTPUT_PATH / \"global_innovation_index.txt\", \"w\") as file:\n",
    "    file.write(paper_text)"
   ],
   "metadata": {
    "collapsed": false,
    "ExecuteTime": {
     "end_time": "2023-10-16T10:39:24.853543Z",
     "start_time": "2023-10-16T10:39:24.846339Z"
    }
   },
   "id": "a27e53a9653ae7f7"
  },
  {
   "cell_type": "code",
   "execution_count": 31,
   "outputs": [],
   "source": [],
   "metadata": {
    "collapsed": false,
    "ExecuteTime": {
     "end_time": "2023-10-16T10:39:24.860412Z",
     "start_time": "2023-10-16T10:39:24.855015Z"
    }
   },
   "id": "6074b3b3028eeaed"
  }
 ],
 "metadata": {
  "kernelspec": {
   "display_name": "Python 3",
   "language": "python",
   "name": "python3"
  },
  "language_info": {
   "codemirror_mode": {
    "name": "ipython",
    "version": 2
   },
   "file_extension": ".py",
   "mimetype": "text/x-python",
   "name": "python",
   "nbconvert_exporter": "python",
   "pygments_lexer": "ipython2",
   "version": "2.7.6"
  }
 },
 "nbformat": 4,
 "nbformat_minor": 5
}
