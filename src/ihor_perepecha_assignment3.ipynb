{
 "cells": [
  {
   "cell_type": "markdown",
   "metadata": {
    "id": "-IakBZW3aDX5"
   },
   "source": [
    "# Creating University Program Curriculumn based on Clustering of Skills in Job Postings  (Assignment 3 template)\n"
   ]
  },
  {
   "cell_type": "markdown",
   "metadata": {
    "id": "EPP-wr-kaDX7"
   },
   "source": [
    "### Import Python libraries"
   ]
  },
  {
   "cell_type": "code",
   "execution_count": 1,
   "metadata": {
    "id": "SBLzs1sZaDX7",
    "ExecuteTime": {
     "end_time": "2023-10-20T08:14:53.757794Z",
     "start_time": "2023-10-20T08:14:47.960056Z"
    }
   },
   "outputs": [],
   "source": [
    "import numpy as np\n",
    "import pandas as pd\n",
    "import os\n",
    "import requests\n",
    "import matplotlib as plt\n",
    "import matplotlib.pyplot as plt\n",
    "%matplotlib inline"
   ]
  },
  {
   "cell_type": "code",
   "execution_count": 2,
   "metadata": {
    "id": "9lAsM9uNaDX8",
    "ExecuteTime": {
     "end_time": "2023-10-20T08:14:58.637591Z",
     "start_time": "2023-10-20T08:14:53.760868Z"
    }
   },
   "outputs": [],
   "source": [
    "## Machine Learning libraries\n",
    "from sklearn.preprocessing import normalize\n",
    "import scipy.cluster.hierarchy as sch\n",
    "from scipy import zeros as sci_zeros\n",
    "from scipy.spatial.distance import euclidean\n",
    "from scipy.cluster.hierarchy import ClusterWarning\n",
    "from warnings import simplefilter\n",
    "simplefilter(\"ignore\", ClusterWarning)"
   ]
  },
  {
   "cell_type": "markdown",
   "metadata": {
    "id": "8roxHTDRaDX9"
   },
   "source": [
    "### Load job postings web-scraped from Indeed.com"
   ]
  },
  {
   "cell_type": "code",
   "execution_count": 3,
   "metadata": {
    "id": "2JgCvQgc0N5x",
    "ExecuteTime": {
     "end_time": "2023-10-20T08:14:59.226439Z",
     "start_time": "2023-10-20T08:14:58.634361Z"
    }
   },
   "outputs": [],
   "source": [
    "## Install module to download files from Google Drive\n",
    "try:\n",
    "    import gdown\n",
    "except:\n",
    "    !pip install gdown\n",
    "    import gdown"
   ]
  },
  {
   "cell_type": "code",
   "execution_count": 142,
   "metadata": {
    "id": "SSxy4ow90N5x",
    "ExecuteTime": {
     "end_time": "2023-10-22T16:37:14.476420Z",
     "start_time": "2023-10-22T16:37:14.471921Z"
    }
   },
   "outputs": [],
   "source": [
    "## Sample dataset file name (replace this sample dataset with the dataset to be used in Assignment 3)\n",
    "# filename_data = 'Indeed_sample_job_vacancies.csv'\n",
    "filename_data = 'Indeed_assignment3_job_vacancies.csv'\n",
    "\n",
    "## File name of the dataset to be used for Assignment 3 (uncomment for your assignment)\n",
    "# filename_data = 'Indeed_assignment3_job_vacancies.csv'"
   ]
  },
  {
   "cell_type": "code",
   "execution_count": 5,
   "metadata": {
    "colab": {
     "base_uri": "https://localhost:8080/",
     "height": 105
    },
    "id": "VtDSNP-Z0N5y",
    "outputId": "1bdf1e24-2d69-4055-931e-b91807eaeca6",
    "ExecuteTime": {
     "end_time": "2023-10-20T08:15:04.937860Z",
     "start_time": "2023-10-20T08:14:59.242085Z"
    }
   },
   "outputs": [
    {
     "name": "stderr",
     "output_type": "stream",
     "text": [
      "Downloading...\n",
      "From: https://drive.google.com/uc?id=1riRUR6izR9Buuyo74AC2NF98ecSeR78t\n",
      "To: /Users/Ihor_Perepecha/Library/Mobile Documents/com~apple~CloudDocs/AUK/assignment3/Indeed_assignment3_job_vacancies.csv\n",
      "100%|██████████| 39.4M/39.4M [00:03<00:00, 11.9MB/s]\n"
     ]
    },
    {
     "data": {
      "text/plain": "'Indeed_assignment3_job_vacancies.csv'"
     },
     "execution_count": 5,
     "metadata": {},
     "output_type": "execute_result"
    }
   ],
   "source": [
    "## Download data file\n",
    "if filename_data == 'Indeed_sample_job_vacancies.csv':\n",
    "    url = 'https://drive.google.com/uc?id=1P1TD6Dwfim60wS6WgIinnCj3eavXxyuB'\n",
    "elif filename_data == 'Indeed_assignment3_job_vacancies.csv':\n",
    "    url = 'https://drive.google.com/uc?id=1riRUR6izR9Buuyo74AC2NF98ecSeR78t'\n",
    "else:\n",
    "    print(\"Selected data file does not exist\")\n",
    "gdown.download(url, filename_data, quiet=False)"
   ]
  },
  {
   "cell_type": "code",
   "execution_count": 143,
   "metadata": {
    "id": "sDZiweSdaDX-",
    "ExecuteTime": {
     "end_time": "2023-10-22T16:37:17.648501Z",
     "start_time": "2023-10-22T16:37:17.223845Z"
    }
   },
   "outputs": [],
   "source": [
    "## Read csv file (dataset)\n",
    "\n",
    "results = pd.read_csv(filename_data)"
   ]
  },
  {
   "cell_type": "code",
   "execution_count": 144,
   "metadata": {
    "colab": {
     "base_uri": "https://localhost:8080/",
     "height": 206
    },
    "id": "XFqz0LqraDX-",
    "outputId": "b820221b-cee2-4caa-b181-5d123fa50aac",
    "ExecuteTime": {
     "end_time": "2023-10-22T16:37:18.369459Z",
     "start_time": "2023-10-22T16:37:18.309397Z"
    }
   },
   "outputs": [
    {
     "data": {
      "text/plain": "                                      Title            Company  \\\n0                        Sr. Data Scientist              Adobe   \n1          Data Scientist, Abuse Prevention        Live Nation   \n2  Computational Biologist / Data Scientist          Inceptive   \n3         Associate Data Scientist (Remote)  Freenome Holdings   \n4       Applied Data Scientist - Ex Machina              C3 AI   \n\n                                         Location  \\\n0  San Francisco, CA 94103 (South Of Market area)   \n1               Remote in Beverly Hills, CA 90210   \n2                         Remote in Palo Alto, CA   \n3         Remote in South San Francisco, CA 94080   \n4                                Redwood City, CA   \n\n                                        Descriptions  \n0  Our Company\\n\\nChanging the world through digi...  \n1  Job Summary:\\nWHO ARE WE?\\nLive Nation Enterta...  \n2  At Inceptive, we don't have titles. The title ...  \n3  Why join Freenome?\\nFreenome is a high-growth ...  \n4  C3.ai, Inc. (NYSE:AI) is a leading provider of...  ",
      "text/html": "<div>\n<style scoped>\n    .dataframe tbody tr th:only-of-type {\n        vertical-align: middle;\n    }\n\n    .dataframe tbody tr th {\n        vertical-align: top;\n    }\n\n    .dataframe thead th {\n        text-align: right;\n    }\n</style>\n<table border=\"1\" class=\"dataframe\">\n  <thead>\n    <tr style=\"text-align: right;\">\n      <th></th>\n      <th>Title</th>\n      <th>Company</th>\n      <th>Location</th>\n      <th>Descriptions</th>\n    </tr>\n  </thead>\n  <tbody>\n    <tr>\n      <th>0</th>\n      <td>Sr. Data Scientist</td>\n      <td>Adobe</td>\n      <td>San Francisco, CA 94103 (South Of Market area)</td>\n      <td>Our Company\\n\\nChanging the world through digi...</td>\n    </tr>\n    <tr>\n      <th>1</th>\n      <td>Data Scientist, Abuse Prevention</td>\n      <td>Live Nation</td>\n      <td>Remote in Beverly Hills, CA 90210</td>\n      <td>Job Summary:\\nWHO ARE WE?\\nLive Nation Enterta...</td>\n    </tr>\n    <tr>\n      <th>2</th>\n      <td>Computational Biologist / Data Scientist</td>\n      <td>Inceptive</td>\n      <td>Remote in Palo Alto, CA</td>\n      <td>At Inceptive, we don't have titles. The title ...</td>\n    </tr>\n    <tr>\n      <th>3</th>\n      <td>Associate Data Scientist (Remote)</td>\n      <td>Freenome Holdings</td>\n      <td>Remote in South San Francisco, CA 94080</td>\n      <td>Why join Freenome?\\nFreenome is a high-growth ...</td>\n    </tr>\n    <tr>\n      <th>4</th>\n      <td>Applied Data Scientist - Ex Machina</td>\n      <td>C3 AI</td>\n      <td>Redwood City, CA</td>\n      <td>C3.ai, Inc. (NYSE:AI) is a leading provider of...</td>\n    </tr>\n  </tbody>\n</table>\n</div>"
     },
     "execution_count": 144,
     "metadata": {},
     "output_type": "execute_result"
    }
   ],
   "source": [
    "## Display dataset as pandas dataframe\n",
    "results[['Title', 'Company', 'Location', 'Descriptions']].head()"
   ]
  },
  {
   "cell_type": "markdown",
   "metadata": {
    "id": "T5dMGUL6aDX-"
   },
   "source": [
    "### Extract skills from job postings\n",
    "\n",
    "Replace with your own classification of skills. You may use ChatGPT to generate Python code for extracting skills from job descriptions."
   ]
  },
  {
   "cell_type": "code",
   "execution_count": 186,
   "outputs": [],
   "source": [
    "# Programming Skills\n",
    "pskills = {\n",
    "    'Python': [],\n",
    "    'R': [],\n",
    "    'Java': [],\n",
    "    'C++': [],\n",
    "    'HTML/CSS': [],\n",
    "    'JavaScript': [],\n",
    "    'Matlab': [],\n",
    "    'SQL': [],\n",
    "    'PySpark': [],\n",
    "    'Hadoop': [],\n",
    "}\n",
    "\n",
    "# Machine Learning and Statistical Analysis Skills\n",
    "mskills = {\n",
    "    'Regression': [],\n",
    "    'Classification': [],\n",
    "    'Clustering': [],\n",
    "    'Natural Language': [],\n",
    "    'TimeSeries': [],\n",
    "    'AI': [],\n",
    "    'BigData': [],\n",
    "    'ML': [],\n",
    "}\n",
    "\n",
    "# Data Handling and Processing Skills\n",
    "dskills = {\n",
    "    'Cleaning': [],\n",
    "    'Visualization': [],\n",
    "    'Wrangling': [],\n",
    "    'ETL': [],\n",
    "    'Mining': [],\n",
    "    'Datalake': [],\n",
    "    'DWH': [],\n",
    "    'MySQL': [],\n",
    "    'PostgreSQL': [],\n",
    "    'Oracle': [],\n",
    "    'Redshift': [],\n",
    "    'Snowflake': [],\n",
    "    'BigQuey': []\n",
    "}\n",
    "\n",
    "# Cloud Skills\n",
    "cskills = {\n",
    "    'AWS': [],\n",
    "    'Azure': [],\n",
    "    'GCP': [], \n",
    "}\n",
    "\n",
    "# Business and Strategy Skills\n",
    "bskills = {\n",
    "    'Strategic Thinking': [],\n",
    "    'Customer Centricity': [],\n",
    "    'Product Management': [],\n",
    "    'Market Analysis': []\n",
    "}\n",
    "\n",
    "# Soft Skills and Collaboration\n",
    "sskills = {\n",
    "    'Problem Solving': [],\n",
    "    'Adaptability': [],\n",
    "    'Leadership': [],\n",
    "    'Critical Thinking': []\n",
    "}\n",
    "\n",
    "# Domain-Specific Expertise\n",
    "domskills = {\n",
    "    'Finance': [],\n",
    "    'Healthcare': [],\n",
    "    'E-commerce': [],\n",
    "    'Supply Chain': []\n",
    "}\n"
   ],
   "metadata": {
    "collapsed": false,
    "ExecuteTime": {
     "end_time": "2023-10-22T17:12:36.070700Z",
     "start_time": "2023-10-22T17:12:36.050200Z"
    }
   }
  },
  {
   "cell_type": "code",
   "execution_count": 187,
   "outputs": [],
   "source": [
    "import re"
   ],
   "metadata": {
    "collapsed": false,
    "ExecuteTime": {
     "end_time": "2023-10-22T17:12:37.004210Z",
     "start_time": "2023-10-22T17:12:36.981811Z"
    }
   }
  },
  {
   "cell_type": "code",
   "execution_count": 188,
   "outputs": [],
   "source": [
    "def is_exists(text: str, key_text: str) -> int:\n",
    "    tag = re.escape(key_text)\n",
    "\n",
    "    if len(tag) <=2 and not re.search(tag, text):\n",
    "        return 0\n",
    "\n",
    "    if  re.search(tag, text, re.IGNORECASE):\n",
    "        return 1\n",
    "\n",
    "    return 0"
   ],
   "metadata": {
    "collapsed": false,
    "ExecuteTime": {
     "end_time": "2023-10-22T17:12:38.246138Z",
     "start_time": "2023-10-22T17:12:38.221777Z"
    }
   }
  },
  {
   "cell_type": "code",
   "execution_count": 149,
   "outputs": [],
   "source": [
    "for ir, dfr in results.iterrows():\n",
    "\n",
    "    cleantext = str(dfr[\"Descriptions\"]).lower()\n",
    "\n",
    "    for skill in pskills.keys():\n",
    "        pskills[skill].append(is_exists(cleantext, skill))\n",
    "\n",
    "    for skill in mskills.keys():\n",
    "        mskills[skill].append(is_exists(cleantext, skill))\n",
    "\n",
    "    for skill in dskills.keys():\n",
    "        dskills[skill].append(is_exists(cleantext, skill))\n",
    "\n",
    "    for skill in cskills.keys():\n",
    "        cskills[skill].append(is_exists(cleantext, skill))\n",
    "\n",
    "    for skill in bskills.keys():\n",
    "        bskills[skill].append(is_exists(cleantext, skill))\n",
    "\n",
    "    for skill in sskills.keys():\n",
    "        sskills[skill].append(is_exists(cleantext, skill))\n",
    "\n",
    "    for skill in domskills.keys():\n",
    "        domskills[skill].append(is_exists(cleantext, skill))\n"
   ],
   "metadata": {
    "collapsed": false,
    "ExecuteTime": {
     "end_time": "2023-10-22T16:37:51.429506Z",
     "start_time": "2023-10-22T16:37:28.504406Z"
    }
   }
  },
  {
   "cell_type": "code",
   "execution_count": 83,
   "metadata": {
    "colab": {
     "base_uri": "https://localhost:8080/",
     "height": 411
    },
    "id": "OOKHhXxMaDYA",
    "outputId": "264654e3-2b58-4f32-dfd4-f42c97530af6",
    "ExecuteTime": {
     "end_time": "2023-10-20T08:31:09.011075Z",
     "start_time": "2023-10-20T08:31:08.912884Z"
    }
   },
   "outputs": [
    {
     "data": {
      "text/plain": "                                      Title            Company  \\\n0                        Sr. Data Scientist              Adobe   \n1          Data Scientist, Abuse Prevention        Live Nation   \n2  Computational Biologist / Data Scientist          Inceptive   \n3         Associate Data Scientist (Remote)  Freenome Holdings   \n4       Applied Data Scientist - Ex Machina              C3 AI   \n\n                                         Location  \\\n0  San Francisco, CA 94103 (South Of Market area)   \n1               Remote in Beverly Hills, CA 90210   \n2                         Remote in Palo Alto, CA   \n3         Remote in South San Francisco, CA 94080   \n4                                Redwood City, CA   \n\n                                        Descriptions  Python  R  Java  C++  \\\n0  Our Company\\n\\nChanging the world through digi...       0  0     0    0   \n1  Job Summary:\\nWHO ARE WE?\\nLive Nation Enterta...       0  0     0    0   \n2  At Inceptive, we don't have titles. The title ...       1  0     0    0   \n3  Why join Freenome?\\nFreenome is a high-growth ...       1  0     0    0   \n4  C3.ai, Inc. (NYSE:AI) is a leading provider of...       1  0     0    0   \n\n   HTML/CSS  JavaScript  ...  Product Management  Market Analysis  \\\n0         0           0  ...                   0                0   \n1         0           0  ...                   0                0   \n2         0           0  ...                   0                0   \n3         0           0  ...                   0                0   \n4         0           0  ...                   0                0   \n\n   Problem Solving  Adaptability  Leadership  Critical Thinking  Finance  \\\n0                0             0           0                  0        0   \n1                0             0           0                  0        1   \n2                0             0           0                  0        0   \n3                0             0           0                  0        0   \n4                0             0           0                  0        0   \n\n   Healthcare  E-commerce  Supply Chain  \n0           0           0             0  \n1           0           0             0  \n2           0           0             0  \n3           1           0             0  \n4           0           0             0  \n\n[5 rows x 50 columns]",
      "text/html": "<div>\n<style scoped>\n    .dataframe tbody tr th:only-of-type {\n        vertical-align: middle;\n    }\n\n    .dataframe tbody tr th {\n        vertical-align: top;\n    }\n\n    .dataframe thead th {\n        text-align: right;\n    }\n</style>\n<table border=\"1\" class=\"dataframe\">\n  <thead>\n    <tr style=\"text-align: right;\">\n      <th></th>\n      <th>Title</th>\n      <th>Company</th>\n      <th>Location</th>\n      <th>Descriptions</th>\n      <th>Python</th>\n      <th>R</th>\n      <th>Java</th>\n      <th>C++</th>\n      <th>HTML/CSS</th>\n      <th>JavaScript</th>\n      <th>...</th>\n      <th>Product Management</th>\n      <th>Market Analysis</th>\n      <th>Problem Solving</th>\n      <th>Adaptability</th>\n      <th>Leadership</th>\n      <th>Critical Thinking</th>\n      <th>Finance</th>\n      <th>Healthcare</th>\n      <th>E-commerce</th>\n      <th>Supply Chain</th>\n    </tr>\n  </thead>\n  <tbody>\n    <tr>\n      <th>0</th>\n      <td>Sr. Data Scientist</td>\n      <td>Adobe</td>\n      <td>San Francisco, CA 94103 (South Of Market area)</td>\n      <td>Our Company\\n\\nChanging the world through digi...</td>\n      <td>0</td>\n      <td>0</td>\n      <td>0</td>\n      <td>0</td>\n      <td>0</td>\n      <td>0</td>\n      <td>...</td>\n      <td>0</td>\n      <td>0</td>\n      <td>0</td>\n      <td>0</td>\n      <td>0</td>\n      <td>0</td>\n      <td>0</td>\n      <td>0</td>\n      <td>0</td>\n      <td>0</td>\n    </tr>\n    <tr>\n      <th>1</th>\n      <td>Data Scientist, Abuse Prevention</td>\n      <td>Live Nation</td>\n      <td>Remote in Beverly Hills, CA 90210</td>\n      <td>Job Summary:\\nWHO ARE WE?\\nLive Nation Enterta...</td>\n      <td>0</td>\n      <td>0</td>\n      <td>0</td>\n      <td>0</td>\n      <td>0</td>\n      <td>0</td>\n      <td>...</td>\n      <td>0</td>\n      <td>0</td>\n      <td>0</td>\n      <td>0</td>\n      <td>0</td>\n      <td>0</td>\n      <td>1</td>\n      <td>0</td>\n      <td>0</td>\n      <td>0</td>\n    </tr>\n    <tr>\n      <th>2</th>\n      <td>Computational Biologist / Data Scientist</td>\n      <td>Inceptive</td>\n      <td>Remote in Palo Alto, CA</td>\n      <td>At Inceptive, we don't have titles. The title ...</td>\n      <td>1</td>\n      <td>0</td>\n      <td>0</td>\n      <td>0</td>\n      <td>0</td>\n      <td>0</td>\n      <td>...</td>\n      <td>0</td>\n      <td>0</td>\n      <td>0</td>\n      <td>0</td>\n      <td>0</td>\n      <td>0</td>\n      <td>0</td>\n      <td>0</td>\n      <td>0</td>\n      <td>0</td>\n    </tr>\n    <tr>\n      <th>3</th>\n      <td>Associate Data Scientist (Remote)</td>\n      <td>Freenome Holdings</td>\n      <td>Remote in South San Francisco, CA 94080</td>\n      <td>Why join Freenome?\\nFreenome is a high-growth ...</td>\n      <td>1</td>\n      <td>0</td>\n      <td>0</td>\n      <td>0</td>\n      <td>0</td>\n      <td>0</td>\n      <td>...</td>\n      <td>0</td>\n      <td>0</td>\n      <td>0</td>\n      <td>0</td>\n      <td>0</td>\n      <td>0</td>\n      <td>0</td>\n      <td>1</td>\n      <td>0</td>\n      <td>0</td>\n    </tr>\n    <tr>\n      <th>4</th>\n      <td>Applied Data Scientist - Ex Machina</td>\n      <td>C3 AI</td>\n      <td>Redwood City, CA</td>\n      <td>C3.ai, Inc. (NYSE:AI) is a leading provider of...</td>\n      <td>1</td>\n      <td>0</td>\n      <td>0</td>\n      <td>0</td>\n      <td>0</td>\n      <td>0</td>\n      <td>...</td>\n      <td>0</td>\n      <td>0</td>\n      <td>0</td>\n      <td>0</td>\n      <td>0</td>\n      <td>0</td>\n      <td>0</td>\n      <td>0</td>\n      <td>0</td>\n      <td>0</td>\n    </tr>\n  </tbody>\n</table>\n<p>5 rows × 50 columns</p>\n</div>"
     },
     "execution_count": 83,
     "metadata": {},
     "output_type": "execute_result"
    }
   ],
   "source": [
    "## Create dataframe with extracted skills (1 if a skill was found in job description, 0 if a skills was not found in job description)\n",
    "df1 = results[['Title', 'Company', 'Location', 'Descriptions']].copy()\n",
    "df2 = pd.DataFrame(pskills)\n",
    "df3 = pd.DataFrame(mskills)\n",
    "df4 = pd.DataFrame(dskills)\n",
    "df5 = pd.DataFrame(cskills)\n",
    "df6 = pd.DataFrame(bskills)\n",
    "df7 = pd.DataFrame(sskills)\n",
    "df9 = pd.DataFrame(domskills)\n",
    "frames = [df1, df2, df3, df4, df5, df6, df7, df9]\n",
    "res = pd.concat(frames, axis = 1)\n",
    "res.head()"
   ]
  },
  {
   "cell_type": "code",
   "execution_count": 150,
   "metadata": {
    "colab": {
     "base_uri": "https://localhost:8080/"
    },
    "id": "rnUYHmLraDYB",
    "outputId": "b4c76151-a1cb-490b-a684-5537d2e49abe",
    "ExecuteTime": {
     "end_time": "2023-10-22T16:37:51.479979Z",
     "start_time": "2023-10-22T16:37:51.444350Z"
    }
   },
   "outputs": [
    {
     "name": "stdout",
     "output_type": "stream",
     "text": [
      "Number of job postings: 8124\n",
      "[[0 0 0 ... 0 0 0]\n",
      " [0 0 0 ... 0 0 0]\n",
      " [1 0 0 ... 0 0 0]\n",
      " ...\n",
      " [0 0 0 ... 0 0 0]\n",
      " [0 0 0 ... 0 0 0]\n",
      " [1 0 0 ... 1 0 0]]\n"
     ]
    }
   ],
   "source": [
    "## Save skills as 2D array\n",
    "df = res.iloc[:,4:]\n",
    "df_summary = df.apply(pd.to_numeric)\n",
    "a = df_summary.values\n",
    "\n",
    "print(\"Number of job postings:\", a.shape[0])\n",
    "print(a)"
   ]
  },
  {
   "cell_type": "markdown",
   "metadata": {
    "id": "NNr4nYPeaDYB",
    "ExecuteTime": {
     "end_time": "2023-10-18T16:23:32.114644Z",
     "start_time": "2023-10-18T16:23:32.064265Z"
    }
   },
   "source": [
    "### Hierarchical clustering of skills"
   ]
  },
  {
   "cell_type": "markdown",
   "metadata": {
    "id": "z1s9urWSaDYC"
   },
   "source": [
    "Import Machine Learning libraries in Python"
   ]
  },
  {
   "cell_type": "code",
   "execution_count": 151,
   "metadata": {
    "id": "TcUmuVI9aDYC",
    "ExecuteTime": {
     "end_time": "2023-10-22T16:38:14.543718Z",
     "start_time": "2023-10-22T16:37:53.609389Z"
    }
   },
   "outputs": [],
   "source": [
    "## Create empty matrix to fill\n",
    "D = np.zeros([a.shape[1],a.shape[1]])\n",
    "\n",
    "## Find all element-wise skill proximities (distances)\n",
    "for k in range(a.shape[0]):\n",
    "    for i in range(a.shape[1]):\n",
    "        for j in range(a.shape[1]):\n",
    "            D[i,j] = D[i,j] + abs(a[k,i]-a[k,j])"
   ]
  },
  {
   "cell_type": "code",
   "execution_count": 195,
   "metadata": {
    "id": "_-0_WrzRaDYC",
    "ExecuteTime": {
     "end_time": "2023-10-22T17:17:46.933726Z",
     "start_time": "2023-10-22T17:17:46.885687Z"
    }
   },
   "outputs": [],
   "source": [
    "## Creating Dendrogram for our data (Y is linkage matrix)\n",
    "\n",
    "## You may try different methods\n",
    "# Y = sch.linkage(D, method='complete')\n",
    "\n",
    "# Y = sch.linkage(D, method='average')\n",
    "Y = sch.linkage(D, method='centroid')"
   ]
  },
  {
   "cell_type": "code",
   "execution_count": 196,
   "metadata": {
    "colab": {
     "base_uri": "https://localhost:8080/",
     "height": 774
    },
    "id": "8u8RS8WYaDYC",
    "outputId": "e7afd211-8e9c-47ce-a4fb-0ce0ea51fd34",
    "ExecuteTime": {
     "end_time": "2023-10-22T17:17:47.932511Z",
     "start_time": "2023-10-22T17:17:47.380979Z"
    }
   },
   "outputs": [
    {
     "data": {
      "text/plain": "[]"
     },
     "execution_count": 196,
     "metadata": {},
     "output_type": "execute_result"
    },
    {
     "data": {
      "text/plain": "<Figure size 1200x1200 with 1 Axes>",
      "image/png": "[encoded data removed]"
     },
     "metadata": {},
     "output_type": "display_data"
    }
   ],
   "source": [
    "## Plot dendrogram\n",
    "\n",
    "fig = plt.figure(figsize=(12,12))\n",
    "ax = fig.add_axes([0.1,0.1,0.4,0.6])\n",
    "\n",
    "Z = sch.dendrogram(Y, orientation='right')\n",
    "labels = df_summary.columns[Z['leaves']]\n",
    "ax.set_xticks([])\n",
    "ax.set_yticklabels(labels)\n",
    "\n",
    "plt.savefig('dendrogram.png', format='png', bbox_inches='tight')\n",
    "plt.plot()"
   ]
  },
  {
   "cell_type": "markdown",
   "metadata": {
    "id": "aThDwNKWaDYD",
    "ExecuteTime": {
     "end_time": "2023-10-18T16:24:08.756301Z",
     "start_time": "2023-10-18T16:24:07.944694Z"
    }
   },
   "source": [
    "### Print clusters for selected distance level"
   ]
  },
  {
   "cell_type": "code",
   "execution_count": 197,
   "metadata": {
    "id": "tBC4TKr3aDYD",
    "ExecuteTime": {
     "end_time": "2023-10-22T17:17:49.544300Z",
     "start_time": "2023-10-22T17:17:49.522645Z"
    }
   },
   "outputs": [],
   "source": [
    "## Cutting the dendrogram at max_d\n",
    "max_d = 0.35\n",
    "# max_d = 0.2"
   ]
  },
  {
   "cell_type": "code",
   "execution_count": 198,
   "metadata": {
    "colab": {
     "base_uri": "https://localhost:8080/",
     "height": 774
    },
    "id": "e160TTqJaDYD",
    "outputId": "86c6fd06-b2d3-454b-c5bc-781664c3c634",
    "ExecuteTime": {
     "end_time": "2023-10-22T17:17:50.332122Z",
     "start_time": "2023-10-22T17:17:49.929511Z"
    }
   },
   "outputs": [
    {
     "data": {
      "text/plain": "[]"
     },
     "execution_count": 198,
     "metadata": {},
     "output_type": "execute_result"
    },
    {
     "data": {
      "text/plain": "<Figure size 1200x1200 with 1 Axes>",
      "image/png": "[encoded data removed]"
     },
     "metadata": {},
     "output_type": "display_data"
    }
   ],
   "source": [
    "fig = plt.figure(figsize=(12,12))\n",
    "ax = fig.add_axes([0.1,0.1,0.4,0.6])\n",
    "\n",
    "Z = sch.dendrogram(Y, orientation='right')\n",
    "labels = df_summary.columns[Z['leaves']]\n",
    "ax.set_xticks([])\n",
    "ax.set_yticklabels(labels)\n",
    "\n",
    "# Cutting the dendrogram at max_d\n",
    "plt.axvline(x=max_d*D.max(), c='k', linestyle='--')\n",
    "\n",
    "plt.plot()"
   ]
  },
  {
   "cell_type": "code",
   "execution_count": 199,
   "metadata": {
    "id": "8gFW5xYlaDYD",
    "ExecuteTime": {
     "end_time": "2023-10-22T17:17:52.114414Z",
     "start_time": "2023-10-22T17:17:52.090437Z"
    }
   },
   "outputs": [],
   "source": [
    "## Identify clusters with max_d cut\n",
    "\n",
    "lbs = sch.fcluster(Y, max_d*D.max(), 'distance')\n",
    "clustr = lbs[Z['leaves']]\n",
    "\n",
    "clust_skls = {}\n",
    "for k in list(set(clustr)):\n",
    "    clust_skls[k] = []\n",
    "\n",
    "for j in range(len(labels)):\n",
    "    clust_skls[clustr[j]].append(labels[j])"
   ]
  },
  {
   "cell_type": "code",
   "execution_count": 200,
   "metadata": {
    "colab": {
     "base_uri": "https://localhost:8080/"
    },
    "id": "Clvj4G6LaDYE",
    "outputId": "78b7bb37-7c6f-4b5e-ecaa-4046e87756f3",
    "ExecuteTime": {
     "end_time": "2023-10-22T17:17:52.983014Z",
     "start_time": "2023-10-22T17:17:52.949523Z"
    }
   },
   "outputs": [
    {
     "name": "stdout",
     "output_type": "stream",
     "text": [
      "1 ['Datalake', 'R', 'BigQuey', 'DWH', 'BigData', 'Strategic Thinking', 'TimeSeries', 'Customer Centricity', 'HTML/CSS', 'Market Analysis', 'Adaptability', 'Wrangling', 'PostgreSQL', 'Matlab', 'JavaScript', 'PySpark', 'MySQL', 'Oracle', 'GCP', 'Problem Solving', 'Redshift', 'Critical Thinking', 'Azure', 'Snowflake', 'Hadoop', 'Supply Chain']\n",
      "2 ['Product Management', 'Finance', 'Cleaning', 'ETL', 'E-commerce', 'Classification', 'Mining', 'Regression', 'Clustering']\n",
      "3 ['Java']\n",
      "4 ['Leadership']\n",
      "5 ['Natural Language', 'Visualization']\n",
      "6 ['SQL']\n",
      "7 ['Healthcare']\n",
      "8 ['C++']\n",
      "9 ['Python']\n",
      "10 ['ML']\n",
      "11 ['AWS']\n",
      "12 ['AI']\n"
     ]
    }
   ],
   "source": [
    "for key, value in clust_skls.items():\n",
    "    print(key, value)"
   ]
  },
  {
   "cell_type": "code",
   "execution_count": 185,
   "metadata": {
    "colab": {
     "base_uri": "https://localhost:8080/"
    },
    "id": "CL4Yu6WjaDYE",
    "outputId": "fddeed91-fa96-4b45-d96c-bcb0da16bfe5",
    "ExecuteTime": {
     "end_time": "2023-10-22T16:41:12.760348Z",
     "start_time": "2023-10-22T16:41:12.738594Z"
    }
   },
   "outputs": [
    {
     "name": "stdout",
     "output_type": "stream",
     "text": [
      "Number of automatically created clusters: 18\n"
     ]
    }
   ],
   "source": [
    "print(\"Number of automatically created clusters:\",len(clust_skls))"
   ]
  },
  {
   "cell_type": "markdown",
   "metadata": {
    "id": "t6PNlW_vaDYE"
   },
   "source": [
    "### Manually adjust clusters before analysis (if necessary)"
   ]
  },
  {
   "cell_type": "code",
   "execution_count": 202,
   "outputs": [],
   "source": [
    "clust_skills = {\n",
    "    1: ['Finance'],\n",
    "    2: ['Product Management', 'Azure', 'Snowflake', 'Hadoop', 'Redshift'],\n",
    "    3: ['Cleaning', 'ETL', 'SQL'],\n",
    "    5: ['E-commerce'],\n",
    "    6: ['Python', 'Mining', 'Regression', 'Clustering', 'Classification'],\n",
    "    8: ['Healthcare'],\n",
    "    9: ['Natural Language'],\n",
    "    10: ['Visualization'],\n",
    "    12: ['Java'],\n",
    "    13: ['Leadership', 'Critical Thinking', 'Problem Solving'],\n",
    "    14: ['C++'],\n",
    "    15: ['AWS'],\n",
    "    16: ['Python'],\n",
    "    17: ['Supply Chain']\n",
    "}\n"
   ],
   "metadata": {
    "collapsed": false,
    "ExecuteTime": {
     "end_time": "2023-10-22T17:53:54.584472Z",
     "start_time": "2023-10-22T17:53:54.493271Z"
    }
   }
  },
  {
   "cell_type": "code",
   "execution_count": 203,
   "metadata": {
    "colab": {
     "base_uri": "https://localhost:8080/"
    },
    "id": "sGbr-SdVaDYF",
    "outputId": "b56c0671-b5c3-4b92-fe8d-8c172924c566",
    "ExecuteTime": {
     "end_time": "2023-10-22T17:53:54.602992Z",
     "start_time": "2023-10-22T17:53:54.499491Z"
    }
   },
   "outputs": [
    {
     "name": "stdout",
     "output_type": "stream",
     "text": [
      "Number of manually adjusted clusters: 14\n"
     ]
    }
   ],
   "source": [
    "len(clust_skills)\n",
    "print(\"Number of manually adjusted clusters:\",len(clust_skills))"
   ]
  },
  {
   "cell_type": "markdown",
   "metadata": {
    "id": "usfEOt1SaDYF"
   },
   "source": [
    "### Import OpenAI library and load API keys"
   ]
  },
  {
   "cell_type": "code",
   "execution_count": 204,
   "metadata": {
    "colab": {
     "base_uri": "https://localhost:8080/"
    },
    "id": "o6Jd0AuVaDYF",
    "outputId": "9dd63744-4d20-458a-ed4d-ed328430e544",
    "ExecuteTime": {
     "end_time": "2023-10-22T17:53:54.769122Z",
     "start_time": "2023-10-22T17:53:54.509456Z"
    }
   },
   "outputs": [],
   "source": [
    "try:\n",
    "    import openai\n",
    "except:\n",
    "    !pip install openai\n",
    "    import openai"
   ]
  },
  {
   "cell_type": "code",
   "execution_count": 205,
   "metadata": {
    "id": "lykK5ahraDYG",
    "ExecuteTime": {
     "end_time": "2023-10-22T17:53:54.769358Z",
     "start_time": "2023-10-22T17:53:54.515820Z"
    }
   },
   "outputs": [],
   "source": [
    "## API Key\n",
    "API_KEY= \"\"\n",
    "os.environ['OPENAI_API_KEY'] =API_KEY\n",
    "openai.api_key = os.getenv(\"OPENAI_API_KEY\")"
   ]
  },
  {
   "cell_type": "code",
   "execution_count": 206,
   "metadata": {
    "id": "96iQK8zPaDYG",
    "ExecuteTime": {
     "end_time": "2023-10-22T17:53:54.826391Z",
     "start_time": "2023-10-22T17:53:54.520498Z"
    }
   },
   "outputs": [],
   "source": [
    "## OpenAI API parameters\n",
    "model = \"gpt-3.5-turbo\" # 4K tokens\n",
    "# model = \"gpt-3.5-turbo-16k\"\n",
    "max_tokens = 1024\n",
    "n = 1\n",
    "stop = None\n",
    "temperature = 0.5"
   ]
  },
  {
   "cell_type": "markdown",
   "metadata": {
    "id": "bD1WknwnaDYG"
   },
   "source": [
    "### Create list of courses based on clusters of skills"
   ]
  },
  {
   "cell_type": "code",
   "execution_count": 207,
   "metadata": {
    "id": "tuOiIVh1aDYG",
    "ExecuteTime": {
     "end_time": "2023-10-22T17:53:54.884641Z",
     "start_time": "2023-10-22T17:53:54.528325Z"
    }
   },
   "outputs": [],
   "source": [
    "input_skills = ''\n",
    "for i in clust_skills.keys():\n",
    "    input_skills += 'Course ' + str(i+1) + ': ' + ', '.join(clust_skills[i]) + '; '\n",
    "input_skills = input_skills[:-2]"
   ]
  },
  {
   "cell_type": "code",
   "execution_count": 208,
   "metadata": {
    "colab": {
     "base_uri": "https://localhost:8080/"
    },
    "id": "PdV0WigjaDYG",
    "outputId": "dea697c0-b043-4114-c126-294cb732937d",
    "ExecuteTime": {
     "end_time": "2023-10-22T17:53:54.958244Z",
     "start_time": "2023-10-22T17:53:54.534385Z"
    }
   },
   "outputs": [
    {
     "name": "stdout",
     "output_type": "stream",
     "text": [
      "Course 2: Finance; Course 3: Product Management, Azure, Snowflake, Hadoop, Redshift; Course 4: Cleaning, ETL, SQL; Course 6: E-commerce; Course 7: Python, Mining, Regression, Clustering, Classification; Course 9: Healthcare; Course 10: Natural Language; Course 11: Visualization; Course 13: Java; Course 14: Leadership, Critical Thinking, Problem Solving; Course 15: C++; Course 16: AWS; Course 17: Python; Course 18: Supply Chain\n"
     ]
    }
   ],
   "source": [
    "print(input_skills)"
   ]
  },
  {
   "cell_type": "markdown",
   "metadata": {
    "id": "vZKu6TeMaDYH"
   },
   "source": [
    "#### ChatGPT prompt #1"
   ]
  },
  {
   "cell_type": "code",
   "execution_count": 209,
   "metadata": {
    "id": "NFjWAQjwaDYH",
    "ExecuteTime": {
     "end_time": "2023-10-22T17:53:54.961030Z",
     "start_time": "2023-10-22T17:53:54.541281Z"
    }
   },
   "outputs": [],
   "source": [
    "prompt_1 = 'Please create a sequence of university graduate courses with course names and 10 lectures based on the following relevant list of skills to be taught in each course: {input}'"
   ]
  },
  {
   "cell_type": "code",
   "execution_count": 210,
   "metadata": {
    "colab": {
     "base_uri": "https://localhost:8080/"
    },
    "id": "jrww53r0aDYH",
    "outputId": "1dd82609-8784-4716-9915-c4ac943ef727",
    "ExecuteTime": {
     "end_time": "2023-10-22T17:53:54.981400Z",
     "start_time": "2023-10-22T17:53:54.545342Z"
    }
   },
   "outputs": [
    {
     "name": "stdout",
     "output_type": "stream",
     "text": [
      "Please create a sequence of university graduate courses with course names and 10 lectures based on the following relevant list of skills to be taught in each course: Course 2: Finance; Course 3: Product Management, Azure, Snowflake, Hadoop, Redshift; Course 4: Cleaning, ETL, SQL; Course 6: E-commerce; Course 7: Python, Mining, Regression, Clustering, Classification; Course 9: Healthcare; Course 10: Natural Language; Course 11: Visualization; Course 13: Java; Course 14: Leadership, Critical Thinking, Problem Solving; Course 15: C++; Course 16: AWS; Course 17: Python; Course 18: Supply Chain\n"
     ]
    }
   ],
   "source": [
    "prompt1 = prompt_1.format(input=input_skills)\n",
    "print(prompt1)"
   ]
  },
  {
   "cell_type": "code",
   "execution_count": 211,
   "metadata": {
    "id": "Nr2rsfeIaDYH",
    "ExecuteTime": {
     "end_time": "2023-10-22T17:54:58.101600Z",
     "start_time": "2023-10-22T17:53:54.550168Z"
    }
   },
   "outputs": [],
   "source": [
    "# Call OpenAI API for the first prompt\n",
    "response1 = openai.ChatCompletion.create(\n",
    "    model=model,\n",
    "    messages=[\n",
    "    {\"role\": \"system\", \"content\": \"You are a helpful  assistant.\"},\n",
    "    {\"role\": \"user\", \"content\": prompt1},\n",
    "    ],\n",
    "    max_tokens=max_tokens,\n",
    "    n=n,\n",
    "    stop=stop,\n",
    "    temperature=temperature,\n",
    ")"
   ]
  },
  {
   "cell_type": "code",
   "execution_count": 212,
   "metadata": {
    "colab": {
     "base_uri": "https://localhost:8080/"
    },
    "id": "icCp015UaDYH",
    "outputId": "e7f0ed72-07c8-48d3-b2d1-4ce1a2e6b7e5",
    "ExecuteTime": {
     "end_time": "2023-10-22T17:54:58.115873Z",
     "start_time": "2023-10-22T17:54:58.106230Z"
    }
   },
   "outputs": [
    {
     "name": "stdout",
     "output_type": "stream",
     "text": [
      "Course 2: Advanced Finance \n",
      "1. Introduction to Advanced Finance\n",
      "2. Principles of Financial Management\n",
      "3. Corporate Finance and Valuation\n",
      "4. Investment Analysis\n",
      "5. Portfolio Management\n",
      "6. Financial Risk Management\n",
      "7. Financial Markets and Institutions\n",
      "8. International Finance\n",
      "9. Mergers and Acquisitions\n",
      "10. Financial Modeling and Forecasting\n",
      "\n",
      "Course 3: Product Management in the Cloud\n",
      "1. Introduction to Product Management\n",
      "2. Understanding Azure\n",
      "3. Working with Snowflake\n",
      "4. Hadoop for Product Management\n",
      "5. Redshift in Product Management\n",
      "6. Product Development Process\n",
      "7. Product Marketing Strategies\n",
      "8. Product Lifecycle Management\n",
      "9. Product Management in Agile\n",
      "10. Case Studies in Product Management\n",
      "\n",
      "Course 4: Data Cleaning & ETL using SQL\n",
      "1. Introduction to Data Cleaning\n",
      "2. Understanding ETL\n",
      "3. SQL Basics\n",
      "4. Advanced SQL for ETL\n",
      "5. Data Cleaning using SQL\n",
      "6. ETL Operations with SQL\n",
      "7. Quality Assurance in Data\n",
      "8. Data Transformation using SQL\n",
      "9. SQL for Data Warehousing\n",
      "10. Project: ETL Process using SQL\n",
      "\n",
      "Course 6: E-commerce Essentials\n",
      "1. Introduction to E-commerce\n",
      "2. E-commerce Business Models\n",
      "3. E-commerce Marketing and Strategy\n",
      "4. E-commerce Website Development\n",
      "5. E-commerce Security\n",
      "6. Mobile E-commerce\n",
      "7. E-commerce Analytics\n",
      "8. E-commerce Payments and Fulfillment\n",
      "9. Legal and Ethical Issues in E-commerce\n",
      "10. Future Trends in E-commerce\n",
      "\n",
      "Course 7: Advanced Data Science with Python\n",
      "1. Python for Data Science\n",
      "2. Data Mining using Python\n",
      "3. Regression Analysis with Python\n",
      "4. Clustering Techniques in Python\n",
      "5. Classification Algorithms in Python\n",
      "6. Advanced Python Libraries for Data Science\n",
      "7. Machine Learning with Python\n",
      "8. Deep Learning using Python\n",
      "9. Natural Language Processing with Python\n",
      "10. Project: End-to-End Data Science Project using Python\n",
      "\n",
      "Course 9: Healthcare Management\n",
      "1. Introduction to Healthcare Management\n",
      "2. Healthcare Systems and Operations\n",
      "3. Healthcare Policy and Law\n",
      "4. Quality and Performance Improvement in Healthcare\n",
      "5. Healthcare Informatics\n",
      "6. Healthcare Finance\n",
      "7. Healthcare Human Resources Management\n",
      "8. Patient Safety and Health Outcomes\n",
      "9. Healthcare Marketing and Communication\n",
      "10. Leadership in Healthcare\n",
      "\n",
      "Course 10: Natural Language Processing\n",
      "1. Introduction to Natural Language Processing\n",
      "2. Text Preprocessing\n",
      "3. Information Extraction\n",
      "4. Text Classification\n",
      "5. Sentiment Analysis\n",
      "6. Topic Modeling\n",
      "7. Word Embedding\n",
      "8. Sequence to Sequence Model\n",
      "9. Chatbots and Virtual Assistants\n",
      "10. Advanced Topics in NLP\n",
      "\n",
      "Course 11: Data Visualization Techniques\n",
      "1. Introduction to Data Visualization\n",
      "2. Design Principles for Visualization\n",
      "3. Visualization with Python\n",
      "4. Visualization with R\n",
      "5. Interactive Visualization\n",
      "6. Geospatial Data Visualization\n",
      "7. Time Series Visualization\n",
      "8. Network Visualization\n",
      "9. Visualization Tools and Libraries\n",
      "10. Project: Creating Dashboards and Storytelling with Data\n",
      "\n",
      "Course 13: Advanced Java Programming\n",
      "1. Java Fundamentals\n",
      "2. Object-Oriented Programming with Java\n",
      "3. Java Collections Framework\n",
      "4. Exception Handling in Java\n",
      "5. Java I/O and NIO\n",
      "6. Multithreading in Java\n",
      "7. Java Networking\n",
      "8. JavaFX for GUI Development\n",
      "9. Java Persistence with JPA\n",
      "10. Java Performance Tuning\n",
      "\n",
      "Course 14: Leadership and Problem-Solving Skills\n",
      "1. Introduction to Leadership\n",
      "2. Styles of Leadership\n",
      "3. Critical Thinking Skills\n",
      "4. Problem-Solving Techniques\n",
      "5. Decision Making in Leadership\n",
      "6. Communication Skills for Leaders\n",
      "7. Team Building and Leadership\n",
      "8. Conflict Resolution and Negotiation\n",
      "9. Ethical Leadership\n",
      "10. Change Management and Leadership\n",
      "\n",
      "Course 15: Advanced C++ Programming\n",
      "1. Introduction to C++\n",
      "2. C++ Basics\n",
      "3. Object-Oriented Programming with C++\n",
      "4. C++ Standard Template Library\n",
      "5. Exception Handling in C++\n",
      "6. C++ I/O Streams\n",
      "7. Multithreading in C++\n",
      "8. Network Programming with C++\n",
      "9. C++ for Game Development\n",
      "10. Advanced Topics in C++\n",
      "\n",
      "Course 16: Cloud Computing with AWS\n",
      "1. Introduction to Cloud Computing\n",
      "2. AWS Cloud Fundamentals\n",
      "3. AWS Compute Services\n",
      "4. AWS Storage Services\n",
      "5. AWS Networking Services\n",
      "6. AWS Databases\n",
      "7. AWS Management Tools\n",
      "8. AWS Security and Compliance\n",
      "9. AWS Architecture Best Practices\n",
      "10. Project: Deploying Applications on AWS\n",
      "\n",
      "Course 17: Python Programming\n",
      "1. Introduction to Python\n",
      "2. Python Basics\n",
      "3. Python Data Structures\n",
      "4. Python Control Flow\n",
      "5. Functions in Python\n",
      "6. Modules and Packages in Python\n",
      "7. Object-Oriented Programming in Python\n",
      "8. Error Handling in Python\n",
      "9\n"
     ]
    }
   ],
   "source": [
    "output1 = response1['choices'][0]['message']['content']\n",
    "print(output1)"
   ]
  },
  {
   "cell_type": "markdown",
   "metadata": {
    "id": "VjR2nhbzaDYH"
   },
   "source": [
    "#### ChatGPT prompt #2"
   ]
  },
  {
   "cell_type": "code",
   "execution_count": 213,
   "metadata": {
    "id": "fUXLF3n7aDYS",
    "ExecuteTime": {
     "end_time": "2023-10-22T17:54:58.118447Z",
     "start_time": "2023-10-22T17:54:58.112050Z"
    }
   },
   "outputs": [],
   "source": [
    "prompt_2 = 'Please create a curriculumn for a university master program at the intersection of business and management on one side, and data analytics and artificial intelligence on the other side. Curriculumn should consist of the sequence of graduate courses with proposed course names and 10 lectures based on the following relevant list of skills to be taught in each course: {input}'"
   ]
  },
  {
   "cell_type": "code",
   "execution_count": 214,
   "metadata": {
    "colab": {
     "base_uri": "https://localhost:8080/"
    },
    "id": "lb9OIYXXaDYS",
    "outputId": "f4fd37f6-7860-4e3d-eeae-647f2eac2eab",
    "ExecuteTime": {
     "end_time": "2023-10-22T17:54:58.124331Z",
     "start_time": "2023-10-22T17:54:58.117637Z"
    }
   },
   "outputs": [
    {
     "name": "stdout",
     "output_type": "stream",
     "text": [
      "Please create a curriculumn for a university master program at the intersection of business and management on one side, and data analytics and artificial intelligence on the other side. Curriculumn should consist of the sequence of graduate courses with proposed course names and 10 lectures based on the following relevant list of skills to be taught in each course: Course 2: Finance; Course 3: Product Management, Azure, Snowflake, Hadoop, Redshift; Course 4: Cleaning, ETL, SQL; Course 6: E-commerce; Course 7: Python, Mining, Regression, Clustering, Classification; Course 9: Healthcare; Course 10: Natural Language; Course 11: Visualization; Course 13: Java; Course 14: Leadership, Critical Thinking, Problem Solving; Course 15: C++; Course 16: AWS; Course 17: Python; Course 18: Supply Chain\n"
     ]
    }
   ],
   "source": [
    "prompt2 = prompt_2.format(input=input_skills)\n",
    "print(prompt2)"
   ]
  },
  {
   "cell_type": "code",
   "execution_count": 215,
   "metadata": {
    "id": "aJJ3UsIKaDYS",
    "ExecuteTime": {
     "end_time": "2023-10-22T17:56:03.203506Z",
     "start_time": "2023-10-22T17:54:58.124195Z"
    }
   },
   "outputs": [],
   "source": [
    "# Call OpenAI API for the second prompt\n",
    "response2 = openai.ChatCompletion.create(\n",
    "    model=model,\n",
    "    messages=[\n",
    "    {\"role\": \"system\", \"content\": \"You are a helpful  assistant.\"},\n",
    "    {\"role\": \"user\", \"content\": prompt2},\n",
    "    ],\n",
    "    max_tokens=max_tokens,\n",
    "    n=n,\n",
    "    stop=stop,\n",
    "    temperature=temperature,\n",
    ")"
   ]
  },
  {
   "cell_type": "code",
   "execution_count": 216,
   "metadata": {
    "colab": {
     "base_uri": "https://localhost:8080/"
    },
    "id": "wOqAleC2aDYS",
    "outputId": "3db462bc-c367-478b-dae1-9baff58b2868",
    "ExecuteTime": {
     "end_time": "2023-10-22T17:56:03.209663Z",
     "start_time": "2023-10-22T17:56:03.202820Z"
    }
   },
   "outputs": [
    {
     "name": "stdout",
     "output_type": "stream",
     "text": [
      "Master's Program in Business Management and Data Analytics\n",
      "\n",
      "Course 1: Introduction to Business Management and Data Analytics\n",
      "Lectures:\n",
      "1. Overview of Business Management\n",
      "2. Overview of Data Analytics and AI\n",
      "3. The Intersection of Business Management and Data Analytics\n",
      "4. Importance of Data in Business Decision Making\n",
      "5. Introduction to AI in Business\n",
      "6. Case Studies of Data-Driven Businesses\n",
      "7. Data Strategy in Business\n",
      "8. Data-Driven Decision Making\n",
      "9. Role of AI in Business Management\n",
      "10. Future Trends in Business Management and Data Analytics\n",
      "\n",
      "Course 2: Financial Management in the Data Age\n",
      "Lectures:\n",
      "1. Introduction to Finance\n",
      "2. Financial Data Analysis\n",
      "3. Financial Forecasting using AI\n",
      "4. Risk Assessment and Management with AI\n",
      "5. Financial Decision Making with Data Analytics\n",
      "6. Financial Modeling with AI\n",
      "7. AI in Investment Management\n",
      "8. AI in Banking and Finance\n",
      "9. Case Studies in AI and Finance\n",
      "10. Future of Finance with AI and Data Analytics\n",
      "\n",
      "Course 3: Product Management and Data Tools\n",
      "Lectures:\n",
      "1. Introduction to Product Management\n",
      "2. Using Azure for Product Management\n",
      "3. Data Management with Snowflake\n",
      "4. Big Data and Hadoop\n",
      "5. Redshift for Data Warehousing\n",
      "6. Product Lifecycle Management with Data Analytics\n",
      "7. Data-Driven Product Development\n",
      "8. AI in Product Management\n",
      "9. Case Studies in Data-Driven Product Management\n",
      "10. Future of Product Management with AI and Data Analytics\n",
      "\n",
      "Course 4: Data Cleaning and Management with ETL and SQL\n",
      "Lectures:\n",
      "1. Introduction to Data Cleaning\n",
      "2. ETL Process in Data Management\n",
      "3. SQL for Data Cleaning and Management\n",
      "4. Data Quality and Consistency\n",
      "5. Data Transformation with ETL and SQL\n",
      "6. Data Loading Techniques\n",
      "7. SQL for Data Querying and Reporting\n",
      "8. Advanced SQL Techniques for Data Management\n",
      "9. Case Studies in Data Cleaning and Management\n",
      "10. Future of Data Management with ETL and SQL\n",
      "\n",
      "Course 5: Business Management in E-commerce\n",
      "Lectures:\n",
      "1. Introduction to E-commerce\n",
      "2. E-commerce Business Models\n",
      "3. Data Analytics in E-commerce\n",
      "4. AI in E-commerce\n",
      "5. E-commerce Marketing and Sales with AI\n",
      "6. Customer Relationship Management in E-commerce\n",
      "7. Supply Chain Management in E-commerce\n",
      "8. E-commerce Security and Fraud Detection with AI\n",
      "9. Case Studies in E-commerce\n",
      "10. Future of E-commerce with AI and Data Analytics\n",
      "\n",
      "Course 6: Data Analysis with Python: Mining, Regression, Clustering, and Classification\n",
      "Lectures:\n",
      "1. Introduction to Python for Data Analysis\n",
      "2. Data Mining with Python\n",
      "3. Regression Analysis with Python\n",
      "4. Clustering Analysis with Python\n",
      "5. Classification Analysis with Python\n",
      "6. Advanced Data Analysis Techniques with Python\n",
      "7. Python Libraries for Data Analysis\n",
      "8. Case Studies in Data Analysis with Python\n",
      "9. Python for Big Data Analysis\n",
      "10. Future of Data Analysis with Python\n",
      "\n",
      "Course 7: Data Analytics in Healthcare\n",
      "Lectures:\n",
      "1. Introduction to Healthcare Data Analytics\n",
      "2. Healthcare Data Management\n",
      "3. Predictive Analytics in Healthcare\n",
      "4. AI in Healthcare\n",
      "5. Patient Data Analysis with AI\n",
      "6. AI in Medical Imaging and Diagnosis\n",
      "7. AI in Healthcare Operations\n",
      "8. Case Studies in Healthcare Data Analytics\n",
      "9. Ethical Considerations in Healthcare Data Analytics\n",
      "10. Future of Healthcare with AI and Data Analytics\n",
      "\n",
      "Course 8: Natural Language Processing in Business\n",
      "Lectures:\n",
      "1. Introduction to Natural Language Processing (NLP)\n",
      "2. NLP in Business Communication\n",
      "3. NLP in Customer Service\n",
      "4. Sentiment Analysis with NLP\n",
      "5. Text Analytics with NLP\n",
      "6. AI in NLP\n",
      "7. Case Studies in NLP in Business\n",
      "8. Ethical Considerations in NLP\n",
      "9. Advanced NLP Techniques\n",
      "10. Future of NLP in Business\n",
      "\n",
      "Course 9: Data Visualization in Business\n",
      "Lectures:\n",
      "1. Introduction to Data Visualization\n",
      "2. Importance of Data Visualization in Business\n",
      "3. Tools and Techniques for Data Visualization\n",
      "4. Interactive Data Visualization\n",
      "5. Data Visualization Best Practices\n",
      "6. Case Studies in Data Visualization\n",
      "7. Data Storytelling with Visualization\n",
      "8. Advanced Data Visualization Techniques\n",
      "9. Ethical Considerations in Data Visualization\n",
      "10. Future of Data Visualization\n",
      "\n",
      "Course 10: Java for Business Applications\n",
      "Lectures:\n",
      "1. Introduction to Java\n",
      "2. Java for Business Applications\n",
      "3. Java for Data Management\n",
      "4. Java for Web Applications\n",
      "5. Advanced Java Programming\n",
      "6. Case Studies in Java for Business\n",
      "7. Java for Big Data\n",
      "8. Java for AI Applications\n",
      "9. Java Best Practices\n",
      "10. Future of Java in Business\n",
      "\n",
      "Course 11: Leadership and Critical Thinking in Data-Driven Business\n",
      "Lectures:\n",
      "1. Introduction to Leadership in Data\n"
     ]
    }
   ],
   "source": [
    "output2 = response2['choices'][0]['message']['content']\n",
    "print(output2)"
   ]
  },
  {
   "cell_type": "markdown",
   "metadata": {
    "id": "h6_cNI38aDYS"
   },
   "source": [
    "#### ChatGPT prompt #3"
   ]
  },
  {
   "cell_type": "code",
   "execution_count": 217,
   "metadata": {
    "id": "ZaeciYtoaDYT",
    "ExecuteTime": {
     "end_time": "2023-10-22T17:56:03.221201Z",
     "start_time": "2023-10-22T17:56:03.209358Z"
    }
   },
   "outputs": [],
   "source": [
    "prompt_3 = 'Please create a curriculumn for a university master program at the intersection of business and management from one side and data analytics and artificial intelligence on the other side. Curriculumn should consist of 10-12 courses with proposed course names and 10 lectures in each course.'"
   ]
  },
  {
   "cell_type": "code",
   "execution_count": 218,
   "metadata": {
    "colab": {
     "base_uri": "https://localhost:8080/"
    },
    "id": "MjZw0Yg-aDYT",
    "outputId": "fa804d6e-21b7-4565-c64b-ac0af79503ed",
    "ExecuteTime": {
     "end_time": "2023-10-22T17:56:03.221578Z",
     "start_time": "2023-10-22T17:56:03.214380Z"
    }
   },
   "outputs": [
    {
     "name": "stdout",
     "output_type": "stream",
     "text": [
      "Please create a curriculumn for a university master program at the intersection of business and management from one side and data analytics and artificial intelligence on the other side. Curriculumn should consist of 10-12 courses with proposed course names and 10 lectures in each course.\n"
     ]
    }
   ],
   "source": [
    "prompt3 = prompt_3\n",
    "print(prompt3)"
   ]
  },
  {
   "cell_type": "code",
   "execution_count": 219,
   "metadata": {
    "id": "ZAshJ2fCaDYT",
    "ExecuteTime": {
     "end_time": "2023-10-22T17:57:06.389538Z",
     "start_time": "2023-10-22T17:56:03.222504Z"
    }
   },
   "outputs": [],
   "source": [
    "# Call OpenAI API for the third prompt\n",
    "response3 = openai.ChatCompletion.create(\n",
    "    model=model,\n",
    "    messages=[\n",
    "    {\"role\": \"system\", \"content\": \"You are a helpful  assistant.\"},\n",
    "    {\"role\": \"user\", \"content\": prompt3},\n",
    "    ],\n",
    "    max_tokens=max_tokens,\n",
    "    n=n,\n",
    "    stop=stop,\n",
    "    temperature=temperature,\n",
    ")"
   ]
  },
  {
   "cell_type": "code",
   "execution_count": 220,
   "metadata": {
    "colab": {
     "base_uri": "https://localhost:8080/"
    },
    "id": "dHzmGT2DaDYT",
    "outputId": "751033fd-6c75-4893-ddd9-1b9c4e651afe",
    "ExecuteTime": {
     "end_time": "2023-10-22T17:57:06.395765Z",
     "start_time": "2023-10-22T17:57:06.390274Z"
    }
   },
   "outputs": [
    {
     "name": "stdout",
     "output_type": "stream",
     "text": [
      "Sure, here is a proposed curriculum for a Master's program that integrates business and management with data analytics and artificial intelligence:\n",
      "\n",
      "1. Course: **Fundamentals of Business Analytics**\n",
      "   - Introduction to Business Analytics\n",
      "   - Descriptive Analytics\n",
      "   - Predictive Analytics\n",
      "   - Prescriptive Analytics\n",
      "   - Data Visualization Techniques\n",
      "   - Analytics in Decision Making\n",
      "   - Business Analytics Tools\n",
      "   - Managing Analytics Projects\n",
      "   - Case Studies in Business Analytics\n",
      "   - Future Trends in Business Analytics\n",
      "\n",
      "2. Course: **Management Principles and Practices**\n",
      "   - Introduction to Management\n",
      "   - Planning in Management\n",
      "   - Organizing in Management\n",
      "   - Leading in Management\n",
      "   - Controlling in Management\n",
      "   - Decision Making in Management\n",
      "   - Strategic Management\n",
      "   - Change Management\n",
      "   - International Business Management\n",
      "   - Ethical Issues in Management\n",
      "\n",
      "3. Course: **Data Science and Machine Learning**\n",
      "   - Introduction to Data Science\n",
      "   - Data Preprocessing\n",
      "   - Supervised Learning\n",
      "   - Unsupervised Learning\n",
      "   - Neural Networks and Deep Learning\n",
      "   - Ensemble Methods\n",
      "   - Evaluation Metrics in Machine Learning\n",
      "   - Special Topics in Machine Learning\n",
      "   - Case Studies in Machine Learning\n",
      "   - Future Trends in Machine Learning\n",
      "\n",
      "4. Course: **Artificial Intelligence in Business**\n",
      "   - Introduction to AI in Business\n",
      "   - AI for Customer Experience\n",
      "   - AI in Marketing and Sales\n",
      "   - AI in Human Resources\n",
      "   - AI in Supply Chain Management\n",
      "   - AI in Financial Services\n",
      "   - Ethical Considerations of AI in Business\n",
      "   - Managing AI Projects in Business\n",
      "   - Case Studies of AI in Business\n",
      "   - Future of AI in Business\n",
      "\n",
      "5. Course: **Business Intelligence and Data Warehousing**\n",
      "   - Introduction to Business Intelligence\n",
      "   - Data Warehousing Concepts\n",
      "   - Data Mining Techniques\n",
      "   - BI Reporting and Visualization Tools\n",
      "   - BI for Decision Support\n",
      "   - Data Governance in BI\n",
      "   - Case Studies in BI Implementation\n",
      "   - Future Trends in BI\n",
      "   - BI Project Management\n",
      "   - Data Warehouse Design and Implementation\n",
      "\n",
      "6. Course: **Advanced Analytics and Predictive Modelling**\n",
      "   - Introduction to Advanced Analytics\n",
      "   - Regression Analysis\n",
      "   - Classification Models\n",
      "   - Time Series Analysis\n",
      "   - Text Mining and Analysis\n",
      "   - Decision Trees and Random Forests\n",
      "   - Neural Networks in Predictive Modelling\n",
      "   - Case Studies in Predictive Modelling\n",
      "   - Advanced Analytics Tools\n",
      "   - Future Trends in Advanced Analytics\n",
      "\n",
      "7. Course: **Data-Driven Decision Making**\n",
      "   - Introduction to Data-Driven Decision Making\n",
      "   - Data Collection and Analysis for Decision Making\n",
      "   - Quantitative Decision Making Models\n",
      "   - Qualitative Decision Making Models\n",
      "   - Risk Management in Decision Making\n",
      "   - Decision Making in Operations\n",
      "   - Decision Making in Marketing\n",
      "   - Decision Making in Finance\n",
      "   - Case Studies in Data-Driven Decision Making\n",
      "   - Future of Data-Driven Decision Making\n",
      "\n",
      "8. Course: **AI and Machine Learning Ethics**\n",
      "   - Introduction to AI Ethics\n",
      "   - Privacy and AI\n",
      "   - Bias and Fairness in AI\n",
      "   - Transparency and Explainability in AI\n",
      "   - AI and Employment\n",
      "   - AI in Society\n",
      "   - Regulation of AI\n",
      "   - Ethical AI Design\n",
      "   - Case Studies in AI Ethics\n",
      "   - Future of AI Ethics\n",
      "\n",
      "9. Course: **Big Data Management**\n",
      "   - Introduction to Big Data\n",
      "   - Big Data Technologies\n",
      "   - Big Data Storage and Processing\n",
      "   - Big Data Analytics\n",
      "   - Big Data in Business\n",
      "   - Privacy and Security in Big Data\n",
      "   - Big Data Governance\n",
      "   - Case Studies in Big Data\n",
      "   - Big Data Project Management\n",
      "   - Future of Big Data\n",
      "\n",
      "10. Course: **Strategic Management of Technology and Innovation**\n",
      "   - Introduction to Technology and Innovation Management\n",
      "   - Strategy in the Age of Digital Transformation\n",
      "   - Innovation and Entrepreneurship\n",
      "   - Managing Technological Changes\n",
      "   - Technology Forecasting\n",
      "   - Intellectual Property Management\n",
      "   - Innovation Culture and Leadership\n",
      "   - Case Studies in Technology and Innovation Management\n",
      "   - Future Trends in Technology and Innovation\n",
      "   - Digital Strategy and Transformation Projects\n",
      "\n",
      "11. Course: **Capstone Project**\n",
      "   - Project Proposal and Literature Review\n",
      "   - Data Collection and Preprocessing\n",
      "   - Exploratory Data Analysis\n",
      "   - Model Development and Validation\n",
      "   - Results Interpretation and Discussion\n",
      "   - Final Project Presentation\n",
      "   - Project Documentation\n",
      "   - Peer Review and Feedback\n",
      "   - Project Revision and Improvement\n",
      "   - Project Submission and Evaluation\n",
      "\n",
      "12. Course: **Internship/Practical Training**\n",
      "   - Internship Orientation and Guidelines\n",
      "   - Internship Placement\n",
      "   - Work Experience and Skill Development\n",
      "   - Internship Project\n",
      "   - Workplace Ethics and Professionalism\n",
      "   - Internship Evaluation and Feedback\n",
      "   - Internship Report Writing\n",
      "   - Presentation of Internship Experience\n",
      "   - Career Planning and\n"
     ]
    }
   ],
   "source": [
    "output3 = response3['choices'][0]['message']['content']\n",
    "print(output3)"
   ]
  },
  {
   "cell_type": "code",
   "execution_count": 220,
   "outputs": [],
   "source": [],
   "metadata": {
    "collapsed": false,
    "ExecuteTime": {
     "end_time": "2023-10-22T17:57:06.399262Z",
     "start_time": "2023-10-22T17:57:06.395853Z"
    }
   }
  }
 ],
 "metadata": {
  "colab": {
   "provenance": [],
   "toc_visible": true
  },
  "kernelspec": {
   "display_name": "Python 3 (ipykernel)",
   "language": "python",
   "name": "python3"
  },
  "language_info": {
   "codemirror_mode": {
    "name": "ipython",
    "version": 3
   },
   "file_extension": ".py",
   "mimetype": "text/x-python",
   "name": "python",
   "nbconvert_exporter": "python",
   "pygments_lexer": "ipython3",
   "version": "3.9.18"
  },
  "vscode": {
   "interpreter": {
    "hash": "365536dcbde60510dc9073d6b991cd35db2d9bac356a11f5b64279a5e6708b97"
   }
  }
 },
 "nbformat": 4,
 "nbformat_minor": 0
}
