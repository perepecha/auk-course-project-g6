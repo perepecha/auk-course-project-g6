{
 "cells": [
  {
   "cell_type": "code",
   "execution_count": 4,
   "id": "initial_id",
   "metadata": {
    "collapsed": true,
    "ExecuteTime": {
     "end_time": "2023-10-16T10:20:04.669583Z",
     "start_time": "2023-10-16T10:20:04.636310Z"
    }
   },
   "outputs": [],
   "source": [
    "try:\n",
    "    import openai\n",
    "except:\n",
    "    !pip install openai\n",
    "    import openai"
   ]
  },
  {
   "cell_type": "code",
   "execution_count": 5,
   "outputs": [],
   "source": [
    "import os\n",
    "from pathlib import Path\n",
    "import requests\n",
    "import json"
   ],
   "metadata": {
    "collapsed": false,
    "ExecuteTime": {
     "end_time": "2023-10-16T10:20:05.606566Z",
     "start_time": "2023-10-16T10:20:05.597116Z"
    }
   },
   "id": "775ae5ec52366296"
  },
  {
   "cell_type": "code",
   "execution_count": 27,
   "outputs": [],
   "source": [
    "BASE_PATH = Path(\"pdf_to_text.ipynb\").parent\n",
    "DOCS_PATH = BASE_PATH / \"..\" / \"docs\"\n",
    "DOCS_OUTPUT_PATH = BASE_PATH / \"..\" / \"output\"\n",
    "GPT_SUMMARY_PATH = BASE_PATH / \"..\" / \"gpt_summary\""
   ],
   "metadata": {
    "collapsed": false,
    "ExecuteTime": {
     "end_time": "2023-10-16T10:37:12.979551Z",
     "start_time": "2023-10-16T10:37:12.972176Z"
    }
   },
   "id": "c50aaec5c1a2de70"
  },
  {
   "cell_type": "code",
   "execution_count": 31,
   "outputs": [],
   "source": [
    "with open(DOCS_OUTPUT_PATH / \"global_innovation_index.txt\", \"r\") as file:\n",
    "    paper_text = file.read()"
   ],
   "metadata": {
    "collapsed": false,
    "ExecuteTime": {
     "end_time": "2023-10-16T10:40:25.674575Z",
     "start_time": "2023-10-16T10:40:25.666339Z"
    }
   },
   "id": "1c4b5e1dcf70c0ee"
  },
  {
   "cell_type": "code",
   "execution_count": 32,
   "outputs": [
    {
     "name": "stdout",
     "output_type": "stream",
     "text": [
      "1052522\n"
     ]
    }
   ],
   "source": [
    "print(len(paper_text))"
   ],
   "metadata": {
    "collapsed": false,
    "ExecuteTime": {
     "end_time": "2023-10-16T10:40:26.349305Z",
     "start_time": "2023-10-16T10:40:26.342323Z"
    }
   },
   "id": "3d9697150897ed28"
  },
  {
   "cell_type": "code",
   "execution_count": 33,
   "outputs": [],
   "source": [
    "prompt1 = 'I want you to act as a report summarizer. I will provide you with a report on a specific topic, and you will create a summary of the main points and findings of the paper. Your summary should be concise and should accurately and objectively communicate the key points of the report. You should not include any personal opinions or interpretations in your summary, but rather focus on objectively presenting the information from the report. Your summary should be written in your own words and should not include any direct quotes from the paper. Please ensure that your summary is clear, concise, and accurately reflects the content of the original report: \"{input}\".'.format(input=paper_text)"
   ],
   "metadata": {
    "collapsed": false,
    "ExecuteTime": {
     "end_time": "2023-10-16T10:40:28.722181Z",
     "start_time": "2023-10-16T10:40:28.718299Z"
    }
   },
   "id": "f69d42aef0eee7c7"
  },
  {
   "cell_type": "code",
   "execution_count": 38,
   "outputs": [],
   "source": [
    "prompt2 = 'Innovations in different countries are based on a number of factors. Here is the relevant transacript of a report. Please write five steps how Ukraine can innovate: \"{input}\".'.format(input=paper_text)"
   ],
   "metadata": {
    "collapsed": false,
    "ExecuteTime": {
     "end_time": "2023-10-16T10:42:42.538376Z",
     "start_time": "2023-10-16T10:42:42.529804Z"
    }
   },
   "id": "6e8983bc40b1ee6b"
  },
  {
   "cell_type": "code",
   "execution_count": 46,
   "outputs": [],
   "source": [
    "\n",
    "\n",
    "# os.environ['OPENAI_API_KEY'] = API_KEY\n",
    "openai.api_key = os.getenv(\"OPENAI_API_KEY\")"
   ],
   "metadata": {
    "collapsed": false,
    "ExecuteTime": {
     "end_time": "2023-10-16T10:54:22.578924Z",
     "start_time": "2023-10-16T10:54:22.574275Z"
    }
   },
   "id": "5dd5c8f36a0bba14"
  },
  {
   "cell_type": "code",
   "execution_count": 40,
   "outputs": [],
   "source": [
    "## OpenAI API parameters\n",
    "# model = \"gpt-3.5-turbo\" # 4K tokens\n",
    "model = \"gpt-3.5-turbo-16k\" # 16K tokens\n",
    "max_tokens = 2048\n",
    "n = 1\n",
    "stop = None\n",
    "temperature = 0.5"
   ],
   "metadata": {
    "collapsed": false,
    "ExecuteTime": {
     "end_time": "2023-10-16T10:42:43.348517Z",
     "start_time": "2023-10-16T10:42:43.340828Z"
    }
   },
   "id": "bce290f627c94ca4"
  },
  {
   "cell_type": "code",
   "execution_count": 42,
   "outputs": [],
   "source": [
    "response2 = openai.ChatCompletion.create(\n",
    "    model=model,\n",
    "    messages=[\n",
    "        {\"role\": \"system\", \"content\": \"You are a helpful  assistant.\"},\n",
    "        {\"role\": \"user\", \"content\": prompt1[:min(len(prompt2),40000)]},\n",
    "    ],\n",
    "    max_tokens=max_tokens,\n",
    "    n=n,\n",
    "    stop=stop,\n",
    "    temperature=temperature,\n",
    ")\n",
    "\n",
    "response_text = response2['choices'][0]['message']['content']"
   ],
   "metadata": {
    "collapsed": false,
    "ExecuteTime": {
     "end_time": "2023-10-16T10:43:24.050824Z",
     "start_time": "2023-10-16T10:43:04.141120Z"
    }
   },
   "id": "120a7ad0d7eb7667"
  },
  {
   "cell_type": "code",
   "execution_count": 43,
   "outputs": [],
   "source": [
    "with open(GPT_SUMMARY_PATH / \"global_innovation_index_2.txt\", \"w\") as file:\n",
    "    file.write(response_text)"
   ],
   "metadata": {
    "collapsed": false,
    "ExecuteTime": {
     "end_time": "2023-10-16T10:43:26.854069Z",
     "start_time": "2023-10-16T10:43:26.848961Z"
    }
   },
   "id": "8daba89bbf6a211a"
  },
  {
   "cell_type": "code",
   "execution_count": null,
   "outputs": [],
   "source": [],
   "metadata": {
    "collapsed": false
   },
   "id": "4f3532029241d31d"
  }
 ],
 "metadata": {
  "kernelspec": {
   "display_name": "Python 3",
   "language": "python",
   "name": "python3"
  },
  "language_info": {
   "codemirror_mode": {
    "name": "ipython",
    "version": 2
   },
   "file_extension": ".py",
   "mimetype": "text/x-python",
   "name": "python",
   "nbconvert_exporter": "python",
   "pygments_lexer": "ipython2",
   "version": "2.7.6"
  }
 },
 "nbformat": 4,
 "nbformat_minor": 5
}
