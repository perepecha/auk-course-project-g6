{
 "cells": [
  {
   "cell_type": "markdown",
   "metadata": {
    "id": "PSIxsvBCHW2o"
   },
   "source": [
    "# ChatGPT-based Portfolio Optimization (Assignment 2 template)"
   ]
  },
  {
   "cell_type": "markdown",
   "metadata": {
    "id": "uRdnbAf01IGA"
   },
   "source": [
    "### Importing relevant libraries"
   ]
  },
  {
   "cell_type": "code",
   "execution_count": 455,
   "metadata": {
    "id": "xZZFsd78HQIS",
    "ExecuteTime": {
     "end_time": "2023-10-09T07:53:05.923242Z",
     "start_time": "2023-10-09T07:53:05.505920Z"
    }
   },
   "outputs": [],
   "source": [
    "import pandas as pd\n",
    "from datetime import datetime, timedelta\n",
    "import numpy as np\n",
    "import seaborn as sns\n",
    "import requests\n",
    "import os\n",
    "import re\n",
    "import time\n",
    "from bs4 import BeautifulSoup  # library to parse HTML documents\n",
    "\n",
    "import plotly.graph_objects as go\n",
    "import matplotlib.pyplot as plt\n",
    "import matplotlib.ticker as mtick\n",
    "import matplotlib.patches as mpatches\n",
    "import matplotlib.dates as mdates\n",
    "import matplotlib.lines as mlines\n",
    "from matplotlib.dates import DateFormatter, DayLocator\n",
    "%matplotlib inline"
   ]
  },
  {
   "cell_type": "code",
   "execution_count": 456,
   "metadata": {
    "id": "muHphnaO1IGF",
    "ExecuteTime": {
     "end_time": "2023-10-09T07:53:05.923491Z",
     "start_time": "2023-10-09T07:53:05.512789Z"
    }
   },
   "outputs": [],
   "source": [
    "try:\n",
    "    import yfinance as yf\n",
    "except:\n",
    "    !pip install yfinance\n",
    "    import yfinance as yf"
   ]
  },
  {
   "cell_type": "code",
   "execution_count": 457,
   "metadata": {
    "id": "qGpi5SUdWa79",
    "ExecuteTime": {
     "end_time": "2023-10-09T07:53:06.347647Z",
     "start_time": "2023-10-09T07:53:05.517578Z"
    }
   },
   "outputs": [],
   "source": [
    "try:\n",
    "    import cvxpy as cp\n",
    "except:\n",
    "    !pip install cvxpy\n",
    "    import cvxpy as cp"
   ]
  },
  {
   "cell_type": "markdown",
   "metadata": {
    "id": "NXqZnj3U1IGJ"
   },
   "source": [
    "## ChatGPT API for stock picking (you can use ChatGPT user interface instead)"
   ]
  },
  {
   "cell_type": "markdown",
   "metadata": {
    "id": "wZoEwnOoXMTl"
   },
   "source": [
    "### Importing relevant libraries needed for GPT API and set parameters"
   ]
  },
  {
   "cell_type": "code",
   "execution_count": 458,
   "metadata": {
    "colab": {
     "base_uri": "https://localhost:8080/"
    },
    "id": "9_h48Mhk1IGK",
    "outputId": "f8b5e225-26b3-492d-cfc4-fc47d360f987",
    "ExecuteTime": {
     "end_time": "2023-10-09T07:53:06.347887Z",
     "start_time": "2023-10-09T07:53:05.526696Z"
    }
   },
   "outputs": [],
   "source": [
    "try:\n",
    "    import openai\n",
    "except:\n",
    "    !pip install openai\n",
    "    import openai"
   ]
  },
  {
   "cell_type": "code",
   "execution_count": 459,
   "metadata": {
    "id": "m9caqVXm1IGL",
    "ExecuteTime": {
     "end_time": "2023-10-09T07:53:06.348117Z",
     "start_time": "2023-10-09T07:53:05.532758Z"
    }
   },
   "outputs": [],
   "source": [
    "## API Key\n",
    "API_KEY = \"\"\n",
    "\n",
    "os.environ['OPENAI_API_KEY'] = API_KEY\n",
    "openai.api_key = os.getenv(\"OPENAI_API_KEY\")"
   ]
  },
  {
   "cell_type": "code",
   "execution_count": 460,
   "metadata": {
    "id": "GwulR-zT1IGM",
    "ExecuteTime": {
     "end_time": "2023-10-09T07:53:06.348260Z",
     "start_time": "2023-10-09T07:53:05.537984Z"
    }
   },
   "outputs": [],
   "source": [
    "## OpenAI API parameters\n",
    "model = \"gpt-3.5-turbo\"  # 4K tokens\n",
    "# model = \"gpt-3.5-turbo-16k\"\n",
    "max_tokens = 1024\n",
    "n = 1\n",
    "stop = None\n",
    "temperature = 0.5"
   ]
  },
  {
   "cell_type": "markdown",
   "metadata": {
    "id": "sViR0mUh1IGN"
   },
   "source": [
    "### ChatGPT prompts to extract stock tickers from S&P500 market index and obtain GPT asset weights"
   ]
  },
  {
   "cell_type": "markdown",
   "metadata": {
    "id": "c4eepjuK1IGN"
   },
   "source": [
    "Number of stocks in trading universe"
   ]
  },
  {
   "cell_type": "code",
   "execution_count": 461,
   "metadata": {
    "id": "Z_jOXeOJ1IGO",
    "ExecuteTime": {
     "end_time": "2023-10-09T07:53:07.054877Z",
     "start_time": "2023-10-09T07:53:05.553389Z"
    }
   },
   "outputs": [],
   "source": [
    "Nstocks = 20"
   ]
  },
  {
   "cell_type": "code",
   "execution_count": 462,
   "outputs": [],
   "source": [
    "prompt1 = \"Using a range of investing principles taken from leading funds, create a theoretical fund comprising of atleast \"+str(Nstocks)+\" stocks (mention their tickers) from the S&P500 with the goal to outperform the S&P500 index\""
   ],
   "metadata": {
    "collapsed": false,
    "ExecuteTime": {
     "end_time": "2023-10-09T07:53:07.055114Z",
     "start_time": "2023-10-09T07:53:05.558144Z"
    }
   }
  },
  {
   "cell_type": "code",
   "execution_count": 463,
   "metadata": {
    "id": "O9h80LS71IGP",
    "ExecuteTime": {
     "end_time": "2023-10-09T07:53:52.438138Z",
     "start_time": "2023-10-09T07:53:05.564138Z"
    }
   },
   "outputs": [],
   "source": [
    "# Call OpenAI API for the first prompt\n",
    "response1 = openai.ChatCompletion.create(\n",
    "    model=model,\n",
    "    messages=[\n",
    "        {\"role\": \"system\", \"content\": \"You are a helpful  assistant.\"},\n",
    "        {\"role\": \"user\", \"content\": prompt1},\n",
    "    ],\n",
    "    max_tokens=max_tokens,\n",
    "    n=n,\n",
    "    stop=stop,\n",
    "    temperature=temperature,\n",
    ")"
   ]
  },
  {
   "cell_type": "code",
   "execution_count": 464,
   "metadata": {
    "colab": {
     "base_uri": "https://localhost:8080/"
    },
    "id": "TCAcHNtt1IGQ",
    "outputId": "53f0f85c-c997-4a51-84d1-8dd41f184715",
    "ExecuteTime": {
     "end_time": "2023-10-09T07:53:52.449298Z",
     "start_time": "2023-10-09T07:53:52.439506Z"
    }
   },
   "outputs": [
    {
     "name": "stdout",
     "output_type": "stream",
     "text": [
      "To create a theoretical fund with the goal of outperforming the S&P 500 index, I will consider a range of investing principles followed by leading funds. Please note that this is a hypothetical exercise and not investment advice. Here is a selection of 20 stocks from the S&P 500, along with their tickers:\n",
      "\n",
      "1. Apple Inc. (AAPL)\n",
      "2. Microsoft Corporation (MSFT)\n",
      "3. Amazon.com Inc. (AMZN)\n",
      "4. Alphabet Inc. (GOOGL)\n",
      "5. Facebook, Inc. (FB)\n",
      "6. Johnson & Johnson (JNJ)\n",
      "7. Visa Inc. (V)\n",
      "8. JPMorgan Chase & Co. (JPM)\n",
      "9. Procter & Gamble Company (PG)\n",
      "10. Walmart Inc. (WMT)\n",
      "11. UnitedHealth Group Incorporated (UNH)\n",
      "12. Mastercard Incorporated (MA)\n",
      "13. The Walt Disney Company (DIS)\n",
      "14. Home Depot, Inc. (HD)\n",
      "15. Intel Corporation (INTC)\n",
      "16. Verizon Communications Inc. (VZ)\n",
      "17. Coca-Cola Company (KO)\n",
      "18. PepsiCo, Inc. (PEP)\n",
      "19. Adobe Inc. (ADBE)\n",
      "20. NVIDIA Corporation (NVDA)\n",
      "\n",
      "These stocks have been selected based on factors such as their market capitalization, historical performance, growth potential, and the investment strategies followed by leading funds. However, it is important to conduct thorough research and consider your own risk tolerance and investment goals before making any investment decisions.\n"
     ]
    }
   ],
   "source": [
    "coutput1 = response1['choices'][0]['message']['content']\n",
    "print(coutput1)"
   ]
  },
  {
   "cell_type": "code",
   "execution_count": 465,
   "metadata": {
    "colab": {
     "base_uri": "https://localhost:8080/"
    },
    "id": "UcMPHCcP1IGR",
    "outputId": "687d2ca9-ab4b-41eb-b35b-4362401f71e4",
    "ExecuteTime": {
     "end_time": "2023-10-09T07:53:52.480776Z",
     "start_time": "2023-10-09T07:53:52.447532Z"
    }
   },
   "outputs": [
    {
     "name": "stdout",
     "output_type": "stream",
     "text": [
      "Extract only the ticker symbols of the stocks comprising the fund from the previous response:- \"To create a theoretical fund with the goal of outperforming the S&P 500 index, I will consider a range of investing principles followed by leading funds. Please note that this is a hypothetical exercise and not investment advice. Here is a selection of 20 stocks from the S&P 500, along with their tickers:\n",
      "\n",
      "1. Apple Inc. (AAPL)\n",
      "2. Microsoft Corporation (MSFT)\n",
      "3. Amazon.com Inc. (AMZN)\n",
      "4. Alphabet Inc. (GOOGL)\n",
      "5. Facebook, Inc. (FB)\n",
      "6. Johnson & Johnson (JNJ)\n",
      "7. Visa Inc. (V)\n",
      "8. JPMorgan Chase & Co. (JPM)\n",
      "9. Procter & Gamble Company (PG)\n",
      "10. Walmart Inc. (WMT)\n",
      "11. UnitedHealth Group Incorporated (UNH)\n",
      "12. Mastercard Incorporated (MA)\n",
      "13. The Walt Disney Company (DIS)\n",
      "14. Home Depot, Inc. (HD)\n",
      "15. Intel Corporation (INTC)\n",
      "16. Verizon Communications Inc. (VZ)\n",
      "17. Coca-Cola Company (KO)\n",
      "18. PepsiCo, Inc. (PEP)\n",
      "19. Adobe Inc. (ADBE)\n",
      "20. NVIDIA Corporation (NVDA)\n",
      "\n",
      "These stocks have been selected based on factors such as their market capitalization, historical performance, growth potential, and the investment strategies followed by leading funds. However, it is important to conduct thorough research and consider your own risk tolerance and investment goals before making any investment decisions.\". In your response to this prompt, list only the ticker symbols separated by spaces.\n"
     ]
    }
   ],
   "source": [
    "prompt2 = 'Extract only the ticker symbols of the stocks comprising the fund from the previous response:- \"{input}\". In your response to this prompt, list only the ticker symbols separated by spaces.'.format(\n",
    "    input=coutput1)\n",
    "print(prompt2)"
   ]
  },
  {
   "cell_type": "code",
   "execution_count": 466,
   "metadata": {
    "id": "SvVxPjHG1IGS",
    "ExecuteTime": {
     "end_time": "2023-10-09T07:54:00.319980Z",
     "start_time": "2023-10-09T07:53:52.451508Z"
    }
   },
   "outputs": [],
   "source": [
    "# Call OpenAI API for the second prompt\n",
    "response2 = openai.ChatCompletion.create(\n",
    "    model=model,\n",
    "    messages=[\n",
    "        {\"role\": \"system\", \"content\": \"You are a helpful  assistant.\"},\n",
    "        {\"role\": \"user\", \"content\": prompt2},\n",
    "    ],\n",
    "    max_tokens=max_tokens,\n",
    "    n=n,\n",
    "    stop=stop,\n",
    "    temperature=temperature,\n",
    ")"
   ]
  },
  {
   "cell_type": "code",
   "execution_count": 467,
   "metadata": {
    "colab": {
     "base_uri": "https://localhost:8080/"
    },
    "id": "FzM_oRx01IGS",
    "outputId": "5707c9cb-3d58-43f0-e576-0f89c2d30ea9",
    "ExecuteTime": {
     "end_time": "2023-10-09T07:54:00.331510Z",
     "start_time": "2023-10-09T07:54:00.320856Z"
    }
   },
   "outputs": [
    {
     "name": "stdout",
     "output_type": "stream",
     "text": [
      "AAPL MSFT AMZN GOOGL FB JNJ V JPM PG WMT UNH MA DIS HD INTC VZ KO PEP ADBE NVDA\n"
     ]
    }
   ],
   "source": [
    "coutput2 = response2['choices'][0]['message']['content']\n",
    "print(coutput2)"
   ]
  },
  {
   "cell_type": "code",
   "execution_count": 468,
   "metadata": {
    "colab": {
     "base_uri": "https://localhost:8080/"
    },
    "id": "jnItWbl61IGT",
    "outputId": "df270e82-7692-42a8-b483-424e6d1f760f",
    "ExecuteTime": {
     "end_time": "2023-10-09T07:54:00.348301Z",
     "start_time": "2023-10-09T07:54:00.327532Z"
    }
   },
   "outputs": [
    {
     "name": "stdout",
     "output_type": "stream",
     "text": [
      "['AAPL', 'MSFT', 'AMZN', 'GOOGL', 'META', 'JNJ', 'V', 'JPM', 'PG', 'WMT', 'UNH', 'MA', 'DIS', 'HD', 'INTC', 'VZ', 'KO', 'PEP', 'ADBE', 'NVDA']\n"
     ]
    }
   ],
   "source": [
    "# Get stock tickers as a list\n",
    "stock_tickers = coutput2.split()\n",
    "\n",
    "# Replace \".\" with \"-\"\n",
    "stock_tickers = [ticker.replace(\".\", \"-\") for ticker in stock_tickers]\n",
    "\n",
    "# Replace \"FB\" with \"META\"\n",
    "stock_tickers = [\"META\" if ticker == \"FB\" else ticker for ticker in stock_tickers]\n",
    "\n",
    "# Print stock tickers as Python list\n",
    "print(stock_tickers)"
   ]
  },
  {
   "cell_type": "code",
   "execution_count": 469,
   "metadata": {
    "colab": {
     "base_uri": "https://localhost:8080/"
    },
    "id": "iU1OqBFU1IGU",
    "outputId": "2a60d0bf-f42b-4944-c15d-66fea6c0f6f9",
    "ExecuteTime": {
     "end_time": "2023-10-09T07:54:00.372862Z",
     "start_time": "2023-10-09T07:54:00.332877Z"
    }
   },
   "outputs": [
    {
     "name": "stdout",
     "output_type": "stream",
     "text": [
      "Assume you're designing a theoretical model portfolio from these S&P500 stocks: ['AAPL', 'MSFT', 'AMZN', 'GOOGL', 'META', 'JNJ', 'V', 'JPM', 'PG', 'WMT', 'UNH', 'MA', 'DIS', 'HD', 'INTC', 'VZ', 'KO', 'PEP', 'ADBE', 'NVDA']. Provide a hypothetical example of how you might distribute the weightage of these stocks (normalized, i.e., weights should add up to 1.00) in the portfolio to potentially outperform the S&P500 index. Also mention the underlying strategy or logic which you used to assign these weights.\n"
     ]
    }
   ],
   "source": [
    "prompt3 = \"Assume you're designing a theoretical model portfolio from these S&P500 stocks: {input}. Provide a hypothetical example of how you might distribute the weightage of these stocks (normalized, i.e., weights should add up to 1.00) in the portfolio to potentially outperform the S&P500 index. Also mention the underlying strategy or logic which you used to assign these weights.\".format(\n",
    "    input=stock_tickers)\n",
    "print(prompt3)"
   ]
  },
  {
   "cell_type": "code",
   "execution_count": 470,
   "metadata": {
    "id": "2nn8oMMK1IGV",
    "ExecuteTime": {
     "end_time": "2023-10-09T07:54:59.695925Z",
     "start_time": "2023-10-09T07:54:00.337923Z"
    }
   },
   "outputs": [],
   "source": [
    "# Call OpenAI API for the third prompt\n",
    "response3 = openai.ChatCompletion.create(\n",
    "    model=model,\n",
    "    messages=[\n",
    "        {\"role\": \"system\",\n",
    "         \"content\": \"You are a helpful assistant. Your task is to create a hypothetical allocation of weights to the stocks in a theoretical investment fund.\"},\n",
    "        {\"role\": \"user\", \"content\": prompt3},\n",
    "    ],\n",
    "    max_tokens=max_tokens,\n",
    "    n=n,\n",
    "    stop=stop,\n",
    "    temperature=temperature,\n",
    ")"
   ]
  },
  {
   "cell_type": "code",
   "execution_count": 471,
   "metadata": {
    "colab": {
     "base_uri": "https://localhost:8080/"
    },
    "id": "MwZXqWYS1IGW",
    "outputId": "895ac450-09e7-4a6a-cb10-5a294dd46bcc",
    "ExecuteTime": {
     "end_time": "2023-10-09T07:54:59.746317Z",
     "start_time": "2023-10-09T07:54:59.697889Z"
    }
   },
   "outputs": [
    {
     "name": "stdout",
     "output_type": "stream",
     "text": [
      "To create a hypothetical allocation of weights for the stocks in this theoretical investment fund, I will consider a strategy based on diversification and the market capitalization of each stock. The goal is to outperform the S&P500 index while maintaining a balanced and diversified portfolio.\n",
      "\n",
      "Here is a hypothetical allocation of weights for the stocks:\n",
      "\n",
      "- AAPL: 0.15\n",
      "- MSFT: 0.12\n",
      "- AMZN: 0.10\n",
      "- GOOGL: 0.08\n",
      "- META: 0.07\n",
      "- JNJ: 0.06\n",
      "- V: 0.05\n",
      "- JPM: 0.05\n",
      "- PG: 0.04\n",
      "- WMT: 0.04\n",
      "- UNH: 0.03\n",
      "- MA: 0.03\n",
      "- DIS: 0.03\n",
      "- HD: 0.03\n",
      "- INTC: 0.02\n",
      "- VZ: 0.02\n",
      "- KO: 0.02\n",
      "- PEP: 0.02\n",
      "- ADBE: 0.01\n",
      "- NVDA: 0.01\n",
      "\n",
      "The underlying strategy for assigning these weights is as follows:\n",
      "\n",
      "1. Market Capitalization: The weightage of each stock is determined based on its market capitalization. Larger companies with higher market capitalizations are given higher weights to reflect their significance in the market.\n",
      "\n",
      "2. Diversification: The weights are distributed across different sectors and industries to ensure diversification. This helps to reduce the risk associated with concentration in a particular sector or industry.\n",
      "\n",
      "3. Performance and Growth Potential: Stocks with strong historical performance and growth potential are given slightly higher weights. This is based on the assumption that these stocks have the potential to outperform the market in the future.\n",
      "\n",
      "It's important to note that this allocation is hypothetical and should not be considered as financial advice. It's always recommended to conduct thorough research and consult with a financial advisor before making any investment decisions.\n"
     ]
    }
   ],
   "source": [
    "coutput3 = response3['choices'][0]['message']['content']\n",
    "print(coutput3)"
   ]
  },
  {
   "cell_type": "code",
   "execution_count": 472,
   "metadata": {
    "colab": {
     "base_uri": "https://localhost:8080/"
    },
    "id": "kSlgJgEx1IGW",
    "outputId": "cb3f7078-5d6f-4674-ec9b-bf336d56c499",
    "ExecuteTime": {
     "end_time": "2023-10-09T07:54:59.819976Z",
     "start_time": "2023-10-09T07:54:59.716497Z"
    }
   },
   "outputs": [
    {
     "name": "stdout",
     "output_type": "stream",
     "text": [
      "From the following text, extract tickers of stocks and corresponding stock weights (seperate tickers from weights with the column sign \":\") as a single comma \",\" separated string, with the weights expressed as floats : \"To create a hypothetical allocation of weights for the stocks in this theoretical investment fund, I will consider a strategy based on diversification and the market capitalization of each stock. The goal is to outperform the S&P500 index while maintaining a balanced and diversified portfolio.\n",
      "\n",
      "Here is a hypothetical allocation of weights for the stocks:\n",
      "\n",
      "- AAPL: 0.15\n",
      "- MSFT: 0.12\n",
      "- AMZN: 0.10\n",
      "- GOOGL: 0.08\n",
      "- META: 0.07\n",
      "- JNJ: 0.06\n",
      "- V: 0.05\n",
      "- JPM: 0.05\n",
      "- PG: 0.04\n",
      "- WMT: 0.04\n",
      "- UNH: 0.03\n",
      "- MA: 0.03\n",
      "- DIS: 0.03\n",
      "- HD: 0.03\n",
      "- INTC: 0.02\n",
      "- VZ: 0.02\n",
      "- KO: 0.02\n",
      "- PEP: 0.02\n",
      "- ADBE: 0.01\n",
      "- NVDA: 0.01\n",
      "\n",
      "The underlying strategy for assigning these weights is as follows:\n",
      "\n",
      "1. Market Capitalization: The weightage of each stock is determined based on its market capitalization. Larger companies with higher market capitalizations are given higher weights to reflect their significance in the market.\n",
      "\n",
      "2. Diversification: The weights are distributed across different sectors and industries to ensure diversification. This helps to reduce the risk associated with concentration in a particular sector or industry.\n",
      "\n",
      "3. Performance and Growth Potential: Stocks with strong historical performance and growth potential are given slightly higher weights. This is based on the assumption that these stocks have the potential to outperform the market in the future.\n",
      "\n",
      "It's important to note that this allocation is hypothetical and should not be considered as financial advice. It's always recommended to conduct thorough research and consult with a financial advisor before making any investment decisions.\"\n"
     ]
    }
   ],
   "source": [
    "prompt4 = 'From the following text, extract tickers of stocks and corresponding stock weights (seperate tickers from weights with the column sign \":\") as a single comma \",\" separated string, with the weights expressed as floats : \"{input}\"'.format(\n",
    "    input=coutput3)\n",
    "print(prompt4)"
   ]
  },
  {
   "cell_type": "code",
   "execution_count": 473,
   "metadata": {
    "id": "HMHXgM2P1IGX",
    "ExecuteTime": {
     "end_time": "2023-10-09T07:55:20.294624Z",
     "start_time": "2023-10-09T07:54:59.726895Z"
    }
   },
   "outputs": [],
   "source": [
    "# Call OpenAI API for the fourth prompt\n",
    "response4 = openai.ChatCompletion.create(\n",
    "    model=model,\n",
    "    messages=[\n",
    "        {\"role\": \"system\", \"content\": \"You are a helpful assistant.\"},\n",
    "        {\"role\": \"user\", \"content\": prompt4},\n",
    "    ],\n",
    "    max_tokens=max_tokens,\n",
    "    n=n,\n",
    "    stop=stop,\n",
    "    temperature=temperature,\n",
    ")"
   ]
  },
  {
   "cell_type": "code",
   "execution_count": 474,
   "metadata": {
    "colab": {
     "base_uri": "https://localhost:8080/"
    },
    "id": "Npn0PO5W1IGY",
    "outputId": "c5f589da-1fd7-4aea-f9e9-ce660d54cc98",
    "ExecuteTime": {
     "end_time": "2023-10-09T07:55:20.306938Z",
     "start_time": "2023-10-09T07:55:20.302289Z"
    }
   },
   "outputs": [
    {
     "name": "stdout",
     "output_type": "stream",
     "text": [
      "AAPL:0.15,MSFT:0.12,AMZN:0.10,GOOGL:0.08,META:0.07,JNJ:0.06,V:0.05,JPM:0.05,PG:0.04,WMT:0.04,UNH:0.03,MA:0.03,DIS:0.03,HD:0.03,INTC:0.02,VZ:0.02,KO:0.02,PEP:0.02,ADBE:0.01,NVDA:0.01\n"
     ]
    }
   ],
   "source": [
    "coutput4 = response4['choices'][0]['message']['content']\n",
    "print(coutput4)"
   ]
  },
  {
   "cell_type": "code",
   "execution_count": 475,
   "metadata": {
    "id": "rsLwuQnMcquH",
    "ExecuteTime": {
     "end_time": "2023-10-09T07:55:20.348809Z",
     "start_time": "2023-10-09T07:55:20.307577Z"
    }
   },
   "outputs": [],
   "source": [
    "## Copy/paste ChatGPT output here if you decide to use ChatGPT user interface instead of API\n",
    "# coutput4 = \"AAPL:0.15, MSFT:0.15, AMZN:0.10, GOOGL:0.10, META:0.05, V:0.05, MA:0.05, JNJ:0.05, PG:0.05, DIS:0.05, HD:0.05, WMT:0.05, NVDA:0.05, ADBE:0.05, CRM:0.05, PYPL:0.05, JPM:0.02, BAC:0.02, BRK-B:0.02, KO:0.02\""
   ]
  },
  {
   "cell_type": "code",
   "execution_count": 476,
   "outputs": [],
   "source": [
    "prompt1 = \"Using a range of investing principles taken from leading funds, create a theoretical fund comprising of atleast \" + str(\n",
    "    Nstocks) + \" stocks (mention their tickers) from the S&P500 with the goal to outperform the S&P500 index\""
   ],
   "metadata": {
    "collapsed": false,
    "ExecuteTime": {
     "end_time": "2023-10-09T07:55:20.349068Z",
     "start_time": "2023-10-09T07:55:20.312306Z"
    }
   }
  },
  {
   "cell_type": "code",
   "execution_count": 477,
   "metadata": {
    "id": "IYYKKeMS1IGY",
    "ExecuteTime": {
     "end_time": "2023-10-09T07:55:20.351540Z",
     "start_time": "2023-10-09T07:55:20.317566Z"
    }
   },
   "outputs": [],
   "source": [
    "## Convert coutput4 string to Pandas DataFrame\n",
    "\n",
    "# Remove \" from the beginning and end of string\n",
    "coutput4 = coutput4.strip('\"')\n",
    "\n",
    "# Find all occurrences of stock tickers and weights in the output string\n",
    "# Assume stock tickers consist of uppercase letters and possibly a hyphen\n",
    "# Assume weights are decimal numbers possibly represented in scientific notation\n",
    "matches = re.findall(r\"'?([A-Z\\-]+)'?[\\:\\,]\\s*([\\d\\.e\\-]+)\", coutput4)\n",
    "\n",
    "# Convert list of matches to a DataFrame\n",
    "dfGPTweigts = pd.DataFrame(matches, columns=['ticker', 'GPTweights'])\n",
    "\n",
    "# Convert the 'weight' column to numeric type\n",
    "dfGPTweigts['GPTweights'] = pd.to_numeric(dfGPTweigts['GPTweights'])\n",
    "dfGPTweigts.set_index('ticker', inplace=True)"
   ]
  },
  {
   "cell_type": "code",
   "execution_count": 478,
   "metadata": {
    "id": "T7IBsfzs1IGZ",
    "ExecuteTime": {
     "end_time": "2023-10-09T07:55:20.352816Z",
     "start_time": "2023-10-09T07:55:20.325939Z"
    }
   },
   "outputs": [],
   "source": [
    "# Make sure that weights sum up to one\n",
    "dfGPTweigts['GPTweights'] = dfGPTweigts['GPTweights'] / dfGPTweigts['GPTweights'].sum()"
   ]
  },
  {
   "cell_type": "code",
   "execution_count": 479,
   "metadata": {
    "colab": {
     "base_uri": "https://localhost:8080/",
     "height": 708
    },
    "id": "dJop2frN1IGa",
    "outputId": "dffd9bea-0809-49d7-cf85-034a677ac94b",
    "ExecuteTime": {
     "end_time": "2023-10-09T07:55:20.353315Z",
     "start_time": "2023-10-09T07:55:20.332206Z"
    }
   },
   "outputs": [
    {
     "data": {
      "text/plain": "{'GPTweights': {'AAPL': 0.15306122448979592,\n  'MSFT': 0.12244897959183673,\n  'AMZN': 0.10204081632653061,\n  'GOOGL': 0.0816326530612245,\n  'META': 0.07142857142857144,\n  'JNJ': 0.061224489795918366,\n  'V': 0.05102040816326531,\n  'JPM': 0.05102040816326531,\n  'PG': 0.04081632653061225,\n  'WMT': 0.04081632653061225,\n  'UNH': 0.030612244897959183,\n  'MA': 0.030612244897959183,\n  'DIS': 0.030612244897959183,\n  'HD': 0.030612244897959183,\n  'INTC': 0.020408163265306124,\n  'VZ': 0.020408163265306124,\n  'KO': 0.020408163265306124,\n  'PEP': 0.020408163265306124,\n  'ADBE': 0.010204081632653062,\n  'NVDA': 0.010204081632653062}}"
     },
     "execution_count": 479,
     "metadata": {},
     "output_type": "execute_result"
    }
   ],
   "source": [
    "dfGPTweigts.to_dict()\n"
   ]
  },
  {
   "cell_type": "code",
   "execution_count": 480,
   "metadata": {
    "colab": {
     "base_uri": "https://localhost:8080/"
    },
    "id": "5WzXKhbr1IGa",
    "outputId": "3ef2e289-fbfb-4e20-ea48-f6ac3afa2ecf",
    "ExecuteTime": {
     "end_time": "2023-10-09T07:55:20.353627Z",
     "start_time": "2023-10-09T07:55:20.341151Z"
    }
   },
   "outputs": [
    {
     "data": {
      "text/plain": "['AAPL',\n 'MSFT',\n 'AMZN',\n 'GOOGL',\n 'META',\n 'JNJ',\n 'V',\n 'JPM',\n 'PG',\n 'WMT',\n 'UNH',\n 'MA',\n 'DIS',\n 'HD',\n 'INTC',\n 'VZ',\n 'KO',\n 'PEP',\n 'ADBE',\n 'NVDA']"
     },
     "execution_count": 480,
     "metadata": {},
     "output_type": "execute_result"
    }
   ],
   "source": [
    "## Final list of selected tickers\n",
    "tickers_final = dfGPTweigts.index.tolist()\n",
    "tickers_final"
   ]
  },
  {
   "cell_type": "markdown",
   "metadata": {
    "id": "Ycg2ne6UORAL"
   },
   "source": [
    "## Download in-sample and out-of-sample data for 20 stocks and S&P500 from Yahoo Finance"
   ]
  },
  {
   "cell_type": "markdown",
   "metadata": {
    "id": "kt-j-ekb1IGc"
   },
   "source": [
    "### Get a list of all S&P500 stocks"
   ]
  },
  {
   "cell_type": "code",
   "execution_count": 481,
   "metadata": {
    "colab": {
     "base_uri": "https://localhost:8080/"
    },
    "id": "WhJCCs0a1IGc",
    "outputId": "0c2b5be9-d8ed-4cea-9bba-dcb1657f46b5",
    "ExecuteTime": {
     "end_time": "2023-10-09T07:55:20.890097Z",
     "start_time": "2023-10-09T07:55:20.347292Z"
    }
   },
   "outputs": [
    {
     "name": "stdout",
     "output_type": "stream",
     "text": [
      "200\n"
     ]
    }
   ],
   "source": [
    "# Get the response in the form of html\n",
    "wikiurl = \"https://en.wikipedia.org/wiki/List_of_S%26P_500_companies\"\n",
    "response = requests.get(wikiurl)\n",
    "print(response.status_code)"
   ]
  },
  {
   "cell_type": "code",
   "execution_count": 482,
   "metadata": {
    "id": "04VZbEWQ1IGd",
    "ExecuteTime": {
     "end_time": "2023-10-09T07:55:21.880706Z",
     "start_time": "2023-10-09T07:55:20.899749Z"
    }
   },
   "outputs": [],
   "source": [
    "# Parse data from the html into a beautifulsoup object\n",
    "soup = BeautifulSoup(response.text, 'html.parser')\n",
    "indiatable = soup.find_all('table', {'class': \"wikitable\"})"
   ]
  },
  {
   "cell_type": "code",
   "execution_count": 483,
   "metadata": {
    "colab": {
     "base_uri": "https://localhost:8080/"
    },
    "id": "b-qSYB6h1IGe",
    "outputId": "979b8fc3-0b29-49bb-f641-6d7d92bd130f",
    "ExecuteTime": {
     "end_time": "2023-10-09T07:55:22.111240Z",
     "start_time": "2023-10-09T07:55:21.885563Z"
    }
   },
   "outputs": [
    {
     "name": "stdout",
     "output_type": "stream",
     "text": [
      "  Symbol     Security             GICS Sector               GICS Sub-Industry  \\\n",
      "0    MMM           3M             Industrials        Industrial Conglomerates   \n",
      "1    AOS  A. O. Smith             Industrials               Building Products   \n",
      "2    ABT       Abbott             Health Care           Health Care Equipment   \n",
      "3   ABBV       AbbVie             Health Care                 Pharmaceuticals   \n",
      "4    ACN    Accenture  Information Technology  IT Consulting & Other Services   \n",
      "\n",
      "     Headquarters Location  Date added      CIK      Founded  \n",
      "0    Saint Paul, Minnesota  1957-03-04    66740         1902  \n",
      "1     Milwaukee, Wisconsin  2017-07-26    91142         1916  \n",
      "2  North Chicago, Illinois  1957-03-04     1800         1888  \n",
      "3  North Chicago, Illinois  2012-12-31  1551152  2013 (1888)  \n",
      "4          Dublin, Ireland  2011-07-06  1467373         1989  \n"
     ]
    }
   ],
   "source": [
    "df_sp500 = pd.read_html(str(indiatable[0]))\n",
    "# convert list to dataframe\n",
    "df_sp500 = pd.DataFrame(df_sp500[0])\n",
    "print(df_sp500.head())"
   ]
  },
  {
   "cell_type": "code",
   "execution_count": 484,
   "metadata": {
    "colab": {
     "base_uri": "https://localhost:8080/",
     "height": 423
    },
    "id": "f65i6-uQ1IGe",
    "outputId": "22b87dc4-b607-4e13-dec8-52c0fca2294c",
    "ExecuteTime": {
     "end_time": "2023-10-09T07:55:22.134409Z",
     "start_time": "2023-10-09T07:55:22.104956Z"
    }
   },
   "outputs": [
    {
     "data": {
      "text/plain": "    Symbol              Security             GICS Sector  \\\n0      MMM                    3M             Industrials   \n1      AOS           A. O. Smith             Industrials   \n2      ABT                Abbott             Health Care   \n3     ABBV                AbbVie             Health Care   \n4      ACN             Accenture  Information Technology   \n..     ...                   ...                     ...   \n498    YUM           Yum! Brands  Consumer Discretionary   \n499   ZBRA    Zebra Technologies  Information Technology   \n500    ZBH         Zimmer Biomet             Health Care   \n501   ZION  Zions Bancorporation              Financials   \n502    ZTS                Zoetis             Health Care   \n\n                      GICS Sub-Industry    Headquarters Location  Date added  \\\n0              Industrial Conglomerates    Saint Paul, Minnesota  1957-03-04   \n1                     Building Products     Milwaukee, Wisconsin  2017-07-26   \n2                 Health Care Equipment  North Chicago, Illinois  1957-03-04   \n3                       Pharmaceuticals  North Chicago, Illinois  2012-12-31   \n4        IT Consulting & Other Services          Dublin, Ireland  2011-07-06   \n..                                  ...                      ...         ...   \n498                         Restaurants     Louisville, Kentucky  1997-10-06   \n499  Electronic Equipment & Instruments   Lincolnshire, Illinois  2019-12-23   \n500               Health Care Equipment          Warsaw, Indiana  2001-08-07   \n501                      Regional Banks     Salt Lake City, Utah  2001-06-22   \n502                     Pharmaceuticals   Parsippany, New Jersey  2013-06-21   \n\n         CIK      Founded  \n0      66740         1902  \n1      91142         1916  \n2       1800         1888  \n3    1551152  2013 (1888)  \n4    1467373         1989  \n..       ...          ...  \n498  1041061         1997  \n499   877212         1969  \n500  1136869         1927  \n501   109380         1873  \n502  1555280         1952  \n\n[503 rows x 8 columns]",
      "text/html": "<div>\n<style scoped>\n    .dataframe tbody tr th:only-of-type {\n        vertical-align: middle;\n    }\n\n    .dataframe tbody tr th {\n        vertical-align: top;\n    }\n\n    .dataframe thead th {\n        text-align: right;\n    }\n</style>\n<table border=\"1\" class=\"dataframe\">\n  <thead>\n    <tr style=\"text-align: right;\">\n      <th></th>\n      <th>Symbol</th>\n      <th>Security</th>\n      <th>GICS Sector</th>\n      <th>GICS Sub-Industry</th>\n      <th>Headquarters Location</th>\n      <th>Date added</th>\n      <th>CIK</th>\n      <th>Founded</th>\n    </tr>\n  </thead>\n  <tbody>\n    <tr>\n      <th>0</th>\n      <td>MMM</td>\n      <td>3M</td>\n      <td>Industrials</td>\n      <td>Industrial Conglomerates</td>\n      <td>Saint Paul, Minnesota</td>\n      <td>1957-03-04</td>\n      <td>66740</td>\n      <td>1902</td>\n    </tr>\n    <tr>\n      <th>1</th>\n      <td>AOS</td>\n      <td>A. O. Smith</td>\n      <td>Industrials</td>\n      <td>Building Products</td>\n      <td>Milwaukee, Wisconsin</td>\n      <td>2017-07-26</td>\n      <td>91142</td>\n      <td>1916</td>\n    </tr>\n    <tr>\n      <th>2</th>\n      <td>ABT</td>\n      <td>Abbott</td>\n      <td>Health Care</td>\n      <td>Health Care Equipment</td>\n      <td>North Chicago, Illinois</td>\n      <td>1957-03-04</td>\n      <td>1800</td>\n      <td>1888</td>\n    </tr>\n    <tr>\n      <th>3</th>\n      <td>ABBV</td>\n      <td>AbbVie</td>\n      <td>Health Care</td>\n      <td>Pharmaceuticals</td>\n      <td>North Chicago, Illinois</td>\n      <td>2012-12-31</td>\n      <td>1551152</td>\n      <td>2013 (1888)</td>\n    </tr>\n    <tr>\n      <th>4</th>\n      <td>ACN</td>\n      <td>Accenture</td>\n      <td>Information Technology</td>\n      <td>IT Consulting &amp; Other Services</td>\n      <td>Dublin, Ireland</td>\n      <td>2011-07-06</td>\n      <td>1467373</td>\n      <td>1989</td>\n    </tr>\n    <tr>\n      <th>...</th>\n      <td>...</td>\n      <td>...</td>\n      <td>...</td>\n      <td>...</td>\n      <td>...</td>\n      <td>...</td>\n      <td>...</td>\n      <td>...</td>\n    </tr>\n    <tr>\n      <th>498</th>\n      <td>YUM</td>\n      <td>Yum! Brands</td>\n      <td>Consumer Discretionary</td>\n      <td>Restaurants</td>\n      <td>Louisville, Kentucky</td>\n      <td>1997-10-06</td>\n      <td>1041061</td>\n      <td>1997</td>\n    </tr>\n    <tr>\n      <th>499</th>\n      <td>ZBRA</td>\n      <td>Zebra Technologies</td>\n      <td>Information Technology</td>\n      <td>Electronic Equipment &amp; Instruments</td>\n      <td>Lincolnshire, Illinois</td>\n      <td>2019-12-23</td>\n      <td>877212</td>\n      <td>1969</td>\n    </tr>\n    <tr>\n      <th>500</th>\n      <td>ZBH</td>\n      <td>Zimmer Biomet</td>\n      <td>Health Care</td>\n      <td>Health Care Equipment</td>\n      <td>Warsaw, Indiana</td>\n      <td>2001-08-07</td>\n      <td>1136869</td>\n      <td>1927</td>\n    </tr>\n    <tr>\n      <th>501</th>\n      <td>ZION</td>\n      <td>Zions Bancorporation</td>\n      <td>Financials</td>\n      <td>Regional Banks</td>\n      <td>Salt Lake City, Utah</td>\n      <td>2001-06-22</td>\n      <td>109380</td>\n      <td>1873</td>\n    </tr>\n    <tr>\n      <th>502</th>\n      <td>ZTS</td>\n      <td>Zoetis</td>\n      <td>Health Care</td>\n      <td>Pharmaceuticals</td>\n      <td>Parsippany, New Jersey</td>\n      <td>2013-06-21</td>\n      <td>1555280</td>\n      <td>1952</td>\n    </tr>\n  </tbody>\n</table>\n<p>503 rows × 8 columns</p>\n</div>"
     },
     "execution_count": 484,
     "metadata": {},
     "output_type": "execute_result"
    }
   ],
   "source": [
    "df_sp500"
   ]
  },
  {
   "cell_type": "code",
   "execution_count": 485,
   "metadata": {
    "id": "n-DaWWPN1IGf",
    "ExecuteTime": {
     "end_time": "2023-10-09T07:55:22.134653Z",
     "start_time": "2023-10-09T07:55:22.120686Z"
    }
   },
   "outputs": [],
   "source": [
    "tickers_sp500_all = df_sp500[\"Symbol\"].values"
   ]
  },
  {
   "cell_type": "code",
   "execution_count": 486,
   "metadata": {
    "colab": {
     "base_uri": "https://localhost:8080/"
    },
    "id": "vNuAFcXf1IGf",
    "outputId": "458add8f-554f-4e20-9b3b-754ae9bb9557",
    "ExecuteTime": {
     "end_time": "2023-10-09T07:55:22.137660Z",
     "start_time": "2023-10-09T07:55:22.126760Z"
    }
   },
   "outputs": [
    {
     "name": "stdout",
     "output_type": "stream",
     "text": [
      "Total number of stocks included in S&P500 market index: 503\n",
      "['MMM' 'AOS' 'ABT' 'ABBV' 'ACN' 'ATVI' 'ADM' 'ADBE' 'ADP' 'AES' 'AFL' 'A'\n",
      " 'ABNB' 'APD' 'AKAM' 'ALK' 'ALB' 'ARE' 'ALGN' 'ALLE' 'LNT' 'ALL' 'GOOGL'\n",
      " 'GOOG' 'MO' 'AMZN' 'AMCR' 'AMD' 'AEE' 'AAL' 'AEP' 'AXP' 'AIG' 'AMT' 'AWK'\n",
      " 'AMP' 'AME' 'AMGN' 'APH' 'ADI' 'ANSS' 'AON' 'APA' 'AAPL' 'AMAT' 'APTV'\n",
      " 'ACGL' 'ANET' 'AJG' 'AIZ' 'T' 'ATO' 'ADSK' 'AZO' 'AVB' 'AVY' 'AXON' 'BKR'\n",
      " 'BALL' 'BAC' 'BBWI' 'BAX' 'BDX' 'WRB' 'BRK.B' 'BBY' 'BIO' 'TECH' 'BIIB'\n",
      " 'BLK' 'BX' 'BK' 'BA' 'BKNG' 'BWA' 'BXP' 'BSX' 'BMY' 'AVGO' 'BR' 'BRO'\n",
      " 'BF.B' 'BG' 'CHRW' 'CDNS' 'CZR' 'CPT' 'CPB' 'COF' 'CAH' 'KMX' 'CCL'\n",
      " 'CARR' 'CTLT' 'CAT' 'CBOE' 'CBRE' 'CDW' 'CE' 'COR' 'CNC' 'CNP' 'CDAY'\n",
      " 'CF' 'CRL' 'SCHW' 'CHTR' 'CVX' 'CMG' 'CB' 'CHD' 'CI' 'CINF' 'CTAS' 'CSCO'\n",
      " 'C' 'CFG' 'CLX' 'CME' 'CMS' 'KO' 'CTSH' 'CL' 'CMCSA' 'CMA' 'CAG' 'COP'\n",
      " 'ED' 'STZ' 'CEG' 'COO' 'CPRT' 'GLW' 'CTVA' 'CSGP' 'COST' 'CTRA' 'CCI'\n",
      " 'CSX' 'CMI' 'CVS' 'DHI' 'DHR' 'DRI' 'DVA' 'DE' 'DAL' 'XRAY' 'DVN' 'DXCM'\n",
      " 'FANG' 'DLR' 'DFS' 'DIS' 'DG' 'DLTR' 'D' 'DPZ' 'DOV' 'DOW' 'DTE' 'DUK'\n",
      " 'DD' 'EMN' 'ETN' 'EBAY' 'ECL' 'EIX' 'EW' 'EA' 'ELV' 'LLY' 'EMR' 'ENPH'\n",
      " 'ETR' 'EOG' 'EPAM' 'EQT' 'EFX' 'EQIX' 'EQR' 'ESS' 'EL' 'ETSY' 'EG' 'EVRG'\n",
      " 'ES' 'EXC' 'EXPE' 'EXPD' 'EXR' 'XOM' 'FFIV' 'FDS' 'FICO' 'FAST' 'FRT'\n",
      " 'FDX' 'FITB' 'FSLR' 'FE' 'FIS' 'FI' 'FLT' 'FMC' 'F' 'FTNT' 'FTV' 'FOXA'\n",
      " 'FOX' 'BEN' 'FCX' 'GRMN' 'IT' 'GEHC' 'GEN' 'GNRC' 'GD' 'GE' 'GIS' 'GM'\n",
      " 'GPC' 'GILD' 'GL' 'GPN' 'GS' 'HAL' 'HIG' 'HAS' 'HCA' 'PEAK' 'HSIC' 'HSY'\n",
      " 'HES' 'HPE' 'HLT' 'HOLX' 'HD' 'HON' 'HRL' 'HST' 'HWM' 'HPQ' 'HUM' 'HBAN'\n",
      " 'HII' 'IBM' 'IEX' 'IDXX' 'ITW' 'ILMN' 'INCY' 'IR' 'PODD' 'INTC' 'ICE'\n",
      " 'IFF' 'IP' 'IPG' 'INTU' 'ISRG' 'IVZ' 'INVH' 'IQV' 'IRM' 'JBHT' 'JKHY' 'J'\n",
      " 'JNJ' 'JCI' 'JPM' 'JNPR' 'K' 'KVUE' 'KDP' 'KEY' 'KEYS' 'KMB' 'KIM' 'KMI'\n",
      " 'KLAC' 'KHC' 'KR' 'LHX' 'LH' 'LRCX' 'LW' 'LVS' 'LDOS' 'LEN' 'LIN' 'LYV'\n",
      " 'LKQ' 'LMT' 'L' 'LOW' 'LYB' 'MTB' 'MRO' 'MPC' 'MKTX' 'MAR' 'MMC' 'MLM'\n",
      " 'MAS' 'MA' 'MTCH' 'MKC' 'MCD' 'MCK' 'MDT' 'MRK' 'META' 'MET' 'MTD' 'MGM'\n",
      " 'MCHP' 'MU' 'MSFT' 'MAA' 'MRNA' 'MHK' 'MOH' 'TAP' 'MDLZ' 'MPWR' 'MNST'\n",
      " 'MCO' 'MS' 'MOS' 'MSI' 'MSCI' 'NDAQ' 'NTAP' 'NFLX' 'NEM' 'NWSA' 'NWS'\n",
      " 'NEE' 'NKE' 'NI' 'NDSN' 'NSC' 'NTRS' 'NOC' 'NCLH' 'NRG' 'NUE' 'NVDA'\n",
      " 'NVR' 'NXPI' 'ORLY' 'OXY' 'ODFL' 'OMC' 'ON' 'OKE' 'ORCL' 'OGN' 'OTIS'\n",
      " 'PCAR' 'PKG' 'PANW' 'PARA' 'PH' 'PAYX' 'PAYC' 'PYPL' 'PNR' 'PEP' 'PFE'\n",
      " 'PCG' 'PM' 'PSX' 'PNW' 'PXD' 'PNC' 'POOL' 'PPG' 'PPL' 'PFG' 'PG' 'PGR'\n",
      " 'PLD' 'PRU' 'PEG' 'PTC' 'PSA' 'PHM' 'QRVO' 'PWR' 'QCOM' 'DGX' 'RL' 'RJF'\n",
      " 'RTX' 'O' 'REG' 'REGN' 'RF' 'RSG' 'RMD' 'RVTY' 'RHI' 'ROK' 'ROL' 'ROP'\n",
      " 'ROST' 'RCL' 'SPGI' 'CRM' 'SBAC' 'SLB' 'STX' 'SEE' 'SRE' 'NOW' 'SHW'\n",
      " 'SPG' 'SWKS' 'SJM' 'SNA' 'SEDG' 'SO' 'LUV' 'SWK' 'SBUX' 'STT' 'STLD'\n",
      " 'STE' 'SYK' 'SYF' 'SNPS' 'SYY' 'TMUS' 'TROW' 'TTWO' 'TPR' 'TRGP' 'TGT'\n",
      " 'TEL' 'TDY' 'TFX' 'TER' 'TSLA' 'TXN' 'TXT' 'TMO' 'TJX' 'TSCO' 'TT' 'TDG'\n",
      " 'TRV' 'TRMB' 'TFC' 'TYL' 'TSN' 'USB' 'UDR' 'ULTA' 'UNP' 'UAL' 'UPS' 'URI'\n",
      " 'UNH' 'UHS' 'VLO' 'VTR' 'VLTO' 'VRSN' 'VRSK' 'VZ' 'VRTX' 'VFC' 'VTRS'\n",
      " 'VICI' 'V' 'VMC' 'WAB' 'WBA' 'WMT' 'WBD' 'WM' 'WAT' 'WEC' 'WFC' 'WELL'\n",
      " 'WST' 'WDC' 'WRK' 'WY' 'WHR' 'WMB' 'WTW' 'GWW' 'WYNN' 'XEL' 'XYL' 'YUM'\n",
      " 'ZBRA' 'ZBH' 'ZION' 'ZTS']\n"
     ]
    }
   ],
   "source": [
    "## Print tickers of all stocks included in S&P500 market index\n",
    "print(\"Total number of stocks included in S&P500 market index:\", len(tickers_sp500_all))\n",
    "print(tickers_sp500_all)"
   ]
  },
  {
   "cell_type": "markdown",
   "metadata": {
    "id": "G0BMCbdg1IHS"
   },
   "source": [
    "Check if all 20 tickers selected by ChatGPT are in S&P500."
   ]
  },
  {
   "cell_type": "code",
   "execution_count": 487,
   "metadata": {
    "colab": {
     "base_uri": "https://localhost:8080/"
    },
    "id": "ao4gyR1U1IHS",
    "outputId": "26f0c1a9-29da-47c2-b066-787dfd464477",
    "ExecuteTime": {
     "end_time": "2023-10-09T07:55:22.260203Z",
     "start_time": "2023-10-09T07:55:22.134547Z"
    }
   },
   "outputs": [
    {
     "name": "stdout",
     "output_type": "stream",
     "text": [
      "All portfolio tickers in S&P500? True\n"
     ]
    }
   ],
   "source": [
    "print(\"All portfolio tickers in S&P500?\",\n",
    "      set([tick.replace('-', '.') for tick in tickers_final]).issubset(set(tickers_sp500_all)))"
   ]
  },
  {
   "cell_type": "markdown",
   "metadata": {
    "id": "pcHd7MG31IHT"
   },
   "source": [
    "### Define in-sample data (weekly data 5 years prior to April 2023) and out-of-sample data (daily data from April  2023 till 20 Sept 2023)"
   ]
  },
  {
   "cell_type": "code",
   "execution_count": 488,
   "metadata": {
    "id": "tvboRecN1IHT",
    "ExecuteTime": {
     "end_time": "2023-10-09T07:55:22.260615Z",
     "start_time": "2023-10-09T07:55:22.140493Z"
    }
   },
   "outputs": [],
   "source": [
    "## In-sample end date (using 5 years of weekly data prior to end date)\n",
    "insample_enddate = datetime(2023, 3, 31)\n",
    "\n",
    "## Out-of-sample period (daily data from 1 April 2023 to 20 September 2023)\n",
    "outsample_startdate = datetime(2023, 3, 31)\n",
    "outsample_enddate = datetime(2023, 9, 20)"
   ]
  },
  {
   "cell_type": "code",
   "execution_count": 489,
   "metadata": {
    "id": "UeIuu99NIARX",
    "ExecuteTime": {
     "end_time": "2023-10-09T07:55:22.262436Z",
     "start_time": "2023-10-09T07:55:22.146549Z"
    }
   },
   "outputs": [],
   "source": [
    "insample_startdate = insample_enddate - timedelta(weeks=5 * 52)  # five years prior to September 2021"
   ]
  },
  {
   "cell_type": "markdown",
   "metadata": {
    "id": "W5aDIx_JroCs"
   },
   "source": [
    "### Download data for S&P500 market index (in-sample and out-of-sample)"
   ]
  },
  {
   "cell_type": "code",
   "execution_count": 490,
   "metadata": {
    "colab": {
     "base_uri": "https://localhost:8080/"
    },
    "id": "tcdLLd-K1IHV",
    "outputId": "7e2c6acc-3aa2-4b24-a185-5a07d898f1d3",
    "ExecuteTime": {
     "end_time": "2023-10-09T07:55:22.558426Z",
     "start_time": "2023-10-09T07:55:22.155016Z"
    }
   },
   "outputs": [
    {
     "name": "stdout",
     "output_type": "stream",
     "text": [
      "[*********************100%%**********************]  1 of 1 completed\n",
      "[*********************100%%**********************]  1 of 1 completed\n"
     ]
    }
   ],
   "source": [
    "## Define the S&P500 ticker symbol\n",
    "sp500_ticker = \"^GSPC\"\n",
    "\n",
    "## Getting S&P500 data (in-sample)\n",
    "sp500index_ins = yf.download(sp500_ticker, start=insample_startdate, end=insample_enddate, interval='1wk')\n",
    "sp500index_ins['SP_Return'] = sp500index_ins['Adj Close'].pct_change()\n",
    "\n",
    "## Drop NA values in S&P500 return data\n",
    "sp500index_ins.dropna(subset=['SP_Return'], inplace=True)  # 1256 X 7 (removed first row with NaN in return)\n",
    "\n",
    "## Getting S&P500 data (out-of-sample)\n",
    "sp500index_outs = yf.download(sp500_ticker, start=outsample_startdate, end=outsample_enddate)\n",
    "sp500index_outs['SP_Return'] = sp500index_outs['Adj Close'].pct_change()\n",
    "\n",
    "## Drop NA values in S&P500 return data\n",
    "sp500index_outs.dropna(subset=['SP_Return'], inplace=True)  # removed first row with NaN in return"
   ]
  },
  {
   "cell_type": "code",
   "execution_count": 491,
   "metadata": {
    "colab": {
     "base_uri": "https://localhost:8080/",
     "height": 455
    },
    "id": "7cLkXCUV1IHV",
    "outputId": "9f2549c3-4db4-442a-edf3-6340d21a3fff",
    "ExecuteTime": {
     "end_time": "2023-10-09T07:55:22.599094Z",
     "start_time": "2023-10-09T07:55:22.564409Z"
    }
   },
   "outputs": [
    {
     "data": {
      "text/plain": "                   Open         High          Low        Close    Adj Close  \\\nDate                                                                          \n2018-04-09  2617.179932  2680.260010  2610.790039  2656.300049  2656.300049   \n2018-04-16  2670.100098  2717.489990  2660.610107  2670.139893  2670.139893   \n2018-04-23  2675.399902  2683.550049  2612.669922  2669.909912  2669.909912   \n2018-04-30  2682.510010  2682.870117  2594.620117  2663.419922  2663.419922   \n2018-05-07  2680.340088  2732.860107  2655.199951  2727.719971  2727.719971   \n...                 ...          ...          ...          ...          ...   \n2023-02-27  3992.360107  4048.290039  3928.159912  4045.639893  4045.639893   \n2023-03-06  4055.149902  4078.489990  3846.320068  3861.590088  3861.590088   \n2023-03-13  3835.120117  3964.459961  3808.860107  3916.639893  3916.639893   \n2023-03-20  3917.469971  4039.489990  3909.159912  3970.989990  3970.989990   \n2023-03-27  3982.929932  4110.750000  3951.530029  4109.310059  4109.310059   \n\n                 Volume  SP_Return  \nDate                                \n2018-04-09  15743660000   0.019900  \n2018-04-16  16522340000   0.005210  \n2018-04-23  17235520000  -0.000086  \n2018-04-30  18562140000  -0.002431  \n2018-05-07  17181050000   0.024142  \n...                 ...        ...  \n2023-02-27  21459460000   0.019043  \n2023-03-06  21422390000  -0.045493  \n2023-03-13  33867970000   0.014256  \n2023-03-20  24375960000   0.013877  \n2023-03-27  20849370000   0.034833  \n\n[260 rows x 7 columns]",
      "text/html": "<div>\n<style scoped>\n    .dataframe tbody tr th:only-of-type {\n        vertical-align: middle;\n    }\n\n    .dataframe tbody tr th {\n        vertical-align: top;\n    }\n\n    .dataframe thead th {\n        text-align: right;\n    }\n</style>\n<table border=\"1\" class=\"dataframe\">\n  <thead>\n    <tr style=\"text-align: right;\">\n      <th></th>\n      <th>Open</th>\n      <th>High</th>\n      <th>Low</th>\n      <th>Close</th>\n      <th>Adj Close</th>\n      <th>Volume</th>\n      <th>SP_Return</th>\n    </tr>\n    <tr>\n      <th>Date</th>\n      <th></th>\n      <th></th>\n      <th></th>\n      <th></th>\n      <th></th>\n      <th></th>\n      <th></th>\n    </tr>\n  </thead>\n  <tbody>\n    <tr>\n      <th>2018-04-09</th>\n      <td>2617.179932</td>\n      <td>2680.260010</td>\n      <td>2610.790039</td>\n      <td>2656.300049</td>\n      <td>2656.300049</td>\n      <td>15743660000</td>\n      <td>0.019900</td>\n    </tr>\n    <tr>\n      <th>2018-04-16</th>\n      <td>2670.100098</td>\n      <td>2717.489990</td>\n      <td>2660.610107</td>\n      <td>2670.139893</td>\n      <td>2670.139893</td>\n      <td>16522340000</td>\n      <td>0.005210</td>\n    </tr>\n    <tr>\n      <th>2018-04-23</th>\n      <td>2675.399902</td>\n      <td>2683.550049</td>\n      <td>2612.669922</td>\n      <td>2669.909912</td>\n      <td>2669.909912</td>\n      <td>17235520000</td>\n      <td>-0.000086</td>\n    </tr>\n    <tr>\n      <th>2018-04-30</th>\n      <td>2682.510010</td>\n      <td>2682.870117</td>\n      <td>2594.620117</td>\n      <td>2663.419922</td>\n      <td>2663.419922</td>\n      <td>18562140000</td>\n      <td>-0.002431</td>\n    </tr>\n    <tr>\n      <th>2018-05-07</th>\n      <td>2680.340088</td>\n      <td>2732.860107</td>\n      <td>2655.199951</td>\n      <td>2727.719971</td>\n      <td>2727.719971</td>\n      <td>17181050000</td>\n      <td>0.024142</td>\n    </tr>\n    <tr>\n      <th>...</th>\n      <td>...</td>\n      <td>...</td>\n      <td>...</td>\n      <td>...</td>\n      <td>...</td>\n      <td>...</td>\n      <td>...</td>\n    </tr>\n    <tr>\n      <th>2023-02-27</th>\n      <td>3992.360107</td>\n      <td>4048.290039</td>\n      <td>3928.159912</td>\n      <td>4045.639893</td>\n      <td>4045.639893</td>\n      <td>21459460000</td>\n      <td>0.019043</td>\n    </tr>\n    <tr>\n      <th>2023-03-06</th>\n      <td>4055.149902</td>\n      <td>4078.489990</td>\n      <td>3846.320068</td>\n      <td>3861.590088</td>\n      <td>3861.590088</td>\n      <td>21422390000</td>\n      <td>-0.045493</td>\n    </tr>\n    <tr>\n      <th>2023-03-13</th>\n      <td>3835.120117</td>\n      <td>3964.459961</td>\n      <td>3808.860107</td>\n      <td>3916.639893</td>\n      <td>3916.639893</td>\n      <td>33867970000</td>\n      <td>0.014256</td>\n    </tr>\n    <tr>\n      <th>2023-03-20</th>\n      <td>3917.469971</td>\n      <td>4039.489990</td>\n      <td>3909.159912</td>\n      <td>3970.989990</td>\n      <td>3970.989990</td>\n      <td>24375960000</td>\n      <td>0.013877</td>\n    </tr>\n    <tr>\n      <th>2023-03-27</th>\n      <td>3982.929932</td>\n      <td>4110.750000</td>\n      <td>3951.530029</td>\n      <td>4109.310059</td>\n      <td>4109.310059</td>\n      <td>20849370000</td>\n      <td>0.034833</td>\n    </tr>\n  </tbody>\n</table>\n<p>260 rows × 7 columns</p>\n</div>"
     },
     "execution_count": 491,
     "metadata": {},
     "output_type": "execute_result"
    }
   ],
   "source": [
    "sp500index_ins"
   ]
  },
  {
   "cell_type": "code",
   "execution_count": 492,
   "metadata": {
    "colab": {
     "base_uri": "https://localhost:8080/",
     "height": 455
    },
    "id": "fWczEwTj1IHW",
    "outputId": "df7e3633-a041-4b50-c5e7-71f743092993",
    "ExecuteTime": {
     "end_time": "2023-10-09T07:55:22.602735Z",
     "start_time": "2023-10-09T07:55:22.571973Z"
    }
   },
   "outputs": [
    {
     "data": {
      "text/plain": "                   Open         High          Low        Close    Adj Close  \\\nDate                                                                          \n2023-04-03  4102.200195  4127.660156  4098.790039  4124.509766  4124.509766   \n2023-04-04  4128.029785  4133.129883  4086.870117  4100.600098  4100.600098   \n2023-04-05  4094.500000  4099.689941  4072.560059  4090.379883  4090.379883   \n2023-04-06  4081.149902  4107.319824  4069.840088  4105.020020  4105.020020   \n2023-04-10  4085.199951  4109.500000  4072.550049  4109.109863  4109.109863   \n...                 ...          ...          ...          ...          ...   \n2023-09-13  4462.649902  4479.390137  4453.520020  4467.439941  4467.439941   \n2023-09-14  4487.779785  4511.990234  4478.689941  4505.100098  4505.100098   \n2023-09-15  4497.979980  4497.979980  4447.209961  4450.319824  4450.319824   \n2023-09-18  4445.129883  4466.359863  4442.109863  4453.529785  4453.529785   \n2023-09-19  4445.410156  4449.850098  4416.609863  4443.950195  4443.950195   \n\n                Volume  SP_Return  \nDate                               \n2023-04-03  4234700000   0.003699  \n2023-04-04  4227800000  -0.005797  \n2023-04-05  3968020000  -0.002492  \n2023-04-06  3486690000   0.003579  \n2023-04-10  3423650000   0.000996  \n...                ...        ...  \n2023-09-13  3529430000   0.001242  \n2023-09-14  3648720000   0.008430  \n2023-09-15  6932230000  -0.012160  \n2023-09-18  3161230000   0.000721  \n2023-09-19  3614880000  -0.002151  \n\n[117 rows x 7 columns]",
      "text/html": "<div>\n<style scoped>\n    .dataframe tbody tr th:only-of-type {\n        vertical-align: middle;\n    }\n\n    .dataframe tbody tr th {\n        vertical-align: top;\n    }\n\n    .dataframe thead th {\n        text-align: right;\n    }\n</style>\n<table border=\"1\" class=\"dataframe\">\n  <thead>\n    <tr style=\"text-align: right;\">\n      <th></th>\n      <th>Open</th>\n      <th>High</th>\n      <th>Low</th>\n      <th>Close</th>\n      <th>Adj Close</th>\n      <th>Volume</th>\n      <th>SP_Return</th>\n    </tr>\n    <tr>\n      <th>Date</th>\n      <th></th>\n      <th></th>\n      <th></th>\n      <th></th>\n      <th></th>\n      <th></th>\n      <th></th>\n    </tr>\n  </thead>\n  <tbody>\n    <tr>\n      <th>2023-04-03</th>\n      <td>4102.200195</td>\n      <td>4127.660156</td>\n      <td>4098.790039</td>\n      <td>4124.509766</td>\n      <td>4124.509766</td>\n      <td>4234700000</td>\n      <td>0.003699</td>\n    </tr>\n    <tr>\n      <th>2023-04-04</th>\n      <td>4128.029785</td>\n      <td>4133.129883</td>\n      <td>4086.870117</td>\n      <td>4100.600098</td>\n      <td>4100.600098</td>\n      <td>4227800000</td>\n      <td>-0.005797</td>\n    </tr>\n    <tr>\n      <th>2023-04-05</th>\n      <td>4094.500000</td>\n      <td>4099.689941</td>\n      <td>4072.560059</td>\n      <td>4090.379883</td>\n      <td>4090.379883</td>\n      <td>3968020000</td>\n      <td>-0.002492</td>\n    </tr>\n    <tr>\n      <th>2023-04-06</th>\n      <td>4081.149902</td>\n      <td>4107.319824</td>\n      <td>4069.840088</td>\n      <td>4105.020020</td>\n      <td>4105.020020</td>\n      <td>3486690000</td>\n      <td>0.003579</td>\n    </tr>\n    <tr>\n      <th>2023-04-10</th>\n      <td>4085.199951</td>\n      <td>4109.500000</td>\n      <td>4072.550049</td>\n      <td>4109.109863</td>\n      <td>4109.109863</td>\n      <td>3423650000</td>\n      <td>0.000996</td>\n    </tr>\n    <tr>\n      <th>...</th>\n      <td>...</td>\n      <td>...</td>\n      <td>...</td>\n      <td>...</td>\n      <td>...</td>\n      <td>...</td>\n      <td>...</td>\n    </tr>\n    <tr>\n      <th>2023-09-13</th>\n      <td>4462.649902</td>\n      <td>4479.390137</td>\n      <td>4453.520020</td>\n      <td>4467.439941</td>\n      <td>4467.439941</td>\n      <td>3529430000</td>\n      <td>0.001242</td>\n    </tr>\n    <tr>\n      <th>2023-09-14</th>\n      <td>4487.779785</td>\n      <td>4511.990234</td>\n      <td>4478.689941</td>\n      <td>4505.100098</td>\n      <td>4505.100098</td>\n      <td>3648720000</td>\n      <td>0.008430</td>\n    </tr>\n    <tr>\n      <th>2023-09-15</th>\n      <td>4497.979980</td>\n      <td>4497.979980</td>\n      <td>4447.209961</td>\n      <td>4450.319824</td>\n      <td>4450.319824</td>\n      <td>6932230000</td>\n      <td>-0.012160</td>\n    </tr>\n    <tr>\n      <th>2023-09-18</th>\n      <td>4445.129883</td>\n      <td>4466.359863</td>\n      <td>4442.109863</td>\n      <td>4453.529785</td>\n      <td>4453.529785</td>\n      <td>3161230000</td>\n      <td>0.000721</td>\n    </tr>\n    <tr>\n      <th>2023-09-19</th>\n      <td>4445.410156</td>\n      <td>4449.850098</td>\n      <td>4416.609863</td>\n      <td>4443.950195</td>\n      <td>4443.950195</td>\n      <td>3614880000</td>\n      <td>-0.002151</td>\n    </tr>\n  </tbody>\n</table>\n<p>117 rows × 7 columns</p>\n</div>"
     },
     "execution_count": 492,
     "metadata": {},
     "output_type": "execute_result"
    }
   ],
   "source": [
    "sp500index_outs"
   ]
  },
  {
   "cell_type": "markdown",
   "metadata": {
    "id": "XKupkYtO1IHW"
   },
   "source": [
    "### Download data for S&P500 stocks (in-sample and out-of-sample)"
   ]
  },
  {
   "cell_type": "code",
   "execution_count": 493,
   "metadata": {
    "id": "1Xuuh0321IHW",
    "ExecuteTime": {
     "end_time": "2023-10-09T07:55:22.602960Z",
     "start_time": "2023-10-09T07:55:22.588381Z"
    }
   },
   "outputs": [],
   "source": [
    "## Save data to files so that you do not need to redownload it every time\n",
    "insample_data_filename = 'SP500_returns_5y_till_Apr2023_final.csv'\n",
    "outsample_data_filename = 'SP500_returns_since_April2023_final.csv'\n",
    "outsample_prices_filename = 'SP500_prices_since_April2023_final.csv'"
   ]
  },
  {
   "cell_type": "code",
   "execution_count": 494,
   "metadata": {
    "colab": {
     "base_uri": "https://localhost:8080/"
    },
    "id": "z44fN9rH1IHX",
    "outputId": "139f12e2-a1a6-4ef7-d9a6-722f4d40bb07",
    "ExecuteTime": {
     "end_time": "2023-10-09T07:55:27.514158Z",
     "start_time": "2023-10-09T07:55:22.597843Z"
    }
   },
   "outputs": [
    {
     "name": "stdout",
     "output_type": "stream",
     "text": [
      "Retrieving data from Yahoo Finance\n",
      "[*********************100%%**********************]  1 of 1 completed\n",
      "[*********************100%%**********************]  1 of 1 completed\n",
      "[*********************100%%**********************]  1 of 1 completed\n",
      "[*********************100%%**********************]  1 of 1 completed\n",
      "[*********************100%%**********************]  1 of 1 completed\n",
      "[*********************100%%**********************]  1 of 1 completed\n",
      "[*********************100%%**********************]  1 of 1 completed\n",
      "[*********************100%%**********************]  1 of 1 completed\n",
      "[*********************100%%**********************]  1 of 1 completed\n",
      "[*********************100%%**********************]  1 of 1 completed\n",
      "[*********************100%%**********************]  1 of 1 completed\n",
      "[*********************100%%**********************]  1 of 1 completed\n",
      "[*********************100%%**********************]  1 of 1 completed\n",
      "[*********************100%%**********************]  1 of 1 completed\n",
      "[*********************100%%**********************]  1 of 1 completed\n",
      "[*********************100%%**********************]  1 of 1 completed\n",
      "[*********************100%%**********************]  1 of 1 completed\n",
      "[*********************100%%**********************]  1 of 1 completed\n",
      "[*********************100%%**********************]  1 of 1 completed\n",
      "[*********************100%%**********************]  1 of 1 completed\n"
     ]
    }
   ],
   "source": [
    "if os.path.isfile(insample_data_filename):\n",
    "    print(\"Reading data from file\", insample_data_filename)\n",
    "    df_returns = pd.read_csv(insample_data_filename, index_col=0)\n",
    "else:\n",
    "    print(\"Retrieving data from Yahoo Finance\")\n",
    "    # Create an empty dictionary to store returns data\n",
    "    returns = {}\n",
    "\n",
    "    for ticker in tickers_final:\n",
    "        try:\n",
    "            # Replace \".\" with \"-\"\n",
    "            ticker = ticker.replace('.', '-')\n",
    "\n",
    "            # Get the stock data\n",
    "            #df_temp = pdr.get_data_yahoo(ticker, start_date, end_date)\n",
    "            df_temp = yf.download(ticker, start=insample_startdate, end=insample_enddate, interval='1wk')\n",
    "\n",
    "            # Calculate the stock returns\n",
    "            #df_temp['Return'] = df_temp['Close'].pct_change()\n",
    "            df_temp['Return'] = df_temp['Adj Close'].pct_change()\n",
    "\n",
    "            # Removing first row because first return will be Nan\n",
    "            df_temp = df_temp.iloc[1:]\n",
    "\n",
    "            # Drop dates in stock returns not present in S&P 500 data\n",
    "            df_temp = df_temp[df_temp.index.isin(sp500index_ins.index)]\n",
    "\n",
    "            # If not all dates in S&P 500 data are present in stock data, skip this stock\n",
    "            if not sp500index_ins.index.isin(df_temp.index).all():\n",
    "                print(f'Skipping {ticker} due to mismatch in trading dates.')\n",
    "                continue\n",
    "\n",
    "            # If there are still NaN values in stock returns, skip this stock\n",
    "            if df_temp['Return'].isna().any():\n",
    "                print(f'Skipping {ticker} due to missing returns.')\n",
    "                continue\n",
    "\n",
    "            # Store the returns in the dictionary\n",
    "            returns[ticker] = df_temp['Return']\n",
    "\n",
    "        except Exception as e:\n",
    "            print(f'Failed to download {ticker} due to error: {e}')\n",
    "\n",
    "    # Create a dataframe from the dictionary\n",
    "    df_returns = pd.DataFrame(returns)\n",
    "    df_returns.to_csv(insample_data_filename)"
   ]
  },
  {
   "cell_type": "code",
   "execution_count": 495,
   "metadata": {
    "colab": {
     "base_uri": "https://localhost:8080/",
     "height": 648
    },
    "id": "VkY9Ji_x1IHX",
    "outputId": "11631798-7e2c-458e-e3e5-31004e590bd1",
    "ExecuteTime": {
     "end_time": "2023-10-09T07:55:27.515252Z",
     "start_time": "2023-10-09T07:55:26.988849Z"
    }
   },
   "outputs": [
    {
     "data": {
      "text/plain": "                AAPL      MSFT      AMZN     GOOGL      META       JNJ  \\\nDate                                                                     \n2018-04-09  0.037712  0.031586  0.018189  0.025833  0.046565  0.019672   \n2018-04-16 -0.051565  0.020627  0.067585  0.039844  0.010698 -0.030317   \n2018-04-23 -0.020516  0.008631  0.029545 -0.042578  0.043962  0.012711   \n2018-04-30  0.132516 -0.006888  0.005297  0.018954  0.017397 -0.031808   \n2018-05-07  0.025893  0.026692  0.013890  0.049838  0.058774  0.024559   \n...              ...       ...       ...       ...       ...       ...   \n2023-02-27  0.029446  0.024356  0.014973  0.050712  0.087212 -0.012502   \n2023-03-06 -0.016752 -0.026245 -0.043941 -0.032248 -0.030985 -0.015647   \n2023-03-13  0.043771  0.124060  0.090598  0.121262  0.089689  0.005079   \n2023-03-20  0.033871  0.004080 -0.008287  0.037591  0.053167  0.001772   \n2023-03-27  0.029017  0.027551  0.052583 -0.016218  0.028785  0.015395   \n\n                   V       JPM        PG       WMT       UNH        MA  \\\nDate                                                                     \n2018-04-09  0.025913  0.016219 -0.000765 -0.007729  0.001429  0.028392   \n2018-04-16  0.028571  0.010608 -0.058313  0.011160  0.048065  0.016124   \n2018-04-23  0.014573 -0.018570 -0.004286  0.003564  0.021781 -0.006438   \n2018-04-30  0.017062 -0.008867 -0.005219  0.002749 -0.017820  0.069512   \n2018-05-07  0.028558  0.050078  0.012978 -0.047412  0.010089  0.027528   \n...              ...       ...       ...       ...       ...       ...   \n2023-02-27  0.019221  0.019371  0.012136 -0.012634 -0.011913  0.023731   \n2023-03-06 -0.034098 -0.069679 -0.026676 -0.026303 -0.038093 -0.039806   \n2023-03-13  0.005783 -0.058661  0.041840  0.017741  0.023553  0.007346   \n2023-03-20  0.016790 -0.007154  0.026517  0.021386  0.013823  0.005634   \n2023-03-27  0.019996  0.043231  0.013427  0.039845 -0.007143  0.033501   \n\n                 DIS        HD      INTC        VZ        KO       PEP  \\\nDate                                                                     \n2018-04-09  0.000000 -0.009458  0.062923  0.003791  0.013433 -0.000366   \n2018-04-16 -0.001096  0.024363 -0.006363  0.017682 -0.017300 -0.062054   \n2018-04-23 -0.010076  0.053387  0.023287  0.076618 -0.009831 -0.007514   \n2018-04-30  0.019349 -0.007669  0.000948 -0.065542 -0.021935 -0.026743   \n2018-05-07  0.009095  0.028536  0.041787  0.008923 -0.005193 -0.015759   \n...              ...       ...       ...       ...       ...       ...   \n2023-02-27  0.008375  0.006034  0.050119 -0.012390 -0.006685 -0.015970   \n2023-03-06 -0.074847 -0.040677  0.031061 -0.041296 -0.003869  0.000246   \n2023-03-13 -0.003954  0.014559  0.095151  0.002999  0.013680  0.018020   \n2023-03-20  0.009442 -0.018621 -0.015096  0.023648  0.022445  0.022612   \n2023-03-27  0.064307  0.042753  0.112738  0.032661  0.018555  0.017924   \n\n                ADBE      NVDA  \nDate                            \n2018-04-09  0.024930  0.080513  \n2018-04-16  0.005266 -0.012052  \n2018-04-23 -0.014829 -0.010406  \n2018-04-30  0.029788  0.056245  \n2018-05-07  0.058510  0.064712  \n...              ...       ...  \n2023-02-27  0.073314  0.025938  \n2023-03-06 -0.042844 -0.038719  \n2023-03-13  0.087580  0.120373  \n2023-03-20  0.046965  0.040972  \n2023-03-27  0.027763  0.037268  \n\n[260 rows x 20 columns]",
      "text/html": "<div>\n<style scoped>\n    .dataframe tbody tr th:only-of-type {\n        vertical-align: middle;\n    }\n\n    .dataframe tbody tr th {\n        vertical-align: top;\n    }\n\n    .dataframe thead th {\n        text-align: right;\n    }\n</style>\n<table border=\"1\" class=\"dataframe\">\n  <thead>\n    <tr style=\"text-align: right;\">\n      <th></th>\n      <th>AAPL</th>\n      <th>MSFT</th>\n      <th>AMZN</th>\n      <th>GOOGL</th>\n      <th>META</th>\n      <th>JNJ</th>\n      <th>V</th>\n      <th>JPM</th>\n      <th>PG</th>\n      <th>WMT</th>\n      <th>UNH</th>\n      <th>MA</th>\n      <th>DIS</th>\n      <th>HD</th>\n      <th>INTC</th>\n      <th>VZ</th>\n      <th>KO</th>\n      <th>PEP</th>\n      <th>ADBE</th>\n      <th>NVDA</th>\n    </tr>\n    <tr>\n      <th>Date</th>\n      <th></th>\n      <th></th>\n      <th></th>\n      <th></th>\n      <th></th>\n      <th></th>\n      <th></th>\n      <th></th>\n      <th></th>\n      <th></th>\n      <th></th>\n      <th></th>\n      <th></th>\n      <th></th>\n      <th></th>\n      <th></th>\n      <th></th>\n      <th></th>\n      <th></th>\n      <th></th>\n    </tr>\n  </thead>\n  <tbody>\n    <tr>\n      <th>2018-04-09</th>\n      <td>0.037712</td>\n      <td>0.031586</td>\n      <td>0.018189</td>\n      <td>0.025833</td>\n      <td>0.046565</td>\n      <td>0.019672</td>\n      <td>0.025913</td>\n      <td>0.016219</td>\n      <td>-0.000765</td>\n      <td>-0.007729</td>\n      <td>0.001429</td>\n      <td>0.028392</td>\n      <td>0.000000</td>\n      <td>-0.009458</td>\n      <td>0.062923</td>\n      <td>0.003791</td>\n      <td>0.013433</td>\n      <td>-0.000366</td>\n      <td>0.024930</td>\n      <td>0.080513</td>\n    </tr>\n    <tr>\n      <th>2018-04-16</th>\n      <td>-0.051565</td>\n      <td>0.020627</td>\n      <td>0.067585</td>\n      <td>0.039844</td>\n      <td>0.010698</td>\n      <td>-0.030317</td>\n      <td>0.028571</td>\n      <td>0.010608</td>\n      <td>-0.058313</td>\n      <td>0.011160</td>\n      <td>0.048065</td>\n      <td>0.016124</td>\n      <td>-0.001096</td>\n      <td>0.024363</td>\n      <td>-0.006363</td>\n      <td>0.017682</td>\n      <td>-0.017300</td>\n      <td>-0.062054</td>\n      <td>0.005266</td>\n      <td>-0.012052</td>\n    </tr>\n    <tr>\n      <th>2018-04-23</th>\n      <td>-0.020516</td>\n      <td>0.008631</td>\n      <td>0.029545</td>\n      <td>-0.042578</td>\n      <td>0.043962</td>\n      <td>0.012711</td>\n      <td>0.014573</td>\n      <td>-0.018570</td>\n      <td>-0.004286</td>\n      <td>0.003564</td>\n      <td>0.021781</td>\n      <td>-0.006438</td>\n      <td>-0.010076</td>\n      <td>0.053387</td>\n      <td>0.023287</td>\n      <td>0.076618</td>\n      <td>-0.009831</td>\n      <td>-0.007514</td>\n      <td>-0.014829</td>\n      <td>-0.010406</td>\n    </tr>\n    <tr>\n      <th>2018-04-30</th>\n      <td>0.132516</td>\n      <td>-0.006888</td>\n      <td>0.005297</td>\n      <td>0.018954</td>\n      <td>0.017397</td>\n      <td>-0.031808</td>\n      <td>0.017062</td>\n      <td>-0.008867</td>\n      <td>-0.005219</td>\n      <td>0.002749</td>\n      <td>-0.017820</td>\n      <td>0.069512</td>\n      <td>0.019349</td>\n      <td>-0.007669</td>\n      <td>0.000948</td>\n      <td>-0.065542</td>\n      <td>-0.021935</td>\n      <td>-0.026743</td>\n      <td>0.029788</td>\n      <td>0.056245</td>\n    </tr>\n    <tr>\n      <th>2018-05-07</th>\n      <td>0.025893</td>\n      <td>0.026692</td>\n      <td>0.013890</td>\n      <td>0.049838</td>\n      <td>0.058774</td>\n      <td>0.024559</td>\n      <td>0.028558</td>\n      <td>0.050078</td>\n      <td>0.012978</td>\n      <td>-0.047412</td>\n      <td>0.010089</td>\n      <td>0.027528</td>\n      <td>0.009095</td>\n      <td>0.028536</td>\n      <td>0.041787</td>\n      <td>0.008923</td>\n      <td>-0.005193</td>\n      <td>-0.015759</td>\n      <td>0.058510</td>\n      <td>0.064712</td>\n    </tr>\n    <tr>\n      <th>...</th>\n      <td>...</td>\n      <td>...</td>\n      <td>...</td>\n      <td>...</td>\n      <td>...</td>\n      <td>...</td>\n      <td>...</td>\n      <td>...</td>\n      <td>...</td>\n      <td>...</td>\n      <td>...</td>\n      <td>...</td>\n      <td>...</td>\n      <td>...</td>\n      <td>...</td>\n      <td>...</td>\n      <td>...</td>\n      <td>...</td>\n      <td>...</td>\n      <td>...</td>\n    </tr>\n    <tr>\n      <th>2023-02-27</th>\n      <td>0.029446</td>\n      <td>0.024356</td>\n      <td>0.014973</td>\n      <td>0.050712</td>\n      <td>0.087212</td>\n      <td>-0.012502</td>\n      <td>0.019221</td>\n      <td>0.019371</td>\n      <td>0.012136</td>\n      <td>-0.012634</td>\n      <td>-0.011913</td>\n      <td>0.023731</td>\n      <td>0.008375</td>\n      <td>0.006034</td>\n      <td>0.050119</td>\n      <td>-0.012390</td>\n      <td>-0.006685</td>\n      <td>-0.015970</td>\n      <td>0.073314</td>\n      <td>0.025938</td>\n    </tr>\n    <tr>\n      <th>2023-03-06</th>\n      <td>-0.016752</td>\n      <td>-0.026245</td>\n      <td>-0.043941</td>\n      <td>-0.032248</td>\n      <td>-0.030985</td>\n      <td>-0.015647</td>\n      <td>-0.034098</td>\n      <td>-0.069679</td>\n      <td>-0.026676</td>\n      <td>-0.026303</td>\n      <td>-0.038093</td>\n      <td>-0.039806</td>\n      <td>-0.074847</td>\n      <td>-0.040677</td>\n      <td>0.031061</td>\n      <td>-0.041296</td>\n      <td>-0.003869</td>\n      <td>0.000246</td>\n      <td>-0.042844</td>\n      <td>-0.038719</td>\n    </tr>\n    <tr>\n      <th>2023-03-13</th>\n      <td>0.043771</td>\n      <td>0.124060</td>\n      <td>0.090598</td>\n      <td>0.121262</td>\n      <td>0.089689</td>\n      <td>0.005079</td>\n      <td>0.005783</td>\n      <td>-0.058661</td>\n      <td>0.041840</td>\n      <td>0.017741</td>\n      <td>0.023553</td>\n      <td>0.007346</td>\n      <td>-0.003954</td>\n      <td>0.014559</td>\n      <td>0.095151</td>\n      <td>0.002999</td>\n      <td>0.013680</td>\n      <td>0.018020</td>\n      <td>0.087580</td>\n      <td>0.120373</td>\n    </tr>\n    <tr>\n      <th>2023-03-20</th>\n      <td>0.033871</td>\n      <td>0.004080</td>\n      <td>-0.008287</td>\n      <td>0.037591</td>\n      <td>0.053167</td>\n      <td>0.001772</td>\n      <td>0.016790</td>\n      <td>-0.007154</td>\n      <td>0.026517</td>\n      <td>0.021386</td>\n      <td>0.013823</td>\n      <td>0.005634</td>\n      <td>0.009442</td>\n      <td>-0.018621</td>\n      <td>-0.015096</td>\n      <td>0.023648</td>\n      <td>0.022445</td>\n      <td>0.022612</td>\n      <td>0.046965</td>\n      <td>0.040972</td>\n    </tr>\n    <tr>\n      <th>2023-03-27</th>\n      <td>0.029017</td>\n      <td>0.027551</td>\n      <td>0.052583</td>\n      <td>-0.016218</td>\n      <td>0.028785</td>\n      <td>0.015395</td>\n      <td>0.019996</td>\n      <td>0.043231</td>\n      <td>0.013427</td>\n      <td>0.039845</td>\n      <td>-0.007143</td>\n      <td>0.033501</td>\n      <td>0.064307</td>\n      <td>0.042753</td>\n      <td>0.112738</td>\n      <td>0.032661</td>\n      <td>0.018555</td>\n      <td>0.017924</td>\n      <td>0.027763</td>\n      <td>0.037268</td>\n    </tr>\n  </tbody>\n</table>\n<p>260 rows × 20 columns</p>\n</div>"
     },
     "execution_count": 495,
     "metadata": {},
     "output_type": "execute_result"
    }
   ],
   "source": [
    "df_returns"
   ]
  },
  {
   "cell_type": "code",
   "execution_count": 496,
   "metadata": {
    "colab": {
     "base_uri": "https://localhost:8080/"
    },
    "id": "6K9BVuJH1IHY",
    "outputId": "447cb685-883f-4871-e19d-3f5bf6d86de5",
    "ExecuteTime": {
     "end_time": "2023-10-09T07:55:31.227221Z",
     "start_time": "2023-10-09T07:55:27.000327Z"
    }
   },
   "outputs": [
    {
     "name": "stdout",
     "output_type": "stream",
     "text": [
      "Retrieving data from Yahoo Finance\n",
      "[*********************100%%**********************]  1 of 1 completed\n",
      "[*********************100%%**********************]  1 of 1 completed\n",
      "[*********************100%%**********************]  1 of 1 completed\n",
      "[*********************100%%**********************]  1 of 1 completed\n",
      "[*********************100%%**********************]  1 of 1 completed\n",
      "[*********************100%%**********************]  1 of 1 completed\n",
      "[*********************100%%**********************]  1 of 1 completed\n",
      "[*********************100%%**********************]  1 of 1 completed\n",
      "[*********************100%%**********************]  1 of 1 completed\n",
      "[*********************100%%**********************]  1 of 1 completed\n",
      "[*********************100%%**********************]  1 of 1 completed\n",
      "[*********************100%%**********************]  1 of 1 completed\n",
      "[*********************100%%**********************]  1 of 1 completed\n",
      "[*********************100%%**********************]  1 of 1 completed\n",
      "[*********************100%%**********************]  1 of 1 completed\n",
      "[*********************100%%**********************]  1 of 1 completed\n",
      "[*********************100%%**********************]  1 of 1 completed\n",
      "[*********************100%%**********************]  1 of 1 completed\n",
      "[*********************100%%**********************]  1 of 1 completed\n",
      "[*********************100%%**********************]  1 of 1 completed\n"
     ]
    }
   ],
   "source": [
    "if os.path.isfile(outsample_data_filename) and os.path.isfile(outsample_prices_filename):\n",
    "    print(\"Reading data from file\", outsample_data_filename)\n",
    "    df_returns_out = pd.read_csv(outsample_data_filename, index_col=0)\n",
    "    df_prices_out = pd.read_csv(outsample_prices_filename, index_col=0)\n",
    "else:\n",
    "    print(\"Retrieving data from Yahoo Finance\")\n",
    "    # Create an empty dictionary to store returns data\n",
    "    returnsOS = {}\n",
    "    pricesOS = {}\n",
    "\n",
    "    for ticker in tickers_final:\n",
    "        try:\n",
    "            # Get the stock data\n",
    "            df_temp = yf.download(ticker, start=outsample_startdate, end=outsample_enddate)\n",
    "\n",
    "            # Calculate the stock returns\n",
    "            df_temp['Return'] = df_temp['Adj Close'].pct_change()\n",
    "\n",
    "            # Save prices\n",
    "            pricesOS[ticker] = df_temp['Adj Close']\n",
    "\n",
    "            # Removing first row because first return will be NaN\n",
    "            df_temp = df_temp.iloc[1:]\n",
    "\n",
    "            # Drop dates in stock prices not present in S&P500 data\n",
    "            df_temp = df_temp[df_temp.index.isin(sp500index_outs.index)]\n",
    "\n",
    "            # If not all dates in S&P500 data are present in stock data, skip this stock\n",
    "            if not sp500index_outs.index.isin(df_temp.index).all():\n",
    "                print(f'Skipping {ticker} due to mismatch in trading dates.')\n",
    "                continue\n",
    "\n",
    "            # If there are still NaN values in stock returns, skip this stock\n",
    "            if df_temp['Return'].isna().any():\n",
    "                print(f'Skipping {ticker} due to missing returns.')\n",
    "                continue\n",
    "\n",
    "            # Store the returns in the dictionary\n",
    "            returnsOS[ticker] = df_temp['Return']\n",
    "\n",
    "        except Exception as e:\n",
    "            print(f'Failed to download {ticker} due to error: {e}')\n",
    "\n",
    "    # Create a dataframe from the dictionary\n",
    "    df_returns_out = pd.DataFrame(returnsOS)\n",
    "    df_returns_out.to_csv(outsample_data_filename)\n",
    "    df_prices_out = pd.DataFrame(pricesOS)\n",
    "    df_prices_out.to_csv(outsample_prices_filename)"
   ]
  },
  {
   "cell_type": "code",
   "execution_count": 497,
   "metadata": {
    "id": "YsMjm_gx1IHa",
    "ExecuteTime": {
     "end_time": "2023-10-09T07:55:31.256555Z",
     "start_time": "2023-10-09T07:55:31.225722Z"
    }
   },
   "outputs": [],
   "source": [
    "df_returns_out.index = pd.to_datetime(df_returns_out.index)\n",
    "df_prices_out.index = pd.to_datetime(df_prices_out.index)"
   ]
  },
  {
   "cell_type": "code",
   "execution_count": 498,
   "metadata": {
    "colab": {
     "base_uri": "https://localhost:8080/",
     "height": 648
    },
    "id": "rFRqqXk21IHZ",
    "outputId": "5e31013a-0803-485a-9ddd-2c37ac21bcf4",
    "ExecuteTime": {
     "end_time": "2023-10-09T07:55:31.278688Z",
     "start_time": "2023-10-09T07:55:31.243303Z"
    }
   },
   "outputs": [
    {
     "data": {
      "text/plain": "                AAPL      MSFT      AMZN     GOOGL      META       JNJ  \\\nDate                                                                     \n2023-04-03  0.007702 -0.003711 -0.008520  0.006073  0.005332  0.011936   \n2023-04-04 -0.003250 -0.000174  0.015038  0.003450  0.007744  0.010456   \n2023-04-05 -0.011290 -0.009889 -0.027417 -0.002387 -0.015089  0.044924   \n2023-04-06  0.005496  0.025533  0.009496  0.037810  0.021846 -0.002778   \n2023-04-10 -0.015972 -0.007579  0.001078 -0.018262 -0.006247 -0.005026   \n...              ...       ...       ...       ...       ...       ...   \n2023-09-13 -0.011855  0.012931  0.025632  0.010123  0.011271  0.002506   \n2023-09-14  0.008782  0.007856 -0.000898  0.010168  0.021832 -0.001524   \n2023-09-15 -0.004154 -0.025037 -0.029920 -0.005069 -0.036603 -0.013986   \n2023-09-18  0.016913 -0.003513 -0.002920  0.005895  0.007459  0.006318   \n2023-09-19  0.006181 -0.001246 -0.016788 -0.001230  0.008329 -0.001662   \n\n                   V       JPM        PG       WMT       UNH        MA  \\\nDate                                                                     \n2023-04-03  0.015701 -0.001151  0.005515  0.008410  0.045706  0.008420   \n2023-04-04 -0.005852 -0.013368  0.004816 -0.009819 -0.001902 -0.007013   \n2023-04-05  0.002240  0.001491  0.006856  0.016573  0.032397  0.001266   \n2023-04-06 -0.009554 -0.001097  0.006347  0.007550  0.007030 -0.006377   \n2023-04-10  0.001947  0.003295 -0.008278 -0.001923  0.004622 -0.003679   \n...              ...       ...       ...       ...       ...       ...   \n2023-09-13  0.002143  0.000478  0.006972  0.000243 -0.000125  0.000072   \n2023-09-14 -0.025542  0.019398  0.010974  0.004193  0.007836 -0.007110   \n2023-09-15 -0.001781 -0.002948 -0.008400 -0.003691  0.006410  0.002347   \n2023-09-18  0.014892  0.002083  0.003779 -0.007410 -0.001315  0.006806   \n2023-09-19 -0.004496 -0.001274 -0.002921 -0.000245 -0.011110 -0.008630   \n\n                 DIS        HD      INTC        VZ        KO       PEP  \\\nDate                                                                     \n2023-04-03 -0.003695  0.008844  0.006734  0.008486  0.005965  0.001097   \n2023-04-04 -0.001905 -0.009304  0.006385  0.010964 -0.003045 -0.003562   \n2023-04-05  0.003415 -0.021325 -0.008157  0.011601  0.009484  0.009843   \n2023-04-06  0.000601 -0.000208 -0.000609  0.000583  0.000637  0.003921   \n2023-04-10  0.008402  0.008870 -0.008839 -0.003293 -0.002387 -0.006292   \n...              ...       ...       ...       ...       ...       ...   \n2023-09-13 -0.002390 -0.001226 -0.003860 -0.005288  0.002401  0.007909   \n2023-09-14  0.011979  0.011507 -0.001033  0.005316  0.008279  0.008626   \n2023-09-15  0.013021 -0.024967 -0.020429 -0.007344 -0.008895 -0.007670   \n2023-09-18 -0.006544 -0.012881  0.002904 -0.007695  0.006213 -0.002558   \n2023-09-19 -0.036227 -0.008353 -0.043433 -0.003877 -0.002058 -0.005909   \n\n                ADBE      NVDA  \nDate                            \n2023-04-03 -0.013727  0.006768  \n2023-04-04  0.013339 -0.018309  \n2023-04-05 -0.008127 -0.020836  \n2023-04-06 -0.003717  0.005803  \n2023-04-10 -0.011429  0.020047  \n...              ...       ...  \n2023-09-13  0.020933  0.013706  \n2023-09-14 -0.002529  0.002111  \n2023-09-15 -0.042144 -0.036879  \n2023-09-18  0.006674  0.001503  \n2023-09-19  0.017411 -0.010144  \n\n[117 rows x 20 columns]",
      "text/html": "<div>\n<style scoped>\n    .dataframe tbody tr th:only-of-type {\n        vertical-align: middle;\n    }\n\n    .dataframe tbody tr th {\n        vertical-align: top;\n    }\n\n    .dataframe thead th {\n        text-align: right;\n    }\n</style>\n<table border=\"1\" class=\"dataframe\">\n  <thead>\n    <tr style=\"text-align: right;\">\n      <th></th>\n      <th>AAPL</th>\n      <th>MSFT</th>\n      <th>AMZN</th>\n      <th>GOOGL</th>\n      <th>META</th>\n      <th>JNJ</th>\n      <th>V</th>\n      <th>JPM</th>\n      <th>PG</th>\n      <th>WMT</th>\n      <th>UNH</th>\n      <th>MA</th>\n      <th>DIS</th>\n      <th>HD</th>\n      <th>INTC</th>\n      <th>VZ</th>\n      <th>KO</th>\n      <th>PEP</th>\n      <th>ADBE</th>\n      <th>NVDA</th>\n    </tr>\n    <tr>\n      <th>Date</th>\n      <th></th>\n      <th></th>\n      <th></th>\n      <th></th>\n      <th></th>\n      <th></th>\n      <th></th>\n      <th></th>\n      <th></th>\n      <th></th>\n      <th></th>\n      <th></th>\n      <th></th>\n      <th></th>\n      <th></th>\n      <th></th>\n      <th></th>\n      <th></th>\n      <th></th>\n      <th></th>\n    </tr>\n  </thead>\n  <tbody>\n    <tr>\n      <th>2023-04-03</th>\n      <td>0.007702</td>\n      <td>-0.003711</td>\n      <td>-0.008520</td>\n      <td>0.006073</td>\n      <td>0.005332</td>\n      <td>0.011936</td>\n      <td>0.015701</td>\n      <td>-0.001151</td>\n      <td>0.005515</td>\n      <td>0.008410</td>\n      <td>0.045706</td>\n      <td>0.008420</td>\n      <td>-0.003695</td>\n      <td>0.008844</td>\n      <td>0.006734</td>\n      <td>0.008486</td>\n      <td>0.005965</td>\n      <td>0.001097</td>\n      <td>-0.013727</td>\n      <td>0.006768</td>\n    </tr>\n    <tr>\n      <th>2023-04-04</th>\n      <td>-0.003250</td>\n      <td>-0.000174</td>\n      <td>0.015038</td>\n      <td>0.003450</td>\n      <td>0.007744</td>\n      <td>0.010456</td>\n      <td>-0.005852</td>\n      <td>-0.013368</td>\n      <td>0.004816</td>\n      <td>-0.009819</td>\n      <td>-0.001902</td>\n      <td>-0.007013</td>\n      <td>-0.001905</td>\n      <td>-0.009304</td>\n      <td>0.006385</td>\n      <td>0.010964</td>\n      <td>-0.003045</td>\n      <td>-0.003562</td>\n      <td>0.013339</td>\n      <td>-0.018309</td>\n    </tr>\n    <tr>\n      <th>2023-04-05</th>\n      <td>-0.011290</td>\n      <td>-0.009889</td>\n      <td>-0.027417</td>\n      <td>-0.002387</td>\n      <td>-0.015089</td>\n      <td>0.044924</td>\n      <td>0.002240</td>\n      <td>0.001491</td>\n      <td>0.006856</td>\n      <td>0.016573</td>\n      <td>0.032397</td>\n      <td>0.001266</td>\n      <td>0.003415</td>\n      <td>-0.021325</td>\n      <td>-0.008157</td>\n      <td>0.011601</td>\n      <td>0.009484</td>\n      <td>0.009843</td>\n      <td>-0.008127</td>\n      <td>-0.020836</td>\n    </tr>\n    <tr>\n      <th>2023-04-06</th>\n      <td>0.005496</td>\n      <td>0.025533</td>\n      <td>0.009496</td>\n      <td>0.037810</td>\n      <td>0.021846</td>\n      <td>-0.002778</td>\n      <td>-0.009554</td>\n      <td>-0.001097</td>\n      <td>0.006347</td>\n      <td>0.007550</td>\n      <td>0.007030</td>\n      <td>-0.006377</td>\n      <td>0.000601</td>\n      <td>-0.000208</td>\n      <td>-0.000609</td>\n      <td>0.000583</td>\n      <td>0.000637</td>\n      <td>0.003921</td>\n      <td>-0.003717</td>\n      <td>0.005803</td>\n    </tr>\n    <tr>\n      <th>2023-04-10</th>\n      <td>-0.015972</td>\n      <td>-0.007579</td>\n      <td>0.001078</td>\n      <td>-0.018262</td>\n      <td>-0.006247</td>\n      <td>-0.005026</td>\n      <td>0.001947</td>\n      <td>0.003295</td>\n      <td>-0.008278</td>\n      <td>-0.001923</td>\n      <td>0.004622</td>\n      <td>-0.003679</td>\n      <td>0.008402</td>\n      <td>0.008870</td>\n      <td>-0.008839</td>\n      <td>-0.003293</td>\n      <td>-0.002387</td>\n      <td>-0.006292</td>\n      <td>-0.011429</td>\n      <td>0.020047</td>\n    </tr>\n    <tr>\n      <th>...</th>\n      <td>...</td>\n      <td>...</td>\n      <td>...</td>\n      <td>...</td>\n      <td>...</td>\n      <td>...</td>\n      <td>...</td>\n      <td>...</td>\n      <td>...</td>\n      <td>...</td>\n      <td>...</td>\n      <td>...</td>\n      <td>...</td>\n      <td>...</td>\n      <td>...</td>\n      <td>...</td>\n      <td>...</td>\n      <td>...</td>\n      <td>...</td>\n      <td>...</td>\n    </tr>\n    <tr>\n      <th>2023-09-13</th>\n      <td>-0.011855</td>\n      <td>0.012931</td>\n      <td>0.025632</td>\n      <td>0.010123</td>\n      <td>0.011271</td>\n      <td>0.002506</td>\n      <td>0.002143</td>\n      <td>0.000478</td>\n      <td>0.006972</td>\n      <td>0.000243</td>\n      <td>-0.000125</td>\n      <td>0.000072</td>\n      <td>-0.002390</td>\n      <td>-0.001226</td>\n      <td>-0.003860</td>\n      <td>-0.005288</td>\n      <td>0.002401</td>\n      <td>0.007909</td>\n      <td>0.020933</td>\n      <td>0.013706</td>\n    </tr>\n    <tr>\n      <th>2023-09-14</th>\n      <td>0.008782</td>\n      <td>0.007856</td>\n      <td>-0.000898</td>\n      <td>0.010168</td>\n      <td>0.021832</td>\n      <td>-0.001524</td>\n      <td>-0.025542</td>\n      <td>0.019398</td>\n      <td>0.010974</td>\n      <td>0.004193</td>\n      <td>0.007836</td>\n      <td>-0.007110</td>\n      <td>0.011979</td>\n      <td>0.011507</td>\n      <td>-0.001033</td>\n      <td>0.005316</td>\n      <td>0.008279</td>\n      <td>0.008626</td>\n      <td>-0.002529</td>\n      <td>0.002111</td>\n    </tr>\n    <tr>\n      <th>2023-09-15</th>\n      <td>-0.004154</td>\n      <td>-0.025037</td>\n      <td>-0.029920</td>\n      <td>-0.005069</td>\n      <td>-0.036603</td>\n      <td>-0.013986</td>\n      <td>-0.001781</td>\n      <td>-0.002948</td>\n      <td>-0.008400</td>\n      <td>-0.003691</td>\n      <td>0.006410</td>\n      <td>0.002347</td>\n      <td>0.013021</td>\n      <td>-0.024967</td>\n      <td>-0.020429</td>\n      <td>-0.007344</td>\n      <td>-0.008895</td>\n      <td>-0.007670</td>\n      <td>-0.042144</td>\n      <td>-0.036879</td>\n    </tr>\n    <tr>\n      <th>2023-09-18</th>\n      <td>0.016913</td>\n      <td>-0.003513</td>\n      <td>-0.002920</td>\n      <td>0.005895</td>\n      <td>0.007459</td>\n      <td>0.006318</td>\n      <td>0.014892</td>\n      <td>0.002083</td>\n      <td>0.003779</td>\n      <td>-0.007410</td>\n      <td>-0.001315</td>\n      <td>0.006806</td>\n      <td>-0.006544</td>\n      <td>-0.012881</td>\n      <td>0.002904</td>\n      <td>-0.007695</td>\n      <td>0.006213</td>\n      <td>-0.002558</td>\n      <td>0.006674</td>\n      <td>0.001503</td>\n    </tr>\n    <tr>\n      <th>2023-09-19</th>\n      <td>0.006181</td>\n      <td>-0.001246</td>\n      <td>-0.016788</td>\n      <td>-0.001230</td>\n      <td>0.008329</td>\n      <td>-0.001662</td>\n      <td>-0.004496</td>\n      <td>-0.001274</td>\n      <td>-0.002921</td>\n      <td>-0.000245</td>\n      <td>-0.011110</td>\n      <td>-0.008630</td>\n      <td>-0.036227</td>\n      <td>-0.008353</td>\n      <td>-0.043433</td>\n      <td>-0.003877</td>\n      <td>-0.002058</td>\n      <td>-0.005909</td>\n      <td>0.017411</td>\n      <td>-0.010144</td>\n    </tr>\n  </tbody>\n</table>\n<p>117 rows × 20 columns</p>\n</div>"
     },
     "execution_count": 498,
     "metadata": {},
     "output_type": "execute_result"
    }
   ],
   "source": [
    "df_returns_out"
   ]
  },
  {
   "cell_type": "code",
   "execution_count": 499,
   "metadata": {
    "colab": {
     "base_uri": "https://localhost:8080/",
     "height": 648
    },
    "id": "faM8roOP1IHa",
    "outputId": "072fe7ce-ca79-4e2f-9ac6-0650c219bb35",
    "ExecuteTime": {
     "end_time": "2023-10-09T07:55:31.324656Z",
     "start_time": "2023-10-09T07:55:31.259827Z"
    }
   },
   "outputs": [
    {
     "data": {
      "text/plain": "                  AAPL        MSFT        AMZN       GOOGL        META  \\\nDate                                                                     \n2023-03-31  164.450150  287.063324  103.290001  103.730003  211.940002   \n2023-04-03  165.716690  285.997955  102.410004  104.360001  213.070007   \n2023-04-04  165.178177  285.948151  103.949997  104.720001  214.720001   \n2023-04-05  163.313263  283.120331  101.099998  104.470001  211.479996   \n2023-04-06  164.210815  290.349182  102.059998  108.419998  216.100006   \n...                ...         ...         ...         ...         ...   \n2023-09-13  174.210007  336.059998  144.850006  136.710007  305.059998   \n2023-09-14  175.740005  338.700012  144.720001  138.100006  311.720001   \n2023-09-15  175.009995  330.220001  140.389999  137.399994  300.309998   \n2023-09-18  177.970001  329.059998  139.979996  138.210007  302.549988   \n2023-09-19  179.070007  328.649994  137.630005  138.039993  305.070007   \n\n                   JNJ           V         JPM          PG         WMT  \\\nDate                                                                     \n2023-03-31  152.730377  224.598969  127.472794  146.839676  146.371643   \n2023-04-03  154.553299  228.125443  127.326073  147.649475  147.602585   \n2023-04-04  156.169296  226.790558  125.623940  148.360504  146.153259   \n2023-04-05  163.185028  227.298599  125.811256  149.377701  148.575424   \n2023-04-06  162.731750  225.126938  125.673241  150.325760  149.697144   \n...                ...         ...         ...         ...         ...   \n2023-09-13  163.990005  247.830002  145.337585  153.089996  164.559998   \n2023-09-14  163.740005  241.500000  148.156784  154.770004  165.250000   \n2023-09-15  161.449997  241.070007  147.720001  153.470001  164.639999   \n2023-09-18  162.470001  244.660004  148.027725  154.050003  163.419998   \n2023-09-19  162.199997  243.559998  147.839111  153.600006  163.380005   \n\n                   UNH          MA         DIS          HD       INTC  \\\nDate                                                                    \n2023-03-31  468.832825  361.792358  100.129997  291.151337  32.420124   \n2023-04-03  490.261108  364.838715   99.760002  293.726257  32.638443   \n2023-04-04  489.328583  362.280151   99.570000  290.993469  32.846832   \n2023-04-05  505.181549  362.738831   99.910004  284.788086  32.578903   \n2023-04-06  508.733063  360.425537   99.970001  284.728882  32.559059   \n...                ...         ...         ...         ...        ...   \n2023-09-13  479.839996  415.697357   83.480003  325.880005  38.709999   \n2023-09-14  483.600006  412.741669   84.480003  329.630005  38.669998   \n2023-09-15  486.700012  413.710266   85.580002  321.399994  37.880001   \n2023-09-18  486.059998  416.526184   85.019997  317.260010  37.990002   \n2023-09-19  480.660004  412.931396   81.940002  314.609985  36.340000   \n\n                   VZ         KO         PEP        ADBE        NVDA  \nDate                                                                  \n2023-03-31  36.798580  61.076588  179.770676  385.369995  277.718353  \n2023-04-03  37.110836  61.440899  179.967880  380.079987  279.598022  \n2023-04-04  37.517712  61.253822  179.326920  385.149994  274.478973  \n2023-04-05  37.952972  61.834751  181.092072  382.019989  268.760040  \n2023-04-06  37.975098  61.874138  181.802094  380.600006  270.319733  \n...               ...        ...         ...         ...         ...  \n2023-09-13  33.152367  57.980000  179.679993  553.559998  454.850006  \n2023-09-14  33.328606  58.459999  181.229996  552.159973  455.809998  \n2023-09-15  33.083828  57.939999  179.839996  528.890015  439.000000  \n2023-09-18  32.829262  58.299999  179.380005  532.419983  439.660004  \n2023-09-19  32.701981  58.180000  178.320007  541.690002  435.200012  \n\n[118 rows x 20 columns]",
      "text/html": "<div>\n<style scoped>\n    .dataframe tbody tr th:only-of-type {\n        vertical-align: middle;\n    }\n\n    .dataframe tbody tr th {\n        vertical-align: top;\n    }\n\n    .dataframe thead th {\n        text-align: right;\n    }\n</style>\n<table border=\"1\" class=\"dataframe\">\n  <thead>\n    <tr style=\"text-align: right;\">\n      <th></th>\n      <th>AAPL</th>\n      <th>MSFT</th>\n      <th>AMZN</th>\n      <th>GOOGL</th>\n      <th>META</th>\n      <th>JNJ</th>\n      <th>V</th>\n      <th>JPM</th>\n      <th>PG</th>\n      <th>WMT</th>\n      <th>UNH</th>\n      <th>MA</th>\n      <th>DIS</th>\n      <th>HD</th>\n      <th>INTC</th>\n      <th>VZ</th>\n      <th>KO</th>\n      <th>PEP</th>\n      <th>ADBE</th>\n      <th>NVDA</th>\n    </tr>\n    <tr>\n      <th>Date</th>\n      <th></th>\n      <th></th>\n      <th></th>\n      <th></th>\n      <th></th>\n      <th></th>\n      <th></th>\n      <th></th>\n      <th></th>\n      <th></th>\n      <th></th>\n      <th></th>\n      <th></th>\n      <th></th>\n      <th></th>\n      <th></th>\n      <th></th>\n      <th></th>\n      <th></th>\n      <th></th>\n    </tr>\n  </thead>\n  <tbody>\n    <tr>\n      <th>2023-03-31</th>\n      <td>164.450150</td>\n      <td>287.063324</td>\n      <td>103.290001</td>\n      <td>103.730003</td>\n      <td>211.940002</td>\n      <td>152.730377</td>\n      <td>224.598969</td>\n      <td>127.472794</td>\n      <td>146.839676</td>\n      <td>146.371643</td>\n      <td>468.832825</td>\n      <td>361.792358</td>\n      <td>100.129997</td>\n      <td>291.151337</td>\n      <td>32.420124</td>\n      <td>36.798580</td>\n      <td>61.076588</td>\n      <td>179.770676</td>\n      <td>385.369995</td>\n      <td>277.718353</td>\n    </tr>\n    <tr>\n      <th>2023-04-03</th>\n      <td>165.716690</td>\n      <td>285.997955</td>\n      <td>102.410004</td>\n      <td>104.360001</td>\n      <td>213.070007</td>\n      <td>154.553299</td>\n      <td>228.125443</td>\n      <td>127.326073</td>\n      <td>147.649475</td>\n      <td>147.602585</td>\n      <td>490.261108</td>\n      <td>364.838715</td>\n      <td>99.760002</td>\n      <td>293.726257</td>\n      <td>32.638443</td>\n      <td>37.110836</td>\n      <td>61.440899</td>\n      <td>179.967880</td>\n      <td>380.079987</td>\n      <td>279.598022</td>\n    </tr>\n    <tr>\n      <th>2023-04-04</th>\n      <td>165.178177</td>\n      <td>285.948151</td>\n      <td>103.949997</td>\n      <td>104.720001</td>\n      <td>214.720001</td>\n      <td>156.169296</td>\n      <td>226.790558</td>\n      <td>125.623940</td>\n      <td>148.360504</td>\n      <td>146.153259</td>\n      <td>489.328583</td>\n      <td>362.280151</td>\n      <td>99.570000</td>\n      <td>290.993469</td>\n      <td>32.846832</td>\n      <td>37.517712</td>\n      <td>61.253822</td>\n      <td>179.326920</td>\n      <td>385.149994</td>\n      <td>274.478973</td>\n    </tr>\n    <tr>\n      <th>2023-04-05</th>\n      <td>163.313263</td>\n      <td>283.120331</td>\n      <td>101.099998</td>\n      <td>104.470001</td>\n      <td>211.479996</td>\n      <td>163.185028</td>\n      <td>227.298599</td>\n      <td>125.811256</td>\n      <td>149.377701</td>\n      <td>148.575424</td>\n      <td>505.181549</td>\n      <td>362.738831</td>\n      <td>99.910004</td>\n      <td>284.788086</td>\n      <td>32.578903</td>\n      <td>37.952972</td>\n      <td>61.834751</td>\n      <td>181.092072</td>\n      <td>382.019989</td>\n      <td>268.760040</td>\n    </tr>\n    <tr>\n      <th>2023-04-06</th>\n      <td>164.210815</td>\n      <td>290.349182</td>\n      <td>102.059998</td>\n      <td>108.419998</td>\n      <td>216.100006</td>\n      <td>162.731750</td>\n      <td>225.126938</td>\n      <td>125.673241</td>\n      <td>150.325760</td>\n      <td>149.697144</td>\n      <td>508.733063</td>\n      <td>360.425537</td>\n      <td>99.970001</td>\n      <td>284.728882</td>\n      <td>32.559059</td>\n      <td>37.975098</td>\n      <td>61.874138</td>\n      <td>181.802094</td>\n      <td>380.600006</td>\n      <td>270.319733</td>\n    </tr>\n    <tr>\n      <th>...</th>\n      <td>...</td>\n      <td>...</td>\n      <td>...</td>\n      <td>...</td>\n      <td>...</td>\n      <td>...</td>\n      <td>...</td>\n      <td>...</td>\n      <td>...</td>\n      <td>...</td>\n      <td>...</td>\n      <td>...</td>\n      <td>...</td>\n      <td>...</td>\n      <td>...</td>\n      <td>...</td>\n      <td>...</td>\n      <td>...</td>\n      <td>...</td>\n      <td>...</td>\n    </tr>\n    <tr>\n      <th>2023-09-13</th>\n      <td>174.210007</td>\n      <td>336.059998</td>\n      <td>144.850006</td>\n      <td>136.710007</td>\n      <td>305.059998</td>\n      <td>163.990005</td>\n      <td>247.830002</td>\n      <td>145.337585</td>\n      <td>153.089996</td>\n      <td>164.559998</td>\n      <td>479.839996</td>\n      <td>415.697357</td>\n      <td>83.480003</td>\n      <td>325.880005</td>\n      <td>38.709999</td>\n      <td>33.152367</td>\n      <td>57.980000</td>\n      <td>179.679993</td>\n      <td>553.559998</td>\n      <td>454.850006</td>\n    </tr>\n    <tr>\n      <th>2023-09-14</th>\n      <td>175.740005</td>\n      <td>338.700012</td>\n      <td>144.720001</td>\n      <td>138.100006</td>\n      <td>311.720001</td>\n      <td>163.740005</td>\n      <td>241.500000</td>\n      <td>148.156784</td>\n      <td>154.770004</td>\n      <td>165.250000</td>\n      <td>483.600006</td>\n      <td>412.741669</td>\n      <td>84.480003</td>\n      <td>329.630005</td>\n      <td>38.669998</td>\n      <td>33.328606</td>\n      <td>58.459999</td>\n      <td>181.229996</td>\n      <td>552.159973</td>\n      <td>455.809998</td>\n    </tr>\n    <tr>\n      <th>2023-09-15</th>\n      <td>175.009995</td>\n      <td>330.220001</td>\n      <td>140.389999</td>\n      <td>137.399994</td>\n      <td>300.309998</td>\n      <td>161.449997</td>\n      <td>241.070007</td>\n      <td>147.720001</td>\n      <td>153.470001</td>\n      <td>164.639999</td>\n      <td>486.700012</td>\n      <td>413.710266</td>\n      <td>85.580002</td>\n      <td>321.399994</td>\n      <td>37.880001</td>\n      <td>33.083828</td>\n      <td>57.939999</td>\n      <td>179.839996</td>\n      <td>528.890015</td>\n      <td>439.000000</td>\n    </tr>\n    <tr>\n      <th>2023-09-18</th>\n      <td>177.970001</td>\n      <td>329.059998</td>\n      <td>139.979996</td>\n      <td>138.210007</td>\n      <td>302.549988</td>\n      <td>162.470001</td>\n      <td>244.660004</td>\n      <td>148.027725</td>\n      <td>154.050003</td>\n      <td>163.419998</td>\n      <td>486.059998</td>\n      <td>416.526184</td>\n      <td>85.019997</td>\n      <td>317.260010</td>\n      <td>37.990002</td>\n      <td>32.829262</td>\n      <td>58.299999</td>\n      <td>179.380005</td>\n      <td>532.419983</td>\n      <td>439.660004</td>\n    </tr>\n    <tr>\n      <th>2023-09-19</th>\n      <td>179.070007</td>\n      <td>328.649994</td>\n      <td>137.630005</td>\n      <td>138.039993</td>\n      <td>305.070007</td>\n      <td>162.199997</td>\n      <td>243.559998</td>\n      <td>147.839111</td>\n      <td>153.600006</td>\n      <td>163.380005</td>\n      <td>480.660004</td>\n      <td>412.931396</td>\n      <td>81.940002</td>\n      <td>314.609985</td>\n      <td>36.340000</td>\n      <td>32.701981</td>\n      <td>58.180000</td>\n      <td>178.320007</td>\n      <td>541.690002</td>\n      <td>435.200012</td>\n    </tr>\n  </tbody>\n</table>\n<p>118 rows × 20 columns</p>\n</div>"
     },
     "execution_count": 499,
     "metadata": {},
     "output_type": "execute_result"
    }
   ],
   "source": [
    "df_prices_out"
   ]
  },
  {
   "cell_type": "markdown",
   "metadata": {
    "id": "8-2knTW01IHa"
   },
   "source": [
    "## Run portfolio optimization and compute efficient frontier for portfolios 20 stocks"
   ]
  },
  {
   "cell_type": "markdown",
   "metadata": {
    "id": "IoeZRmuaHgRK"
   },
   "source": [
    "### Compute expected returns and covariance matrix"
   ]
  },
  {
   "cell_type": "code",
   "execution_count": 500,
   "metadata": {
    "id": "u17UnF5G1IHd",
    "ExecuteTime": {
     "end_time": "2023-10-09T07:55:31.606629Z",
     "start_time": "2023-10-09T07:55:31.292039Z"
    }
   },
   "outputs": [
    {
     "data": {
      "text/plain": "array([0.32900009, 0.27746543, 0.13299867, 0.18515378, 0.14349043,\n       0.08243567, 0.17118159, 0.11293462, 0.17561884, 0.14831192,\n       0.21020638, 0.2042744 , 0.0519333 , 0.17729305, 0.00469029,\n       0.02531326, 0.12742465, 0.15314428, 0.1717924 , 0.4429121 ])"
     },
     "execution_count": 500,
     "metadata": {},
     "output_type": "execute_result"
    }
   ],
   "source": [
    "# Calculate covariance matrix and expected returns and scale those to annual time frequency\n",
    "ts_freq = pd.infer_freq(df_returns.index)[0]\n",
    "scalef = 252\n",
    "if ts_freq == 'W':\n",
    "    scalef = 52\n",
    "elif ts_freq == 'M':\n",
    "    scalef = 12\n",
    "\n",
    "# Covariance matrix\n",
    "Q = df_returns[tickers_final].cov() * scalef  # 52 weeks in a year\n",
    "\n",
    "# Vector of expected returns\n",
    "mu = (df_returns[tickers_final].mean() * scalef).values\n",
    "mu"
   ]
  },
  {
   "cell_type": "code",
   "execution_count": 754,
   "outputs": [
    {
     "data": {
      "text/plain": "           AAPL      MSFT      AMZN     GOOGL      META       JNJ         V  \\\nAAPL   0.008357  0.004789  0.003363  0.004301  0.006640 -0.000148  0.002386   \nMSFT   0.004789  0.012560  0.008161  0.005417  0.008918 -0.001031  0.001813   \nAMZN   0.003363  0.008161  0.020314  0.007977  0.011071 -0.001225  0.001852   \nGOOGL  0.004301  0.005417  0.007977  0.013617  0.009251  0.000175  0.001948   \nMETA   0.006640  0.008918  0.011071  0.009251  0.023693 -0.000909  0.002733   \nJNJ   -0.000148 -0.001031 -0.001225  0.000175 -0.000909  0.006865  0.000007   \nV      0.002386  0.001813  0.001852  0.001948  0.002733  0.000007  0.004948   \nJPM    0.002090  0.000394  0.000519  0.001260  0.002643  0.000263  0.002464   \nPG     0.001307  0.001015  0.001392  0.001163  0.001722  0.001621  0.001007   \nWMT    0.000911  0.000453  0.000631  0.000575  0.000649  0.001465  0.000716   \nUNH    0.001019  0.000712 -0.000631  0.000041  0.001028  0.002090  0.000966   \nMA     0.002728  0.002499  0.002638  0.003015  0.003612  0.000191  0.004155   \nDIS    0.002661  0.002555  0.004172  0.001760  0.004595 -0.000576  0.002664   \nHD     0.001989 -0.000065  0.001818  0.000591  0.003598 -0.000091  0.001770   \nINTC   0.004017  0.004995  0.007406  0.002530  0.010229 -0.000285  0.002816   \nVZ     0.002023  0.000954  0.001832  0.001072  0.004050  0.000516  0.000442   \nKO     0.001114  0.000250 -0.000118  0.000894  0.000669  0.001718  0.000783   \nPEP    0.000989  0.000973  0.000688  0.001108  0.001340  0.002339  0.000877   \nADBE   0.006370  0.008519  0.008582  0.005437  0.010837 -0.000892  0.004120   \nNVDA   0.007394  0.013658  0.007654  0.009057  0.013683 -0.004849  0.003295   \n\n            JPM        PG       WMT       UNH        MA       DIS        HD  \\\nAAPL   0.002090  0.001307  0.000911  0.001019  0.002728  0.002661  0.001989   \nMSFT   0.000394  0.001015  0.000453  0.000712  0.002499  0.002555 -0.000065   \nAMZN   0.000519  0.001392  0.000631 -0.000631  0.002638  0.004172  0.001818   \nGOOGL  0.001260  0.001163  0.000575  0.000041  0.003015  0.001760  0.000591   \nMETA   0.002643  0.001722  0.000649  0.001028  0.003612  0.004595  0.003598   \nJNJ    0.000263  0.001621  0.001465  0.002090  0.000191 -0.000576 -0.000091   \nV      0.002464  0.001007  0.000716  0.000966  0.004155  0.002664  0.001770   \nJPM    0.008244  0.000623  0.000635  0.000853  0.002700  0.002722  0.003169   \nPG     0.000623  0.003995  0.001505  0.001274  0.000904  0.000883  0.001310   \nWMT    0.000635  0.001505  0.002785  0.001244  0.001080  0.001227  0.001332   \nUNH    0.000853  0.001274  0.001244  0.011536  0.000830  0.001578  0.001741   \nMA     0.002700  0.000904  0.001080  0.000830  0.005173  0.003497  0.002563   \nDIS    0.002722  0.000883  0.001227  0.001578  0.003497  0.015155  0.004017   \nHD     0.003169  0.001310  0.001332  0.001741  0.002563  0.004017  0.007598   \nINTC   0.001642  0.001276  0.001767 -0.001508  0.003265  0.006456  0.004045   \nVZ     0.000147  0.001840  0.001050  0.000912  0.001003  0.004138  0.002068   \nKO     0.001035  0.001932  0.001087  0.001027  0.000820  0.000460  0.001090   \nPEP    0.000377  0.002351  0.001558  0.001488  0.000919  0.000294  0.000588   \nADBE   0.003731  0.001349  0.000404  0.000825  0.003846  0.004268  0.003456   \nNVDA   0.005224 -0.001099 -0.000916 -0.002166  0.003653  0.002971  0.001112   \n\n           INTC        VZ        KO       PEP      ADBE      NVDA  \nAAPL   0.004017  0.002023  0.001114  0.000989  0.006370  0.007394  \nMSFT   0.004995  0.000954  0.000250  0.000973  0.008519  0.013658  \nAMZN   0.007406  0.001832 -0.000118  0.000688  0.008582  0.007654  \nGOOGL  0.002530  0.001072  0.000894  0.001108  0.005437  0.009057  \nMETA   0.010229  0.004050  0.000669  0.001340  0.010837  0.013683  \nJNJ   -0.000285  0.000516  0.001718  0.002339 -0.000892 -0.004849  \nV      0.002816  0.000442  0.000783  0.000877  0.004120  0.003295  \nJPM    0.001642  0.000147  0.001035  0.000377  0.003731  0.005224  \nPG     0.001276  0.001840  0.001932  0.002351  0.001349 -0.001099  \nWMT    0.001767  0.001050  0.001087  0.001558  0.000404 -0.000916  \nUNH   -0.001508  0.000912  0.001027  0.001488  0.000825 -0.002166  \nMA     0.003265  0.001003  0.000820  0.000919  0.003846  0.003653  \nDIS    0.006456  0.004138  0.000460  0.000294  0.004268  0.002971  \nHD     0.004045  0.002068  0.001090  0.000588  0.003456  0.001112  \nINTC   0.030046  0.002911 -0.000080  0.000395  0.007374  0.001972  \nVZ     0.002911  0.011516  0.001142  0.001552 -0.000111 -0.003177  \nKO    -0.000080  0.001142  0.002385  0.002056  0.000248 -0.000851  \nPEP    0.000395  0.001552  0.002056  0.003722  0.000648 -0.000631  \nADBE   0.007374 -0.000111  0.000248  0.000648  0.021312  0.018892  \nNVDA   0.001972 -0.003177 -0.000851 -0.000631  0.018892  0.056744  ",
      "text/html": "<div>\n<style scoped>\n    .dataframe tbody tr th:only-of-type {\n        vertical-align: middle;\n    }\n\n    .dataframe tbody tr th {\n        vertical-align: top;\n    }\n\n    .dataframe thead th {\n        text-align: right;\n    }\n</style>\n<table border=\"1\" class=\"dataframe\">\n  <thead>\n    <tr style=\"text-align: right;\">\n      <th></th>\n      <th>AAPL</th>\n      <th>MSFT</th>\n      <th>AMZN</th>\n      <th>GOOGL</th>\n      <th>META</th>\n      <th>JNJ</th>\n      <th>V</th>\n      <th>JPM</th>\n      <th>PG</th>\n      <th>WMT</th>\n      <th>UNH</th>\n      <th>MA</th>\n      <th>DIS</th>\n      <th>HD</th>\n      <th>INTC</th>\n      <th>VZ</th>\n      <th>KO</th>\n      <th>PEP</th>\n      <th>ADBE</th>\n      <th>NVDA</th>\n    </tr>\n  </thead>\n  <tbody>\n    <tr>\n      <th>AAPL</th>\n      <td>0.008357</td>\n      <td>0.004789</td>\n      <td>0.003363</td>\n      <td>0.004301</td>\n      <td>0.006640</td>\n      <td>-0.000148</td>\n      <td>0.002386</td>\n      <td>0.002090</td>\n      <td>0.001307</td>\n      <td>0.000911</td>\n      <td>0.001019</td>\n      <td>0.002728</td>\n      <td>0.002661</td>\n      <td>0.001989</td>\n      <td>0.004017</td>\n      <td>0.002023</td>\n      <td>0.001114</td>\n      <td>0.000989</td>\n      <td>0.006370</td>\n      <td>0.007394</td>\n    </tr>\n    <tr>\n      <th>MSFT</th>\n      <td>0.004789</td>\n      <td>0.012560</td>\n      <td>0.008161</td>\n      <td>0.005417</td>\n      <td>0.008918</td>\n      <td>-0.001031</td>\n      <td>0.001813</td>\n      <td>0.000394</td>\n      <td>0.001015</td>\n      <td>0.000453</td>\n      <td>0.000712</td>\n      <td>0.002499</td>\n      <td>0.002555</td>\n      <td>-0.000065</td>\n      <td>0.004995</td>\n      <td>0.000954</td>\n      <td>0.000250</td>\n      <td>0.000973</td>\n      <td>0.008519</td>\n      <td>0.013658</td>\n    </tr>\n    <tr>\n      <th>AMZN</th>\n      <td>0.003363</td>\n      <td>0.008161</td>\n      <td>0.020314</td>\n      <td>0.007977</td>\n      <td>0.011071</td>\n      <td>-0.001225</td>\n      <td>0.001852</td>\n      <td>0.000519</td>\n      <td>0.001392</td>\n      <td>0.000631</td>\n      <td>-0.000631</td>\n      <td>0.002638</td>\n      <td>0.004172</td>\n      <td>0.001818</td>\n      <td>0.007406</td>\n      <td>0.001832</td>\n      <td>-0.000118</td>\n      <td>0.000688</td>\n      <td>0.008582</td>\n      <td>0.007654</td>\n    </tr>\n    <tr>\n      <th>GOOGL</th>\n      <td>0.004301</td>\n      <td>0.005417</td>\n      <td>0.007977</td>\n      <td>0.013617</td>\n      <td>0.009251</td>\n      <td>0.000175</td>\n      <td>0.001948</td>\n      <td>0.001260</td>\n      <td>0.001163</td>\n      <td>0.000575</td>\n      <td>0.000041</td>\n      <td>0.003015</td>\n      <td>0.001760</td>\n      <td>0.000591</td>\n      <td>0.002530</td>\n      <td>0.001072</td>\n      <td>0.000894</td>\n      <td>0.001108</td>\n      <td>0.005437</td>\n      <td>0.009057</td>\n    </tr>\n    <tr>\n      <th>META</th>\n      <td>0.006640</td>\n      <td>0.008918</td>\n      <td>0.011071</td>\n      <td>0.009251</td>\n      <td>0.023693</td>\n      <td>-0.000909</td>\n      <td>0.002733</td>\n      <td>0.002643</td>\n      <td>0.001722</td>\n      <td>0.000649</td>\n      <td>0.001028</td>\n      <td>0.003612</td>\n      <td>0.004595</td>\n      <td>0.003598</td>\n      <td>0.010229</td>\n      <td>0.004050</td>\n      <td>0.000669</td>\n      <td>0.001340</td>\n      <td>0.010837</td>\n      <td>0.013683</td>\n    </tr>\n    <tr>\n      <th>JNJ</th>\n      <td>-0.000148</td>\n      <td>-0.001031</td>\n      <td>-0.001225</td>\n      <td>0.000175</td>\n      <td>-0.000909</td>\n      <td>0.006865</td>\n      <td>0.000007</td>\n      <td>0.000263</td>\n      <td>0.001621</td>\n      <td>0.001465</td>\n      <td>0.002090</td>\n      <td>0.000191</td>\n      <td>-0.000576</td>\n      <td>-0.000091</td>\n      <td>-0.000285</td>\n      <td>0.000516</td>\n      <td>0.001718</td>\n      <td>0.002339</td>\n      <td>-0.000892</td>\n      <td>-0.004849</td>\n    </tr>\n    <tr>\n      <th>V</th>\n      <td>0.002386</td>\n      <td>0.001813</td>\n      <td>0.001852</td>\n      <td>0.001948</td>\n      <td>0.002733</td>\n      <td>0.000007</td>\n      <td>0.004948</td>\n      <td>0.002464</td>\n      <td>0.001007</td>\n      <td>0.000716</td>\n      <td>0.000966</td>\n      <td>0.004155</td>\n      <td>0.002664</td>\n      <td>0.001770</td>\n      <td>0.002816</td>\n      <td>0.000442</td>\n      <td>0.000783</td>\n      <td>0.000877</td>\n      <td>0.004120</td>\n      <td>0.003295</td>\n    </tr>\n    <tr>\n      <th>JPM</th>\n      <td>0.002090</td>\n      <td>0.000394</td>\n      <td>0.000519</td>\n      <td>0.001260</td>\n      <td>0.002643</td>\n      <td>0.000263</td>\n      <td>0.002464</td>\n      <td>0.008244</td>\n      <td>0.000623</td>\n      <td>0.000635</td>\n      <td>0.000853</td>\n      <td>0.002700</td>\n      <td>0.002722</td>\n      <td>0.003169</td>\n      <td>0.001642</td>\n      <td>0.000147</td>\n      <td>0.001035</td>\n      <td>0.000377</td>\n      <td>0.003731</td>\n      <td>0.005224</td>\n    </tr>\n    <tr>\n      <th>PG</th>\n      <td>0.001307</td>\n      <td>0.001015</td>\n      <td>0.001392</td>\n      <td>0.001163</td>\n      <td>0.001722</td>\n      <td>0.001621</td>\n      <td>0.001007</td>\n      <td>0.000623</td>\n      <td>0.003995</td>\n      <td>0.001505</td>\n      <td>0.001274</td>\n      <td>0.000904</td>\n      <td>0.000883</td>\n      <td>0.001310</td>\n      <td>0.001276</td>\n      <td>0.001840</td>\n      <td>0.001932</td>\n      <td>0.002351</td>\n      <td>0.001349</td>\n      <td>-0.001099</td>\n    </tr>\n    <tr>\n      <th>WMT</th>\n      <td>0.000911</td>\n      <td>0.000453</td>\n      <td>0.000631</td>\n      <td>0.000575</td>\n      <td>0.000649</td>\n      <td>0.001465</td>\n      <td>0.000716</td>\n      <td>0.000635</td>\n      <td>0.001505</td>\n      <td>0.002785</td>\n      <td>0.001244</td>\n      <td>0.001080</td>\n      <td>0.001227</td>\n      <td>0.001332</td>\n      <td>0.001767</td>\n      <td>0.001050</td>\n      <td>0.001087</td>\n      <td>0.001558</td>\n      <td>0.000404</td>\n      <td>-0.000916</td>\n    </tr>\n    <tr>\n      <th>UNH</th>\n      <td>0.001019</td>\n      <td>0.000712</td>\n      <td>-0.000631</td>\n      <td>0.000041</td>\n      <td>0.001028</td>\n      <td>0.002090</td>\n      <td>0.000966</td>\n      <td>0.000853</td>\n      <td>0.001274</td>\n      <td>0.001244</td>\n      <td>0.011536</td>\n      <td>0.000830</td>\n      <td>0.001578</td>\n      <td>0.001741</td>\n      <td>-0.001508</td>\n      <td>0.000912</td>\n      <td>0.001027</td>\n      <td>0.001488</td>\n      <td>0.000825</td>\n      <td>-0.002166</td>\n    </tr>\n    <tr>\n      <th>MA</th>\n      <td>0.002728</td>\n      <td>0.002499</td>\n      <td>0.002638</td>\n      <td>0.003015</td>\n      <td>0.003612</td>\n      <td>0.000191</td>\n      <td>0.004155</td>\n      <td>0.002700</td>\n      <td>0.000904</td>\n      <td>0.001080</td>\n      <td>0.000830</td>\n      <td>0.005173</td>\n      <td>0.003497</td>\n      <td>0.002563</td>\n      <td>0.003265</td>\n      <td>0.001003</td>\n      <td>0.000820</td>\n      <td>0.000919</td>\n      <td>0.003846</td>\n      <td>0.003653</td>\n    </tr>\n    <tr>\n      <th>DIS</th>\n      <td>0.002661</td>\n      <td>0.002555</td>\n      <td>0.004172</td>\n      <td>0.001760</td>\n      <td>0.004595</td>\n      <td>-0.000576</td>\n      <td>0.002664</td>\n      <td>0.002722</td>\n      <td>0.000883</td>\n      <td>0.001227</td>\n      <td>0.001578</td>\n      <td>0.003497</td>\n      <td>0.015155</td>\n      <td>0.004017</td>\n      <td>0.006456</td>\n      <td>0.004138</td>\n      <td>0.000460</td>\n      <td>0.000294</td>\n      <td>0.004268</td>\n      <td>0.002971</td>\n    </tr>\n    <tr>\n      <th>HD</th>\n      <td>0.001989</td>\n      <td>-0.000065</td>\n      <td>0.001818</td>\n      <td>0.000591</td>\n      <td>0.003598</td>\n      <td>-0.000091</td>\n      <td>0.001770</td>\n      <td>0.003169</td>\n      <td>0.001310</td>\n      <td>0.001332</td>\n      <td>0.001741</td>\n      <td>0.002563</td>\n      <td>0.004017</td>\n      <td>0.007598</td>\n      <td>0.004045</td>\n      <td>0.002068</td>\n      <td>0.001090</td>\n      <td>0.000588</td>\n      <td>0.003456</td>\n      <td>0.001112</td>\n    </tr>\n    <tr>\n      <th>INTC</th>\n      <td>0.004017</td>\n      <td>0.004995</td>\n      <td>0.007406</td>\n      <td>0.002530</td>\n      <td>0.010229</td>\n      <td>-0.000285</td>\n      <td>0.002816</td>\n      <td>0.001642</td>\n      <td>0.001276</td>\n      <td>0.001767</td>\n      <td>-0.001508</td>\n      <td>0.003265</td>\n      <td>0.006456</td>\n      <td>0.004045</td>\n      <td>0.030046</td>\n      <td>0.002911</td>\n      <td>-0.000080</td>\n      <td>0.000395</td>\n      <td>0.007374</td>\n      <td>0.001972</td>\n    </tr>\n    <tr>\n      <th>VZ</th>\n      <td>0.002023</td>\n      <td>0.000954</td>\n      <td>0.001832</td>\n      <td>0.001072</td>\n      <td>0.004050</td>\n      <td>0.000516</td>\n      <td>0.000442</td>\n      <td>0.000147</td>\n      <td>0.001840</td>\n      <td>0.001050</td>\n      <td>0.000912</td>\n      <td>0.001003</td>\n      <td>0.004138</td>\n      <td>0.002068</td>\n      <td>0.002911</td>\n      <td>0.011516</td>\n      <td>0.001142</td>\n      <td>0.001552</td>\n      <td>-0.000111</td>\n      <td>-0.003177</td>\n    </tr>\n    <tr>\n      <th>KO</th>\n      <td>0.001114</td>\n      <td>0.000250</td>\n      <td>-0.000118</td>\n      <td>0.000894</td>\n      <td>0.000669</td>\n      <td>0.001718</td>\n      <td>0.000783</td>\n      <td>0.001035</td>\n      <td>0.001932</td>\n      <td>0.001087</td>\n      <td>0.001027</td>\n      <td>0.000820</td>\n      <td>0.000460</td>\n      <td>0.001090</td>\n      <td>-0.000080</td>\n      <td>0.001142</td>\n      <td>0.002385</td>\n      <td>0.002056</td>\n      <td>0.000248</td>\n      <td>-0.000851</td>\n    </tr>\n    <tr>\n      <th>PEP</th>\n      <td>0.000989</td>\n      <td>0.000973</td>\n      <td>0.000688</td>\n      <td>0.001108</td>\n      <td>0.001340</td>\n      <td>0.002339</td>\n      <td>0.000877</td>\n      <td>0.000377</td>\n      <td>0.002351</td>\n      <td>0.001558</td>\n      <td>0.001488</td>\n      <td>0.000919</td>\n      <td>0.000294</td>\n      <td>0.000588</td>\n      <td>0.000395</td>\n      <td>0.001552</td>\n      <td>0.002056</td>\n      <td>0.003722</td>\n      <td>0.000648</td>\n      <td>-0.000631</td>\n    </tr>\n    <tr>\n      <th>ADBE</th>\n      <td>0.006370</td>\n      <td>0.008519</td>\n      <td>0.008582</td>\n      <td>0.005437</td>\n      <td>0.010837</td>\n      <td>-0.000892</td>\n      <td>0.004120</td>\n      <td>0.003731</td>\n      <td>0.001349</td>\n      <td>0.000404</td>\n      <td>0.000825</td>\n      <td>0.003846</td>\n      <td>0.004268</td>\n      <td>0.003456</td>\n      <td>0.007374</td>\n      <td>-0.000111</td>\n      <td>0.000248</td>\n      <td>0.000648</td>\n      <td>0.021312</td>\n      <td>0.018892</td>\n    </tr>\n    <tr>\n      <th>NVDA</th>\n      <td>0.007394</td>\n      <td>0.013658</td>\n      <td>0.007654</td>\n      <td>0.009057</td>\n      <td>0.013683</td>\n      <td>-0.004849</td>\n      <td>0.003295</td>\n      <td>0.005224</td>\n      <td>-0.001099</td>\n      <td>-0.000916</td>\n      <td>-0.002166</td>\n      <td>0.003653</td>\n      <td>0.002971</td>\n      <td>0.001112</td>\n      <td>0.001972</td>\n      <td>-0.003177</td>\n      <td>-0.000851</td>\n      <td>-0.000631</td>\n      <td>0.018892</td>\n      <td>0.056744</td>\n    </tr>\n  </tbody>\n</table>\n</div>"
     },
     "execution_count": 754,
     "metadata": {},
     "output_type": "execute_result"
    }
   ],
   "source": [
    "Q"
   ],
   "metadata": {
    "collapsed": false,
    "ExecuteTime": {
     "end_time": "2023-10-09T14:50:22.405448Z",
     "start_time": "2023-10-09T14:50:22.299813Z"
    }
   }
  },
  {
   "cell_type": "code",
   "execution_count": 997,
   "outputs": [],
   "source": [
    "## Risk-free rate, if you plan to compute Sharpe ratio\n",
    "risk_free_rate = 0.03"
   ],
   "metadata": {
    "collapsed": false,
    "ExecuteTime": {
     "end_time": "2023-10-11T14:53:37.141546Z",
     "start_time": "2023-10-11T14:53:36.717847Z"
    }
   }
  },
  {
   "cell_type": "markdown",
   "metadata": {
    "id": "9A1cTNCz1IHb"
   },
   "source": [
    "### Compute efficient frontier (add your code here)"
   ]
  },
  {
   "cell_type": "markdown",
   "metadata": {
    "id": "1l1Rg_P01IHc"
   },
   "source": [
    "Define bounds $\\ell \\leq w \\leq u$"
   ]
  },
  {
   "cell_type": "code",
   "execution_count": 998,
   "metadata": {
    "id": "Vmmw8N2i1IHc",
    "ExecuteTime": {
     "end_time": "2023-10-11T14:53:37.475589Z",
     "start_time": "2023-10-11T14:53:36.771342Z"
    }
   },
   "outputs": [
    {
     "data": {
      "text/plain": "(0.025000000000000005, 0.10000000000000002)"
     },
     "execution_count": 998,
     "metadata": {},
     "output_type": "execute_result"
    }
   ],
   "source": [
    "## Define your bounds (add your code here)\n",
    "lb = (0.5 * np.ones(Nstocks) / Nstocks).mean()\n",
    "ub = (2.0 * np.ones(Nstocks) / Nstocks).mean()\n",
    "(lb, ub)\n",
    "\n"
   ]
  },
  {
   "cell_type": "markdown",
   "metadata": {
    "id": "DjXLm0dR1IHc"
   },
   "source": [
    "Compute efficient frontier with:\n",
    "\\begin{equation}\n",
    " \\begin{array}{rll}\n",
    "  \\displaystyle \\min_{w} & w^T Q w \\\\\n",
    "  \\mbox{s.t.} & \\mu^T w \\geq \\varepsilon \\\\\n",
    "  & \\sum_{i=1}^n w_i = 1 \\\\\n",
    "  & \\ell \\leq w \\leq u\n",
    " \\end{array}\n",
    "\\end{equation}\n",
    "or with:\n",
    "\\begin{equation}\n",
    " \\begin{array}{rll}\n",
    "  \\displaystyle \\min_{w} & - \\lambda \\cdot \\mu^T w + w^T Q w \\\\\n",
    "  \\mbox{s.t.} & \\sum_{i=1}^n w_i = 1 \\\\\n",
    "  & \\ell \\leq w \\leq u\n",
    " \\end{array}\n",
    "\\end{equation}"
   ]
  },
  {
   "cell_type": "markdown",
   "source": [
    "### Step 1 - compute minimum variance portfolio"
   ],
   "metadata": {
    "collapsed": false
   }
  },
  {
   "cell_type": "code",
   "execution_count": 999,
   "metadata": {
    "id": "ISOA6SvJcquR",
    "ExecuteTime": {
     "end_time": "2023-10-11T14:53:38.017851Z",
     "start_time": "2023-10-11T14:53:36.805748Z"
    }
   },
   "outputs": [
    {
     "name": "stdout",
     "output_type": "stream",
     "text": [
      "===============================================================================\n",
      "                                     CVXPY                                     \n",
      "                                     v1.3.2                                    \n",
      "===============================================================================\n",
      "(CVXPY) Oct 11 05:53:36 PM: Your problem has 20 variables, 3 constraints, and 0 parameters.\n",
      "(CVXPY) Oct 11 05:53:36 PM: It is compliant with the following grammars: DCP, DQCP\n",
      "(CVXPY) Oct 11 05:53:36 PM: (If you need to solve this problem multiple times, but with different data, consider using parameters.)\n",
      "(CVXPY) Oct 11 05:53:36 PM: CVXPY will first compile your problem; then, it will invoke a numerical solver to obtain a solution.\n",
      "-------------------------------------------------------------------------------\n",
      "                                  Compilation                                  \n",
      "-------------------------------------------------------------------------------\n",
      "(CVXPY) Oct 11 05:53:36 PM: Compiling problem (target solver=OSQP).\n",
      "(CVXPY) Oct 11 05:53:36 PM: Reduction chain: CvxAttr2Constr -> Qp2SymbolicQp -> QpMatrixStuffing -> OSQP\n",
      "(CVXPY) Oct 11 05:53:36 PM: Applying reduction CvxAttr2Constr\n",
      "(CVXPY) Oct 11 05:53:36 PM: Applying reduction Qp2SymbolicQp\n",
      "(CVXPY) Oct 11 05:53:36 PM: Applying reduction QpMatrixStuffing\n",
      "(CVXPY) Oct 11 05:53:36 PM: Applying reduction OSQP\n",
      "(CVXPY) Oct 11 05:53:36 PM: Finished problem compilation (took 1.863e-02 seconds).\n",
      "-------------------------------------------------------------------------------\n",
      "                                Numerical solver                               \n",
      "-------------------------------------------------------------------------------\n",
      "(CVXPY) Oct 11 05:53:36 PM: Invoking solver OSQP  to obtain a solution.\n",
      "-----------------------------------------------------------------\n",
      "           OSQP v0.6.3  -  Operator Splitting QP Solver\n",
      "              (c) Bartolomeo Stellato,  Goran Banjac\n",
      "        University of Oxford  -  Stanford University 2021\n",
      "-----------------------------------------------------------------\n",
      "problem:  variables n = 20, constraints m = 41\n",
      "          nnz(P) + nnz(A) = 270\n",
      "settings: linear system solver = qdldl,\n",
      "          eps_abs = 1.0e-05, eps_rel = 1.0e-05,\n",
      "          eps_prim_inf = 1.0e-04, eps_dual_inf = 1.0e-04,\n",
      "          rho = 1.00e-01 (adaptive),\n",
      "          sigma = 1.00e-06, alpha = 1.60, max_iter = 10000\n",
      "          check_termination: on (interval 25),\n",
      "          scaling: on, scaled_termination: off\n",
      "          warm start: on, polish: on, time_limit: off\n",
      "\n",
      "iter   objective    pri res    dua res    rho        time\n",
      "   1   0.0000e+00   1.00e+00   1.00e+02   1.00e-01   1.40e-04s\n",
      "  75   1.7480e-03   1.28e-05   1.77e-08   6.98e-03   3.64e-04s\n",
      "plsh   1.7481e-03   0.00e+00   8.24e-18   --------   5.36e-04s\n",
      "\n",
      "status:               solved\n",
      "solution polish:      successful\n",
      "number of iterations: 75\n",
      "optimal objective:    0.0017\n",
      "run time:             5.36e-04s\n",
      "optimal rho estimate: 1.59e-02\n",
      "\n",
      "-------------------------------------------------------------------------------\n",
      "                                    Summary                                    \n",
      "-------------------------------------------------------------------------------\n",
      "(CVXPY) Oct 11 05:53:36 PM: Problem status: optimal\n",
      "(CVXPY) Oct 11 05:53:36 PM: Optimal value: 1.748e-03\n",
      "(CVXPY) Oct 11 05:53:36 PM: Compilation took 1.863e-02 seconds\n",
      "(CVXPY) Oct 11 05:53:36 PM: Solver (including time spent in interface) took 2.640e-03 seconds\n",
      "\n",
      "Solution status:  optimal\n",
      "Solution optimal value:  0.0017481417709178967\n",
      "Solution w: \n",
      "[0.025      0.025      0.025      0.025      0.025      0.1\n",
      " 0.07269617 0.056852   0.08774131 0.1        0.06062631 0.025\n",
      " 0.025      0.025      0.025      0.04708422 0.1        0.1\n",
      " 0.025      0.025     ]\n"
     ]
    }
   ],
   "source": [
    "n = 20\n",
    "w1 = cp.Variable(n)\n",
    "\n",
    "prob1 = cp.Problem(\n",
    "    cp.Minimize(cp.quad_form(w1, Q)),\n",
    "    [\n",
    "        sum(w1) == 1,\n",
    "        w1 >= lb,\n",
    "        w1 <= ub\n",
    "    ]\n",
    ")\n",
    "\n",
    "prob1.solve(verbose=True)\n",
    "\n",
    "print(\"\\nSolution status: \", prob1.status)\n",
    "print(\"Solution optimal value: \", prob1.value)\n",
    "print(\"Solution w: \")\n",
    "print(w1.value)\n"
   ]
  },
  {
   "cell_type": "code",
   "execution_count": 1000,
   "outputs": [
    {
     "data": {
      "text/plain": "True"
     },
     "execution_count": 1000,
     "metadata": {},
     "output_type": "execute_result"
    }
   ],
   "source": [
    "# Check constraint\n",
    "np.allclose(np.sum(w1.value), 1)"
   ],
   "metadata": {
    "collapsed": false,
    "ExecuteTime": {
     "end_time": "2023-10-11T14:53:38.018196Z",
     "start_time": "2023-10-11T14:53:36.849489Z"
    }
   }
  },
  {
   "cell_type": "code",
   "execution_count": 1001,
   "outputs": [
    {
     "name": "stdout",
     "output_type": "stream",
     "text": [
      "Minimum variance portfolio:\n",
      "\n",
      "   Solution status = optimal\n",
      "    Solution value = 0.0017481417709178967\n",
      "          Variance = 0.0017481417709178967\n",
      "   Expected return = 0.15236647253709173\n",
      "Standard deviation = 0.041810785342037006\n"
     ]
    }
   ],
   "source": [
    "w_minVar = w1.value\n",
    "var_minVar = np.dot(w_minVar, np.dot(Q, w_minVar))\n",
    "ret_minVar = np.dot(mu, w_minVar)\n",
    "print(\"Minimum variance portfolio:\\n\")\n",
    "print(\"   Solution status =\", prob1.status)\n",
    "print(\"    Solution value =\", prob1.value)\n",
    "print(\"          Variance =\", var_minVar)\n",
    "print(\"   Expected return =\", ret_minVar)\n",
    "print(\"Standard deviation =\", np.sqrt(var_minVar))"
   ],
   "metadata": {
    "collapsed": false,
    "ExecuteTime": {
     "end_time": "2023-10-11T14:53:38.114959Z",
     "start_time": "2023-10-11T14:53:36.858328Z"
    }
   }
  },
  {
   "cell_type": "markdown",
   "source": [
    "### Step 2 - compute maximum return portfolio"
   ],
   "metadata": {
    "collapsed": false
   }
  },
  {
   "cell_type": "code",
   "execution_count": 1002,
   "outputs": [
    {
     "name": "stdout",
     "output_type": "stream",
     "text": [
      "===============================================================================\n",
      "                                     CVXPY                                     \n",
      "                                     v1.3.2                                    \n",
      "===============================================================================\n",
      "(CVXPY) Oct 11 05:53:36 PM: Your problem has 20 variables, 3 constraints, and 0 parameters.\n",
      "(CVXPY) Oct 11 05:53:36 PM: It is compliant with the following grammars: DCP, DQCP\n",
      "(CVXPY) Oct 11 05:53:36 PM: (If you need to solve this problem multiple times, but with different data, consider using parameters.)\n",
      "(CVXPY) Oct 11 05:53:36 PM: CVXPY will first compile your problem; then, it will invoke a numerical solver to obtain a solution.\n",
      "-------------------------------------------------------------------------------\n",
      "                                  Compilation                                  \n",
      "-------------------------------------------------------------------------------\n",
      "(CVXPY) Oct 11 05:53:36 PM: Compiling problem (target solver=ECOS).\n",
      "(CVXPY) Oct 11 05:53:36 PM: Reduction chain: FlipObjective -> Dcp2Cone -> CvxAttr2Constr -> ConeMatrixStuffing -> ECOS\n",
      "(CVXPY) Oct 11 05:53:36 PM: Applying reduction FlipObjective\n",
      "(CVXPY) Oct 11 05:53:36 PM: Applying reduction Dcp2Cone\n",
      "(CVXPY) Oct 11 05:53:36 PM: Applying reduction CvxAttr2Constr\n",
      "(CVXPY) Oct 11 05:53:36 PM: Applying reduction ConeMatrixStuffing\n",
      "(CVXPY) Oct 11 05:53:36 PM: Applying reduction ECOS\n",
      "(CVXPY) Oct 11 05:53:36 PM: Finished problem compilation (took 1.609e-02 seconds).\n",
      "-------------------------------------------------------------------------------\n",
      "                                Numerical solver                               \n",
      "-------------------------------------------------------------------------------\n",
      "(CVXPY) Oct 11 05:53:36 PM: Invoking solver ECOS  to obtain a solution.\n",
      "-------------------------------------------------------------------------------\n",
      "                                    Summary                                    \n",
      "-------------------------------------------------------------------------------\n",
      "(CVXPY) Oct 11 05:53:36 PM: Problem status: optimal\n",
      "(CVXPY) Oct 11 05:53:36 PM: Optimal value: 2.157e-01\n",
      "(CVXPY) Oct 11 05:53:36 PM: Compilation took 1.609e-02 seconds\n",
      "(CVXPY) Oct 11 05:53:36 PM: Solver (including time spent in interface) took 5.262e-04 seconds\n",
      "\n",
      "Solution status:  optimal\n",
      "Solution optimal value:  0.2157299447083812\n",
      "Solution w: \n",
      "[0.1   0.1   0.025 0.1   0.025 0.025 0.025 0.025 0.025 0.025 0.1   0.1\n",
      " 0.025 0.075 0.025 0.025 0.025 0.025 0.025 0.1  ]\n"
     ]
    }
   ],
   "source": [
    "w2 = cp.Variable(n)\n",
    "prob2 = cp.Problem(\n",
    "    cp.Maximize(mu.T @ w2),\n",
    "    [\n",
    "        sum(w2) == 1,\n",
    "        w2 >= lb,\n",
    "        w2 <= ub\n",
    "    ]\n",
    ")\n",
    "prob2.solve(verbose=True)\n",
    "\n",
    "# Print results\n",
    "print(\"\\nSolution status: \", prob2.status)\n",
    "print(\"Solution optimal value: \", prob2.value)\n",
    "print(\"Solution w: \")\n",
    "print(w2.value)"
   ],
   "metadata": {
    "collapsed": false,
    "ExecuteTime": {
     "end_time": "2023-10-11T14:53:38.212199Z",
     "start_time": "2023-10-11T14:53:36.864936Z"
    }
   }
  },
  {
   "cell_type": "code",
   "execution_count": 1003,
   "outputs": [
    {
     "data": {
      "text/plain": "True"
     },
     "execution_count": 1003,
     "metadata": {},
     "output_type": "execute_result"
    }
   ],
   "source": [
    "# Check constraint\n",
    "np.allclose(np.sum(w2.value), 1)"
   ],
   "metadata": {
    "collapsed": false,
    "ExecuteTime": {
     "end_time": "2023-10-11T14:53:38.315295Z",
     "start_time": "2023-10-11T14:53:36.903661Z"
    }
   }
  },
  {
   "cell_type": "code",
   "execution_count": 1004,
   "outputs": [
    {
     "name": "stdout",
     "output_type": "stream",
     "text": [
      "Maximum return portfolio:\n",
      "\n",
      "   Solution status = optimal\n",
      "    Solution value = 0.2157299447083812\n",
      "   Expected return = 0.2157299447083812\n",
      "          Variance = 0.0037248730315704547\n",
      "Standard deviation = 0.06103173790390091\n"
     ]
    }
   ],
   "source": [
    "w_maxRet = w2.value\n",
    "var_maxRet = np.dot(w_maxRet, np.dot(Q, w_maxRet))\n",
    "ret_maxRet = np.dot(mu, w_maxRet)\n",
    "print(\"Maximum return portfolio:\\n\")\n",
    "print(\"   Solution status =\", prob2.status)\n",
    "print(\"    Solution value =\", prob2.value)\n",
    "print(\"   Expected return =\", ret_maxRet)\n",
    "print(\"          Variance =\", var_maxRet)\n",
    "print(\"Standard deviation =\", np.sqrt(var_maxRet))"
   ],
   "metadata": {
    "collapsed": false,
    "ExecuteTime": {
     "end_time": "2023-10-11T14:53:38.315597Z",
     "start_time": "2023-10-11T14:53:36.909865Z"
    }
   }
  },
  {
   "cell_type": "markdown",
   "source": [
    "### Step 3 - compute mean-variance efficient frontier"
   ],
   "metadata": {
    "collapsed": false
   }
  },
  {
   "cell_type": "code",
   "execution_count": 1005,
   "outputs": [
    {
     "data": {
      "text/plain": "array([0.15236647, 0.15300651, 0.15364654, 0.15428658, 0.15492661,\n       0.15556665, 0.15620668, 0.15684672, 0.15748675, 0.15812679,\n       0.15876682, 0.15940686, 0.16004689, 0.16068693, 0.16132696,\n       0.161967  , 0.16260703, 0.16324707, 0.1638871 , 0.16452714,\n       0.16516717, 0.16580721, 0.16644724, 0.16708728, 0.16772731,\n       0.16836735, 0.16900738, 0.16964742, 0.17028745, 0.17092749,\n       0.17156752, 0.17220756, 0.17284759, 0.17348763, 0.17412766,\n       0.1747677 , 0.17540774, 0.17604777, 0.17668781, 0.17732784,\n       0.17796788, 0.17860791, 0.17924795, 0.17988798, 0.18052802,\n       0.18116805, 0.18180809, 0.18244812, 0.18308816, 0.18372819,\n       0.18436823, 0.18500826, 0.1856483 , 0.18628833, 0.18692837,\n       0.1875684 , 0.18820844, 0.18884847, 0.18948851, 0.19012854,\n       0.19076858, 0.19140861, 0.19204865, 0.19268868, 0.19332872,\n       0.19396875, 0.19460879, 0.19524882, 0.19588886, 0.19652889,\n       0.19716893, 0.19780896, 0.198449  , 0.19908903, 0.19972907,\n       0.2003691 , 0.20100914, 0.20164917, 0.20228921, 0.20292924,\n       0.20356928, 0.20420931, 0.20484935, 0.20548938, 0.20612942,\n       0.20676945, 0.20740949, 0.20804952, 0.20868956, 0.20932959,\n       0.20996963, 0.21060966, 0.2112497 , 0.21188973, 0.21252977,\n       0.2131698 , 0.21380984, 0.21444987, 0.21508991, 0.21572994])"
     },
     "execution_count": 1005,
     "metadata": {},
     "output_type": "execute_result"
    }
   ],
   "source": [
    "# Target returns\n",
    "targetRet = np.linspace(ret_minVar, ret_maxRet, 100)\n",
    "targetRet"
   ],
   "metadata": {
    "collapsed": false,
    "ExecuteTime": {
     "end_time": "2023-10-11T14:53:38.415874Z",
     "start_time": "2023-10-11T14:53:36.920466Z"
    }
   }
  },
  {
   "cell_type": "code",
   "execution_count": 1006,
   "outputs": [],
   "source": [
    "# Define optimization problem and compute one portfolio on efficient frontier\n",
    "w = cp.Variable(n)\n",
    "eps = cp.Parameter()\n",
    "eps.value = targetRet[0]\n",
    "prob3 = cp.Problem(\n",
    "    cp.Minimize(cp.quad_form(w, Q)),\n",
    "    [\n",
    "        mu.T @ w >= eps,\n",
    "        sum(w) == 1,\n",
    "        w >= lb,\n",
    "        w <= ub\n",
    "    ]\n",
    ")"
   ],
   "metadata": {
    "collapsed": false,
    "ExecuteTime": {
     "end_time": "2023-10-11T14:53:38.416100Z",
     "start_time": "2023-10-11T14:53:36.932230Z"
    }
   }
  },
  {
   "cell_type": "code",
   "execution_count": 1007,
   "outputs": [
    {
     "name": "stderr",
     "output_type": "stream",
     "text": [
      "/Users/Ihor_Perepecha/.conda/envs/Metadata-Generator/lib/python3.10/site-packages/cvxpy/problems/problem.py:1387: UserWarning:\n",
      "\n",
      "Solution may be inaccurate. Try another solver, adjusting the solver settings, or solve with verbose=True for more information.\n",
      "\n"
     ]
    }
   ],
   "source": [
    "# Compute efficient frontier\n",
    "w_front = []\n",
    "var_front = []\n",
    "ret_front = []\n",
    "for epsilon in targetRet:\n",
    "    eps.value = epsilon\n",
    "    prob3.solve(verbose=False)\n",
    "    w_front.append(w.value)\n",
    "    var_front.append(np.dot(w.value, np.dot(Q, w.value)))\n",
    "    ret_front.append(np.dot(mu, w.value))"
   ],
   "metadata": {
    "collapsed": false,
    "ExecuteTime": {
     "end_time": "2023-10-11T14:53:38.762428Z",
     "start_time": "2023-10-11T14:53:36.942420Z"
    }
   }
  },
  {
   "cell_type": "code",
   "execution_count": 1008,
   "outputs": [
    {
     "name": "stdout",
     "output_type": "stream",
     "text": [
      "Minimum Variance Portfolio:\n",
      "Variance: 0.0017481417709178965\n",
      "Return: 0.15236647253709168\n",
      "Sharpe Ratio: 2.9266724252142455\n",
      "\n",
      "Maximum Return Portfolio:\n",
      "Variance: 0.0036831709796958114\n",
      "Return: 0.215709411884544\n",
      "Sharpe Ratio: 3.0600109079683917\n",
      "\n",
      "Maximum Sharpe Ratio Portfolio:\n",
      "Variance: 0.0021025770626225547\n",
      "Return: 0.1849913319550779\n",
      "Sharpe Ratio: 4.004367143533908\n",
      "\n",
      "GPT weighted portfolio:\n",
      "Variance: 0.0035037216317852374\n",
      "Return: 0.18834821861800308\n",
      "Sharpe Ratio: 2.67515151619856\n"
     ]
    }
   ],
   "source": [
    "# Calculate Sharpe ratios\n",
    "sharpe_ratios = [ret / np.sqrt(var) - risk_free_rate for ret, var in zip(ret_front, var_front)]\n",
    "\n",
    "# Find the portfolio with maximum Sharpe ratio\n",
    "max_sharpe_ratio_index = np.argmax(sharpe_ratios)\n",
    "var_max_sharpe = var_front[max_sharpe_ratio_index]\n",
    "ret_max_sharpe = ret_front[max_sharpe_ratio_index]\n",
    "max_sharpe_ratio = sharpe_ratios[max_sharpe_ratio_index]\n",
    "\n",
    "# Calculate minimum variance portfolio\n",
    "min_variance_index = np.argmin(var_front)\n",
    "var_min_variance = var_front[min_variance_index]\n",
    "ret_min_variance = ret_front[min_variance_index]\n",
    "\n",
    "# Calculate maximum return portfolio\n",
    "max_return_index = np.argmax(ret_front)\n",
    "var_max_return = var_front[max_return_index]\n",
    "ret_max_return = ret_front[max_return_index]\n",
    "\n",
    "# Print results\n",
    "print(\"Minimum Variance Portfolio:\")\n",
    "print(\"Variance:\", var_min_variance)\n",
    "print(\"Return:\", ret_min_variance)\n",
    "print(\"Sharpe Ratio:\", (ret_min_variance - risk_free_rate) / np.sqrt(var_min_variance))\n",
    "\n",
    "print(\"\\nMaximum Return Portfolio:\")\n",
    "print(\"Variance:\", var_max_return)\n",
    "print(\"Return:\", ret_max_return)\n",
    "print(\"Sharpe Ratio:\", (ret_max_return - risk_free_rate) / np.sqrt(var_max_return))\n",
    "\n",
    "print(\"\\nMaximum Sharpe Ratio Portfolio:\")\n",
    "print(\"Variance:\", var_max_sharpe)\n",
    "print(\"Return:\", ret_max_sharpe)\n",
    "print(\"Sharpe Ratio:\", max_sharpe_ratio)\n",
    "\n",
    "print(\"\\nGPT weighted portfolio:\")\n",
    "print(\"Variance:\", var_gpt)\n",
    "print(\"Return:\", ret_gpt)\n",
    "print(\"Sharpe Ratio:\", (ret_gpt - risk_free_rate) / np.sqrt(var_gpt))"
   ],
   "metadata": {
    "collapsed": false,
    "ExecuteTime": {
     "end_time": "2023-10-11T14:53:38.762746Z",
     "start_time": "2023-10-11T14:53:37.350816Z"
    }
   }
  },
  {
   "cell_type": "markdown",
   "metadata": {
    "id": "lAcRaFTk1IHe"
   },
   "source": [
    "### Plotting efficient frontier (in-sample)"
   ]
  },
  {
   "cell_type": "code",
   "execution_count": 1009,
   "metadata": {
    "colab": {
     "base_uri": "https://localhost:8080/",
     "height": 507
    },
    "id": "KwDip-EU1IHe",
    "outputId": "2d91e4fb-c67a-4ae7-f1ba-a17dc0168774",
    "ExecuteTime": {
     "end_time": "2023-10-11T14:53:39.159749Z",
     "start_time": "2023-10-11T14:53:37.361152Z"
    }
   },
   "outputs": [
    {
     "data": {
      "text/plain": "<Figure size 1000x500 with 1 Axes>",
      "image/png": "[encoded data removed]"
     },
     "metadata": {},
     "output_type": "display_data"
    }
   ],
   "source": [
    "# Compute expected returns, variances, and standard deviations for GPT weighted portfolio\n",
    "gpt_weights = list(dfGPTweigts['GPTweights'].values.astype(float))\n",
    "ret_gpt = np.dot(mu, gpt_weights)\n",
    "var_gpt = np.dot(gpt_weights, np.dot(Q, gpt_weights))\n",
    "std_gpt = np.sqrt(var_gpt)\n",
    "\n",
    "fig = plt.figure(figsize=(10, 5), dpi=100, facecolor='w', edgecolor='k')\n",
    "ax = plt.gca()\n",
    "plt.rcParams['figure.figsize'] = [10, 5]\n",
    "\n",
    "# Plot efficient frontier for bounded case\n",
    "ax.plot(np.sqrt(var_front), ret_front, 'k-', label='efficient frontier')\n",
    "\n",
    "# Plot volatility versus expected return for minimum variance portfolio\n",
    "ax.scatter(x=np.sqrt(var_front[0]), y=ret_front[0], marker='s', s=50, color='darkred',\n",
    "           label='minimum variance portfolio (min Var)')\n",
    "\n",
    "# Plot volatility versus expected return for maximum return portfolio\n",
    "ax.scatter(x=np.sqrt(var_front[-1]), y=ret_front[-1], marker='s', s=50, color='orange',\n",
    "           label='maximum expected return portfolio (max Ret)')\n",
    "\n",
    "# Plot maximum Sharpe portfolio\n",
    "ax.scatter(x=np.sqrt(var_max_sharpe), y=ret_max_sharpe, marker='s', s=50, color='yellow',\n",
    "           label='maximum Sharpe ratio portfolio (max Sharpe)')\n",
    "\n",
    "# Plot GPT weighted portfolio\n",
    "ax.scatter(x=std_gpt, y=ret_gpt, marker='o', s=50, color='darkgreen', label='GPT-weighted portfolio')\n",
    "\n",
    "# Plot volatility versus expected return for individual stocks\n",
    "ax.scatter(x=np.sqrt(np.diag(Q)), y=mu, color='lightgray', label='individual stocks')\n",
    "\n",
    "# Format and display the final plot\n",
    "ax.axis([0.9 * np.sqrt(var_front[0]), 1.2 * np.max(np.sqrt(np.diag(Q))), np.min(mu) - 0.1 * (np.max(mu) - np.min(mu)),\n",
    "         1.1 * ret_front[-1]])\n",
    "ax.set_xlabel('Volatility (standard deviation)')  # Display percentage on x-axis\n",
    "ax.set_ylabel('Expected return (annualized)')  # Display percentage on y-axis\n",
    "ax.xaxis.set_major_formatter(mtick.PercentFormatter(1.0))  # Format x axis as percentage\n",
    "ax.yaxis.set_major_formatter(mtick.PercentFormatter(1.0))  # Format y axis as percentage\n",
    "ax.legend(loc=\"lower right\", fontsize='small')\n",
    "ax.grid()\n",
    "plt.tight_layout()\n",
    "plt.show()"
   ]
  },
  {
   "cell_type": "markdown",
   "metadata": {
    "id": "lAcRaFTk1IHe"
   },
   "source": [
    "### Add asset weights for three portfolios (strategies (ii), (iii), (vi)) to Pandas DataFrame"
   ]
  },
  {
   "cell_type": "code",
   "execution_count": 1010,
   "metadata": {
    "id": "VcqXDKVb1IHf",
    "ExecuteTime": {
     "end_time": "2023-10-11T14:53:39.159945Z",
     "start_time": "2023-10-11T14:53:37.791265Z"
    }
   },
   "outputs": [],
   "source": [
    "# sharpe_ratio = w_front[index].toList()\n",
    "dfGPTweigts['maxRet'] = w_front[-1]\n",
    "# dfGPTweigts['maxRet'] = w_maxRet\n",
    "dfGPTweigts['minVar'] = w_front[0]\n",
    "# dfGPTweigts['minVar'] = w_minVar\n",
    "dfGPTweigts['maxSharpe'] = w_front[max_sharpe_ratio_index]"
   ]
  },
  {
   "cell_type": "code",
   "execution_count": 1011,
   "metadata": {
    "colab": {
     "base_uri": "https://localhost:8080/",
     "height": 708
    },
    "id": "jtl5Icq-1IHf",
    "outputId": "4bea0229-077f-4647-f13f-969def89f0bb",
    "ExecuteTime": {
     "end_time": "2023-10-11T14:53:39.160614Z",
     "start_time": "2023-10-11T14:53:37.799166Z"
    }
   },
   "outputs": [
    {
     "data": {
      "text/plain": "        GPTweights    maxRet    minVar  maxSharpe\nticker                                           \nAAPL      0.153061  0.100016  0.025000   0.100010\nMSFT      0.122449  0.100011  0.025000   0.025003\nAMZN      0.102041  0.024995  0.025000   0.024991\nGOOGL     0.081633  0.100001  0.025000   0.024996\nMETA      0.071429  0.024997  0.025000   0.024990\nJNJ       0.061224  0.024990  0.100000   0.024995\nV         0.051020  0.024999  0.072696   0.024997\nJPM       0.051020  0.024993  0.056852   0.024991\nPG        0.040816  0.049382  0.087741   0.100001\nWMT       0.040816  0.024997  0.100000   0.099998\nUNH       0.030612  0.100004  0.060626   0.100004\nMA        0.030612  0.100003  0.025000   0.068172\nDIS       0.030612  0.024987  0.025000   0.024986\nHD        0.030612  0.050639  0.025000   0.024998\nINTC      0.020408  0.024982  0.025000   0.024980\nVZ        0.020408  0.024984  0.047084   0.024987\nKO        0.020408  0.024995  0.100000   0.099997\nPEP       0.020408  0.024998  0.100000   0.085688\nADBE      0.010204  0.025000  0.025000   0.024990\nNVDA      0.010204  0.100028  0.025000   0.046225",
      "text/html": "<div>\n<style scoped>\n    .dataframe tbody tr th:only-of-type {\n        vertical-align: middle;\n    }\n\n    .dataframe tbody tr th {\n        vertical-align: top;\n    }\n\n    .dataframe thead th {\n        text-align: right;\n    }\n</style>\n<table border=\"1\" class=\"dataframe\">\n  <thead>\n    <tr style=\"text-align: right;\">\n      <th></th>\n      <th>GPTweights</th>\n      <th>maxRet</th>\n      <th>minVar</th>\n      <th>maxSharpe</th>\n    </tr>\n    <tr>\n      <th>ticker</th>\n      <th></th>\n      <th></th>\n      <th></th>\n      <th></th>\n    </tr>\n  </thead>\n  <tbody>\n    <tr>\n      <th>AAPL</th>\n      <td>0.153061</td>\n      <td>0.100016</td>\n      <td>0.025000</td>\n      <td>0.100010</td>\n    </tr>\n    <tr>\n      <th>MSFT</th>\n      <td>0.122449</td>\n      <td>0.100011</td>\n      <td>0.025000</td>\n      <td>0.025003</td>\n    </tr>\n    <tr>\n      <th>AMZN</th>\n      <td>0.102041</td>\n      <td>0.024995</td>\n      <td>0.025000</td>\n      <td>0.024991</td>\n    </tr>\n    <tr>\n      <th>GOOGL</th>\n      <td>0.081633</td>\n      <td>0.100001</td>\n      <td>0.025000</td>\n      <td>0.024996</td>\n    </tr>\n    <tr>\n      <th>META</th>\n      <td>0.071429</td>\n      <td>0.024997</td>\n      <td>0.025000</td>\n      <td>0.024990</td>\n    </tr>\n    <tr>\n      <th>JNJ</th>\n      <td>0.061224</td>\n      <td>0.024990</td>\n      <td>0.100000</td>\n      <td>0.024995</td>\n    </tr>\n    <tr>\n      <th>V</th>\n      <td>0.051020</td>\n      <td>0.024999</td>\n      <td>0.072696</td>\n      <td>0.024997</td>\n    </tr>\n    <tr>\n      <th>JPM</th>\n      <td>0.051020</td>\n      <td>0.024993</td>\n      <td>0.056852</td>\n      <td>0.024991</td>\n    </tr>\n    <tr>\n      <th>PG</th>\n      <td>0.040816</td>\n      <td>0.049382</td>\n      <td>0.087741</td>\n      <td>0.100001</td>\n    </tr>\n    <tr>\n      <th>WMT</th>\n      <td>0.040816</td>\n      <td>0.024997</td>\n      <td>0.100000</td>\n      <td>0.099998</td>\n    </tr>\n    <tr>\n      <th>UNH</th>\n      <td>0.030612</td>\n      <td>0.100004</td>\n      <td>0.060626</td>\n      <td>0.100004</td>\n    </tr>\n    <tr>\n      <th>MA</th>\n      <td>0.030612</td>\n      <td>0.100003</td>\n      <td>0.025000</td>\n      <td>0.068172</td>\n    </tr>\n    <tr>\n      <th>DIS</th>\n      <td>0.030612</td>\n      <td>0.024987</td>\n      <td>0.025000</td>\n      <td>0.024986</td>\n    </tr>\n    <tr>\n      <th>HD</th>\n      <td>0.030612</td>\n      <td>0.050639</td>\n      <td>0.025000</td>\n      <td>0.024998</td>\n    </tr>\n    <tr>\n      <th>INTC</th>\n      <td>0.020408</td>\n      <td>0.024982</td>\n      <td>0.025000</td>\n      <td>0.024980</td>\n    </tr>\n    <tr>\n      <th>VZ</th>\n      <td>0.020408</td>\n      <td>0.024984</td>\n      <td>0.047084</td>\n      <td>0.024987</td>\n    </tr>\n    <tr>\n      <th>KO</th>\n      <td>0.020408</td>\n      <td>0.024995</td>\n      <td>0.100000</td>\n      <td>0.099997</td>\n    </tr>\n    <tr>\n      <th>PEP</th>\n      <td>0.020408</td>\n      <td>0.024998</td>\n      <td>0.100000</td>\n      <td>0.085688</td>\n    </tr>\n    <tr>\n      <th>ADBE</th>\n      <td>0.010204</td>\n      <td>0.025000</td>\n      <td>0.025000</td>\n      <td>0.024990</td>\n    </tr>\n    <tr>\n      <th>NVDA</th>\n      <td>0.010204</td>\n      <td>0.100028</td>\n      <td>0.025000</td>\n      <td>0.046225</td>\n    </tr>\n  </tbody>\n</table>\n</div>"
     },
     "execution_count": 1011,
     "metadata": {},
     "output_type": "execute_result"
    }
   ],
   "source": [
    "dfGPTweigts"
   ]
  },
  {
   "cell_type": "markdown",
   "metadata": {
    "id": "7xc5L-Ij1IHh"
   },
   "source": [
    "### Out-of-sample plots of cumulative returns"
   ]
  },
  {
   "cell_type": "code",
   "execution_count": 1012,
   "metadata": {
    "id": "ygGPxkfVcquS",
    "ExecuteTime": {
     "end_time": "2023-10-11T14:53:39.160767Z",
     "start_time": "2023-10-11T14:53:37.824582Z"
    }
   },
   "outputs": [],
   "source": [
    "## Calculate cumulative returns (out-of-sample) for plots\n",
    "\n",
    "stocks_returns = df_returns_out\n",
    "\n",
    "# Weights of all portfolios\n",
    "weights = {\n",
    "    \"GPT\": dfGPTweigts['GPTweights'],\n",
    "    \"Min Var\": dfGPTweigts['minVar'],\n",
    "    \"Max Ret\": dfGPTweigts['maxRet'],\n",
    "    \"Max Sharpe\": dfGPTweigts['maxSharpe']\n",
    "}\n",
    "\n",
    "# Calculate cumulative returns for each portfolio\n",
    "cumulative_returns = pd.DataFrame(index=stocks_returns.index)\n",
    "\n",
    "for name, weight in weights.items():\n",
    "    portfolio_return = (stocks_returns * weight).sum(axis=1)\n",
    "    cumulative_returns[name] = (1 + portfolio_return).cumprod()\n",
    "\n",
    "# Map ticker symbols to index names\n",
    "index_names = {\n",
    "    \"^GSPC\": \"S&P 500\"\n",
    "}\n",
    "\n",
    "# Calculate cumulative returns for each index\n",
    "cumulative_returns[index_names['^GSPC']] = (1 + sp500index_outs['SP_Return']).cumprod()\n",
    "\n",
    "# Convert index to datetime\n",
    "cumulative_returns.index = pd.to_datetime(cumulative_returns.index)\n",
    "\n",
    "# Filter the data for the specified period\n",
    "outsample_data = cumulative_returns.loc[outsample_startdate:outsample_enddate]\n"
   ]
  },
  {
   "cell_type": "markdown",
   "metadata": {
    "id": "OPV_yfVU1IHg"
   },
   "source": [
    "Plot static figure"
   ]
  },
  {
   "cell_type": "code",
   "execution_count": 1013,
   "metadata": {
    "colab": {
     "base_uri": "https://localhost:8080/",
     "height": 696
    },
    "id": "xUeVJAV_cquT",
    "outputId": "08f4ef45-d1ae-438f-e3c4-e76da389d9d1",
    "ExecuteTime": {
     "end_time": "2023-10-11T14:53:39.721238Z",
     "start_time": "2023-10-11T14:53:37.848243Z"
    }
   },
   "outputs": [
    {
     "data": {
      "text/plain": "<Figure size 1200x800 with 1 Axes>",
      "image/png": "[encoded data removed]"
     },
     "metadata": {},
     "output_type": "display_data"
    }
   ],
   "source": [
    "# Define styles for different categories\n",
    "styles = {\n",
    "    \"GPT\": {'color': 'mediumblue', 'linestyle': '-', 'linewidth': 1},\n",
    "    \"Min Var\": {'color': 'magenta', 'linestyle': '-', 'linewidth': 1},\n",
    "    \"Max Ret\": {'color': 'red', 'linestyle': '-', 'linewidth': 1},\n",
    "    \"Max Sharpe\": {'color': 'lightgreen', 'linestyle': '-', 'linewidth': 1},\n",
    "    \"S&P 500\": {'color': 'darkorange', 'linestyle': ':', 'linewidth': 1.5}\n",
    "    \n",
    "}\n",
    "\n",
    "fig, ax = plt.subplots(figsize=(12, 8))\n",
    "\n",
    "# Plot each portfolio/index with its corresponding style\n",
    "for column in outsample_data.columns:\n",
    "    ax.plot(outsample_data.index, outsample_data[column], label=column, **styles[column])\n",
    "\n",
    "ax.set_xlabel('Date')\n",
    "ax.set_ylabel('Cumulative Returns')\n",
    "ax.xaxis.set_major_formatter(mdates.DateFormatter('%Y-%m'))\n",
    "ax.grid(True)\n",
    "ax.legend(loc='lower left', fontsize='small')\n",
    "\n",
    "# Show the plot\n",
    "plt.show()\n"
   ]
  },
  {
   "cell_type": "markdown",
   "metadata": {
    "id": "Oo63n-jccquT"
   },
   "source": [
    "Plot dynamic figure"
   ]
  },
  {
   "cell_type": "code",
   "execution_count": 1014,
   "metadata": {
    "colab": {
     "base_uri": "https://localhost:8080/",
     "height": 542
    },
    "id": "n9mQi-yC1IHg",
    "outputId": "f0b43bcc-c88d-408d-dcbd-98789f50c741",
    "ExecuteTime": {
     "end_time": "2023-10-11T14:53:39.722020Z",
     "start_time": "2023-10-11T14:53:38.329304Z"
    }
   },
   "outputs": [
    {
     "data": {
      "application/vnd.plotly.v1+json": {
       "data": [
        {
         "mode": "lines",
         "name": "GPT",
         "x": [
          "2023-04-03T00:00:00",
          "2023-04-04T00:00:00",
          "2023-04-05T00:00:00",
          "2023-04-06T00:00:00",
          "2023-04-10T00:00:00",
          "2023-04-11T00:00:00",
          "2023-04-12T00:00:00",
          "2023-04-13T00:00:00",
          "2023-04-14T00:00:00",
          "2023-04-17T00:00:00",
          "2023-04-18T00:00:00",
          "2023-04-19T00:00:00",
          "2023-04-20T00:00:00",
          "2023-04-21T00:00:00",
          "2023-04-24T00:00:00",
          "2023-04-25T00:00:00",
          "2023-04-26T00:00:00",
          "2023-04-27T00:00:00",
          "2023-04-28T00:00:00",
          "2023-05-01T00:00:00",
          "2023-05-02T00:00:00",
          "2023-05-03T00:00:00",
          "2023-05-04T00:00:00",
          "2023-05-05T00:00:00",
          "2023-05-08T00:00:00",
          "2023-05-09T00:00:00",
          "2023-05-10T00:00:00",
          "2023-05-11T00:00:00",
          "2023-05-12T00:00:00",
          "2023-05-15T00:00:00",
          "2023-05-16T00:00:00",
          "2023-05-17T00:00:00",
          "2023-05-18T00:00:00",
          "2023-05-19T00:00:00",
          "2023-05-22T00:00:00",
          "2023-05-23T00:00:00",
          "2023-05-24T00:00:00",
          "2023-05-25T00:00:00",
          "2023-05-26T00:00:00",
          "2023-05-30T00:00:00",
          "2023-05-31T00:00:00",
          "2023-06-01T00:00:00",
          "2023-06-02T00:00:00",
          "2023-06-05T00:00:00",
          "2023-06-06T00:00:00",
          "2023-06-07T00:00:00",
          "2023-06-08T00:00:00",
          "2023-06-09T00:00:00",
          "2023-06-12T00:00:00",
          "2023-06-13T00:00:00",
          "2023-06-14T00:00:00",
          "2023-06-15T00:00:00",
          "2023-06-16T00:00:00",
          "2023-06-20T00:00:00",
          "2023-06-21T00:00:00",
          "2023-06-22T00:00:00",
          "2023-06-23T00:00:00",
          "2023-06-26T00:00:00",
          "2023-06-27T00:00:00",
          "2023-06-28T00:00:00",
          "2023-06-29T00:00:00",
          "2023-06-30T00:00:00",
          "2023-07-03T00:00:00",
          "2023-07-05T00:00:00",
          "2023-07-06T00:00:00",
          "2023-07-07T00:00:00",
          "2023-07-10T00:00:00",
          "2023-07-11T00:00:00",
          "2023-07-12T00:00:00",
          "2023-07-13T00:00:00",
          "2023-07-14T00:00:00",
          "2023-07-17T00:00:00",
          "2023-07-18T00:00:00",
          "2023-07-19T00:00:00",
          "2023-07-20T00:00:00",
          "2023-07-21T00:00:00",
          "2023-07-24T00:00:00",
          "2023-07-25T00:00:00",
          "2023-07-26T00:00:00",
          "2023-07-27T00:00:00",
          "2023-07-28T00:00:00",
          "2023-07-31T00:00:00",
          "2023-08-01T00:00:00",
          "2023-08-02T00:00:00",
          "2023-08-03T00:00:00",
          "2023-08-04T00:00:00",
          "2023-08-07T00:00:00",
          "2023-08-08T00:00:00",
          "2023-08-09T00:00:00",
          "2023-08-10T00:00:00",
          "2023-08-11T00:00:00",
          "2023-08-14T00:00:00",
          "2023-08-15T00:00:00",
          "2023-08-16T00:00:00",
          "2023-08-17T00:00:00",
          "2023-08-18T00:00:00",
          "2023-08-21T00:00:00",
          "2023-08-22T00:00:00",
          "2023-08-23T00:00:00",
          "2023-08-24T00:00:00",
          "2023-08-25T00:00:00",
          "2023-08-28T00:00:00",
          "2023-08-29T00:00:00",
          "2023-08-30T00:00:00",
          "2023-08-31T00:00:00",
          "2023-09-01T00:00:00",
          "2023-09-05T00:00:00",
          "2023-09-06T00:00:00",
          "2023-09-07T00:00:00",
          "2023-09-08T00:00:00",
          "2023-09-11T00:00:00",
          "2023-09-12T00:00:00",
          "2023-09-13T00:00:00",
          "2023-09-14T00:00:00",
          "2023-09-15T00:00:00",
          "2023-09-18T00:00:00",
          "2023-09-19T00:00:00"
         ],
         "y": [
          1.00497135488052,
          1.0058339192646122,
          1.0033587053244708,
          1.0129739401857794,
          1.0074678202325351,
          1.0010124979676642,
          0.9957072255168181,
          1.0177411567139059,
          1.0199333071468821,
          1.0194878878961422,
          1.0178686565549604,
          1.0179767855730284,
          1.0158173658032645,
          1.0184931346809027,
          1.0171092168020452,
          1.0023382616098064,
          1.0091076138589652,
          1.0418589555934255,
          1.045392279791222,
          1.0429443776186067,
          1.0363899970508448,
          1.031411407051129,
          1.0258100892844235,
          1.0443381406529082,
          1.0460221275513988,
          1.0420876616778092,
          1.0522962803801839,
          1.0542170304191774,
          1.0509315585102719,
          1.0528374925151036,
          1.053278433324383,
          1.0640030832092977,
          1.0754272927171615,
          1.0714532480159547,
          1.069534957809021,
          1.0577292376332166,
          1.0548277853422523,
          1.0613150398550681,
          1.0793534493490051,
          1.0796668416871558,
          1.0775898022740258,
          1.0919951922568527,
          1.102520557911771,
          1.100697127416722,
          1.1026363527749772,
          1.0862245492442133,
          1.0955004760573552,
          1.096331524524483,
          1.1104699200709136,
          1.1124528538891962,
          1.1153580135758268,
          1.1317380808660547,
          1.1253520936971133,
          1.1215730689064203,
          1.1142417480904356,
          1.1283298554692271,
          1.124655857143934,
          1.112480226620505,
          1.124915833200118,
          1.1246747155328622,
          1.1257966409565554,
          1.142557801675538,
          1.1406903800607469,
          1.142397790643628,
          1.1361896528870243,
          1.1288077788987803,
          1.1236860433731917,
          1.129418273415686,
          1.140913380529456,
          1.1538867840614597,
          1.15760126034604,
          1.15891838379087,
          1.1647155135664786,
          1.169494880824044,
          1.158443805717963,
          1.1569199503020167,
          1.161044143088992,
          1.1658389789161807,
          1.168112769730104,
          1.164129176496114,
          1.1849816106422268,
          1.1830948053915464,
          1.180938765831178,
          1.1620804205790365,
          1.1618027635068233,
          1.1601828561816745,
          1.1705324033812963,
          1.1647032298389364,
          1.1541579491050693,
          1.157190256493247,
          1.15580955799146,
          1.1651041987133934,
          1.1519654504535093,
          1.1431156906778812,
          1.131808733501195,
          1.1302192743992228,
          1.1365488503135475,
          1.1354076546182834,
          1.149494154262474,
          1.130122084574599,
          1.1385942696263813,
          1.144621712915902,
          1.1610197715160437,
          1.1657288452777934,
          1.1662474174790307,
          1.167928227499325,
          1.1670311309648038,
          1.155978013984045,
          1.1549115438999873,
          1.1582759486700658,
          1.1718273143839966,
          1.161929315108292,
          1.167579022764218,
          1.174567672502906,
          1.159083579993614,
          1.163271456087023,
          1.1586493791758894
         ],
         "type": "scatter"
        },
        {
         "mode": "lines",
         "name": "Min Var",
         "x": [
          "2023-04-03T00:00:00",
          "2023-04-04T00:00:00",
          "2023-04-05T00:00:00",
          "2023-04-06T00:00:00",
          "2023-04-10T00:00:00",
          "2023-04-11T00:00:00",
          "2023-04-12T00:00:00",
          "2023-04-13T00:00:00",
          "2023-04-14T00:00:00",
          "2023-04-17T00:00:00",
          "2023-04-18T00:00:00",
          "2023-04-19T00:00:00",
          "2023-04-20T00:00:00",
          "2023-04-21T00:00:00",
          "2023-04-24T00:00:00",
          "2023-04-25T00:00:00",
          "2023-04-26T00:00:00",
          "2023-04-27T00:00:00",
          "2023-04-28T00:00:00",
          "2023-05-01T00:00:00",
          "2023-05-02T00:00:00",
          "2023-05-03T00:00:00",
          "2023-05-04T00:00:00",
          "2023-05-05T00:00:00",
          "2023-05-08T00:00:00",
          "2023-05-09T00:00:00",
          "2023-05-10T00:00:00",
          "2023-05-11T00:00:00",
          "2023-05-12T00:00:00",
          "2023-05-15T00:00:00",
          "2023-05-16T00:00:00",
          "2023-05-17T00:00:00",
          "2023-05-18T00:00:00",
          "2023-05-19T00:00:00",
          "2023-05-22T00:00:00",
          "2023-05-23T00:00:00",
          "2023-05-24T00:00:00",
          "2023-05-25T00:00:00",
          "2023-05-26T00:00:00",
          "2023-05-30T00:00:00",
          "2023-05-31T00:00:00",
          "2023-06-01T00:00:00",
          "2023-06-02T00:00:00",
          "2023-06-05T00:00:00",
          "2023-06-06T00:00:00",
          "2023-06-07T00:00:00",
          "2023-06-08T00:00:00",
          "2023-06-09T00:00:00",
          "2023-06-12T00:00:00",
          "2023-06-13T00:00:00",
          "2023-06-14T00:00:00",
          "2023-06-15T00:00:00",
          "2023-06-16T00:00:00",
          "2023-06-20T00:00:00",
          "2023-06-21T00:00:00",
          "2023-06-22T00:00:00",
          "2023-06-23T00:00:00",
          "2023-06-26T00:00:00",
          "2023-06-27T00:00:00",
          "2023-06-28T00:00:00",
          "2023-06-29T00:00:00",
          "2023-06-30T00:00:00",
          "2023-07-03T00:00:00",
          "2023-07-05T00:00:00",
          "2023-07-06T00:00:00",
          "2023-07-07T00:00:00",
          "2023-07-10T00:00:00",
          "2023-07-11T00:00:00",
          "2023-07-12T00:00:00",
          "2023-07-13T00:00:00",
          "2023-07-14T00:00:00",
          "2023-07-17T00:00:00",
          "2023-07-18T00:00:00",
          "2023-07-19T00:00:00",
          "2023-07-20T00:00:00",
          "2023-07-21T00:00:00",
          "2023-07-24T00:00:00",
          "2023-07-25T00:00:00",
          "2023-07-26T00:00:00",
          "2023-07-27T00:00:00",
          "2023-07-28T00:00:00",
          "2023-07-31T00:00:00",
          "2023-08-01T00:00:00",
          "2023-08-02T00:00:00",
          "2023-08-03T00:00:00",
          "2023-08-04T00:00:00",
          "2023-08-07T00:00:00",
          "2023-08-08T00:00:00",
          "2023-08-09T00:00:00",
          "2023-08-10T00:00:00",
          "2023-08-11T00:00:00",
          "2023-08-14T00:00:00",
          "2023-08-15T00:00:00",
          "2023-08-16T00:00:00",
          "2023-08-17T00:00:00",
          "2023-08-18T00:00:00",
          "2023-08-21T00:00:00",
          "2023-08-22T00:00:00",
          "2023-08-23T00:00:00",
          "2023-08-24T00:00:00",
          "2023-08-25T00:00:00",
          "2023-08-28T00:00:00",
          "2023-08-29T00:00:00",
          "2023-08-30T00:00:00",
          "2023-08-31T00:00:00",
          "2023-09-01T00:00:00",
          "2023-09-05T00:00:00",
          "2023-09-06T00:00:00",
          "2023-09-07T00:00:00",
          "2023-09-08T00:00:00",
          "2023-09-11T00:00:00",
          "2023-09-12T00:00:00",
          "2023-09-13T00:00:00",
          "2023-09-14T00:00:00",
          "2023-09-15T00:00:00",
          "2023-09-18T00:00:00",
          "2023-09-19T00:00:00"
         ],
         "y": [
          1.0079765653558803,
          1.0071612340290033,
          1.015667762980425,
          1.0193022431316736,
          1.0165752573230122,
          1.0153512932839708,
          1.01158336471712,
          1.0238803268561758,
          1.0251288774637342,
          1.0268215268159202,
          1.0249517331639861,
          1.0226295854107494,
          1.022559470462667,
          1.0256415462897224,
          1.026182142097105,
          1.020758058547275,
          1.0153096549490483,
          1.03281573200049,
          1.0394777637854815,
          1.0412961191600727,
          1.0342267610188824,
          1.0282455393373793,
          1.0240135295852821,
          1.0368969047542944,
          1.037224717201555,
          1.0330434806173352,
          1.035457642480169,
          1.0344522791634854,
          1.0343819237456693,
          1.0337105936581499,
          1.027111331299634,
          1.0335935244808976,
          1.0375823104307196,
          1.0356185831977898,
          1.026667349831914,
          1.0188092490665799,
          1.0128277676718487,
          1.0148487661890522,
          1.0241532837768068,
          1.0208170962513048,
          1.0213243725266006,
          1.0318282521954791,
          1.0430982688946668,
          1.0404742731073127,
          1.0388836781689275,
          1.0329651872413588,
          1.0419185665135255,
          1.0439164213189038,
          1.0506178276318467,
          1.0531271865056844,
          1.056161362969399,
          1.0697136051822762,
          1.0687342079584798,
          1.0638882274887373,
          1.062011195959689,
          1.0686252685455455,
          1.0645971565335992,
          1.0594538020910917,
          1.066655427762073,
          1.0622247183471119,
          1.0650529698600253,
          1.0779409816303644,
          1.0788502927390204,
          1.0792445494442513,
          1.0725129380776484,
          1.0605357565328168,
          1.0619336210116985,
          1.065367727122727,
          1.0697131697554485,
          1.0772750780871352,
          1.0834092272488658,
          1.0803864123551974,
          1.0837558329929584,
          1.0912215063597146,
          1.0970990556313136,
          1.1004725396018455,
          1.1054975902686666,
          1.1075747519385388,
          1.110350795153641,
          1.1035959117955583,
          1.1168813918904636,
          1.1122527262958675,
          1.110853639994663,
          1.1031038173886087,
          1.1030418754485258,
          1.0973319026488682,
          1.109704154917109,
          1.104283314300943,
          1.0989030991940838,
          1.1004974875763487,
          1.1022304775367315,
          1.106555275719005,
          1.0960923178492759,
          1.0906303226510008,
          1.0809829430410818,
          1.082607068305822,
          1.0821048725381146,
          1.0775783620834254,
          1.085909787319176,
          1.0764216403312636,
          1.0841212892123087,
          1.0884556310996707,
          1.0983839897931522,
          1.1003894822653968,
          1.096977545674125,
          1.0946801524093268,
          1.0892213416367487,
          1.0851322575453848,
          1.0893705202022652,
          1.0892383729820185,
          1.0988782329994096,
          1.0944317449994556,
          1.0985113795431667,
          1.1034087860526116,
          1.0927484672891092,
          1.0948294536514016,
          1.089516979294407
         ],
         "type": "scatter"
        },
        {
         "mode": "lines",
         "name": "Max Ret",
         "x": [
          "2023-04-03T00:00:00",
          "2023-04-04T00:00:00",
          "2023-04-05T00:00:00",
          "2023-04-06T00:00:00",
          "2023-04-10T00:00:00",
          "2023-04-11T00:00:00",
          "2023-04-12T00:00:00",
          "2023-04-13T00:00:00",
          "2023-04-14T00:00:00",
          "2023-04-17T00:00:00",
          "2023-04-18T00:00:00",
          "2023-04-19T00:00:00",
          "2023-04-20T00:00:00",
          "2023-04-21T00:00:00",
          "2023-04-24T00:00:00",
          "2023-04-25T00:00:00",
          "2023-04-26T00:00:00",
          "2023-04-27T00:00:00",
          "2023-04-28T00:00:00",
          "2023-05-01T00:00:00",
          "2023-05-02T00:00:00",
          "2023-05-03T00:00:00",
          "2023-05-04T00:00:00",
          "2023-05-05T00:00:00",
          "2023-05-08T00:00:00",
          "2023-05-09T00:00:00",
          "2023-05-10T00:00:00",
          "2023-05-11T00:00:00",
          "2023-05-12T00:00:00",
          "2023-05-15T00:00:00",
          "2023-05-16T00:00:00",
          "2023-05-17T00:00:00",
          "2023-05-18T00:00:00",
          "2023-05-19T00:00:00",
          "2023-05-22T00:00:00",
          "2023-05-23T00:00:00",
          "2023-05-24T00:00:00",
          "2023-05-25T00:00:00",
          "2023-05-26T00:00:00",
          "2023-05-30T00:00:00",
          "2023-05-31T00:00:00",
          "2023-06-01T00:00:00",
          "2023-06-02T00:00:00",
          "2023-06-05T00:00:00",
          "2023-06-06T00:00:00",
          "2023-06-07T00:00:00",
          "2023-06-08T00:00:00",
          "2023-06-09T00:00:00",
          "2023-06-12T00:00:00",
          "2023-06-13T00:00:00",
          "2023-06-14T00:00:00",
          "2023-06-15T00:00:00",
          "2023-06-16T00:00:00",
          "2023-06-20T00:00:00",
          "2023-06-21T00:00:00",
          "2023-06-22T00:00:00",
          "2023-06-23T00:00:00",
          "2023-06-26T00:00:00",
          "2023-06-27T00:00:00",
          "2023-06-28T00:00:00",
          "2023-06-29T00:00:00",
          "2023-06-30T00:00:00",
          "2023-07-03T00:00:00",
          "2023-07-05T00:00:00",
          "2023-07-06T00:00:00",
          "2023-07-07T00:00:00",
          "2023-07-10T00:00:00",
          "2023-07-11T00:00:00",
          "2023-07-12T00:00:00",
          "2023-07-13T00:00:00",
          "2023-07-14T00:00:00",
          "2023-07-17T00:00:00",
          "2023-07-18T00:00:00",
          "2023-07-19T00:00:00",
          "2023-07-20T00:00:00",
          "2023-07-21T00:00:00",
          "2023-07-24T00:00:00",
          "2023-07-25T00:00:00",
          "2023-07-26T00:00:00",
          "2023-07-27T00:00:00",
          "2023-07-28T00:00:00",
          "2023-07-31T00:00:00",
          "2023-08-01T00:00:00",
          "2023-08-02T00:00:00",
          "2023-08-03T00:00:00",
          "2023-08-04T00:00:00",
          "2023-08-07T00:00:00",
          "2023-08-08T00:00:00",
          "2023-08-09T00:00:00",
          "2023-08-10T00:00:00",
          "2023-08-11T00:00:00",
          "2023-08-14T00:00:00",
          "2023-08-15T00:00:00",
          "2023-08-16T00:00:00",
          "2023-08-17T00:00:00",
          "2023-08-18T00:00:00",
          "2023-08-21T00:00:00",
          "2023-08-22T00:00:00",
          "2023-08-23T00:00:00",
          "2023-08-24T00:00:00",
          "2023-08-25T00:00:00",
          "2023-08-28T00:00:00",
          "2023-08-29T00:00:00",
          "2023-08-30T00:00:00",
          "2023-08-31T00:00:00",
          "2023-09-01T00:00:00",
          "2023-09-05T00:00:00",
          "2023-09-06T00:00:00",
          "2023-09-07T00:00:00",
          "2023-09-08T00:00:00",
          "2023-09-11T00:00:00",
          "2023-09-12T00:00:00",
          "2023-09-13T00:00:00",
          "2023-09-14T00:00:00",
          "2023-09-15T00:00:00",
          "2023-09-18T00:00:00",
          "2023-09-19T00:00:00"
         ],
         "y": [
          1.008730243033511,
          1.006415587204925,
          1.0056135975510185,
          1.014166084356501,
          1.011316779775569,
          1.0073436762592722,
          1.001025668348155,
          1.0177449324664871,
          1.0178530131984662,
          1.0171257214453828,
          1.0182747258506821,
          1.0150271486461766,
          1.0119324084395387,
          1.0127993257924015,
          1.012449240860957,
          0.998950439289877,
          1.0030245798137414,
          1.0277606679504503,
          1.036665300039605,
          1.0397608542787362,
          1.0296578624524304,
          1.0237652011980416,
          1.0179277043426933,
          1.038017393603045,
          1.040783922155674,
          1.0343817216979139,
          1.042761471324752,
          1.042908794030109,
          1.0417765340009404,
          1.0438374447149614,
          1.0422949492761295,
          1.0556617166854347,
          1.0681118067227278,
          1.0637254785337453,
          1.0628104400544707,
          1.049872797441496,
          1.0436955220905035,
          1.0732950298926358,
          1.0900047122512402,
          1.0901247401638088,
          1.0835152039118667,
          1.1008420905955711,
          1.109795724368877,
          1.1062667897659668,
          1.1067926852991963,
          1.090149135933231,
          1.0999098093190112,
          1.1026468818046573,
          1.116073662664467,
          1.1207936584648084,
          1.1238694826055327,
          1.1380928395598835,
          1.131843306971476,
          1.1316475411700733,
          1.1249328573189878,
          1.1345101990395388,
          1.129255236380677,
          1.1178310577557389,
          1.1317090130335705,
          1.1273794498401368,
          1.128831752062861,
          1.1459460601121414,
          1.1449863377943665,
          1.1447696178708553,
          1.1384496758881641,
          1.1304765627730948,
          1.1275978963517759,
          1.1333084668713171,
          1.1434133303795384,
          1.1576819709240558,
          1.1665175471093574,
          1.1693599770812657,
          1.1793915117102818,
          1.181410687503426,
          1.1701087990607701,
          1.1684356632515374,
          1.1757726055587732,
          1.1818676885528514,
          1.1852633288113523,
          1.1788885231646584,
          1.1958333768093794,
          1.1964135369369904,
          1.1941860107323368,
          1.1730833284739084,
          1.1736715953650643,
          1.1675948915839012,
          1.1796352973612223,
          1.1723788928902403,
          1.1595994474013287,
          1.162683109068098,
          1.1583058818296157,
          1.173709346179496,
          1.1638418704816815,
          1.156565901791861,
          1.1464631863330614,
          1.145598453548317,
          1.1589577686689834,
          1.1561028675645038,
          1.171332220714013,
          1.1559066519169323,
          1.16111204590176,
          1.169732063785642,
          1.1884557994289437,
          1.1944390885677951,
          1.1916596612395929,
          1.1918251525346408,
          1.1905853615920872,
          1.179609167332554,
          1.1786747696761513,
          1.1793463236421096,
          1.1864515375174172,
          1.1774572980287048,
          1.182540615227775,
          1.1887975384826488,
          1.1745586284351421,
          1.1776702522021405,
          1.1712640217101347
         ],
         "type": "scatter"
        },
        {
         "mode": "lines",
         "name": "Max Sharpe",
         "x": [
          "2023-04-03T00:00:00",
          "2023-04-04T00:00:00",
          "2023-04-05T00:00:00",
          "2023-04-06T00:00:00",
          "2023-04-10T00:00:00",
          "2023-04-11T00:00:00",
          "2023-04-12T00:00:00",
          "2023-04-13T00:00:00",
          "2023-04-14T00:00:00",
          "2023-04-17T00:00:00",
          "2023-04-18T00:00:00",
          "2023-04-19T00:00:00",
          "2023-04-20T00:00:00",
          "2023-04-21T00:00:00",
          "2023-04-24T00:00:00",
          "2023-04-25T00:00:00",
          "2023-04-26T00:00:00",
          "2023-04-27T00:00:00",
          "2023-04-28T00:00:00",
          "2023-05-01T00:00:00",
          "2023-05-02T00:00:00",
          "2023-05-03T00:00:00",
          "2023-05-04T00:00:00",
          "2023-05-05T00:00:00",
          "2023-05-08T00:00:00",
          "2023-05-09T00:00:00",
          "2023-05-10T00:00:00",
          "2023-05-11T00:00:00",
          "2023-05-12T00:00:00",
          "2023-05-15T00:00:00",
          "2023-05-16T00:00:00",
          "2023-05-17T00:00:00",
          "2023-05-18T00:00:00",
          "2023-05-19T00:00:00",
          "2023-05-22T00:00:00",
          "2023-05-23T00:00:00",
          "2023-05-24T00:00:00",
          "2023-05-25T00:00:00",
          "2023-05-26T00:00:00",
          "2023-05-30T00:00:00",
          "2023-05-31T00:00:00",
          "2023-06-01T00:00:00",
          "2023-06-02T00:00:00",
          "2023-06-05T00:00:00",
          "2023-06-06T00:00:00",
          "2023-06-07T00:00:00",
          "2023-06-08T00:00:00",
          "2023-06-09T00:00:00",
          "2023-06-12T00:00:00",
          "2023-06-13T00:00:00",
          "2023-06-14T00:00:00",
          "2023-06-15T00:00:00",
          "2023-06-16T00:00:00",
          "2023-06-20T00:00:00",
          "2023-06-21T00:00:00",
          "2023-06-22T00:00:00",
          "2023-06-23T00:00:00",
          "2023-06-26T00:00:00",
          "2023-06-27T00:00:00",
          "2023-06-28T00:00:00",
          "2023-06-29T00:00:00",
          "2023-06-30T00:00:00",
          "2023-07-03T00:00:00",
          "2023-07-05T00:00:00",
          "2023-07-06T00:00:00",
          "2023-07-07T00:00:00",
          "2023-07-10T00:00:00",
          "2023-07-11T00:00:00",
          "2023-07-12T00:00:00",
          "2023-07-13T00:00:00",
          "2023-07-14T00:00:00",
          "2023-07-17T00:00:00",
          "2023-07-18T00:00:00",
          "2023-07-19T00:00:00",
          "2023-07-20T00:00:00",
          "2023-07-21T00:00:00",
          "2023-07-24T00:00:00",
          "2023-07-25T00:00:00",
          "2023-07-26T00:00:00",
          "2023-07-27T00:00:00",
          "2023-07-28T00:00:00",
          "2023-07-31T00:00:00",
          "2023-08-01T00:00:00",
          "2023-08-02T00:00:00",
          "2023-08-03T00:00:00",
          "2023-08-04T00:00:00",
          "2023-08-07T00:00:00",
          "2023-08-08T00:00:00",
          "2023-08-09T00:00:00",
          "2023-08-10T00:00:00",
          "2023-08-11T00:00:00",
          "2023-08-14T00:00:00",
          "2023-08-15T00:00:00",
          "2023-08-16T00:00:00",
          "2023-08-17T00:00:00",
          "2023-08-18T00:00:00",
          "2023-08-21T00:00:00",
          "2023-08-22T00:00:00",
          "2023-08-23T00:00:00",
          "2023-08-24T00:00:00",
          "2023-08-25T00:00:00",
          "2023-08-28T00:00:00",
          "2023-08-29T00:00:00",
          "2023-08-30T00:00:00",
          "2023-08-31T00:00:00",
          "2023-09-01T00:00:00",
          "2023-09-05T00:00:00",
          "2023-09-06T00:00:00",
          "2023-09-07T00:00:00",
          "2023-09-08T00:00:00",
          "2023-09-11T00:00:00",
          "2023-09-12T00:00:00",
          "2023-09-13T00:00:00",
          "2023-09-14T00:00:00",
          "2023-09-15T00:00:00",
          "2023-09-18T00:00:00",
          "2023-09-19T00:00:00"
         ],
         "y": [
          1.009118146523754,
          1.0070688460283461,
          1.0117525431608039,
          1.0166320342142896,
          1.0133949949471197,
          1.0115851929251376,
          1.0072098349882275,
          1.0210168160881181,
          1.0190225430694673,
          1.0201703593586289,
          1.0213419093210017,
          1.0181100460312686,
          1.0173139555528514,
          1.0203124709608877,
          1.021205132663945,
          1.0141785963133856,
          1.0106378463995027,
          1.0300091923281582,
          1.0370066572736385,
          1.0393923599946033,
          1.0322706129401205,
          1.026751659274506,
          1.0226467780114818,
          1.0390244535786082,
          1.0396571194311188,
          1.034276095700288,
          1.0377652178800107,
          1.036948117521124,
          1.0368798479952757,
          1.036922496935009,
          1.0308446353380436,
          1.0382365474926676,
          1.04417023710654,
          1.0411855111722994,
          1.0329827262868259,
          1.023740793844621,
          1.0183446323704035,
          1.0275139094854215,
          1.03868331835581,
          1.0364612130809092,
          1.035640238362026,
          1.0484779789658234,
          1.0592721050721179,
          1.0555222234674826,
          1.0533360203387299,
          1.0444819732098722,
          1.0550777422996354,
          1.0578174187621117,
          1.066236475373669,
          1.0689068529343029,
          1.0706114918612057,
          1.0837329484770841,
          1.0804391101664794,
          1.0780930901881274,
          1.0762774471048309,
          1.0841307037941819,
          1.0797224268077776,
          1.0741872739706615,
          1.083899866713019,
          1.0787920628903582,
          1.0793546903521545,
          1.0942579817671385,
          1.0950990277523973,
          1.0943997408356383,
          1.088651952920185,
          1.0768255421653783,
          1.0774554522894038,
          1.080940272420844,
          1.0861770670338546,
          1.0938963059711881,
          1.1030386343653698,
          1.1035560100100013,
          1.1084915697294664,
          1.1153805633419938,
          1.1147522939918157,
          1.1165885439049184,
          1.121712292893065,
          1.1244282243654653,
          1.1272962102049626,
          1.120110141221648,
          1.133773978403368,
          1.132693031425644,
          1.1305440540158398,
          1.1197079897261655,
          1.1190196033298954,
          1.1100985311832126,
          1.1202268162815028,
          1.1147844503113928,
          1.1075623839451543,
          1.109531880718269,
          1.1093999706165338,
          1.1161666573535152,
          1.106063346355458,
          1.1000190467980213,
          1.0882821420220141,
          1.090890808714823,
          1.095236394744225,
          1.091869498683452,
          1.10301315662151,
          1.0909621994363303,
          1.098052946151777,
          1.1046913752483634,
          1.1166758146735694,
          1.1209856792623132,
          1.1177265416331008,
          1.1163084961369893,
          1.1120179661658007,
          1.105254629187502,
          1.106895338917944,
          1.1064211688086445,
          1.1149848397056752,
          1.1076780066463678,
          1.1109021536980688,
          1.1173134066366552,
          1.1072535258234957,
          1.1099655346117014,
          1.1045281926320627
         ],
         "type": "scatter"
        },
        {
         "mode": "lines",
         "name": "S&P 500",
         "x": [
          "2023-04-03T00:00:00",
          "2023-04-04T00:00:00",
          "2023-04-05T00:00:00",
          "2023-04-06T00:00:00",
          "2023-04-10T00:00:00",
          "2023-04-11T00:00:00",
          "2023-04-12T00:00:00",
          "2023-04-13T00:00:00",
          "2023-04-14T00:00:00",
          "2023-04-17T00:00:00",
          "2023-04-18T00:00:00",
          "2023-04-19T00:00:00",
          "2023-04-20T00:00:00",
          "2023-04-21T00:00:00",
          "2023-04-24T00:00:00",
          "2023-04-25T00:00:00",
          "2023-04-26T00:00:00",
          "2023-04-27T00:00:00",
          "2023-04-28T00:00:00",
          "2023-05-01T00:00:00",
          "2023-05-02T00:00:00",
          "2023-05-03T00:00:00",
          "2023-05-04T00:00:00",
          "2023-05-05T00:00:00",
          "2023-05-08T00:00:00",
          "2023-05-09T00:00:00",
          "2023-05-10T00:00:00",
          "2023-05-11T00:00:00",
          "2023-05-12T00:00:00",
          "2023-05-15T00:00:00",
          "2023-05-16T00:00:00",
          "2023-05-17T00:00:00",
          "2023-05-18T00:00:00",
          "2023-05-19T00:00:00",
          "2023-05-22T00:00:00",
          "2023-05-23T00:00:00",
          "2023-05-24T00:00:00",
          "2023-05-25T00:00:00",
          "2023-05-26T00:00:00",
          "2023-05-30T00:00:00",
          "2023-05-31T00:00:00",
          "2023-06-01T00:00:00",
          "2023-06-02T00:00:00",
          "2023-06-05T00:00:00",
          "2023-06-06T00:00:00",
          "2023-06-07T00:00:00",
          "2023-06-08T00:00:00",
          "2023-06-09T00:00:00",
          "2023-06-12T00:00:00",
          "2023-06-13T00:00:00",
          "2023-06-14T00:00:00",
          "2023-06-15T00:00:00",
          "2023-06-16T00:00:00",
          "2023-06-20T00:00:00",
          "2023-06-21T00:00:00",
          "2023-06-22T00:00:00",
          "2023-06-23T00:00:00",
          "2023-06-26T00:00:00",
          "2023-06-27T00:00:00",
          "2023-06-28T00:00:00",
          "2023-06-29T00:00:00",
          "2023-06-30T00:00:00",
          "2023-07-03T00:00:00",
          "2023-07-05T00:00:00",
          "2023-07-06T00:00:00",
          "2023-07-07T00:00:00",
          "2023-07-10T00:00:00",
          "2023-07-11T00:00:00",
          "2023-07-12T00:00:00",
          "2023-07-13T00:00:00",
          "2023-07-14T00:00:00",
          "2023-07-17T00:00:00",
          "2023-07-18T00:00:00",
          "2023-07-19T00:00:00",
          "2023-07-20T00:00:00",
          "2023-07-21T00:00:00",
          "2023-07-24T00:00:00",
          "2023-07-25T00:00:00",
          "2023-07-26T00:00:00",
          "2023-07-27T00:00:00",
          "2023-07-28T00:00:00",
          "2023-07-31T00:00:00",
          "2023-08-01T00:00:00",
          "2023-08-02T00:00:00",
          "2023-08-03T00:00:00",
          "2023-08-04T00:00:00",
          "2023-08-07T00:00:00",
          "2023-08-08T00:00:00",
          "2023-08-09T00:00:00",
          "2023-08-10T00:00:00",
          "2023-08-11T00:00:00",
          "2023-08-14T00:00:00",
          "2023-08-15T00:00:00",
          "2023-08-16T00:00:00",
          "2023-08-17T00:00:00",
          "2023-08-18T00:00:00",
          "2023-08-21T00:00:00",
          "2023-08-22T00:00:00",
          "2023-08-23T00:00:00",
          "2023-08-24T00:00:00",
          "2023-08-25T00:00:00",
          "2023-08-28T00:00:00",
          "2023-08-29T00:00:00",
          "2023-08-30T00:00:00",
          "2023-08-31T00:00:00",
          "2023-09-01T00:00:00",
          "2023-09-05T00:00:00",
          "2023-09-06T00:00:00",
          "2023-09-07T00:00:00",
          "2023-09-08T00:00:00",
          "2023-09-11T00:00:00",
          "2023-09-12T00:00:00",
          "2023-09-13T00:00:00",
          "2023-09-14T00:00:00",
          "2023-09-15T00:00:00",
          "2023-09-18T00:00:00",
          "2023-09-19T00:00:00"
         ],
         "y": [
          1.0036988464765424,
          0.9978804322834474,
          0.9953933445003349,
          0.9989560196234091,
          0.9999512825000682,
          0.9999099320367113,
          0.9957754204052894,
          1.0089820811094095,
          1.0068941203562274,
          1.0102230703027986,
          1.0110870335759825,
          1.0110018373626868,
          1.0049838002430413,
          1.0058914904429934,
          1.0067480866796021,
          0.990830534750609,
          0.9870245691858015,
          1.006336839686274,
          1.0146423416624815,
          1.014250581669126,
          1.0024992077465107,
          0.9954834124636242,
          0.9882972841657316,
          1.0065558307896267,
          1.0070109235328937,
          1.0023993962832354,
          1.0068941203562276,
          1.0051857996330031,
          1.003594282086445,
          1.006563079003031,
          1.0001435383900437,
          1.0120360742392913,
          1.0215948041954561,
          1.0201177133621528,
          1.0202758670021759,
          1.0088263039327976,
          1.0014431074065218,
          1.0102133268028122,
          1.0233956881685515,
          1.0234126798819425,
          1.0171610364089647,
          1.027184602608383,
          1.0421141398741218,
          1.0400261791209398,
          1.0424742929041066,
          1.0385003707877043,
          1.0449272784372667,
          1.0461269171672989,
          1.05587802183661,
          1.0631978856129742,
          1.0640690970995625,
          1.0770274767887853,
          1.073073041672356,
          1.0679919252526215,
          1.0623900068762975,
          1.0663323220293293,
          1.058165486693172,
          1.0534176692668746,
          1.0654854692927067,
          1.0651082057261603,
          1.0698730148658484,
          1.0829992916950808,
          1.0842671349250177,
          1.0821329519584855,
          1.0735597413789932,
          1.0704838847857272,
          1.0730584264223761,
          1.0802932128086156,
          1.0882995180413386,
          1.0975175819674914,
          1.096393277127598,
          1.1006202925973054,
          1.1084537101168552,
          1.1110673445766204,
          1.1035599778371032,
          1.1039176355805063,
          1.1083710091901415,
          1.1114907115333463,
          1.1113179426433437,
          1.1041780959703866,
          1.115084993619791,
          1.1167227333796994,
          1.113746569426538,
          1.0983328277407438,
          1.0955343044275785,
          1.0897278913747106,
          1.0995616969707354,
          1.0949234345076997,
          1.0872165636648026,
          1.0874891440180805,
          1.0863258651782415,
          1.0925727557243967,
          1.0799525467786042,
          1.071793078479022,
          1.0635264316795894,
          1.0633682780395664,
          1.070683388889108,
          1.067709601399358,
          1.0795023257853305,
          1.0649744108361041,
          1.0721288727590408,
          1.0788453524752721,
          1.094497572264392,
          1.0986929807707289,
          1.0969384378341545,
          1.0989119718740816,
          1.0943029399110054,
          1.0866738982448287,
          1.0831842993716527,
          1.0847295947048607,
          1.0920227232678479,
          1.0858026867582404,
          1.0871508544514799,
          1.096315447950878,
          1.082984676445102,
          1.0837658199684017,
          1.0814346281850715
         ],
         "type": "scatter"
        }
       ],
       "layout": {
        "template": {
         "data": {
          "histogram2dcontour": [
           {
            "type": "histogram2dcontour",
            "colorbar": {
             "outlinewidth": 0,
             "ticks": ""
            },
            "colorscale": [
             [
              0.0,
              "#0d0887"
             ],
             [
              0.1111111111111111,
              "#46039f"
             ],
             [
              0.2222222222222222,
              "#7201a8"
             ],
             [
              0.3333333333333333,
              "#9c179e"
             ],
             [
              0.4444444444444444,
              "#bd3786"
             ],
             [
              0.5555555555555556,
              "#d8576b"
             ],
             [
              0.6666666666666666,
              "#ed7953"
             ],
             [
              0.7777777777777778,
              "#fb9f3a"
             ],
             [
              0.8888888888888888,
              "#fdca26"
             ],
             [
              1.0,
              "#f0f921"
             ]
            ]
           }
          ],
          "choropleth": [
           {
            "type": "choropleth",
            "colorbar": {
             "outlinewidth": 0,
             "ticks": ""
            }
           }
          ],
          "histogram2d": [
           {
            "type": "histogram2d",
            "colorbar": {
             "outlinewidth": 0,
             "ticks": ""
            },
            "colorscale": [
             [
              0.0,
              "#0d0887"
             ],
             [
              0.1111111111111111,
              "#46039f"
             ],
             [
              0.2222222222222222,
              "#7201a8"
             ],
             [
              0.3333333333333333,
              "#9c179e"
             ],
             [
              0.4444444444444444,
              "#bd3786"
             ],
             [
              0.5555555555555556,
              "#d8576b"
             ],
             [
              0.6666666666666666,
              "#ed7953"
             ],
             [
              0.7777777777777778,
              "#fb9f3a"
             ],
             [
              0.8888888888888888,
              "#fdca26"
             ],
             [
              1.0,
              "#f0f921"
             ]
            ]
           }
          ],
          "heatmap": [
           {
            "type": "heatmap",
            "colorbar": {
             "outlinewidth": 0,
             "ticks": ""
            },
            "colorscale": [
             [
              0.0,
              "#0d0887"
             ],
             [
              0.1111111111111111,
              "#46039f"
             ],
             [
              0.2222222222222222,
              "#7201a8"
             ],
             [
              0.3333333333333333,
              "#9c179e"
             ],
             [
              0.4444444444444444,
              "#bd3786"
             ],
             [
              0.5555555555555556,
              "#d8576b"
             ],
             [
              0.6666666666666666,
              "#ed7953"
             ],
             [
              0.7777777777777778,
              "#fb9f3a"
             ],
             [
              0.8888888888888888,
              "#fdca26"
             ],
             [
              1.0,
              "#f0f921"
             ]
            ]
           }
          ],
          "heatmapgl": [
           {
            "type": "heatmapgl",
            "colorbar": {
             "outlinewidth": 0,
             "ticks": ""
            },
            "colorscale": [
             [
              0.0,
              "#0d0887"
             ],
             [
              0.1111111111111111,
              "#46039f"
             ],
             [
              0.2222222222222222,
              "#7201a8"
             ],
             [
              0.3333333333333333,
              "#9c179e"
             ],
             [
              0.4444444444444444,
              "#bd3786"
             ],
             [
              0.5555555555555556,
              "#d8576b"
             ],
             [
              0.6666666666666666,
              "#ed7953"
             ],
             [
              0.7777777777777778,
              "#fb9f3a"
             ],
             [
              0.8888888888888888,
              "#fdca26"
             ],
             [
              1.0,
              "#f0f921"
             ]
            ]
           }
          ],
          "contourcarpet": [
           {
            "type": "contourcarpet",
            "colorbar": {
             "outlinewidth": 0,
             "ticks": ""
            }
           }
          ],
          "contour": [
           {
            "type": "contour",
            "colorbar": {
             "outlinewidth": 0,
             "ticks": ""
            },
            "colorscale": [
             [
              0.0,
              "#0d0887"
             ],
             [
              0.1111111111111111,
              "#46039f"
             ],
             [
              0.2222222222222222,
              "#7201a8"
             ],
             [
              0.3333333333333333,
              "#9c179e"
             ],
             [
              0.4444444444444444,
              "#bd3786"
             ],
             [
              0.5555555555555556,
              "#d8576b"
             ],
             [
              0.6666666666666666,
              "#ed7953"
             ],
             [
              0.7777777777777778,
              "#fb9f3a"
             ],
             [
              0.8888888888888888,
              "#fdca26"
             ],
             [
              1.0,
              "#f0f921"
             ]
            ]
           }
          ],
          "surface": [
           {
            "type": "surface",
            "colorbar": {
             "outlinewidth": 0,
             "ticks": ""
            },
            "colorscale": [
             [
              0.0,
              "#0d0887"
             ],
             [
              0.1111111111111111,
              "#46039f"
             ],
             [
              0.2222222222222222,
              "#7201a8"
             ],
             [
              0.3333333333333333,
              "#9c179e"
             ],
             [
              0.4444444444444444,
              "#bd3786"
             ],
             [
              0.5555555555555556,
              "#d8576b"
             ],
             [
              0.6666666666666666,
              "#ed7953"
             ],
             [
              0.7777777777777778,
              "#fb9f3a"
             ],
             [
              0.8888888888888888,
              "#fdca26"
             ],
             [
              1.0,
              "#f0f921"
             ]
            ]
           }
          ],
          "mesh3d": [
           {
            "type": "mesh3d",
            "colorbar": {
             "outlinewidth": 0,
             "ticks": ""
            }
           }
          ],
          "scatter": [
           {
            "fillpattern": {
             "fillmode": "overlay",
             "size": 10,
             "solidity": 0.2
            },
            "type": "scatter"
           }
          ],
          "parcoords": [
           {
            "type": "parcoords",
            "line": {
             "colorbar": {
              "outlinewidth": 0,
              "ticks": ""
             }
            }
           }
          ],
          "scatterpolargl": [
           {
            "type": "scatterpolargl",
            "marker": {
             "colorbar": {
              "outlinewidth": 0,
              "ticks": ""
             }
            }
           }
          ],
          "bar": [
           {
            "error_x": {
             "color": "#2a3f5f"
            },
            "error_y": {
             "color": "#2a3f5f"
            },
            "marker": {
             "line": {
              "color": "#E5ECF6",
              "width": 0.5
             },
             "pattern": {
              "fillmode": "overlay",
              "size": 10,
              "solidity": 0.2
             }
            },
            "type": "bar"
           }
          ],
          "scattergeo": [
           {
            "type": "scattergeo",
            "marker": {
             "colorbar": {
              "outlinewidth": 0,
              "ticks": ""
             }
            }
           }
          ],
          "scatterpolar": [
           {
            "type": "scatterpolar",
            "marker": {
             "colorbar": {
              "outlinewidth": 0,
              "ticks": ""
             }
            }
           }
          ],
          "histogram": [
           {
            "marker": {
             "pattern": {
              "fillmode": "overlay",
              "size": 10,
              "solidity": 0.2
             }
            },
            "type": "histogram"
           }
          ],
          "scattergl": [
           {
            "type": "scattergl",
            "marker": {
             "colorbar": {
              "outlinewidth": 0,
              "ticks": ""
             }
            }
           }
          ],
          "scatter3d": [
           {
            "type": "scatter3d",
            "line": {
             "colorbar": {
              "outlinewidth": 0,
              "ticks": ""
             }
            },
            "marker": {
             "colorbar": {
              "outlinewidth": 0,
              "ticks": ""
             }
            }
           }
          ],
          "scattermapbox": [
           {
            "type": "scattermapbox",
            "marker": {
             "colorbar": {
              "outlinewidth": 0,
              "ticks": ""
             }
            }
           }
          ],
          "scatterternary": [
           {
            "type": "scatterternary",
            "marker": {
             "colorbar": {
              "outlinewidth": 0,
              "ticks": ""
             }
            }
           }
          ],
          "scattercarpet": [
           {
            "type": "scattercarpet",
            "marker": {
             "colorbar": {
              "outlinewidth": 0,
              "ticks": ""
             }
            }
           }
          ],
          "carpet": [
           {
            "aaxis": {
             "endlinecolor": "#2a3f5f",
             "gridcolor": "white",
             "linecolor": "white",
             "minorgridcolor": "white",
             "startlinecolor": "#2a3f5f"
            },
            "baxis": {
             "endlinecolor": "#2a3f5f",
             "gridcolor": "white",
             "linecolor": "white",
             "minorgridcolor": "white",
             "startlinecolor": "#2a3f5f"
            },
            "type": "carpet"
           }
          ],
          "table": [
           {
            "cells": {
             "fill": {
              "color": "#EBF0F8"
             },
             "line": {
              "color": "white"
             }
            },
            "header": {
             "fill": {
              "color": "#C8D4E3"
             },
             "line": {
              "color": "white"
             }
            },
            "type": "table"
           }
          ],
          "barpolar": [
           {
            "marker": {
             "line": {
              "color": "#E5ECF6",
              "width": 0.5
             },
             "pattern": {
              "fillmode": "overlay",
              "size": 10,
              "solidity": 0.2
             }
            },
            "type": "barpolar"
           }
          ],
          "pie": [
           {
            "automargin": true,
            "type": "pie"
           }
          ]
         },
         "layout": {
          "autotypenumbers": "strict",
          "colorway": [
           "#636efa",
           "#EF553B",
           "#00cc96",
           "#ab63fa",
           "#FFA15A",
           "#19d3f3",
           "#FF6692",
           "#B6E880",
           "#FF97FF",
           "#FECB52"
          ],
          "font": {
           "color": "#2a3f5f"
          },
          "hovermode": "closest",
          "hoverlabel": {
           "align": "left"
          },
          "paper_bgcolor": "white",
          "plot_bgcolor": "#E5ECF6",
          "polar": {
           "bgcolor": "#E5ECF6",
           "angularaxis": {
            "gridcolor": "white",
            "linecolor": "white",
            "ticks": ""
           },
           "radialaxis": {
            "gridcolor": "white",
            "linecolor": "white",
            "ticks": ""
           }
          },
          "ternary": {
           "bgcolor": "#E5ECF6",
           "aaxis": {
            "gridcolor": "white",
            "linecolor": "white",
            "ticks": ""
           },
           "baxis": {
            "gridcolor": "white",
            "linecolor": "white",
            "ticks": ""
           },
           "caxis": {
            "gridcolor": "white",
            "linecolor": "white",
            "ticks": ""
           }
          },
          "coloraxis": {
           "colorbar": {
            "outlinewidth": 0,
            "ticks": ""
           }
          },
          "colorscale": {
           "sequential": [
            [
             0.0,
             "#0d0887"
            ],
            [
             0.1111111111111111,
             "#46039f"
            ],
            [
             0.2222222222222222,
             "#7201a8"
            ],
            [
             0.3333333333333333,
             "#9c179e"
            ],
            [
             0.4444444444444444,
             "#bd3786"
            ],
            [
             0.5555555555555556,
             "#d8576b"
            ],
            [
             0.6666666666666666,
             "#ed7953"
            ],
            [
             0.7777777777777778,
             "#fb9f3a"
            ],
            [
             0.8888888888888888,
             "#fdca26"
            ],
            [
             1.0,
             "#f0f921"
            ]
           ],
           "sequentialminus": [
            [
             0.0,
             "#0d0887"
            ],
            [
             0.1111111111111111,
             "#46039f"
            ],
            [
             0.2222222222222222,
             "#7201a8"
            ],
            [
             0.3333333333333333,
             "#9c179e"
            ],
            [
             0.4444444444444444,
             "#bd3786"
            ],
            [
             0.5555555555555556,
             "#d8576b"
            ],
            [
             0.6666666666666666,
             "#ed7953"
            ],
            [
             0.7777777777777778,
             "#fb9f3a"
            ],
            [
             0.8888888888888888,
             "#fdca26"
            ],
            [
             1.0,
             "#f0f921"
            ]
           ],
           "diverging": [
            [
             0,
             "#8e0152"
            ],
            [
             0.1,
             "#c51b7d"
            ],
            [
             0.2,
             "#de77ae"
            ],
            [
             0.3,
             "#f1b6da"
            ],
            [
             0.4,
             "#fde0ef"
            ],
            [
             0.5,
             "#f7f7f7"
            ],
            [
             0.6,
             "#e6f5d0"
            ],
            [
             0.7,
             "#b8e186"
            ],
            [
             0.8,
             "#7fbc41"
            ],
            [
             0.9,
             "#4d9221"
            ],
            [
             1,
             "#276419"
            ]
           ]
          },
          "xaxis": {
           "gridcolor": "white",
           "linecolor": "white",
           "ticks": "",
           "title": {
            "standoff": 15
           },
           "zerolinecolor": "white",
           "automargin": true,
           "zerolinewidth": 2
          },
          "yaxis": {
           "gridcolor": "white",
           "linecolor": "white",
           "ticks": "",
           "title": {
            "standoff": 15
           },
           "zerolinecolor": "white",
           "automargin": true,
           "zerolinewidth": 2
          },
          "scene": {
           "xaxis": {
            "backgroundcolor": "#E5ECF6",
            "gridcolor": "white",
            "linecolor": "white",
            "showbackground": true,
            "ticks": "",
            "zerolinecolor": "white",
            "gridwidth": 2
           },
           "yaxis": {
            "backgroundcolor": "#E5ECF6",
            "gridcolor": "white",
            "linecolor": "white",
            "showbackground": true,
            "ticks": "",
            "zerolinecolor": "white",
            "gridwidth": 2
           },
           "zaxis": {
            "backgroundcolor": "#E5ECF6",
            "gridcolor": "white",
            "linecolor": "white",
            "showbackground": true,
            "ticks": "",
            "zerolinecolor": "white",
            "gridwidth": 2
           }
          },
          "shapedefaults": {
           "line": {
            "color": "#2a3f5f"
           }
          },
          "annotationdefaults": {
           "arrowcolor": "#2a3f5f",
           "arrowhead": 0,
           "arrowwidth": 1
          },
          "geo": {
           "bgcolor": "white",
           "landcolor": "#E5ECF6",
           "subunitcolor": "white",
           "showland": true,
           "showlakes": true,
           "lakecolor": "white"
          },
          "title": {
           "x": 0.05
          },
          "mapbox": {
           "style": "light"
          }
         }
        },
        "title": {
         "text": "Cumulative Returns of 20 Asset Portfolios and SP&500 Index from April 2023 to Sept 2023"
        },
        "xaxis": {
         "title": {
          "text": "Date"
         }
        },
        "yaxis": {
         "title": {
          "text": "Cumulative Returns"
         }
        },
        "hovermode": "x unified"
       },
       "config": {
        "plotlyServerURL": "https://plot.ly"
       }
      },
      "text/html": "<div>                            <div id=\"0f69e1eb-7a73-4ab2-9ef7-7d11bece1d6b\" class=\"plotly-graph-div\" style=\"height:525px; width:100%;\"></div>            <script type=\"text/javascript\">                require([\"plotly\"], function(Plotly) {                    window.PLOTLYENV=window.PLOTLYENV || {};                                    if (document.getElementById(\"0f69e1eb-7a73-4ab2-9ef7-7d11bece1d6b\")) {                    Plotly.newPlot(                        \"0f69e1eb-7a73-4ab2-9ef7-7d11bece1d6b\",                        [{\"mode\":\"lines\",\"name\":\"GPT\",\"x\":[\"2023-04-03T00:00:00\",\"2023-04-04T00:00:00\",\"2023-04-05T00:00:00\",\"2023-04-06T00:00:00\",\"2023-04-10T00:00:00\",\"2023-04-11T00:00:00\",\"2023-04-12T00:00:00\",\"2023-04-13T00:00:00\",\"2023-04-14T00:00:00\",\"2023-04-17T00:00:00\",\"2023-04-18T00:00:00\",\"2023-04-19T00:00:00\",\"2023-04-20T00:00:00\",\"2023-04-21T00:00:00\",\"2023-04-24T00:00:00\",\"2023-04-25T00:00:00\",\"2023-04-26T00:00:00\",\"2023-04-27T00:00:00\",\"2023-04-28T00:00:00\",\"2023-05-01T00:00:00\",\"2023-05-02T00:00:00\",\"2023-05-03T00:00:00\",\"2023-05-04T00:00:00\",\"2023-05-05T00:00:00\",\"2023-05-08T00:00:00\",\"2023-05-09T00:00:00\",\"2023-05-10T00:00:00\",\"2023-05-11T00:00:00\",\"2023-05-12T00:00:00\",\"2023-05-15T00:00:00\",\"2023-05-16T00:00:00\",\"2023-05-17T00:00:00\",\"2023-05-18T00:00:00\",\"2023-05-19T00:00:00\",\"2023-05-22T00:00:00\",\"2023-05-23T00:00:00\",\"2023-05-24T00:00:00\",\"2023-05-25T00:00:00\",\"2023-05-26T00:00:00\",\"2023-05-30T00:00:00\",\"2023-05-31T00:00:00\",\"2023-06-01T00:00:00\",\"2023-06-02T00:00:00\",\"2023-06-05T00:00:00\",\"2023-06-06T00:00:00\",\"2023-06-07T00:00:00\",\"2023-06-08T00:00:00\",\"2023-06-09T00:00:00\",\"2023-06-12T00:00:00\",\"2023-06-13T00:00:00\",\"2023-06-14T00:00:00\",\"2023-06-15T00:00:00\",\"2023-06-16T00:00:00\",\"2023-06-20T00:00:00\",\"2023-06-21T00:00:00\",\"2023-06-22T00:00:00\",\"2023-06-23T00:00:00\",\"2023-06-26T00:00:00\",\"2023-06-27T00:00:00\",\"2023-06-28T00:00:00\",\"2023-06-29T00:00:00\",\"2023-06-30T00:00:00\",\"2023-07-03T00:00:00\",\"2023-07-05T00:00:00\",\"2023-07-06T00:00:00\",\"2023-07-07T00:00:00\",\"2023-07-10T00:00:00\",\"2023-07-11T00:00:00\",\"2023-07-12T00:00:00\",\"2023-07-13T00:00:00\",\"2023-07-14T00:00:00\",\"2023-07-17T00:00:00\",\"2023-07-18T00:00:00\",\"2023-07-19T00:00:00\",\"2023-07-20T00:00:00\",\"2023-07-21T00:00:00\",\"2023-07-24T00:00:00\",\"2023-07-25T00:00:00\",\"2023-07-26T00:00:00\",\"2023-07-27T00:00:00\",\"2023-07-28T00:00:00\",\"2023-07-31T00:00:00\",\"2023-08-01T00:00:00\",\"2023-08-02T00:00:00\",\"2023-08-03T00:00:00\",\"2023-08-04T00:00:00\",\"2023-08-07T00:00:00\",\"2023-08-08T00:00:00\",\"2023-08-09T00:00:00\",\"2023-08-10T00:00:00\",\"2023-08-11T00:00:00\",\"2023-08-14T00:00:00\",\"2023-08-15T00:00:00\",\"2023-08-16T00:00:00\",\"2023-08-17T00:00:00\",\"2023-08-18T00:00:00\",\"2023-08-21T00:00:00\",\"2023-08-22T00:00:00\",\"2023-08-23T00:00:00\",\"2023-08-24T00:00:00\",\"2023-08-25T00:00:00\",\"2023-08-28T00:00:00\",\"2023-08-29T00:00:00\",\"2023-08-30T00:00:00\",\"2023-08-31T00:00:00\",\"2023-09-01T00:00:00\",\"2023-09-05T00:00:00\",\"2023-09-06T00:00:00\",\"2023-09-07T00:00:00\",\"2023-09-08T00:00:00\",\"2023-09-11T00:00:00\",\"2023-09-12T00:00:00\",\"2023-09-13T00:00:00\",\"2023-09-14T00:00:00\",\"2023-09-15T00:00:00\",\"2023-09-18T00:00:00\",\"2023-09-19T00:00:00\"],\"y\":[1.00497135488052,1.0058339192646122,1.0033587053244708,1.0129739401857794,1.0074678202325351,1.0010124979676642,0.9957072255168181,1.0177411567139059,1.0199333071468821,1.0194878878961422,1.0178686565549604,1.0179767855730284,1.0158173658032645,1.0184931346809027,1.0171092168020452,1.0023382616098064,1.0091076138589652,1.0418589555934255,1.045392279791222,1.0429443776186067,1.0363899970508448,1.031411407051129,1.0258100892844235,1.0443381406529082,1.0460221275513988,1.0420876616778092,1.0522962803801839,1.0542170304191774,1.0509315585102719,1.0528374925151036,1.053278433324383,1.0640030832092977,1.0754272927171615,1.0714532480159547,1.069534957809021,1.0577292376332166,1.0548277853422523,1.0613150398550681,1.0793534493490051,1.0796668416871558,1.0775898022740258,1.0919951922568527,1.102520557911771,1.100697127416722,1.1026363527749772,1.0862245492442133,1.0955004760573552,1.096331524524483,1.1104699200709136,1.1124528538891962,1.1153580135758268,1.1317380808660547,1.1253520936971133,1.1215730689064203,1.1142417480904356,1.1283298554692271,1.124655857143934,1.112480226620505,1.124915833200118,1.1246747155328622,1.1257966409565554,1.142557801675538,1.1406903800607469,1.142397790643628,1.1361896528870243,1.1288077788987803,1.1236860433731917,1.129418273415686,1.140913380529456,1.1538867840614597,1.15760126034604,1.15891838379087,1.1647155135664786,1.169494880824044,1.158443805717963,1.1569199503020167,1.161044143088992,1.1658389789161807,1.168112769730104,1.164129176496114,1.1849816106422268,1.1830948053915464,1.180938765831178,1.1620804205790365,1.1618027635068233,1.1601828561816745,1.1705324033812963,1.1647032298389364,1.1541579491050693,1.157190256493247,1.15580955799146,1.1651041987133934,1.1519654504535093,1.1431156906778812,1.131808733501195,1.1302192743992228,1.1365488503135475,1.1354076546182834,1.149494154262474,1.130122084574599,1.1385942696263813,1.144621712915902,1.1610197715160437,1.1657288452777934,1.1662474174790307,1.167928227499325,1.1670311309648038,1.155978013984045,1.1549115438999873,1.1582759486700658,1.1718273143839966,1.161929315108292,1.167579022764218,1.174567672502906,1.159083579993614,1.163271456087023,1.1586493791758894],\"type\":\"scatter\"},{\"mode\":\"lines\",\"name\":\"Min Var\",\"x\":[\"2023-04-03T00:00:00\",\"2023-04-04T00:00:00\",\"2023-04-05T00:00:00\",\"2023-04-06T00:00:00\",\"2023-04-10T00:00:00\",\"2023-04-11T00:00:00\",\"2023-04-12T00:00:00\",\"2023-04-13T00:00:00\",\"2023-04-14T00:00:00\",\"2023-04-17T00:00:00\",\"2023-04-18T00:00:00\",\"2023-04-19T00:00:00\",\"2023-04-20T00:00:00\",\"2023-04-21T00:00:00\",\"2023-04-24T00:00:00\",\"2023-04-25T00:00:00\",\"2023-04-26T00:00:00\",\"2023-04-27T00:00:00\",\"2023-04-28T00:00:00\",\"2023-05-01T00:00:00\",\"2023-05-02T00:00:00\",\"2023-05-03T00:00:00\",\"2023-05-04T00:00:00\",\"2023-05-05T00:00:00\",\"2023-05-08T00:00:00\",\"2023-05-09T00:00:00\",\"2023-05-10T00:00:00\",\"2023-05-11T00:00:00\",\"2023-05-12T00:00:00\",\"2023-05-15T00:00:00\",\"2023-05-16T00:00:00\",\"2023-05-17T00:00:00\",\"2023-05-18T00:00:00\",\"2023-05-19T00:00:00\",\"2023-05-22T00:00:00\",\"2023-05-23T00:00:00\",\"2023-05-24T00:00:00\",\"2023-05-25T00:00:00\",\"2023-05-26T00:00:00\",\"2023-05-30T00:00:00\",\"2023-05-31T00:00:00\",\"2023-06-01T00:00:00\",\"2023-06-02T00:00:00\",\"2023-06-05T00:00:00\",\"2023-06-06T00:00:00\",\"2023-06-07T00:00:00\",\"2023-06-08T00:00:00\",\"2023-06-09T00:00:00\",\"2023-06-12T00:00:00\",\"2023-06-13T00:00:00\",\"2023-06-14T00:00:00\",\"2023-06-15T00:00:00\",\"2023-06-16T00:00:00\",\"2023-06-20T00:00:00\",\"2023-06-21T00:00:00\",\"2023-06-22T00:00:00\",\"2023-06-23T00:00:00\",\"2023-06-26T00:00:00\",\"2023-06-27T00:00:00\",\"2023-06-28T00:00:00\",\"2023-06-29T00:00:00\",\"2023-06-30T00:00:00\",\"2023-07-03T00:00:00\",\"2023-07-05T00:00:00\",\"2023-07-06T00:00:00\",\"2023-07-07T00:00:00\",\"2023-07-10T00:00:00\",\"2023-07-11T00:00:00\",\"2023-07-12T00:00:00\",\"2023-07-13T00:00:00\",\"2023-07-14T00:00:00\",\"2023-07-17T00:00:00\",\"2023-07-18T00:00:00\",\"2023-07-19T00:00:00\",\"2023-07-20T00:00:00\",\"2023-07-21T00:00:00\",\"2023-07-24T00:00:00\",\"2023-07-25T00:00:00\",\"2023-07-26T00:00:00\",\"2023-07-27T00:00:00\",\"2023-07-28T00:00:00\",\"2023-07-31T00:00:00\",\"2023-08-01T00:00:00\",\"2023-08-02T00:00:00\",\"2023-08-03T00:00:00\",\"2023-08-04T00:00:00\",\"2023-08-07T00:00:00\",\"2023-08-08T00:00:00\",\"2023-08-09T00:00:00\",\"2023-08-10T00:00:00\",\"2023-08-11T00:00:00\",\"2023-08-14T00:00:00\",\"2023-08-15T00:00:00\",\"2023-08-16T00:00:00\",\"2023-08-17T00:00:00\",\"2023-08-18T00:00:00\",\"2023-08-21T00:00:00\",\"2023-08-22T00:00:00\",\"2023-08-23T00:00:00\",\"2023-08-24T00:00:00\",\"2023-08-25T00:00:00\",\"2023-08-28T00:00:00\",\"2023-08-29T00:00:00\",\"2023-08-30T00:00:00\",\"2023-08-31T00:00:00\",\"2023-09-01T00:00:00\",\"2023-09-05T00:00:00\",\"2023-09-06T00:00:00\",\"2023-09-07T00:00:00\",\"2023-09-08T00:00:00\",\"2023-09-11T00:00:00\",\"2023-09-12T00:00:00\",\"2023-09-13T00:00:00\",\"2023-09-14T00:00:00\",\"2023-09-15T00:00:00\",\"2023-09-18T00:00:00\",\"2023-09-19T00:00:00\"],\"y\":[1.0079765653558803,1.0071612340290033,1.015667762980425,1.0193022431316736,1.0165752573230122,1.0153512932839708,1.01158336471712,1.0238803268561758,1.0251288774637342,1.0268215268159202,1.0249517331639861,1.0226295854107494,1.022559470462667,1.0256415462897224,1.026182142097105,1.020758058547275,1.0153096549490483,1.03281573200049,1.0394777637854815,1.0412961191600727,1.0342267610188824,1.0282455393373793,1.0240135295852821,1.0368969047542944,1.037224717201555,1.0330434806173352,1.035457642480169,1.0344522791634854,1.0343819237456693,1.0337105936581499,1.027111331299634,1.0335935244808976,1.0375823104307196,1.0356185831977898,1.026667349831914,1.0188092490665799,1.0128277676718487,1.0148487661890522,1.0241532837768068,1.0208170962513048,1.0213243725266006,1.0318282521954791,1.0430982688946668,1.0404742731073127,1.0388836781689275,1.0329651872413588,1.0419185665135255,1.0439164213189038,1.0506178276318467,1.0531271865056844,1.056161362969399,1.0697136051822762,1.0687342079584798,1.0638882274887373,1.062011195959689,1.0686252685455455,1.0645971565335992,1.0594538020910917,1.066655427762073,1.0622247183471119,1.0650529698600253,1.0779409816303644,1.0788502927390204,1.0792445494442513,1.0725129380776484,1.0605357565328168,1.0619336210116985,1.065367727122727,1.0697131697554485,1.0772750780871352,1.0834092272488658,1.0803864123551974,1.0837558329929584,1.0912215063597146,1.0970990556313136,1.1004725396018455,1.1054975902686666,1.1075747519385388,1.110350795153641,1.1035959117955583,1.1168813918904636,1.1122527262958675,1.110853639994663,1.1031038173886087,1.1030418754485258,1.0973319026488682,1.109704154917109,1.104283314300943,1.0989030991940838,1.1004974875763487,1.1022304775367315,1.106555275719005,1.0960923178492759,1.0906303226510008,1.0809829430410818,1.082607068305822,1.0821048725381146,1.0775783620834254,1.085909787319176,1.0764216403312636,1.0841212892123087,1.0884556310996707,1.0983839897931522,1.1003894822653968,1.096977545674125,1.0946801524093268,1.0892213416367487,1.0851322575453848,1.0893705202022652,1.0892383729820185,1.0988782329994096,1.0944317449994556,1.0985113795431667,1.1034087860526116,1.0927484672891092,1.0948294536514016,1.089516979294407],\"type\":\"scatter\"},{\"mode\":\"lines\",\"name\":\"Max Ret\",\"x\":[\"2023-04-03T00:00:00\",\"2023-04-04T00:00:00\",\"2023-04-05T00:00:00\",\"2023-04-06T00:00:00\",\"2023-04-10T00:00:00\",\"2023-04-11T00:00:00\",\"2023-04-12T00:00:00\",\"2023-04-13T00:00:00\",\"2023-04-14T00:00:00\",\"2023-04-17T00:00:00\",\"2023-04-18T00:00:00\",\"2023-04-19T00:00:00\",\"2023-04-20T00:00:00\",\"2023-04-21T00:00:00\",\"2023-04-24T00:00:00\",\"2023-04-25T00:00:00\",\"2023-04-26T00:00:00\",\"2023-04-27T00:00:00\",\"2023-04-28T00:00:00\",\"2023-05-01T00:00:00\",\"2023-05-02T00:00:00\",\"2023-05-03T00:00:00\",\"2023-05-04T00:00:00\",\"2023-05-05T00:00:00\",\"2023-05-08T00:00:00\",\"2023-05-09T00:00:00\",\"2023-05-10T00:00:00\",\"2023-05-11T00:00:00\",\"2023-05-12T00:00:00\",\"2023-05-15T00:00:00\",\"2023-05-16T00:00:00\",\"2023-05-17T00:00:00\",\"2023-05-18T00:00:00\",\"2023-05-19T00:00:00\",\"2023-05-22T00:00:00\",\"2023-05-23T00:00:00\",\"2023-05-24T00:00:00\",\"2023-05-25T00:00:00\",\"2023-05-26T00:00:00\",\"2023-05-30T00:00:00\",\"2023-05-31T00:00:00\",\"2023-06-01T00:00:00\",\"2023-06-02T00:00:00\",\"2023-06-05T00:00:00\",\"2023-06-06T00:00:00\",\"2023-06-07T00:00:00\",\"2023-06-08T00:00:00\",\"2023-06-09T00:00:00\",\"2023-06-12T00:00:00\",\"2023-06-13T00:00:00\",\"2023-06-14T00:00:00\",\"2023-06-15T00:00:00\",\"2023-06-16T00:00:00\",\"2023-06-20T00:00:00\",\"2023-06-21T00:00:00\",\"2023-06-22T00:00:00\",\"2023-06-23T00:00:00\",\"2023-06-26T00:00:00\",\"2023-06-27T00:00:00\",\"2023-06-28T00:00:00\",\"2023-06-29T00:00:00\",\"2023-06-30T00:00:00\",\"2023-07-03T00:00:00\",\"2023-07-05T00:00:00\",\"2023-07-06T00:00:00\",\"2023-07-07T00:00:00\",\"2023-07-10T00:00:00\",\"2023-07-11T00:00:00\",\"2023-07-12T00:00:00\",\"2023-07-13T00:00:00\",\"2023-07-14T00:00:00\",\"2023-07-17T00:00:00\",\"2023-07-18T00:00:00\",\"2023-07-19T00:00:00\",\"2023-07-20T00:00:00\",\"2023-07-21T00:00:00\",\"2023-07-24T00:00:00\",\"2023-07-25T00:00:00\",\"2023-07-26T00:00:00\",\"2023-07-27T00:00:00\",\"2023-07-28T00:00:00\",\"2023-07-31T00:00:00\",\"2023-08-01T00:00:00\",\"2023-08-02T00:00:00\",\"2023-08-03T00:00:00\",\"2023-08-04T00:00:00\",\"2023-08-07T00:00:00\",\"2023-08-08T00:00:00\",\"2023-08-09T00:00:00\",\"2023-08-10T00:00:00\",\"2023-08-11T00:00:00\",\"2023-08-14T00:00:00\",\"2023-08-15T00:00:00\",\"2023-08-16T00:00:00\",\"2023-08-17T00:00:00\",\"2023-08-18T00:00:00\",\"2023-08-21T00:00:00\",\"2023-08-22T00:00:00\",\"2023-08-23T00:00:00\",\"2023-08-24T00:00:00\",\"2023-08-25T00:00:00\",\"2023-08-28T00:00:00\",\"2023-08-29T00:00:00\",\"2023-08-30T00:00:00\",\"2023-08-31T00:00:00\",\"2023-09-01T00:00:00\",\"2023-09-05T00:00:00\",\"2023-09-06T00:00:00\",\"2023-09-07T00:00:00\",\"2023-09-08T00:00:00\",\"2023-09-11T00:00:00\",\"2023-09-12T00:00:00\",\"2023-09-13T00:00:00\",\"2023-09-14T00:00:00\",\"2023-09-15T00:00:00\",\"2023-09-18T00:00:00\",\"2023-09-19T00:00:00\"],\"y\":[1.008730243033511,1.006415587204925,1.0056135975510185,1.014166084356501,1.011316779775569,1.0073436762592722,1.001025668348155,1.0177449324664871,1.0178530131984662,1.0171257214453828,1.0182747258506821,1.0150271486461766,1.0119324084395387,1.0127993257924015,1.012449240860957,0.998950439289877,1.0030245798137414,1.0277606679504503,1.036665300039605,1.0397608542787362,1.0296578624524304,1.0237652011980416,1.0179277043426933,1.038017393603045,1.040783922155674,1.0343817216979139,1.042761471324752,1.042908794030109,1.0417765340009404,1.0438374447149614,1.0422949492761295,1.0556617166854347,1.0681118067227278,1.0637254785337453,1.0628104400544707,1.049872797441496,1.0436955220905035,1.0732950298926358,1.0900047122512402,1.0901247401638088,1.0835152039118667,1.1008420905955711,1.109795724368877,1.1062667897659668,1.1067926852991963,1.090149135933231,1.0999098093190112,1.1026468818046573,1.116073662664467,1.1207936584648084,1.1238694826055327,1.1380928395598835,1.131843306971476,1.1316475411700733,1.1249328573189878,1.1345101990395388,1.129255236380677,1.1178310577557389,1.1317090130335705,1.1273794498401368,1.128831752062861,1.1459460601121414,1.1449863377943665,1.1447696178708553,1.1384496758881641,1.1304765627730948,1.1275978963517759,1.1333084668713171,1.1434133303795384,1.1576819709240558,1.1665175471093574,1.1693599770812657,1.1793915117102818,1.181410687503426,1.1701087990607701,1.1684356632515374,1.1757726055587732,1.1818676885528514,1.1852633288113523,1.1788885231646584,1.1958333768093794,1.1964135369369904,1.1941860107323368,1.1730833284739084,1.1736715953650643,1.1675948915839012,1.1796352973612223,1.1723788928902403,1.1595994474013287,1.162683109068098,1.1583058818296157,1.173709346179496,1.1638418704816815,1.156565901791861,1.1464631863330614,1.145598453548317,1.1589577686689834,1.1561028675645038,1.171332220714013,1.1559066519169323,1.16111204590176,1.169732063785642,1.1884557994289437,1.1944390885677951,1.1916596612395929,1.1918251525346408,1.1905853615920872,1.179609167332554,1.1786747696761513,1.1793463236421096,1.1864515375174172,1.1774572980287048,1.182540615227775,1.1887975384826488,1.1745586284351421,1.1776702522021405,1.1712640217101347],\"type\":\"scatter\"},{\"mode\":\"lines\",\"name\":\"Max Sharpe\",\"x\":[\"2023-04-03T00:00:00\",\"2023-04-04T00:00:00\",\"2023-04-05T00:00:00\",\"2023-04-06T00:00:00\",\"2023-04-10T00:00:00\",\"2023-04-11T00:00:00\",\"2023-04-12T00:00:00\",\"2023-04-13T00:00:00\",\"2023-04-14T00:00:00\",\"2023-04-17T00:00:00\",\"2023-04-18T00:00:00\",\"2023-04-19T00:00:00\",\"2023-04-20T00:00:00\",\"2023-04-21T00:00:00\",\"2023-04-24T00:00:00\",\"2023-04-25T00:00:00\",\"2023-04-26T00:00:00\",\"2023-04-27T00:00:00\",\"2023-04-28T00:00:00\",\"2023-05-01T00:00:00\",\"2023-05-02T00:00:00\",\"2023-05-03T00:00:00\",\"2023-05-04T00:00:00\",\"2023-05-05T00:00:00\",\"2023-05-08T00:00:00\",\"2023-05-09T00:00:00\",\"2023-05-10T00:00:00\",\"2023-05-11T00:00:00\",\"2023-05-12T00:00:00\",\"2023-05-15T00:00:00\",\"2023-05-16T00:00:00\",\"2023-05-17T00:00:00\",\"2023-05-18T00:00:00\",\"2023-05-19T00:00:00\",\"2023-05-22T00:00:00\",\"2023-05-23T00:00:00\",\"2023-05-24T00:00:00\",\"2023-05-25T00:00:00\",\"2023-05-26T00:00:00\",\"2023-05-30T00:00:00\",\"2023-05-31T00:00:00\",\"2023-06-01T00:00:00\",\"2023-06-02T00:00:00\",\"2023-06-05T00:00:00\",\"2023-06-06T00:00:00\",\"2023-06-07T00:00:00\",\"2023-06-08T00:00:00\",\"2023-06-09T00:00:00\",\"2023-06-12T00:00:00\",\"2023-06-13T00:00:00\",\"2023-06-14T00:00:00\",\"2023-06-15T00:00:00\",\"2023-06-16T00:00:00\",\"2023-06-20T00:00:00\",\"2023-06-21T00:00:00\",\"2023-06-22T00:00:00\",\"2023-06-23T00:00:00\",\"2023-06-26T00:00:00\",\"2023-06-27T00:00:00\",\"2023-06-28T00:00:00\",\"2023-06-29T00:00:00\",\"2023-06-30T00:00:00\",\"2023-07-03T00:00:00\",\"2023-07-05T00:00:00\",\"2023-07-06T00:00:00\",\"2023-07-07T00:00:00\",\"2023-07-10T00:00:00\",\"2023-07-11T00:00:00\",\"2023-07-12T00:00:00\",\"2023-07-13T00:00:00\",\"2023-07-14T00:00:00\",\"2023-07-17T00:00:00\",\"2023-07-18T00:00:00\",\"2023-07-19T00:00:00\",\"2023-07-20T00:00:00\",\"2023-07-21T00:00:00\",\"2023-07-24T00:00:00\",\"2023-07-25T00:00:00\",\"2023-07-26T00:00:00\",\"2023-07-27T00:00:00\",\"2023-07-28T00:00:00\",\"2023-07-31T00:00:00\",\"2023-08-01T00:00:00\",\"2023-08-02T00:00:00\",\"2023-08-03T00:00:00\",\"2023-08-04T00:00:00\",\"2023-08-07T00:00:00\",\"2023-08-08T00:00:00\",\"2023-08-09T00:00:00\",\"2023-08-10T00:00:00\",\"2023-08-11T00:00:00\",\"2023-08-14T00:00:00\",\"2023-08-15T00:00:00\",\"2023-08-16T00:00:00\",\"2023-08-17T00:00:00\",\"2023-08-18T00:00:00\",\"2023-08-21T00:00:00\",\"2023-08-22T00:00:00\",\"2023-08-23T00:00:00\",\"2023-08-24T00:00:00\",\"2023-08-25T00:00:00\",\"2023-08-28T00:00:00\",\"2023-08-29T00:00:00\",\"2023-08-30T00:00:00\",\"2023-08-31T00:00:00\",\"2023-09-01T00:00:00\",\"2023-09-05T00:00:00\",\"2023-09-06T00:00:00\",\"2023-09-07T00:00:00\",\"2023-09-08T00:00:00\",\"2023-09-11T00:00:00\",\"2023-09-12T00:00:00\",\"2023-09-13T00:00:00\",\"2023-09-14T00:00:00\",\"2023-09-15T00:00:00\",\"2023-09-18T00:00:00\",\"2023-09-19T00:00:00\"],\"y\":[1.009118146523754,1.0070688460283461,1.0117525431608039,1.0166320342142896,1.0133949949471197,1.0115851929251376,1.0072098349882275,1.0210168160881181,1.0190225430694673,1.0201703593586289,1.0213419093210017,1.0181100460312686,1.0173139555528514,1.0203124709608877,1.021205132663945,1.0141785963133856,1.0106378463995027,1.0300091923281582,1.0370066572736385,1.0393923599946033,1.0322706129401205,1.026751659274506,1.0226467780114818,1.0390244535786082,1.0396571194311188,1.034276095700288,1.0377652178800107,1.036948117521124,1.0368798479952757,1.036922496935009,1.0308446353380436,1.0382365474926676,1.04417023710654,1.0411855111722994,1.0329827262868259,1.023740793844621,1.0183446323704035,1.0275139094854215,1.03868331835581,1.0364612130809092,1.035640238362026,1.0484779789658234,1.0592721050721179,1.0555222234674826,1.0533360203387299,1.0444819732098722,1.0550777422996354,1.0578174187621117,1.066236475373669,1.0689068529343029,1.0706114918612057,1.0837329484770841,1.0804391101664794,1.0780930901881274,1.0762774471048309,1.0841307037941819,1.0797224268077776,1.0741872739706615,1.083899866713019,1.0787920628903582,1.0793546903521545,1.0942579817671385,1.0950990277523973,1.0943997408356383,1.088651952920185,1.0768255421653783,1.0774554522894038,1.080940272420844,1.0861770670338546,1.0938963059711881,1.1030386343653698,1.1035560100100013,1.1084915697294664,1.1153805633419938,1.1147522939918157,1.1165885439049184,1.121712292893065,1.1244282243654653,1.1272962102049626,1.120110141221648,1.133773978403368,1.132693031425644,1.1305440540158398,1.1197079897261655,1.1190196033298954,1.1100985311832126,1.1202268162815028,1.1147844503113928,1.1075623839451543,1.109531880718269,1.1093999706165338,1.1161666573535152,1.106063346355458,1.1000190467980213,1.0882821420220141,1.090890808714823,1.095236394744225,1.091869498683452,1.10301315662151,1.0909621994363303,1.098052946151777,1.1046913752483634,1.1166758146735694,1.1209856792623132,1.1177265416331008,1.1163084961369893,1.1120179661658007,1.105254629187502,1.106895338917944,1.1064211688086445,1.1149848397056752,1.1076780066463678,1.1109021536980688,1.1173134066366552,1.1072535258234957,1.1099655346117014,1.1045281926320627],\"type\":\"scatter\"},{\"mode\":\"lines\",\"name\":\"S&P 500\",\"x\":[\"2023-04-03T00:00:00\",\"2023-04-04T00:00:00\",\"2023-04-05T00:00:00\",\"2023-04-06T00:00:00\",\"2023-04-10T00:00:00\",\"2023-04-11T00:00:00\",\"2023-04-12T00:00:00\",\"2023-04-13T00:00:00\",\"2023-04-14T00:00:00\",\"2023-04-17T00:00:00\",\"2023-04-18T00:00:00\",\"2023-04-19T00:00:00\",\"2023-04-20T00:00:00\",\"2023-04-21T00:00:00\",\"2023-04-24T00:00:00\",\"2023-04-25T00:00:00\",\"2023-04-26T00:00:00\",\"2023-04-27T00:00:00\",\"2023-04-28T00:00:00\",\"2023-05-01T00:00:00\",\"2023-05-02T00:00:00\",\"2023-05-03T00:00:00\",\"2023-05-04T00:00:00\",\"2023-05-05T00:00:00\",\"2023-05-08T00:00:00\",\"2023-05-09T00:00:00\",\"2023-05-10T00:00:00\",\"2023-05-11T00:00:00\",\"2023-05-12T00:00:00\",\"2023-05-15T00:00:00\",\"2023-05-16T00:00:00\",\"2023-05-17T00:00:00\",\"2023-05-18T00:00:00\",\"2023-05-19T00:00:00\",\"2023-05-22T00:00:00\",\"2023-05-23T00:00:00\",\"2023-05-24T00:00:00\",\"2023-05-25T00:00:00\",\"2023-05-26T00:00:00\",\"2023-05-30T00:00:00\",\"2023-05-31T00:00:00\",\"2023-06-01T00:00:00\",\"2023-06-02T00:00:00\",\"2023-06-05T00:00:00\",\"2023-06-06T00:00:00\",\"2023-06-07T00:00:00\",\"2023-06-08T00:00:00\",\"2023-06-09T00:00:00\",\"2023-06-12T00:00:00\",\"2023-06-13T00:00:00\",\"2023-06-14T00:00:00\",\"2023-06-15T00:00:00\",\"2023-06-16T00:00:00\",\"2023-06-20T00:00:00\",\"2023-06-21T00:00:00\",\"2023-06-22T00:00:00\",\"2023-06-23T00:00:00\",\"2023-06-26T00:00:00\",\"2023-06-27T00:00:00\",\"2023-06-28T00:00:00\",\"2023-06-29T00:00:00\",\"2023-06-30T00:00:00\",\"2023-07-03T00:00:00\",\"2023-07-05T00:00:00\",\"2023-07-06T00:00:00\",\"2023-07-07T00:00:00\",\"2023-07-10T00:00:00\",\"2023-07-11T00:00:00\",\"2023-07-12T00:00:00\",\"2023-07-13T00:00:00\",\"2023-07-14T00:00:00\",\"2023-07-17T00:00:00\",\"2023-07-18T00:00:00\",\"2023-07-19T00:00:00\",\"2023-07-20T00:00:00\",\"2023-07-21T00:00:00\",\"2023-07-24T00:00:00\",\"2023-07-25T00:00:00\",\"2023-07-26T00:00:00\",\"2023-07-27T00:00:00\",\"2023-07-28T00:00:00\",\"2023-07-31T00:00:00\",\"2023-08-01T00:00:00\",\"2023-08-02T00:00:00\",\"2023-08-03T00:00:00\",\"2023-08-04T00:00:00\",\"2023-08-07T00:00:00\",\"2023-08-08T00:00:00\",\"2023-08-09T00:00:00\",\"2023-08-10T00:00:00\",\"2023-08-11T00:00:00\",\"2023-08-14T00:00:00\",\"2023-08-15T00:00:00\",\"2023-08-16T00:00:00\",\"2023-08-17T00:00:00\",\"2023-08-18T00:00:00\",\"2023-08-21T00:00:00\",\"2023-08-22T00:00:00\",\"2023-08-23T00:00:00\",\"2023-08-24T00:00:00\",\"2023-08-25T00:00:00\",\"2023-08-28T00:00:00\",\"2023-08-29T00:00:00\",\"2023-08-30T00:00:00\",\"2023-08-31T00:00:00\",\"2023-09-01T00:00:00\",\"2023-09-05T00:00:00\",\"2023-09-06T00:00:00\",\"2023-09-07T00:00:00\",\"2023-09-08T00:00:00\",\"2023-09-11T00:00:00\",\"2023-09-12T00:00:00\",\"2023-09-13T00:00:00\",\"2023-09-14T00:00:00\",\"2023-09-15T00:00:00\",\"2023-09-18T00:00:00\",\"2023-09-19T00:00:00\"],\"y\":[1.0036988464765424,0.9978804322834474,0.9953933445003349,0.9989560196234091,0.9999512825000682,0.9999099320367113,0.9957754204052894,1.0089820811094095,1.0068941203562274,1.0102230703027986,1.0110870335759825,1.0110018373626868,1.0049838002430413,1.0058914904429934,1.0067480866796021,0.990830534750609,0.9870245691858015,1.006336839686274,1.0146423416624815,1.014250581669126,1.0024992077465107,0.9954834124636242,0.9882972841657316,1.0065558307896267,1.0070109235328937,1.0023993962832354,1.0068941203562276,1.0051857996330031,1.003594282086445,1.006563079003031,1.0001435383900437,1.0120360742392913,1.0215948041954561,1.0201177133621528,1.0202758670021759,1.0088263039327976,1.0014431074065218,1.0102133268028122,1.0233956881685515,1.0234126798819425,1.0171610364089647,1.027184602608383,1.0421141398741218,1.0400261791209398,1.0424742929041066,1.0385003707877043,1.0449272784372667,1.0461269171672989,1.05587802183661,1.0631978856129742,1.0640690970995625,1.0770274767887853,1.073073041672356,1.0679919252526215,1.0623900068762975,1.0663323220293293,1.058165486693172,1.0534176692668746,1.0654854692927067,1.0651082057261603,1.0698730148658484,1.0829992916950808,1.0842671349250177,1.0821329519584855,1.0735597413789932,1.0704838847857272,1.0730584264223761,1.0802932128086156,1.0882995180413386,1.0975175819674914,1.096393277127598,1.1006202925973054,1.1084537101168552,1.1110673445766204,1.1035599778371032,1.1039176355805063,1.1083710091901415,1.1114907115333463,1.1113179426433437,1.1041780959703866,1.115084993619791,1.1167227333796994,1.113746569426538,1.0983328277407438,1.0955343044275785,1.0897278913747106,1.0995616969707354,1.0949234345076997,1.0872165636648026,1.0874891440180805,1.0863258651782415,1.0925727557243967,1.0799525467786042,1.071793078479022,1.0635264316795894,1.0633682780395664,1.070683388889108,1.067709601399358,1.0795023257853305,1.0649744108361041,1.0721288727590408,1.0788453524752721,1.094497572264392,1.0986929807707289,1.0969384378341545,1.0989119718740816,1.0943029399110054,1.0866738982448287,1.0831842993716527,1.0847295947048607,1.0920227232678479,1.0858026867582404,1.0871508544514799,1.096315447950878,1.082984676445102,1.0837658199684017,1.0814346281850715],\"type\":\"scatter\"}],                        {\"template\":{\"data\":{\"histogram2dcontour\":[{\"type\":\"histogram2dcontour\",\"colorbar\":{\"outlinewidth\":0,\"ticks\":\"\"},\"colorscale\":[[0.0,\"#0d0887\"],[0.1111111111111111,\"#46039f\"],[0.2222222222222222,\"#7201a8\"],[0.3333333333333333,\"#9c179e\"],[0.4444444444444444,\"#bd3786\"],[0.5555555555555556,\"#d8576b\"],[0.6666666666666666,\"#ed7953\"],[0.7777777777777778,\"#fb9f3a\"],[0.8888888888888888,\"#fdca26\"],[1.0,\"#f0f921\"]]}],\"choropleth\":[{\"type\":\"choropleth\",\"colorbar\":{\"outlinewidth\":0,\"ticks\":\"\"}}],\"histogram2d\":[{\"type\":\"histogram2d\",\"colorbar\":{\"outlinewidth\":0,\"ticks\":\"\"},\"colorscale\":[[0.0,\"#0d0887\"],[0.1111111111111111,\"#46039f\"],[0.2222222222222222,\"#7201a8\"],[0.3333333333333333,\"#9c179e\"],[0.4444444444444444,\"#bd3786\"],[0.5555555555555556,\"#d8576b\"],[0.6666666666666666,\"#ed7953\"],[0.7777777777777778,\"#fb9f3a\"],[0.8888888888888888,\"#fdca26\"],[1.0,\"#f0f921\"]]}],\"heatmap\":[{\"type\":\"heatmap\",\"colorbar\":{\"outlinewidth\":0,\"ticks\":\"\"},\"colorscale\":[[0.0,\"#0d0887\"],[0.1111111111111111,\"#46039f\"],[0.2222222222222222,\"#7201a8\"],[0.3333333333333333,\"#9c179e\"],[0.4444444444444444,\"#bd3786\"],[0.5555555555555556,\"#d8576b\"],[0.6666666666666666,\"#ed7953\"],[0.7777777777777778,\"#fb9f3a\"],[0.8888888888888888,\"#fdca26\"],[1.0,\"#f0f921\"]]}],\"heatmapgl\":[{\"type\":\"heatmapgl\",\"colorbar\":{\"outlinewidth\":0,\"ticks\":\"\"},\"colorscale\":[[0.0,\"#0d0887\"],[0.1111111111111111,\"#46039f\"],[0.2222222222222222,\"#7201a8\"],[0.3333333333333333,\"#9c179e\"],[0.4444444444444444,\"#bd3786\"],[0.5555555555555556,\"#d8576b\"],[0.6666666666666666,\"#ed7953\"],[0.7777777777777778,\"#fb9f3a\"],[0.8888888888888888,\"#fdca26\"],[1.0,\"#f0f921\"]]}],\"contourcarpet\":[{\"type\":\"contourcarpet\",\"colorbar\":{\"outlinewidth\":0,\"ticks\":\"\"}}],\"contour\":[{\"type\":\"contour\",\"colorbar\":{\"outlinewidth\":0,\"ticks\":\"\"},\"colorscale\":[[0.0,\"#0d0887\"],[0.1111111111111111,\"#46039f\"],[0.2222222222222222,\"#7201a8\"],[0.3333333333333333,\"#9c179e\"],[0.4444444444444444,\"#bd3786\"],[0.5555555555555556,\"#d8576b\"],[0.6666666666666666,\"#ed7953\"],[0.7777777777777778,\"#fb9f3a\"],[0.8888888888888888,\"#fdca26\"],[1.0,\"#f0f921\"]]}],\"surface\":[{\"type\":\"surface\",\"colorbar\":{\"outlinewidth\":0,\"ticks\":\"\"},\"colorscale\":[[0.0,\"#0d0887\"],[0.1111111111111111,\"#46039f\"],[0.2222222222222222,\"#7201a8\"],[0.3333333333333333,\"#9c179e\"],[0.4444444444444444,\"#bd3786\"],[0.5555555555555556,\"#d8576b\"],[0.6666666666666666,\"#ed7953\"],[0.7777777777777778,\"#fb9f3a\"],[0.8888888888888888,\"#fdca26\"],[1.0,\"#f0f921\"]]}],\"mesh3d\":[{\"type\":\"mesh3d\",\"colorbar\":{\"outlinewidth\":0,\"ticks\":\"\"}}],\"scatter\":[{\"fillpattern\":{\"fillmode\":\"overlay\",\"size\":10,\"solidity\":0.2},\"type\":\"scatter\"}],\"parcoords\":[{\"type\":\"parcoords\",\"line\":{\"colorbar\":{\"outlinewidth\":0,\"ticks\":\"\"}}}],\"scatterpolargl\":[{\"type\":\"scatterpolargl\",\"marker\":{\"colorbar\":{\"outlinewidth\":0,\"ticks\":\"\"}}}],\"bar\":[{\"error_x\":{\"color\":\"#2a3f5f\"},\"error_y\":{\"color\":\"#2a3f5f\"},\"marker\":{\"line\":{\"color\":\"#E5ECF6\",\"width\":0.5},\"pattern\":{\"fillmode\":\"overlay\",\"size\":10,\"solidity\":0.2}},\"type\":\"bar\"}],\"scattergeo\":[{\"type\":\"scattergeo\",\"marker\":{\"colorbar\":{\"outlinewidth\":0,\"ticks\":\"\"}}}],\"scatterpolar\":[{\"type\":\"scatterpolar\",\"marker\":{\"colorbar\":{\"outlinewidth\":0,\"ticks\":\"\"}}}],\"histogram\":[{\"marker\":{\"pattern\":{\"fillmode\":\"overlay\",\"size\":10,\"solidity\":0.2}},\"type\":\"histogram\"}],\"scattergl\":[{\"type\":\"scattergl\",\"marker\":{\"colorbar\":{\"outlinewidth\":0,\"ticks\":\"\"}}}],\"scatter3d\":[{\"type\":\"scatter3d\",\"line\":{\"colorbar\":{\"outlinewidth\":0,\"ticks\":\"\"}},\"marker\":{\"colorbar\":{\"outlinewidth\":0,\"ticks\":\"\"}}}],\"scattermapbox\":[{\"type\":\"scattermapbox\",\"marker\":{\"colorbar\":{\"outlinewidth\":0,\"ticks\":\"\"}}}],\"scatterternary\":[{\"type\":\"scatterternary\",\"marker\":{\"colorbar\":{\"outlinewidth\":0,\"ticks\":\"\"}}}],\"scattercarpet\":[{\"type\":\"scattercarpet\",\"marker\":{\"colorbar\":{\"outlinewidth\":0,\"ticks\":\"\"}}}],\"carpet\":[{\"aaxis\":{\"endlinecolor\":\"#2a3f5f\",\"gridcolor\":\"white\",\"linecolor\":\"white\",\"minorgridcolor\":\"white\",\"startlinecolor\":\"#2a3f5f\"},\"baxis\":{\"endlinecolor\":\"#2a3f5f\",\"gridcolor\":\"white\",\"linecolor\":\"white\",\"minorgridcolor\":\"white\",\"startlinecolor\":\"#2a3f5f\"},\"type\":\"carpet\"}],\"table\":[{\"cells\":{\"fill\":{\"color\":\"#EBF0F8\"},\"line\":{\"color\":\"white\"}},\"header\":{\"fill\":{\"color\":\"#C8D4E3\"},\"line\":{\"color\":\"white\"}},\"type\":\"table\"}],\"barpolar\":[{\"marker\":{\"line\":{\"color\":\"#E5ECF6\",\"width\":0.5},\"pattern\":{\"fillmode\":\"overlay\",\"size\":10,\"solidity\":0.2}},\"type\":\"barpolar\"}],\"pie\":[{\"automargin\":true,\"type\":\"pie\"}]},\"layout\":{\"autotypenumbers\":\"strict\",\"colorway\":[\"#636efa\",\"#EF553B\",\"#00cc96\",\"#ab63fa\",\"#FFA15A\",\"#19d3f3\",\"#FF6692\",\"#B6E880\",\"#FF97FF\",\"#FECB52\"],\"font\":{\"color\":\"#2a3f5f\"},\"hovermode\":\"closest\",\"hoverlabel\":{\"align\":\"left\"},\"paper_bgcolor\":\"white\",\"plot_bgcolor\":\"#E5ECF6\",\"polar\":{\"bgcolor\":\"#E5ECF6\",\"angularaxis\":{\"gridcolor\":\"white\",\"linecolor\":\"white\",\"ticks\":\"\"},\"radialaxis\":{\"gridcolor\":\"white\",\"linecolor\":\"white\",\"ticks\":\"\"}},\"ternary\":{\"bgcolor\":\"#E5ECF6\",\"aaxis\":{\"gridcolor\":\"white\",\"linecolor\":\"white\",\"ticks\":\"\"},\"baxis\":{\"gridcolor\":\"white\",\"linecolor\":\"white\",\"ticks\":\"\"},\"caxis\":{\"gridcolor\":\"white\",\"linecolor\":\"white\",\"ticks\":\"\"}},\"coloraxis\":{\"colorbar\":{\"outlinewidth\":0,\"ticks\":\"\"}},\"colorscale\":{\"sequential\":[[0.0,\"#0d0887\"],[0.1111111111111111,\"#46039f\"],[0.2222222222222222,\"#7201a8\"],[0.3333333333333333,\"#9c179e\"],[0.4444444444444444,\"#bd3786\"],[0.5555555555555556,\"#d8576b\"],[0.6666666666666666,\"#ed7953\"],[0.7777777777777778,\"#fb9f3a\"],[0.8888888888888888,\"#fdca26\"],[1.0,\"#f0f921\"]],\"sequentialminus\":[[0.0,\"#0d0887\"],[0.1111111111111111,\"#46039f\"],[0.2222222222222222,\"#7201a8\"],[0.3333333333333333,\"#9c179e\"],[0.4444444444444444,\"#bd3786\"],[0.5555555555555556,\"#d8576b\"],[0.6666666666666666,\"#ed7953\"],[0.7777777777777778,\"#fb9f3a\"],[0.8888888888888888,\"#fdca26\"],[1.0,\"#f0f921\"]],\"diverging\":[[0,\"#8e0152\"],[0.1,\"#c51b7d\"],[0.2,\"#de77ae\"],[0.3,\"#f1b6da\"],[0.4,\"#fde0ef\"],[0.5,\"#f7f7f7\"],[0.6,\"#e6f5d0\"],[0.7,\"#b8e186\"],[0.8,\"#7fbc41\"],[0.9,\"#4d9221\"],[1,\"#276419\"]]},\"xaxis\":{\"gridcolor\":\"white\",\"linecolor\":\"white\",\"ticks\":\"\",\"title\":{\"standoff\":15},\"zerolinecolor\":\"white\",\"automargin\":true,\"zerolinewidth\":2},\"yaxis\":{\"gridcolor\":\"white\",\"linecolor\":\"white\",\"ticks\":\"\",\"title\":{\"standoff\":15},\"zerolinecolor\":\"white\",\"automargin\":true,\"zerolinewidth\":2},\"scene\":{\"xaxis\":{\"backgroundcolor\":\"#E5ECF6\",\"gridcolor\":\"white\",\"linecolor\":\"white\",\"showbackground\":true,\"ticks\":\"\",\"zerolinecolor\":\"white\",\"gridwidth\":2},\"yaxis\":{\"backgroundcolor\":\"#E5ECF6\",\"gridcolor\":\"white\",\"linecolor\":\"white\",\"showbackground\":true,\"ticks\":\"\",\"zerolinecolor\":\"white\",\"gridwidth\":2},\"zaxis\":{\"backgroundcolor\":\"#E5ECF6\",\"gridcolor\":\"white\",\"linecolor\":\"white\",\"showbackground\":true,\"ticks\":\"\",\"zerolinecolor\":\"white\",\"gridwidth\":2}},\"shapedefaults\":{\"line\":{\"color\":\"#2a3f5f\"}},\"annotationdefaults\":{\"arrowcolor\":\"#2a3f5f\",\"arrowhead\":0,\"arrowwidth\":1},\"geo\":{\"bgcolor\":\"white\",\"landcolor\":\"#E5ECF6\",\"subunitcolor\":\"white\",\"showland\":true,\"showlakes\":true,\"lakecolor\":\"white\"},\"title\":{\"x\":0.05},\"mapbox\":{\"style\":\"light\"}}},\"title\":{\"text\":\"Cumulative Returns of 20 Asset Portfolios and SP&500 Index from April 2023 to Sept 2023\"},\"xaxis\":{\"title\":{\"text\":\"Date\"}},\"yaxis\":{\"title\":{\"text\":\"Cumulative Returns\"}},\"hovermode\":\"x unified\"},                        {\"responsive\": true}                    ).then(function(){\n                            \nvar gd = document.getElementById('0f69e1eb-7a73-4ab2-9ef7-7d11bece1d6b');\nvar x = new MutationObserver(function (mutations, observer) {{\n        var display = window.getComputedStyle(gd).display;\n        if (!display || display === 'none') {{\n            console.log([gd, 'removed!']);\n            Plotly.purge(gd);\n            observer.disconnect();\n        }}\n}});\n\n// Listen for the removal of the full notebook cells\nvar notebookContainer = gd.closest('#notebook-container');\nif (notebookContainer) {{\n    x.observe(notebookContainer, {childList: true});\n}}\n\n// Listen for the clearing of the current output cell\nvar outputEl = gd.closest('.output');\nif (outputEl) {{\n    x.observe(outputEl, {childList: true});\n}}\n\n                        })                };                });            </script>        </div>"
     },
     "metadata": {},
     "output_type": "display_data"
    }
   ],
   "source": [
    "# Create a new figure\n",
    "fig = go.Figure()\n",
    "\n",
    "# Add the data for each portfolio and index to the figure\n",
    "for column in outsample_data.columns:\n",
    "    fig.add_trace(go.Scatter(x=outsample_data.index,\n",
    "                             y=outsample_data[column],\n",
    "                             mode='lines',\n",
    "                             name=column))\n",
    "\n",
    "# Customize the layout of the figure\n",
    "fig.update_layout(\n",
    "    title='Cumulative Returns of ' + str(\n",
    "        len(gpt_weights)) + ' Asset Portfolios and SP&500 Index from April 2023 to Sept 2023',\n",
    "    xaxis_title='Date',\n",
    "    yaxis_title='Cumulative Returns',\n",
    "    hovermode=\"x unified\"  # This will show the labels when you hover over the lines\n",
    ")\n",
    "\n",
    "# Show the figure\n",
    "fig.show()"
   ]
  },
  {
   "cell_type": "code",
   "execution_count": 1015,
   "metadata": {
    "id": "yHMTESwOcquT",
    "ExecuteTime": {
     "end_time": "2023-10-11T14:53:39.722250Z",
     "start_time": "2023-10-11T14:53:38.372262Z"
    }
   },
   "outputs": [],
   "source": [
    "## Add your own plots here"
   ]
  },
  {
   "cell_type": "markdown",
   "metadata": {
    "id": "7xc5L-Ij1IHh"
   },
   "source": [
    "### Out-of-sample comparison of risk and reward measures (add your code here)"
   ]
  },
  {
   "cell_type": "code",
   "execution_count": 1016,
   "outputs": [
    {
     "data": {
      "text/plain": "                 GPT   Min Var   Max Ret  Max Sharpe   S&P 500\nDate                                                          \n2023-04-03  1.004971  1.007977  1.008730    1.009118  1.003699\n2023-04-04  1.005834  1.007161  1.006416    1.007069  0.997880\n2023-04-05  1.003359  1.015668  1.005614    1.011753  0.995393\n2023-04-06  1.012974  1.019302  1.014166    1.016632  0.998956\n2023-04-10  1.007468  1.016575  1.011317    1.013395  0.999951\n...              ...       ...       ...         ...       ...\n2023-09-13  1.167579  1.098511  1.182541    1.110902  1.087151\n2023-09-14  1.174568  1.103409  1.188798    1.117313  1.096315\n2023-09-15  1.159084  1.092748  1.174559    1.107254  1.082985\n2023-09-18  1.163271  1.094829  1.177670    1.109966  1.083766\n2023-09-19  1.158649  1.089517  1.171264    1.104528  1.081435\n\n[117 rows x 5 columns]",
      "text/html": "<div>\n<style scoped>\n    .dataframe tbody tr th:only-of-type {\n        vertical-align: middle;\n    }\n\n    .dataframe tbody tr th {\n        vertical-align: top;\n    }\n\n    .dataframe thead th {\n        text-align: right;\n    }\n</style>\n<table border=\"1\" class=\"dataframe\">\n  <thead>\n    <tr style=\"text-align: right;\">\n      <th></th>\n      <th>GPT</th>\n      <th>Min Var</th>\n      <th>Max Ret</th>\n      <th>Max Sharpe</th>\n      <th>S&amp;P 500</th>\n    </tr>\n    <tr>\n      <th>Date</th>\n      <th></th>\n      <th></th>\n      <th></th>\n      <th></th>\n      <th></th>\n    </tr>\n  </thead>\n  <tbody>\n    <tr>\n      <th>2023-04-03</th>\n      <td>1.004971</td>\n      <td>1.007977</td>\n      <td>1.008730</td>\n      <td>1.009118</td>\n      <td>1.003699</td>\n    </tr>\n    <tr>\n      <th>2023-04-04</th>\n      <td>1.005834</td>\n      <td>1.007161</td>\n      <td>1.006416</td>\n      <td>1.007069</td>\n      <td>0.997880</td>\n    </tr>\n    <tr>\n      <th>2023-04-05</th>\n      <td>1.003359</td>\n      <td>1.015668</td>\n      <td>1.005614</td>\n      <td>1.011753</td>\n      <td>0.995393</td>\n    </tr>\n    <tr>\n      <th>2023-04-06</th>\n      <td>1.012974</td>\n      <td>1.019302</td>\n      <td>1.014166</td>\n      <td>1.016632</td>\n      <td>0.998956</td>\n    </tr>\n    <tr>\n      <th>2023-04-10</th>\n      <td>1.007468</td>\n      <td>1.016575</td>\n      <td>1.011317</td>\n      <td>1.013395</td>\n      <td>0.999951</td>\n    </tr>\n    <tr>\n      <th>...</th>\n      <td>...</td>\n      <td>...</td>\n      <td>...</td>\n      <td>...</td>\n      <td>...</td>\n    </tr>\n    <tr>\n      <th>2023-09-13</th>\n      <td>1.167579</td>\n      <td>1.098511</td>\n      <td>1.182541</td>\n      <td>1.110902</td>\n      <td>1.087151</td>\n    </tr>\n    <tr>\n      <th>2023-09-14</th>\n      <td>1.174568</td>\n      <td>1.103409</td>\n      <td>1.188798</td>\n      <td>1.117313</td>\n      <td>1.096315</td>\n    </tr>\n    <tr>\n      <th>2023-09-15</th>\n      <td>1.159084</td>\n      <td>1.092748</td>\n      <td>1.174559</td>\n      <td>1.107254</td>\n      <td>1.082985</td>\n    </tr>\n    <tr>\n      <th>2023-09-18</th>\n      <td>1.163271</td>\n      <td>1.094829</td>\n      <td>1.177670</td>\n      <td>1.109966</td>\n      <td>1.083766</td>\n    </tr>\n    <tr>\n      <th>2023-09-19</th>\n      <td>1.158649</td>\n      <td>1.089517</td>\n      <td>1.171264</td>\n      <td>1.104528</td>\n      <td>1.081435</td>\n    </tr>\n  </tbody>\n</table>\n<p>117 rows × 5 columns</p>\n</div>"
     },
     "execution_count": 1016,
     "metadata": {},
     "output_type": "execute_result"
    }
   ],
   "source": [
    "# Annotate each point with strategy names\n",
    "outsample_data\n"
   ],
   "metadata": {
    "collapsed": false,
    "ExecuteTime": {
     "end_time": "2023-10-11T14:53:39.722867Z",
     "start_time": "2023-10-11T14:53:38.377090Z"
    }
   }
  },
  {
   "cell_type": "code",
   "execution_count": 1017,
   "outputs": [
    {
     "data": {
      "text/plain": "           AAPL      MSFT      AMZN     GOOGL      META       JNJ         V  \\\nAAPL   0.008357  0.004789  0.003363  0.004301  0.006640 -0.000148  0.002386   \nMSFT   0.004789  0.012560  0.008161  0.005417  0.008918 -0.001031  0.001813   \nAMZN   0.003363  0.008161  0.020314  0.007977  0.011071 -0.001225  0.001852   \nGOOGL  0.004301  0.005417  0.007977  0.013617  0.009251  0.000175  0.001948   \nMETA   0.006640  0.008918  0.011071  0.009251  0.023693 -0.000909  0.002733   \nJNJ   -0.000148 -0.001031 -0.001225  0.000175 -0.000909  0.006865  0.000007   \nV      0.002386  0.001813  0.001852  0.001948  0.002733  0.000007  0.004948   \nJPM    0.002090  0.000394  0.000519  0.001260  0.002643  0.000263  0.002464   \nPG     0.001307  0.001015  0.001392  0.001163  0.001722  0.001621  0.001007   \nWMT    0.000911  0.000453  0.000631  0.000575  0.000649  0.001465  0.000716   \nUNH    0.001019  0.000712 -0.000631  0.000041  0.001028  0.002090  0.000966   \nMA     0.002728  0.002499  0.002638  0.003015  0.003612  0.000191  0.004155   \nDIS    0.002661  0.002555  0.004172  0.001760  0.004595 -0.000576  0.002664   \nHD     0.001989 -0.000065  0.001818  0.000591  0.003598 -0.000091  0.001770   \nINTC   0.004017  0.004995  0.007406  0.002530  0.010229 -0.000285  0.002816   \nVZ     0.002023  0.000954  0.001832  0.001072  0.004050  0.000516  0.000442   \nKO     0.001114  0.000250 -0.000118  0.000894  0.000669  0.001718  0.000783   \nPEP    0.000989  0.000973  0.000688  0.001108  0.001340  0.002339  0.000877   \nADBE   0.006370  0.008519  0.008582  0.005437  0.010837 -0.000892  0.004120   \nNVDA   0.007394  0.013658  0.007654  0.009057  0.013683 -0.004849  0.003295   \n\n            JPM        PG       WMT       UNH        MA       DIS        HD  \\\nAAPL   0.002090  0.001307  0.000911  0.001019  0.002728  0.002661  0.001989   \nMSFT   0.000394  0.001015  0.000453  0.000712  0.002499  0.002555 -0.000065   \nAMZN   0.000519  0.001392  0.000631 -0.000631  0.002638  0.004172  0.001818   \nGOOGL  0.001260  0.001163  0.000575  0.000041  0.003015  0.001760  0.000591   \nMETA   0.002643  0.001722  0.000649  0.001028  0.003612  0.004595  0.003598   \nJNJ    0.000263  0.001621  0.001465  0.002090  0.000191 -0.000576 -0.000091   \nV      0.002464  0.001007  0.000716  0.000966  0.004155  0.002664  0.001770   \nJPM    0.008244  0.000623  0.000635  0.000853  0.002700  0.002722  0.003169   \nPG     0.000623  0.003995  0.001505  0.001274  0.000904  0.000883  0.001310   \nWMT    0.000635  0.001505  0.002785  0.001244  0.001080  0.001227  0.001332   \nUNH    0.000853  0.001274  0.001244  0.011536  0.000830  0.001578  0.001741   \nMA     0.002700  0.000904  0.001080  0.000830  0.005173  0.003497  0.002563   \nDIS    0.002722  0.000883  0.001227  0.001578  0.003497  0.015155  0.004017   \nHD     0.003169  0.001310  0.001332  0.001741  0.002563  0.004017  0.007598   \nINTC   0.001642  0.001276  0.001767 -0.001508  0.003265  0.006456  0.004045   \nVZ     0.000147  0.001840  0.001050  0.000912  0.001003  0.004138  0.002068   \nKO     0.001035  0.001932  0.001087  0.001027  0.000820  0.000460  0.001090   \nPEP    0.000377  0.002351  0.001558  0.001488  0.000919  0.000294  0.000588   \nADBE   0.003731  0.001349  0.000404  0.000825  0.003846  0.004268  0.003456   \nNVDA   0.005224 -0.001099 -0.000916 -0.002166  0.003653  0.002971  0.001112   \n\n           INTC        VZ        KO       PEP      ADBE      NVDA  \nAAPL   0.004017  0.002023  0.001114  0.000989  0.006370  0.007394  \nMSFT   0.004995  0.000954  0.000250  0.000973  0.008519  0.013658  \nAMZN   0.007406  0.001832 -0.000118  0.000688  0.008582  0.007654  \nGOOGL  0.002530  0.001072  0.000894  0.001108  0.005437  0.009057  \nMETA   0.010229  0.004050  0.000669  0.001340  0.010837  0.013683  \nJNJ   -0.000285  0.000516  0.001718  0.002339 -0.000892 -0.004849  \nV      0.002816  0.000442  0.000783  0.000877  0.004120  0.003295  \nJPM    0.001642  0.000147  0.001035  0.000377  0.003731  0.005224  \nPG     0.001276  0.001840  0.001932  0.002351  0.001349 -0.001099  \nWMT    0.001767  0.001050  0.001087  0.001558  0.000404 -0.000916  \nUNH   -0.001508  0.000912  0.001027  0.001488  0.000825 -0.002166  \nMA     0.003265  0.001003  0.000820  0.000919  0.003846  0.003653  \nDIS    0.006456  0.004138  0.000460  0.000294  0.004268  0.002971  \nHD     0.004045  0.002068  0.001090  0.000588  0.003456  0.001112  \nINTC   0.030046  0.002911 -0.000080  0.000395  0.007374  0.001972  \nVZ     0.002911  0.011516  0.001142  0.001552 -0.000111 -0.003177  \nKO    -0.000080  0.001142  0.002385  0.002056  0.000248 -0.000851  \nPEP    0.000395  0.001552  0.002056  0.003722  0.000648 -0.000631  \nADBE   0.007374 -0.000111  0.000248  0.000648  0.021312  0.018892  \nNVDA   0.001972 -0.003177 -0.000851 -0.000631  0.018892  0.056744  ",
      "text/html": "<div>\n<style scoped>\n    .dataframe tbody tr th:only-of-type {\n        vertical-align: middle;\n    }\n\n    .dataframe tbody tr th {\n        vertical-align: top;\n    }\n\n    .dataframe thead th {\n        text-align: right;\n    }\n</style>\n<table border=\"1\" class=\"dataframe\">\n  <thead>\n    <tr style=\"text-align: right;\">\n      <th></th>\n      <th>AAPL</th>\n      <th>MSFT</th>\n      <th>AMZN</th>\n      <th>GOOGL</th>\n      <th>META</th>\n      <th>JNJ</th>\n      <th>V</th>\n      <th>JPM</th>\n      <th>PG</th>\n      <th>WMT</th>\n      <th>UNH</th>\n      <th>MA</th>\n      <th>DIS</th>\n      <th>HD</th>\n      <th>INTC</th>\n      <th>VZ</th>\n      <th>KO</th>\n      <th>PEP</th>\n      <th>ADBE</th>\n      <th>NVDA</th>\n    </tr>\n  </thead>\n  <tbody>\n    <tr>\n      <th>AAPL</th>\n      <td>0.008357</td>\n      <td>0.004789</td>\n      <td>0.003363</td>\n      <td>0.004301</td>\n      <td>0.006640</td>\n      <td>-0.000148</td>\n      <td>0.002386</td>\n      <td>0.002090</td>\n      <td>0.001307</td>\n      <td>0.000911</td>\n      <td>0.001019</td>\n      <td>0.002728</td>\n      <td>0.002661</td>\n      <td>0.001989</td>\n      <td>0.004017</td>\n      <td>0.002023</td>\n      <td>0.001114</td>\n      <td>0.000989</td>\n      <td>0.006370</td>\n      <td>0.007394</td>\n    </tr>\n    <tr>\n      <th>MSFT</th>\n      <td>0.004789</td>\n      <td>0.012560</td>\n      <td>0.008161</td>\n      <td>0.005417</td>\n      <td>0.008918</td>\n      <td>-0.001031</td>\n      <td>0.001813</td>\n      <td>0.000394</td>\n      <td>0.001015</td>\n      <td>0.000453</td>\n      <td>0.000712</td>\n      <td>0.002499</td>\n      <td>0.002555</td>\n      <td>-0.000065</td>\n      <td>0.004995</td>\n      <td>0.000954</td>\n      <td>0.000250</td>\n      <td>0.000973</td>\n      <td>0.008519</td>\n      <td>0.013658</td>\n    </tr>\n    <tr>\n      <th>AMZN</th>\n      <td>0.003363</td>\n      <td>0.008161</td>\n      <td>0.020314</td>\n      <td>0.007977</td>\n      <td>0.011071</td>\n      <td>-0.001225</td>\n      <td>0.001852</td>\n      <td>0.000519</td>\n      <td>0.001392</td>\n      <td>0.000631</td>\n      <td>-0.000631</td>\n      <td>0.002638</td>\n      <td>0.004172</td>\n      <td>0.001818</td>\n      <td>0.007406</td>\n      <td>0.001832</td>\n      <td>-0.000118</td>\n      <td>0.000688</td>\n      <td>0.008582</td>\n      <td>0.007654</td>\n    </tr>\n    <tr>\n      <th>GOOGL</th>\n      <td>0.004301</td>\n      <td>0.005417</td>\n      <td>0.007977</td>\n      <td>0.013617</td>\n      <td>0.009251</td>\n      <td>0.000175</td>\n      <td>0.001948</td>\n      <td>0.001260</td>\n      <td>0.001163</td>\n      <td>0.000575</td>\n      <td>0.000041</td>\n      <td>0.003015</td>\n      <td>0.001760</td>\n      <td>0.000591</td>\n      <td>0.002530</td>\n      <td>0.001072</td>\n      <td>0.000894</td>\n      <td>0.001108</td>\n      <td>0.005437</td>\n      <td>0.009057</td>\n    </tr>\n    <tr>\n      <th>META</th>\n      <td>0.006640</td>\n      <td>0.008918</td>\n      <td>0.011071</td>\n      <td>0.009251</td>\n      <td>0.023693</td>\n      <td>-0.000909</td>\n      <td>0.002733</td>\n      <td>0.002643</td>\n      <td>0.001722</td>\n      <td>0.000649</td>\n      <td>0.001028</td>\n      <td>0.003612</td>\n      <td>0.004595</td>\n      <td>0.003598</td>\n      <td>0.010229</td>\n      <td>0.004050</td>\n      <td>0.000669</td>\n      <td>0.001340</td>\n      <td>0.010837</td>\n      <td>0.013683</td>\n    </tr>\n    <tr>\n      <th>JNJ</th>\n      <td>-0.000148</td>\n      <td>-0.001031</td>\n      <td>-0.001225</td>\n      <td>0.000175</td>\n      <td>-0.000909</td>\n      <td>0.006865</td>\n      <td>0.000007</td>\n      <td>0.000263</td>\n      <td>0.001621</td>\n      <td>0.001465</td>\n      <td>0.002090</td>\n      <td>0.000191</td>\n      <td>-0.000576</td>\n      <td>-0.000091</td>\n      <td>-0.000285</td>\n      <td>0.000516</td>\n      <td>0.001718</td>\n      <td>0.002339</td>\n      <td>-0.000892</td>\n      <td>-0.004849</td>\n    </tr>\n    <tr>\n      <th>V</th>\n      <td>0.002386</td>\n      <td>0.001813</td>\n      <td>0.001852</td>\n      <td>0.001948</td>\n      <td>0.002733</td>\n      <td>0.000007</td>\n      <td>0.004948</td>\n      <td>0.002464</td>\n      <td>0.001007</td>\n      <td>0.000716</td>\n      <td>0.000966</td>\n      <td>0.004155</td>\n      <td>0.002664</td>\n      <td>0.001770</td>\n      <td>0.002816</td>\n      <td>0.000442</td>\n      <td>0.000783</td>\n      <td>0.000877</td>\n      <td>0.004120</td>\n      <td>0.003295</td>\n    </tr>\n    <tr>\n      <th>JPM</th>\n      <td>0.002090</td>\n      <td>0.000394</td>\n      <td>0.000519</td>\n      <td>0.001260</td>\n      <td>0.002643</td>\n      <td>0.000263</td>\n      <td>0.002464</td>\n      <td>0.008244</td>\n      <td>0.000623</td>\n      <td>0.000635</td>\n      <td>0.000853</td>\n      <td>0.002700</td>\n      <td>0.002722</td>\n      <td>0.003169</td>\n      <td>0.001642</td>\n      <td>0.000147</td>\n      <td>0.001035</td>\n      <td>0.000377</td>\n      <td>0.003731</td>\n      <td>0.005224</td>\n    </tr>\n    <tr>\n      <th>PG</th>\n      <td>0.001307</td>\n      <td>0.001015</td>\n      <td>0.001392</td>\n      <td>0.001163</td>\n      <td>0.001722</td>\n      <td>0.001621</td>\n      <td>0.001007</td>\n      <td>0.000623</td>\n      <td>0.003995</td>\n      <td>0.001505</td>\n      <td>0.001274</td>\n      <td>0.000904</td>\n      <td>0.000883</td>\n      <td>0.001310</td>\n      <td>0.001276</td>\n      <td>0.001840</td>\n      <td>0.001932</td>\n      <td>0.002351</td>\n      <td>0.001349</td>\n      <td>-0.001099</td>\n    </tr>\n    <tr>\n      <th>WMT</th>\n      <td>0.000911</td>\n      <td>0.000453</td>\n      <td>0.000631</td>\n      <td>0.000575</td>\n      <td>0.000649</td>\n      <td>0.001465</td>\n      <td>0.000716</td>\n      <td>0.000635</td>\n      <td>0.001505</td>\n      <td>0.002785</td>\n      <td>0.001244</td>\n      <td>0.001080</td>\n      <td>0.001227</td>\n      <td>0.001332</td>\n      <td>0.001767</td>\n      <td>0.001050</td>\n      <td>0.001087</td>\n      <td>0.001558</td>\n      <td>0.000404</td>\n      <td>-0.000916</td>\n    </tr>\n    <tr>\n      <th>UNH</th>\n      <td>0.001019</td>\n      <td>0.000712</td>\n      <td>-0.000631</td>\n      <td>0.000041</td>\n      <td>0.001028</td>\n      <td>0.002090</td>\n      <td>0.000966</td>\n      <td>0.000853</td>\n      <td>0.001274</td>\n      <td>0.001244</td>\n      <td>0.011536</td>\n      <td>0.000830</td>\n      <td>0.001578</td>\n      <td>0.001741</td>\n      <td>-0.001508</td>\n      <td>0.000912</td>\n      <td>0.001027</td>\n      <td>0.001488</td>\n      <td>0.000825</td>\n      <td>-0.002166</td>\n    </tr>\n    <tr>\n      <th>MA</th>\n      <td>0.002728</td>\n      <td>0.002499</td>\n      <td>0.002638</td>\n      <td>0.003015</td>\n      <td>0.003612</td>\n      <td>0.000191</td>\n      <td>0.004155</td>\n      <td>0.002700</td>\n      <td>0.000904</td>\n      <td>0.001080</td>\n      <td>0.000830</td>\n      <td>0.005173</td>\n      <td>0.003497</td>\n      <td>0.002563</td>\n      <td>0.003265</td>\n      <td>0.001003</td>\n      <td>0.000820</td>\n      <td>0.000919</td>\n      <td>0.003846</td>\n      <td>0.003653</td>\n    </tr>\n    <tr>\n      <th>DIS</th>\n      <td>0.002661</td>\n      <td>0.002555</td>\n      <td>0.004172</td>\n      <td>0.001760</td>\n      <td>0.004595</td>\n      <td>-0.000576</td>\n      <td>0.002664</td>\n      <td>0.002722</td>\n      <td>0.000883</td>\n      <td>0.001227</td>\n      <td>0.001578</td>\n      <td>0.003497</td>\n      <td>0.015155</td>\n      <td>0.004017</td>\n      <td>0.006456</td>\n      <td>0.004138</td>\n      <td>0.000460</td>\n      <td>0.000294</td>\n      <td>0.004268</td>\n      <td>0.002971</td>\n    </tr>\n    <tr>\n      <th>HD</th>\n      <td>0.001989</td>\n      <td>-0.000065</td>\n      <td>0.001818</td>\n      <td>0.000591</td>\n      <td>0.003598</td>\n      <td>-0.000091</td>\n      <td>0.001770</td>\n      <td>0.003169</td>\n      <td>0.001310</td>\n      <td>0.001332</td>\n      <td>0.001741</td>\n      <td>0.002563</td>\n      <td>0.004017</td>\n      <td>0.007598</td>\n      <td>0.004045</td>\n      <td>0.002068</td>\n      <td>0.001090</td>\n      <td>0.000588</td>\n      <td>0.003456</td>\n      <td>0.001112</td>\n    </tr>\n    <tr>\n      <th>INTC</th>\n      <td>0.004017</td>\n      <td>0.004995</td>\n      <td>0.007406</td>\n      <td>0.002530</td>\n      <td>0.010229</td>\n      <td>-0.000285</td>\n      <td>0.002816</td>\n      <td>0.001642</td>\n      <td>0.001276</td>\n      <td>0.001767</td>\n      <td>-0.001508</td>\n      <td>0.003265</td>\n      <td>0.006456</td>\n      <td>0.004045</td>\n      <td>0.030046</td>\n      <td>0.002911</td>\n      <td>-0.000080</td>\n      <td>0.000395</td>\n      <td>0.007374</td>\n      <td>0.001972</td>\n    </tr>\n    <tr>\n      <th>VZ</th>\n      <td>0.002023</td>\n      <td>0.000954</td>\n      <td>0.001832</td>\n      <td>0.001072</td>\n      <td>0.004050</td>\n      <td>0.000516</td>\n      <td>0.000442</td>\n      <td>0.000147</td>\n      <td>0.001840</td>\n      <td>0.001050</td>\n      <td>0.000912</td>\n      <td>0.001003</td>\n      <td>0.004138</td>\n      <td>0.002068</td>\n      <td>0.002911</td>\n      <td>0.011516</td>\n      <td>0.001142</td>\n      <td>0.001552</td>\n      <td>-0.000111</td>\n      <td>-0.003177</td>\n    </tr>\n    <tr>\n      <th>KO</th>\n      <td>0.001114</td>\n      <td>0.000250</td>\n      <td>-0.000118</td>\n      <td>0.000894</td>\n      <td>0.000669</td>\n      <td>0.001718</td>\n      <td>0.000783</td>\n      <td>0.001035</td>\n      <td>0.001932</td>\n      <td>0.001087</td>\n      <td>0.001027</td>\n      <td>0.000820</td>\n      <td>0.000460</td>\n      <td>0.001090</td>\n      <td>-0.000080</td>\n      <td>0.001142</td>\n      <td>0.002385</td>\n      <td>0.002056</td>\n      <td>0.000248</td>\n      <td>-0.000851</td>\n    </tr>\n    <tr>\n      <th>PEP</th>\n      <td>0.000989</td>\n      <td>0.000973</td>\n      <td>0.000688</td>\n      <td>0.001108</td>\n      <td>0.001340</td>\n      <td>0.002339</td>\n      <td>0.000877</td>\n      <td>0.000377</td>\n      <td>0.002351</td>\n      <td>0.001558</td>\n      <td>0.001488</td>\n      <td>0.000919</td>\n      <td>0.000294</td>\n      <td>0.000588</td>\n      <td>0.000395</td>\n      <td>0.001552</td>\n      <td>0.002056</td>\n      <td>0.003722</td>\n      <td>0.000648</td>\n      <td>-0.000631</td>\n    </tr>\n    <tr>\n      <th>ADBE</th>\n      <td>0.006370</td>\n      <td>0.008519</td>\n      <td>0.008582</td>\n      <td>0.005437</td>\n      <td>0.010837</td>\n      <td>-0.000892</td>\n      <td>0.004120</td>\n      <td>0.003731</td>\n      <td>0.001349</td>\n      <td>0.000404</td>\n      <td>0.000825</td>\n      <td>0.003846</td>\n      <td>0.004268</td>\n      <td>0.003456</td>\n      <td>0.007374</td>\n      <td>-0.000111</td>\n      <td>0.000248</td>\n      <td>0.000648</td>\n      <td>0.021312</td>\n      <td>0.018892</td>\n    </tr>\n    <tr>\n      <th>NVDA</th>\n      <td>0.007394</td>\n      <td>0.013658</td>\n      <td>0.007654</td>\n      <td>0.009057</td>\n      <td>0.013683</td>\n      <td>-0.004849</td>\n      <td>0.003295</td>\n      <td>0.005224</td>\n      <td>-0.001099</td>\n      <td>-0.000916</td>\n      <td>-0.002166</td>\n      <td>0.003653</td>\n      <td>0.002971</td>\n      <td>0.001112</td>\n      <td>0.001972</td>\n      <td>-0.003177</td>\n      <td>-0.000851</td>\n      <td>-0.000631</td>\n      <td>0.018892</td>\n      <td>0.056744</td>\n    </tr>\n  </tbody>\n</table>\n</div>"
     },
     "execution_count": 1017,
     "metadata": {},
     "output_type": "execute_result"
    }
   ],
   "source": [
    "Q_out = df_returns_out[tickers_final].cov() * scalef\n",
    "Q_out"
   ],
   "metadata": {
    "collapsed": false,
    "ExecuteTime": {
     "end_time": "2023-10-11T14:53:39.770675Z",
     "start_time": "2023-10-11T14:53:38.424328Z"
    }
   }
  },
  {
   "cell_type": "markdown",
   "source": [
    "#### Plot Out-of-sample comparison of risk and reward measures\n"
   ],
   "metadata": {
    "collapsed": false
   }
  },
  {
   "cell_type": "code",
   "execution_count": 1018,
   "outputs": [
    {
     "data": {
      "text/plain": "<Figure size 1000x500 with 1 Axes>",
      "image/png": "[encoded data removed]"
     },
     "metadata": {},
     "output_type": "display_data"
    }
   ],
   "source": [
    "gpt_weights = list(dfGPTweigts['GPTweights'].values.astype(float))\n",
    "ret_gpt = np.dot(mu, gpt_weights)\n",
    "var_gpt = np.dot(gpt_weights, np.dot(Q_out, gpt_weights))\n",
    "std_gpt = np.sqrt(var_gpt)\n",
    "\n",
    "fig = plt.figure(figsize=(10, 5), dpi=100, facecolor='w', edgecolor='k')\n",
    "ax = plt.gca()\n",
    "plt.rcParams['figure.figsize'] = [10, 5]\n",
    "\n",
    "\n",
    "# Plot volatility versus expected return for minimum variance portfolio\n",
    "ax.scatter(x=np.sqrt(var_front[0]), y=ret_front[0], marker='s', s=50, color='darkred',\n",
    "           label='minimum variance portfolio (min Var)')\n",
    "\n",
    "# Plot volatility versus expected return for maximum return portfolio\n",
    "ax.scatter(x=np.sqrt(var_front[-1]), y=ret_front[-1], marker='s', s=50, color='orange',\n",
    "           label='maximum expected return portfolio (max Ret)')\n",
    "\n",
    "# Plot maximum Sharpe portfolio\n",
    "ax.scatter(x=np.sqrt(var_max_sharpe), y=ret_max_sharpe, marker='s', s=50, color='yellow',\n",
    "           label='maximum Sharpe ratio portfolio (max Sharpe)')\n",
    "\n",
    "# Plot GPT weighted portfolio\n",
    "ax.scatter(x=std_gpt, y=ret_gpt, marker='o', s=50, color='darkgreen', label='GPT-weighted portfolio')\n",
    "\n",
    "# Plot volatility versus expected return for out-of-sample individual stocks\n",
    "ax.scatter(x=np.sqrt(np.diag(Q_out)), y=mu, color='lightgray', label='individual stocks')\n",
    "ax.set_xlabel('Volatility (standard deviation)')  # Display percentage on x-axis\n",
    "ax.set_ylabel('Expected return (annualized)')  # Display percentage on y-axis\n",
    "ax.xaxis.set_major_formatter(mtick.PercentFormatter(1.0))  # Format x axis as percentage\n",
    "ax.yaxis.set_major_formatter(mtick.PercentFormatter(1.0))  # Format y axis as percentage\n",
    "ax.legend(loc=\"lower right\", fontsize='small')\n",
    "ax.grid()\n",
    "plt.tight_layout()\n",
    "plt.show()"
   ],
   "metadata": {
    "collapsed": false,
    "ExecuteTime": {
     "end_time": "2023-10-11T14:53:39.861722Z",
     "start_time": "2023-10-11T14:53:38.483238Z"
    }
   }
  },
  {
   "cell_type": "markdown",
   "source": [
    "### Compute the maximum drawdown"
   ],
   "metadata": {
    "collapsed": false
   }
  },
  {
   "cell_type": "code",
   "execution_count": 1019,
   "outputs": [
    {
     "data": {
      "text/plain": "{'GPT': -0.04629567714379598,\n 'Min Var': -0.036225647461738744,\n 'Max Ret': -0.042472842223741536,\n 'Max Sharpe': -0.040124255140709414,\n 'S&P 500': -0.047777710388915214}"
     },
     "execution_count": 1019,
     "metadata": {},
     "output_type": "execute_result"
    }
   ],
   "source": [
    "max_drawdowns = {}\n",
    "\n",
    "for column in cumulative_returns.columns:\n",
    "    cum_returns = cumulative_returns[column]\n",
    "    # Calculate the cumulative maximum value up to each point\n",
    "    cumulative_max = cum_returns.cummax()\n",
    "\n",
    "    # Calculate the drawdown by subtracting cumulative_max from cumulative_returns\n",
    "    drawdown = (cum_returns - cumulative_max) / cumulative_max\n",
    "\n",
    "    # Maximum drawdown is the maximum value in the drawdown series\n",
    "    max_drawdown = drawdown.min()\n",
    "    max_drawdowns[column] = max_drawdown\n",
    "\n",
    "max_drawdowns"
   ],
   "metadata": {
    "collapsed": false,
    "ExecuteTime": {
     "end_time": "2023-10-11T14:53:39.862109Z",
     "start_time": "2023-10-11T14:53:38.946696Z"
    }
   }
  },
  {
   "cell_type": "markdown",
   "source": [
    "#### Compute Value-at-Risk"
   ],
   "metadata": {
    "collapsed": false
   }
  },
  {
   "cell_type": "code",
   "execution_count": 1063,
   "outputs": [
    {
     "name": "stdout",
     "output_type": "stream",
     "text": [
      "{'GPT': -0.015795376931487543, 'Min Var': -0.0096283271692865, 'Max Ret': -0.014764868049207465, 'Max Sharpe': -0.010832373337824731}\n"
     ]
    }
   ],
   "source": [
    "stocks_returns = df_returns_out\n",
    "\n",
    "# Weights of all portfolios\n",
    "weights = {\n",
    "    \"GPT\": dfGPTweigts['GPTweights'],\n",
    "    \"Min Var\": dfGPTweigts['minVar'],\n",
    "    \"Max Ret\": dfGPTweigts['maxRet'],\n",
    "    \"Max Sharpe\": dfGPTweigts['maxSharpe']\n",
    "}\n",
    "     \n",
    "portfolio_vars = {}\n",
    "portfolio_returns = {}\n",
    "for name, weight in weights.items():\n",
    "    portfolio_returns[name] = (stocks_returns * weight).sum(axis=1)\n",
    "    portfolio_vars[name] = portfolio_returns[name].quantile(0.01)\n",
    "\n",
    "print(portfolio_vars)"
   ],
   "metadata": {
    "collapsed": false,
    "ExecuteTime": {
     "end_time": "2023-10-13T16:38:27.769394Z",
     "start_time": "2023-10-13T16:38:27.644636Z"
    }
   }
  },
  {
   "cell_type": "code",
   "execution_count": 1075,
   "outputs": [
    {
     "name": "stdout",
     "output_type": "stream",
     "text": [
      "{'GPT': 0.18834821861800305, 'Min Var': 0.15236647253709168, 'Max Ret': 0.21570941188454404, 'Max Sharpe': 0.18499133195507786}\n"
     ]
    }
   ],
   "source": [
    "stocks_returns = mu\n",
    "\n",
    "df_returns\n",
    "\n",
    "# Weights of all portfolios\n",
    "weights = {\n",
    "    \"GPT\": dfGPTweigts['GPTweights'],\n",
    "    \"Min Var\": dfGPTweigts['minVar'],\n",
    "    \"Max Ret\": dfGPTweigts['maxRet'],\n",
    "    \"Max Sharpe\": dfGPTweigts['maxSharpe']\n",
    "}\n",
    "\n",
    "portfolio_vars = {}\n",
    "portfolio_returns = {}\n",
    "for name, weight in weights.items():\n",
    "    portfolio_returns[name] = (stocks_returns * weight).sum(axis=0)\n",
    "    portfolio_vars[name] = np.quantile(portfolio_returns[name], 0.01)\n",
    "\n",
    "print(portfolio_vars)"
   ],
   "metadata": {
    "collapsed": false,
    "ExecuteTime": {
     "end_time": "2023-10-13T16:51:45.803292Z",
     "start_time": "2023-10-13T16:51:45.730303Z"
    }
   }
  },
  {
   "cell_type": "code",
   "execution_count": 1021,
   "outputs": [
    {
     "data": {
      "text/plain": "<Figure size 800x600 with 1 Axes>",
      "image/png": "[encoded data removed]"
     },
     "metadata": {},
     "output_type": "display_data"
    },
    {
     "data": {
      "text/plain": "<Figure size 800x600 with 1 Axes>",
      "image/png": "[encoded data removed]"
     },
     "metadata": {},
     "output_type": "display_data"
    },
    {
     "data": {
      "text/plain": "<Figure size 800x600 with 1 Axes>",
      "image/png": "[encoded data removed]"
     },
     "metadata": {},
     "output_type": "display_data"
    },
    {
     "data": {
      "text/plain": "<Figure size 800x600 with 1 Axes>",
      "image/png": "[encoded data removed]"
     },
     "metadata": {},
     "output_type": "display_data"
    }
   ],
   "source": [
    "for name, _ in weights.items():\n",
    "    portfolio_mean = portfolio_returns[name].mean()\n",
    "    portfolio_std = portfolio_returns[name].std()\n",
    "    num_samples = 100000  # You can adjust the number of samples as needed\n",
    "    normal_samples = np.random.normal(portfolio_mean, portfolio_std, num_samples)\n",
    "    portfolio_var_1_percent = portfolio_vars[name]\n",
    "    normal_var_1_percent = np.percentile(normal_samples, 1)\n",
    "    \n",
    "    plt.figure(figsize=(8, 6))\n",
    "    \n",
    "    # Plot histogram of normal samples\n",
    "    plt.hist(normal_samples, bins=50, density=True, alpha=0.6, color='g', label='Normal Distribution')\n",
    "    \n",
    "    # Mark 1% quantiles\n",
    "    plt.axvline(x=portfolio_var_1_percent, color='r', linestyle='--', linewidth=2, label='Portfolio VaR (1%)')\n",
    "    \n",
    "    plt.xlabel('Portfolio Returns')\n",
    "    plt.ylabel('Density')\n",
    "    plt.title(f'VaR vs. Normal Distribution \\n ({name})')\n",
    "    plt.legend()\n",
    "    plt.show()\n",
    "\n"
   ],
   "metadata": {
    "collapsed": false,
    "ExecuteTime": {
     "end_time": "2023-10-11T14:53:41.156491Z",
     "start_time": "2023-10-11T14:53:38.969631Z"
    }
   }
  },
  {
   "cell_type": "code",
   "execution_count": 1021,
   "outputs": [],
   "source": [
    "# Minimum Variance Portfolio:\n",
    "#     Variance: 0.0017481417709178965\n",
    "#     Return: 0.15236647253709168\n",
    "#     Sharpe Ratio: 2.9266724252142455\n",
    "# \n",
    "# \n",
    "# Maximum Return Portfolio:\n",
    "#     Variance: 0.0036831709796958114\n",
    "#     Return: 0.215709411884544\n",
    "#     Sharpe Ratio: 3.0600109079683917\n",
    "# \n",
    "# Maximum Sharpe Ratio Portfolio:\n",
    "#     Variance: 0.0021025770626225547\n",
    "#     Return: 0.1849913319550779\n",
    "#     Sharpe Ratio: 4.004367143533908\n",
    "# \n",
    "# GPT weighted portfolio:\n",
    "#     Variance: 0.0035037216317852374\n",
    "#     Return: 0.18834821861800308\n",
    "#     Sharpe Ratio: 2.67515151619856\n",
    "# \n",
    "# {'GPT': -0.015795376931487543, 'Min Var': -0.0096283271692865, 'Max Ret': -0.014764868049207465, 'Max Sharpe': -0.010832373337824731}\n",
    "# {'GPT': -0.04629567714379598,\n",
    "#  'Min Var': -0.036225647461738744,\n",
    "#  'Max Ret': -0.042472842223741536,\n",
    "#  'Max Sharpe': -0.040124255140709414,\n",
    "#  'S&P 500': -0.047777710388915214}"
   ],
   "metadata": {
    "collapsed": false,
    "ExecuteTime": {
     "end_time": "2023-10-11T14:53:41.157045Z",
     "start_time": "2023-10-11T14:53:40.898397Z"
    }
   }
  },
  {
   "cell_type": "code",
   "execution_count": 1055,
   "outputs": [
    {
     "data": {
      "text/plain": "                                Cumulative return  Return  Sharpe Ratio  \\\nMinimum Variance Portfolio                  109.0   15.24          2.93   \nMaximum Return Portfolio                    117.0   21.57          3.06   \nMaximum Sharpe Ratio Portfolio              110.0   18.50          4.00   \nGPT weighted portfolio                      115.0   18.83          2.68   \n\n                                Max Drawdown  Value-at-Risk  Volatility  \nMinimum Variance Portfolio             -0.96          -3.62        4.18  \nMaximum Return Portfolio               -1.48          -4.25        6.07  \nMaximum Sharpe Ratio Portfolio         -1.08          -4.01        4.59  \nGPT weighted portfolio                 -1.58          -4.63        5.92  ",
      "text/html": "<div>\n<style scoped>\n    .dataframe tbody tr th:only-of-type {\n        vertical-align: middle;\n    }\n\n    .dataframe tbody tr th {\n        vertical-align: top;\n    }\n\n    .dataframe thead th {\n        text-align: right;\n    }\n</style>\n<table border=\"1\" class=\"dataframe\">\n  <thead>\n    <tr style=\"text-align: right;\">\n      <th></th>\n      <th>Cumulative return</th>\n      <th>Return</th>\n      <th>Sharpe Ratio</th>\n      <th>Max Drawdown</th>\n      <th>Value-at-Risk</th>\n      <th>Volatility</th>\n    </tr>\n  </thead>\n  <tbody>\n    <tr>\n      <th>Minimum Variance Portfolio</th>\n      <td>109.0</td>\n      <td>15.24</td>\n      <td>2.93</td>\n      <td>-0.96</td>\n      <td>-3.62</td>\n      <td>4.18</td>\n    </tr>\n    <tr>\n      <th>Maximum Return Portfolio</th>\n      <td>117.0</td>\n      <td>21.57</td>\n      <td>3.06</td>\n      <td>-1.48</td>\n      <td>-4.25</td>\n      <td>6.07</td>\n    </tr>\n    <tr>\n      <th>Maximum Sharpe Ratio Portfolio</th>\n      <td>110.0</td>\n      <td>18.50</td>\n      <td>4.00</td>\n      <td>-1.08</td>\n      <td>-4.01</td>\n      <td>4.59</td>\n    </tr>\n    <tr>\n      <th>GPT weighted portfolio</th>\n      <td>115.0</td>\n      <td>18.83</td>\n      <td>2.68</td>\n      <td>-1.58</td>\n      <td>-4.63</td>\n      <td>5.92</td>\n    </tr>\n  </tbody>\n</table>\n</div>"
     },
     "execution_count": 1055,
     "metadata": {},
     "output_type": "execute_result"
    }
   ],
   "source": [
    "\n",
    "# Given dictionary\n",
    "portfolio_results = {\n",
    "    'Minimum Variance Portfolio' : [1.09, 0.0017481417709178965, 0.15236647253709168, 2.9266724252142455, -0.0096283271692865, -0.036225647461738744],\n",
    "    'Maximum Return Portfolio' : [1.17, 0.0036831709796958114, 0.215709411884544, 3.0600109079683917, -0.014764868049207465, -0.042472842223741536],\n",
    "    'Maximum Sharpe Ratio Portfolio' : [1.10, 0.0021025770626225547, 0.1849913319550779, 4.004367143533908, -0.010832373337824731, -0.040124255140709414],\n",
    "    'GPT weighted portfolio' : [1.15, 0.0035037216317852374, 0.18834821861800308, 2.67515151619856, -0.015795376931487543, -0.04629567714379598],\n",
    "}\n",
    "\n",
    "# Creating a DataFrame\n",
    "portfolio_results_df = pd.DataFrame(portfolio_results, index=['Cumulative return','Variance', 'Return', 'Sharpe Ratio', 'Max Drawdown', 'Value-at-Risk'])\n",
    "# portfolio_results_df = portfolio_results_df * 100\n",
    "\n",
    "portfolio_results_df = portfolio_results_df.T\n",
    "portfolio_results_df['Volatility'] = np.sqrt(portfolio_results_df['Variance'])\n",
    "portfolio_results_df = portfolio_results_df.drop(columns=['Variance'])\n",
    "\n",
    "portfolio_results_df = portfolio_results_df * 100\n",
    "portfolio_results_df['Sharpe Ratio'] = portfolio_results_df['Sharpe Ratio']/100\n",
    "\n",
    "portfolio_results_df.round(2)"
   ],
   "metadata": {
    "collapsed": false,
    "ExecuteTime": {
     "end_time": "2023-10-11T16:28:26.081525Z",
     "start_time": "2023-10-11T16:28:26.026987Z"
    }
   }
  },
  {
   "cell_type": "code",
   "execution_count": null,
   "outputs": [],
   "source": [],
   "metadata": {
    "collapsed": false
   }
  }
 ],
 "metadata": {
  "colab": {
   "provenance": []
  },
  "kernelspec": {
   "display_name": "Python 3 (ipykernel)",
   "language": "python",
   "name": "python3"
  },
  "language_info": {
   "codemirror_mode": {
    "name": "ipython",
    "version": 3
   },
   "file_extension": ".py",
   "mimetype": "text/x-python",
   "name": "python",
   "nbconvert_exporter": "python",
   "pygments_lexer": "ipython3",
   "version": "3.9.17"
  }
 },
 "nbformat": 4,
 "nbformat_minor": 1
}
